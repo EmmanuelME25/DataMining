{
 "cells": [
  {
   "cell_type": "markdown",
   "id": "eefc8933",
   "metadata": {
    "toc": true
   },
   "source": [
    "<h1>Table of Contents<span class=\"tocSkip\"></span></h1>\n",
    "<div class=\"toc\"><ul class=\"toc-item\"><li><span><a href=\"#Práctica-08\" data-toc-modified-id=\"Práctica-08-1\"><span class=\"toc-item-num\">1&nbsp;&nbsp;</span>Práctica 08</a></span><ul class=\"toc-item\"><li><span><a href=\"#Objetivos\" data-toc-modified-id=\"Objetivos-1.1\"><span class=\"toc-item-num\">1.1&nbsp;&nbsp;</span>Objetivos</a></span></li><li><span><a href=\"#Materiales-y-Herramientas\" data-toc-modified-id=\"Materiales-y-Herramientas-1.2\"><span class=\"toc-item-num\">1.2&nbsp;&nbsp;</span>Materiales y Herramientas</a></span></li><li><span><a href=\"#Investigación-Teórica\" data-toc-modified-id=\"Investigación-Teórica-1.3\"><span class=\"toc-item-num\">1.3&nbsp;&nbsp;</span>Investigación Teórica</a></span></li><li><span><a href=\"#Implementación-Práctica\" data-toc-modified-id=\"Implementación-Práctica-1.4\"><span class=\"toc-item-num\">1.4&nbsp;&nbsp;</span>Implementación Práctica</a></span></li><li><span><a href=\"#Análisis-y-Conclusión\" data-toc-modified-id=\"Análisis-y-Conclusión-1.5\"><span class=\"toc-item-num\">1.5&nbsp;&nbsp;</span>Análisis y Conclusión</a></span></li><li><span><a href=\"#Bibliografía\" data-toc-modified-id=\"Bibliografía-1.6\"><span class=\"toc-item-num\">1.6&nbsp;&nbsp;</span>Bibliografía</a></span></li></ul></li></ul></div>"
   ]
  },
  {
   "cell_type": "markdown",
   "id": "f8613307",
   "metadata": {},
   "source": [
    "# Práctica 08"
   ]
  },
  {
   "cell_type": "markdown",
   "id": "981ce4ae",
   "metadata": {},
   "source": [
    "## Objetivos"
   ]
  },
  {
   "cell_type": "markdown",
   "id": "bc7cae35",
   "metadata": {},
   "source": [
    "- Comprender la naturaleza y aplicación de la regresión logística como un modelo probabilístico en la clasificación binaria.\n",
    "- Familiarizarse con los componentes de la función logit y su importancia en la regresión logística.\n",
    "- Implementar y analizar la función sigmoidea y su papel en la transformación de las probabilidades logísticas."
   ]
  },
  {
   "cell_type": "markdown",
   "id": "97d59b2b",
   "metadata": {},
   "source": [
    "## Materiales y Herramientas"
   ]
  },
  {
   "cell_type": "markdown",
   "id": "7ce8af18",
   "metadata": {},
   "source": [
    "- Software de programación.\n",
    "- Conjunto de datos para clasificación binaria, busca e implementa un [dataset](https://www.kaggle.com/datasets/sameepvani/nasa-nearest-earth-objects?select=neo_v2.csv)."
   ]
  },
  {
   "cell_type": "markdown",
   "id": "f062d3c2",
   "metadata": {},
   "source": [
    "## Investigación Teórica"
   ]
  },
  {
   "cell_type": "markdown",
   "id": "d06288e0",
   "metadata": {},
   "source": [
    "- Investigar y describir cómo funciona la regresión logística como un modelo probabilístico de clasificación.\n",
    "\n",
    "La regresión logística es una técnica de análisis de datos que utiliza las matemáticas para encontrar las relaciones entre dos factores de datos. Luego, utiliza esta relación para predecir el valor de uno de esos factores basándose en el otro. Normalmente, la predicción tiene un número finito de resultados, como un sí o un no.\n",
    "\n",
    "Una función logística o curva logística es una curva común en forma de S (curva sigmoida) con la ecuación\n",
    "$$ f(x) = \\frac{L}{1 + e^{-k(x-x_0)}}$$\n",
    "\n",
    "Dónde\n",
    "\n",
    "$$x_0, \\text{el valor x del punto medio de la función}$$\n",
    "$$L, \\text{el supremo de los valores de la función}$$\n",
    "$$k, \\text{la tasa de crecimiento logístico o la pendiente de la curva}$$\n",
    "\n",
    "![Sigmoid function](../Multimedia/sf.png)\n",
    "\n",
    "Esta implementación puede adaptarse a la regresión logística binaria,  o multinomial con opcional,o regularización de Elastic-Net.\n",
    "\n",
    "<div class=\"alert alert-block alert-success\">\n",
    "<b>Nota de Regularización</b> La regularización se aplica de forma predeterminada, lo que es común en el aprendizaje automático, pero no en las estadísticas. Otra ventaja de la regularización es que mejora la estabilidad numérica. Ninguna regularización equivale a establecer C en un valor muy alto.\n",
    "</div>\n",
    "\n",
    "<div class=\"alert alert-block alert-success\">\n",
    "<b>Tenga en cuenta la regresión logística como un caso especial de los modelos lineales generalizados (GLM)</b> \n",
    "    La regresión logística es un caso especial de modelos lineales generalizados con una distribución condicional binomial / Bernoulli y un enlace Logit. La producción numérica de la regresión logística, que es la probabilidad predicha, se puede utilizar como clasificador aplicándose un umbral (por defecto, 0,5). Así es como se implementa en scikit-learn, por lo que espera un objetivo categórico, haciendo de la Regresión Logística un clasificador.\n",
    "</div>\n",
    "\n",
    "**Caso binario**\n",
    "\n",
    "Para facilitar la notación, asumimos que el objetivo $y_i$ toma valores en el conjunto ${0,1}$ para el punto de datos $i$. Una vez instalado, elpredict_proba método de LogisticRegression predice la probabilidad de la clase positiva $P(y_i = 1|X_i)$.\n",
    "\n",
    "$$p(X_i)=expit(X_iw+w_0) = \\frac{1}{1+e^{-X_i w - w_0}}$$\n",
    "\n",
    "Como problema de optimización, regresión logística de clase binaria con término de regularizaciónminimiza la siguiente función de coste:\n",
    "\n",
    "$$min_w C \\sum_{i=1}^{n}(-y_i \\log (p(X_i))-(1-y_i)\\log(1-p(X_i)))+r(w)$$\n",
    "\n",
    "**Optimización**\n",
    "\n",
    "Podemos utilizar la siguiente estrategia:\n",
    "* calcular el valor de la función logística para cada dato\n",
    "* calcular la función de pérdida (se denota con L o loss)\n",
    "* calcular el promedio de la pérdida para obtener el costo (se denota con Jo cost)\n",
    "\n",
    "Queremos los valores $w,b$ que resulten en un menor costo\n",
    "\n",
    "Las ecuaciones para las funciones son\n",
    "\n",
    "$$ L\\left(f_{w,b}\\left(\\vec{x}^{(i)}\\right),y^{(i)}\\right)=-y^{(i)}\\log\\left(f_{w,b}\\left(\\vec{x}^{(i)}\\right)\\right)-\\left(1-y^{(i)}\\right)\\log\\left(1-f_{w,b}\\left(\\vec{x}^{(i)}\\right)\\right) $$\n",
    "\n",
    "$$ J\\left(w,b\\right)=\\frac{1}{m}\\sum_{i=1}^{m}\\left[L\\left(f_{w,b}\\left(\\vec{x}^{(i)}\\right),y^{(i)}\\right)\\right] $$\n",
    "\n",
    "- Explicar la naturaleza de un clasificador binario y en qué situaciones es aplicable.\n",
    "\n",
    "Una tarea de aprendizaje automatizado supervisado que se usa para predecir a cuál de las dos clases (categorías) pertenece una instancia de datos. La entrada de un algoritmo de clasificación es un conjunto de ejemplos con etiqueta, donde cada etiqueta es un número entero de 0 o 1.\n",
    "\n",
    "\n",
    "- Investigar sobre la función logit y la función sigmoidea, y cómo estas se relacionan con la regresión logística.\n",
    "\n",
    "**Funcion sigmoide**\n",
    "    \n",
    "    Muchos procesos naturales y curvas de aprendizaje de sistemas complejos muestran una progresión temporal desde unos niveles bajos al inicio, hasta acercarse a un clímax transcurrido un cierto tiempo; la transición se produce en una región caracterizada por una fuerte aceleración intermedia. La función sigmoide permite describir esta evolución. Su gráfica tiene una típica forma de «S». A menudo la función sigmoide se refiere al caso particular de la función logística, cuya gráfica se muestra a la derecha y que viene definida por la siguiente fórmula:\n",
    "\n",
    "$$F(x) = \\frac{1}{1-e^{-x}} $$\n",
    "\n",
    "**Funcion logit**\n",
    "    \n",
    "    La función logit es una parte importante de la regresión logística. En matemáticas, especialmente aquellas aplicadas en estadística, el logit de un número p entre 0 y 1 es:\n",
    "\n",
    "$${\\displaystyle \\operatorname {logit} (p)=\\log \\left({\\frac {p}{1-p}}\\right)=\\log(p)-\\log(1-p).\\!\\,}$$\n",
    "    \n",
    "    La base de la función logaritmo usada aquí es de poca importancia en el presente artículo, siempre y cuando sea mayor que 1, aunque se usa a menudo el logaritmo natural con base e. La función logit es la inversa del \"sigmoide\", o función \"logística\".\n",
    "\n",
    "\n"
   ]
  },
  {
   "cell_type": "markdown",
   "id": "ce7fd372",
   "metadata": {},
   "source": [
    "## Implementación Práctica"
   ]
  },
  {
   "cell_type": "code",
   "execution_count": 55,
   "id": "59ced5e4",
   "metadata": {
    "ExecuteTime": {
     "end_time": "2023-11-23T05:46:26.118374Z",
     "start_time": "2023-11-23T05:46:26.079863Z"
    }
   },
   "outputs": [],
   "source": [
    "import pandas as pd \n",
    "import numpy as np \n",
    "import matplotlib.pyplot as plt \n",
    "import seaborn as sns\n",
    "from sklearn.model_selection import train_test_split\n",
    "from sklearn.metrics import accuracy_score, precision_score, recall_score"
   ]
  },
  {
   "cell_type": "code",
   "execution_count": 2,
   "id": "05b72397",
   "metadata": {
    "ExecuteTime": {
     "end_time": "2023-11-23T01:57:02.297982Z",
     "start_time": "2023-11-23T01:57:02.193381Z"
    }
   },
   "outputs": [],
   "source": [
    "df = pd.read_csv('./neo.csv')"
   ]
  },
  {
   "cell_type": "code",
   "execution_count": 3,
   "id": "491c2341",
   "metadata": {
    "ExecuteTime": {
     "end_time": "2023-11-23T01:57:04.945519Z",
     "start_time": "2023-11-23T01:57:04.919156Z"
    }
   },
   "outputs": [
    {
     "data": {
      "text/html": [
       "<div>\n",
       "<style scoped>\n",
       "    .dataframe tbody tr th:only-of-type {\n",
       "        vertical-align: middle;\n",
       "    }\n",
       "\n",
       "    .dataframe tbody tr th {\n",
       "        vertical-align: top;\n",
       "    }\n",
       "\n",
       "    .dataframe thead th {\n",
       "        text-align: right;\n",
       "    }\n",
       "</style>\n",
       "<table border=\"1\" class=\"dataframe\">\n",
       "  <thead>\n",
       "    <tr style=\"text-align: right;\">\n",
       "      <th></th>\n",
       "      <th>id</th>\n",
       "      <th>name</th>\n",
       "      <th>est_diameter_min</th>\n",
       "      <th>est_diameter_max</th>\n",
       "      <th>relative_velocity</th>\n",
       "      <th>miss_distance</th>\n",
       "      <th>orbiting_body</th>\n",
       "      <th>sentry_object</th>\n",
       "      <th>absolute_magnitude</th>\n",
       "      <th>hazardous</th>\n",
       "    </tr>\n",
       "  </thead>\n",
       "  <tbody>\n",
       "    <tr>\n",
       "      <th>0</th>\n",
       "      <td>2162635</td>\n",
       "      <td>162635 (2000 SS164)</td>\n",
       "      <td>1.198271</td>\n",
       "      <td>2.679415</td>\n",
       "      <td>13569.249224</td>\n",
       "      <td>5.483974e+07</td>\n",
       "      <td>Earth</td>\n",
       "      <td>False</td>\n",
       "      <td>16.73</td>\n",
       "      <td>False</td>\n",
       "    </tr>\n",
       "    <tr>\n",
       "      <th>1</th>\n",
       "      <td>2277475</td>\n",
       "      <td>277475 (2005 WK4)</td>\n",
       "      <td>0.265800</td>\n",
       "      <td>0.594347</td>\n",
       "      <td>73588.726663</td>\n",
       "      <td>6.143813e+07</td>\n",
       "      <td>Earth</td>\n",
       "      <td>False</td>\n",
       "      <td>20.00</td>\n",
       "      <td>True</td>\n",
       "    </tr>\n",
       "    <tr>\n",
       "      <th>2</th>\n",
       "      <td>2512244</td>\n",
       "      <td>512244 (2015 YE18)</td>\n",
       "      <td>0.722030</td>\n",
       "      <td>1.614507</td>\n",
       "      <td>114258.692129</td>\n",
       "      <td>4.979872e+07</td>\n",
       "      <td>Earth</td>\n",
       "      <td>False</td>\n",
       "      <td>17.83</td>\n",
       "      <td>False</td>\n",
       "    </tr>\n",
       "    <tr>\n",
       "      <th>3</th>\n",
       "      <td>3596030</td>\n",
       "      <td>(2012 BV13)</td>\n",
       "      <td>0.096506</td>\n",
       "      <td>0.215794</td>\n",
       "      <td>24764.303138</td>\n",
       "      <td>2.543497e+07</td>\n",
       "      <td>Earth</td>\n",
       "      <td>False</td>\n",
       "      <td>22.20</td>\n",
       "      <td>False</td>\n",
       "    </tr>\n",
       "    <tr>\n",
       "      <th>4</th>\n",
       "      <td>3667127</td>\n",
       "      <td>(2014 GE35)</td>\n",
       "      <td>0.255009</td>\n",
       "      <td>0.570217</td>\n",
       "      <td>42737.733765</td>\n",
       "      <td>4.627557e+07</td>\n",
       "      <td>Earth</td>\n",
       "      <td>False</td>\n",
       "      <td>20.09</td>\n",
       "      <td>True</td>\n",
       "    </tr>\n",
       "    <tr>\n",
       "      <th>...</th>\n",
       "      <td>...</td>\n",
       "      <td>...</td>\n",
       "      <td>...</td>\n",
       "      <td>...</td>\n",
       "      <td>...</td>\n",
       "      <td>...</td>\n",
       "      <td>...</td>\n",
       "      <td>...</td>\n",
       "      <td>...</td>\n",
       "      <td>...</td>\n",
       "    </tr>\n",
       "    <tr>\n",
       "      <th>90831</th>\n",
       "      <td>3763337</td>\n",
       "      <td>(2016 VX1)</td>\n",
       "      <td>0.026580</td>\n",
       "      <td>0.059435</td>\n",
       "      <td>52078.886692</td>\n",
       "      <td>1.230039e+07</td>\n",
       "      <td>Earth</td>\n",
       "      <td>False</td>\n",
       "      <td>25.00</td>\n",
       "      <td>False</td>\n",
       "    </tr>\n",
       "    <tr>\n",
       "      <th>90832</th>\n",
       "      <td>3837603</td>\n",
       "      <td>(2019 AD3)</td>\n",
       "      <td>0.016771</td>\n",
       "      <td>0.037501</td>\n",
       "      <td>46114.605073</td>\n",
       "      <td>5.432121e+07</td>\n",
       "      <td>Earth</td>\n",
       "      <td>False</td>\n",
       "      <td>26.00</td>\n",
       "      <td>False</td>\n",
       "    </tr>\n",
       "    <tr>\n",
       "      <th>90833</th>\n",
       "      <td>54017201</td>\n",
       "      <td>(2020 JP3)</td>\n",
       "      <td>0.031956</td>\n",
       "      <td>0.071456</td>\n",
       "      <td>7566.807732</td>\n",
       "      <td>2.840077e+07</td>\n",
       "      <td>Earth</td>\n",
       "      <td>False</td>\n",
       "      <td>24.60</td>\n",
       "      <td>False</td>\n",
       "    </tr>\n",
       "    <tr>\n",
       "      <th>90834</th>\n",
       "      <td>54115824</td>\n",
       "      <td>(2021 CN5)</td>\n",
       "      <td>0.007321</td>\n",
       "      <td>0.016370</td>\n",
       "      <td>69199.154484</td>\n",
       "      <td>6.869206e+07</td>\n",
       "      <td>Earth</td>\n",
       "      <td>False</td>\n",
       "      <td>27.80</td>\n",
       "      <td>False</td>\n",
       "    </tr>\n",
       "    <tr>\n",
       "      <th>90835</th>\n",
       "      <td>54205447</td>\n",
       "      <td>(2021 TW7)</td>\n",
       "      <td>0.039862</td>\n",
       "      <td>0.089133</td>\n",
       "      <td>27024.455553</td>\n",
       "      <td>5.977213e+07</td>\n",
       "      <td>Earth</td>\n",
       "      <td>False</td>\n",
       "      <td>24.12</td>\n",
       "      <td>False</td>\n",
       "    </tr>\n",
       "  </tbody>\n",
       "</table>\n",
       "<p>90836 rows × 10 columns</p>\n",
       "</div>"
      ],
      "text/plain": [
       "             id                 name  est_diameter_min  est_diameter_max  \\\n",
       "0       2162635  162635 (2000 SS164)          1.198271          2.679415   \n",
       "1       2277475    277475 (2005 WK4)          0.265800          0.594347   \n",
       "2       2512244   512244 (2015 YE18)          0.722030          1.614507   \n",
       "3       3596030          (2012 BV13)          0.096506          0.215794   \n",
       "4       3667127          (2014 GE35)          0.255009          0.570217   \n",
       "...         ...                  ...               ...               ...   \n",
       "90831   3763337           (2016 VX1)          0.026580          0.059435   \n",
       "90832   3837603           (2019 AD3)          0.016771          0.037501   \n",
       "90833  54017201           (2020 JP3)          0.031956          0.071456   \n",
       "90834  54115824           (2021 CN5)          0.007321          0.016370   \n",
       "90835  54205447           (2021 TW7)          0.039862          0.089133   \n",
       "\n",
       "       relative_velocity  miss_distance orbiting_body  sentry_object  \\\n",
       "0           13569.249224   5.483974e+07         Earth          False   \n",
       "1           73588.726663   6.143813e+07         Earth          False   \n",
       "2          114258.692129   4.979872e+07         Earth          False   \n",
       "3           24764.303138   2.543497e+07         Earth          False   \n",
       "4           42737.733765   4.627557e+07         Earth          False   \n",
       "...                  ...            ...           ...            ...   \n",
       "90831       52078.886692   1.230039e+07         Earth          False   \n",
       "90832       46114.605073   5.432121e+07         Earth          False   \n",
       "90833        7566.807732   2.840077e+07         Earth          False   \n",
       "90834       69199.154484   6.869206e+07         Earth          False   \n",
       "90835       27024.455553   5.977213e+07         Earth          False   \n",
       "\n",
       "       absolute_magnitude  hazardous  \n",
       "0                   16.73      False  \n",
       "1                   20.00       True  \n",
       "2                   17.83      False  \n",
       "3                   22.20      False  \n",
       "4                   20.09       True  \n",
       "...                   ...        ...  \n",
       "90831               25.00      False  \n",
       "90832               26.00      False  \n",
       "90833               24.60      False  \n",
       "90834               27.80      False  \n",
       "90835               24.12      False  \n",
       "\n",
       "[90836 rows x 10 columns]"
      ]
     },
     "execution_count": 3,
     "metadata": {},
     "output_type": "execute_result"
    }
   ],
   "source": [
    "df"
   ]
  },
  {
   "cell_type": "code",
   "execution_count": 4,
   "id": "2758f021",
   "metadata": {
    "ExecuteTime": {
     "end_time": "2023-11-23T01:57:58.954372Z",
     "start_time": "2023-11-23T01:57:58.908096Z"
    }
   },
   "outputs": [],
   "source": [
    "mapeo_categorias = {False: 0, True: 1}\n",
    "df['hazardous'] = df['hazardous'].replace(mapeo_categorias)"
   ]
  },
  {
   "cell_type": "code",
   "execution_count": 5,
   "id": "f23e9980",
   "metadata": {
    "ExecuteTime": {
     "end_time": "2023-11-23T01:58:01.753407Z",
     "start_time": "2023-11-23T01:58:01.737826Z"
    }
   },
   "outputs": [
    {
     "data": {
      "text/html": [
       "<div>\n",
       "<style scoped>\n",
       "    .dataframe tbody tr th:only-of-type {\n",
       "        vertical-align: middle;\n",
       "    }\n",
       "\n",
       "    .dataframe tbody tr th {\n",
       "        vertical-align: top;\n",
       "    }\n",
       "\n",
       "    .dataframe thead th {\n",
       "        text-align: right;\n",
       "    }\n",
       "</style>\n",
       "<table border=\"1\" class=\"dataframe\">\n",
       "  <thead>\n",
       "    <tr style=\"text-align: right;\">\n",
       "      <th></th>\n",
       "      <th>id</th>\n",
       "      <th>name</th>\n",
       "      <th>est_diameter_min</th>\n",
       "      <th>est_diameter_max</th>\n",
       "      <th>relative_velocity</th>\n",
       "      <th>miss_distance</th>\n",
       "      <th>orbiting_body</th>\n",
       "      <th>sentry_object</th>\n",
       "      <th>absolute_magnitude</th>\n",
       "      <th>hazardous</th>\n",
       "    </tr>\n",
       "  </thead>\n",
       "  <tbody>\n",
       "    <tr>\n",
       "      <th>0</th>\n",
       "      <td>2162635</td>\n",
       "      <td>162635 (2000 SS164)</td>\n",
       "      <td>1.198271</td>\n",
       "      <td>2.679415</td>\n",
       "      <td>13569.249224</td>\n",
       "      <td>5.483974e+07</td>\n",
       "      <td>Earth</td>\n",
       "      <td>False</td>\n",
       "      <td>16.73</td>\n",
       "      <td>0</td>\n",
       "    </tr>\n",
       "    <tr>\n",
       "      <th>1</th>\n",
       "      <td>2277475</td>\n",
       "      <td>277475 (2005 WK4)</td>\n",
       "      <td>0.265800</td>\n",
       "      <td>0.594347</td>\n",
       "      <td>73588.726663</td>\n",
       "      <td>6.143813e+07</td>\n",
       "      <td>Earth</td>\n",
       "      <td>False</td>\n",
       "      <td>20.00</td>\n",
       "      <td>1</td>\n",
       "    </tr>\n",
       "    <tr>\n",
       "      <th>2</th>\n",
       "      <td>2512244</td>\n",
       "      <td>512244 (2015 YE18)</td>\n",
       "      <td>0.722030</td>\n",
       "      <td>1.614507</td>\n",
       "      <td>114258.692129</td>\n",
       "      <td>4.979872e+07</td>\n",
       "      <td>Earth</td>\n",
       "      <td>False</td>\n",
       "      <td>17.83</td>\n",
       "      <td>0</td>\n",
       "    </tr>\n",
       "    <tr>\n",
       "      <th>3</th>\n",
       "      <td>3596030</td>\n",
       "      <td>(2012 BV13)</td>\n",
       "      <td>0.096506</td>\n",
       "      <td>0.215794</td>\n",
       "      <td>24764.303138</td>\n",
       "      <td>2.543497e+07</td>\n",
       "      <td>Earth</td>\n",
       "      <td>False</td>\n",
       "      <td>22.20</td>\n",
       "      <td>0</td>\n",
       "    </tr>\n",
       "    <tr>\n",
       "      <th>4</th>\n",
       "      <td>3667127</td>\n",
       "      <td>(2014 GE35)</td>\n",
       "      <td>0.255009</td>\n",
       "      <td>0.570217</td>\n",
       "      <td>42737.733765</td>\n",
       "      <td>4.627557e+07</td>\n",
       "      <td>Earth</td>\n",
       "      <td>False</td>\n",
       "      <td>20.09</td>\n",
       "      <td>1</td>\n",
       "    </tr>\n",
       "    <tr>\n",
       "      <th>...</th>\n",
       "      <td>...</td>\n",
       "      <td>...</td>\n",
       "      <td>...</td>\n",
       "      <td>...</td>\n",
       "      <td>...</td>\n",
       "      <td>...</td>\n",
       "      <td>...</td>\n",
       "      <td>...</td>\n",
       "      <td>...</td>\n",
       "      <td>...</td>\n",
       "    </tr>\n",
       "    <tr>\n",
       "      <th>90831</th>\n",
       "      <td>3763337</td>\n",
       "      <td>(2016 VX1)</td>\n",
       "      <td>0.026580</td>\n",
       "      <td>0.059435</td>\n",
       "      <td>52078.886692</td>\n",
       "      <td>1.230039e+07</td>\n",
       "      <td>Earth</td>\n",
       "      <td>False</td>\n",
       "      <td>25.00</td>\n",
       "      <td>0</td>\n",
       "    </tr>\n",
       "    <tr>\n",
       "      <th>90832</th>\n",
       "      <td>3837603</td>\n",
       "      <td>(2019 AD3)</td>\n",
       "      <td>0.016771</td>\n",
       "      <td>0.037501</td>\n",
       "      <td>46114.605073</td>\n",
       "      <td>5.432121e+07</td>\n",
       "      <td>Earth</td>\n",
       "      <td>False</td>\n",
       "      <td>26.00</td>\n",
       "      <td>0</td>\n",
       "    </tr>\n",
       "    <tr>\n",
       "      <th>90833</th>\n",
       "      <td>54017201</td>\n",
       "      <td>(2020 JP3)</td>\n",
       "      <td>0.031956</td>\n",
       "      <td>0.071456</td>\n",
       "      <td>7566.807732</td>\n",
       "      <td>2.840077e+07</td>\n",
       "      <td>Earth</td>\n",
       "      <td>False</td>\n",
       "      <td>24.60</td>\n",
       "      <td>0</td>\n",
       "    </tr>\n",
       "    <tr>\n",
       "      <th>90834</th>\n",
       "      <td>54115824</td>\n",
       "      <td>(2021 CN5)</td>\n",
       "      <td>0.007321</td>\n",
       "      <td>0.016370</td>\n",
       "      <td>69199.154484</td>\n",
       "      <td>6.869206e+07</td>\n",
       "      <td>Earth</td>\n",
       "      <td>False</td>\n",
       "      <td>27.80</td>\n",
       "      <td>0</td>\n",
       "    </tr>\n",
       "    <tr>\n",
       "      <th>90835</th>\n",
       "      <td>54205447</td>\n",
       "      <td>(2021 TW7)</td>\n",
       "      <td>0.039862</td>\n",
       "      <td>0.089133</td>\n",
       "      <td>27024.455553</td>\n",
       "      <td>5.977213e+07</td>\n",
       "      <td>Earth</td>\n",
       "      <td>False</td>\n",
       "      <td>24.12</td>\n",
       "      <td>0</td>\n",
       "    </tr>\n",
       "  </tbody>\n",
       "</table>\n",
       "<p>90836 rows × 10 columns</p>\n",
       "</div>"
      ],
      "text/plain": [
       "             id                 name  est_diameter_min  est_diameter_max  \\\n",
       "0       2162635  162635 (2000 SS164)          1.198271          2.679415   \n",
       "1       2277475    277475 (2005 WK4)          0.265800          0.594347   \n",
       "2       2512244   512244 (2015 YE18)          0.722030          1.614507   \n",
       "3       3596030          (2012 BV13)          0.096506          0.215794   \n",
       "4       3667127          (2014 GE35)          0.255009          0.570217   \n",
       "...         ...                  ...               ...               ...   \n",
       "90831   3763337           (2016 VX1)          0.026580          0.059435   \n",
       "90832   3837603           (2019 AD3)          0.016771          0.037501   \n",
       "90833  54017201           (2020 JP3)          0.031956          0.071456   \n",
       "90834  54115824           (2021 CN5)          0.007321          0.016370   \n",
       "90835  54205447           (2021 TW7)          0.039862          0.089133   \n",
       "\n",
       "       relative_velocity  miss_distance orbiting_body  sentry_object  \\\n",
       "0           13569.249224   5.483974e+07         Earth          False   \n",
       "1           73588.726663   6.143813e+07         Earth          False   \n",
       "2          114258.692129   4.979872e+07         Earth          False   \n",
       "3           24764.303138   2.543497e+07         Earth          False   \n",
       "4           42737.733765   4.627557e+07         Earth          False   \n",
       "...                  ...            ...           ...            ...   \n",
       "90831       52078.886692   1.230039e+07         Earth          False   \n",
       "90832       46114.605073   5.432121e+07         Earth          False   \n",
       "90833        7566.807732   2.840077e+07         Earth          False   \n",
       "90834       69199.154484   6.869206e+07         Earth          False   \n",
       "90835       27024.455553   5.977213e+07         Earth          False   \n",
       "\n",
       "       absolute_magnitude  hazardous  \n",
       "0                   16.73          0  \n",
       "1                   20.00          1  \n",
       "2                   17.83          0  \n",
       "3                   22.20          0  \n",
       "4                   20.09          1  \n",
       "...                   ...        ...  \n",
       "90831               25.00          0  \n",
       "90832               26.00          0  \n",
       "90833               24.60          0  \n",
       "90834               27.80          0  \n",
       "90835               24.12          0  \n",
       "\n",
       "[90836 rows x 10 columns]"
      ]
     },
     "execution_count": 5,
     "metadata": {},
     "output_type": "execute_result"
    }
   ],
   "source": [
    "df"
   ]
  },
  {
   "cell_type": "code",
   "execution_count": 9,
   "id": "52bf8ab1",
   "metadata": {
    "ExecuteTime": {
     "end_time": "2023-11-23T02:01:12.569757Z",
     "start_time": "2023-11-23T02:01:12.392395Z"
    }
   },
   "outputs": [
    {
     "data": {
      "image/png": "[encoded data removed]",
      "text/plain": [
       "<Figure size 1000x800 with 2 Axes>"
      ]
     },
     "metadata": {},
     "output_type": "display_data"
    }
   ],
   "source": [
    "dfcorrel = df.copy()\n",
    "dfcorrel.drop('name', axis=1, inplace=True)\n",
    "dfcorrel.drop('orbiting_body', axis=1, inplace=True)\n",
    "dfcorrel.drop('sentry_object', axis=1, inplace=True)\n",
    "\n",
    "correlation_matrix = dfcorrel.corr()\n",
    "\n",
    "plt.figure(figsize=(10, 8))\n",
    "sns.heatmap(correlation_matrix, annot=True, cmap='coolwarm', fmt='.2f')\n",
    "plt.title('Matriz de Correlación')\n",
    "plt.show()"
   ]
  },
  {
   "cell_type": "code",
   "execution_count": 56,
   "id": "c21d64da",
   "metadata": {
    "ExecuteTime": {
     "end_time": "2023-11-23T05:47:38.671187Z",
     "start_time": "2023-11-23T05:47:37.598491Z"
    }
   },
   "outputs": [
    {
     "data": {
      "image/png": "[encoded data removed]",
      "text/plain": [
       "<Figure size 1000x600 with 1 Axes>"
      ]
     },
     "metadata": {},
     "output_type": "display_data"
    }
   ],
   "source": [
    "plt.figure(figsize=(10, 6))\n",
    "scatter_plot = sns.scatterplot(x='absolute_magnitude', y='hazardous', hue='hazardous', data=df, palette={0: 'blue', 1: 'orange'})\n",
    "\n",
    "scatter_plot.set_title('Distribución Binaria con Función Sigmoide')\n",
    "scatter_plot.set_xlabel('absolute_magnitude')\n",
    "scatter_plot.set_ylabel('hazardous')\n",
    "\n",
    "plt.legend()\n",
    "\n",
    "plt.show()"
   ]
  },
  {
   "cell_type": "code",
   "execution_count": 57,
   "id": "f3c9bc82",
   "metadata": {
    "ExecuteTime": {
     "end_time": "2023-11-23T05:48:05.013571Z",
     "start_time": "2023-11-23T05:48:05.008603Z"
    }
   },
   "outputs": [],
   "source": [
    "def sigmoid(z):\n",
    "    return 1 / (1 + np.exp(-z))"
   ]
  },
  {
   "cell_type": "code",
   "execution_count": 58,
   "id": "7ddcf9eb",
   "metadata": {
    "ExecuteTime": {
     "end_time": "2023-11-23T05:48:05.964045Z",
     "start_time": "2023-11-23T05:48:05.960624Z"
    }
   },
   "outputs": [],
   "source": [
    "def predict(X_new, W):\n",
    "    z_new = np.dot(X_new, W)\n",
    "    y_pred_new = sigmoid(z_new)\n",
    "    return 1 if y_pred_new >= 0.5 else 0"
   ]
  },
  {
   "cell_type": "code",
   "execution_count": 85,
   "id": "b5376c2e",
   "metadata": {
    "ExecuteTime": {
     "end_time": "2023-11-23T05:56:54.165988Z",
     "start_time": "2023-11-23T05:56:54.160508Z"
    }
   },
   "outputs": [],
   "source": [
    "def train_logistic_regression(X, y, learning_rate=0.0001, num_iterations=1000, convergence_criterion=0.0001):\n",
    "    # Convertir X a una matriz NumPy bidimensional si es necesario\n",
    "    if isinstance(X, pd.Series):\n",
    "        X = X.values.reshape(-1, 1)\n",
    "    elif isinstance(X, pd.DataFrame):\n",
    "        X = X.values\n",
    "\n",
    "    # Convertir y a un vector NumPy unidimensional si es necesario\n",
    "    if isinstance(y, pd.Series):\n",
    "        y = y.values\n",
    "\n",
    "    # Inicializar pesos\n",
    "    W = np.random.randn(X.shape[1])\n",
    "\n",
    "    for iteration in range(num_iterations):\n",
    "        # Calcular la predicción lineal\n",
    "        z = np.dot(X, W)\n",
    "\n",
    "        # Aplicar la función sigmoidea\n",
    "        y_pred = sigmoid(z)\n",
    "\n",
    "        # Calcular el error\n",
    "        error = y - y_pred\n",
    "\n",
    "        # Calcular el gradiente\n",
    "        gradient = np.dot(X.T, error)\n",
    "\n",
    "        # Actualizar los pesos\n",
    "        W += learning_rate * gradient\n",
    "\n",
    "        # Criterio de convergencia (opcional)\n",
    "        if np.linalg.norm(learning_rate * gradient) < convergence_criterion:\n",
    "            break\n",
    "\n",
    "    return W"
   ]
  },
  {
   "cell_type": "code",
   "execution_count": 86,
   "id": "ef9d2ddf",
   "metadata": {
    "ExecuteTime": {
     "end_time": "2023-11-23T05:56:54.924494Z",
     "start_time": "2023-11-23T05:56:54.912574Z"
    }
   },
   "outputs": [],
   "source": [
    "X_train, X_test, y_train, y_test = train_test_split(df['absolute_magnitude'], df['hazardous'], test_size=0.2, random_state=42)"
   ]
  },
  {
   "cell_type": "code",
   "execution_count": 87,
   "id": "8927c200",
   "metadata": {
    "ExecuteTime": {
     "end_time": "2023-11-23T05:56:56.963825Z",
     "start_time": "2023-11-23T05:56:55.710827Z"
    }
   },
   "outputs": [
    {
     "name": "stderr",
     "output_type": "stream",
     "text": [
      "/var/folders/hh/g6fqg94s6x9frs4dt49gl1rr0000gn/T/ipykernel_2902/3196251242.py:2: RuntimeWarning: overflow encountered in exp\n",
      "  return 1 / (1 + np.exp(-z))\n"
     ]
    }
   ],
   "source": [
    "W_trained = train_logistic_regression(X_train, y_train)"
   ]
  },
  {
   "cell_type": "code",
   "execution_count": 88,
   "id": "20b08d31",
   "metadata": {
    "ExecuteTime": {
     "end_time": "2023-11-23T05:57:00.774963Z",
     "start_time": "2023-11-23T05:57:00.677553Z"
    }
   },
   "outputs": [],
   "source": [
    "y_pred_test = np.array([predict(x, W_trained) for x in X_test])"
   ]
  },
  {
   "cell_type": "code",
   "execution_count": 98,
   "id": "4a172273",
   "metadata": {
    "ExecuteTime": {
     "end_time": "2023-11-23T06:46:51.188280Z",
     "start_time": "2023-11-23T06:46:51.181188Z"
    }
   },
   "outputs": [
    {
     "name": "stdout",
     "output_type": "stream",
     "text": [
      "Accuracy: 0.9048326728313518\n"
     ]
    }
   ],
   "source": [
    "accuracy = accuracy_score(y_test, y_pred_test)\n",
    "\n",
    "print(\"Accuracy:\", accuracy)"
   ]
  },
  {
   "cell_type": "markdown",
   "id": "3df06ab0",
   "metadata": {},
   "source": [
    "## Análisis y Conclusión"
   ]
  },
  {
   "cell_type": "markdown",
   "id": "d24335f6",
   "metadata": {},
   "source": [
    "- Análisis de Resultados:\n",
    "\n",
    "El modelo de regresión logística fue entrenado y evaluado utilizando el conjunto de datos proporcionado. Se dividieron los datos en conjuntos de entrenamiento y prueba, y se aplicó el modelo para predecir la variable binaria 'hazardous' basada en la variable 'absolute_magnitude'. El desempeño del modelo se evaluó utilizando la métrica de precisión.\n",
    "\n",
    "El modelo logístico alcanzó una precisión de aproximadamente 90.5%, lo que indica que es capaz de clasificar correctamente el 90.5% de las instancias del conjunto de prueba. Esta métrica proporciona una medida general del rendimiento, pero es importante considerar otras métricas, como sensibilidad y especificidad, para obtener una comprensión más completa.\n",
    "\n",
    "- Impacto de la Función Sigmoidea:\n",
    "\n",
    "La función sigmoide es fundamental en la regresión logística, ya que transforma la salida lineal del modelo en un rango entre 0 y 1, que se interpreta como la probabilidad de pertenecer a la clase positiva. Sin embargo, en este caso, se observó una advertencia de desbordamiento (RuntimeWarning: overflow encountered in exp), lo que sugiere que los valores de entrada de la función sigmoide pueden ser muy grandes, resultando en cálculos numéricos inestables.\n",
    "\n",
    "Es importante considerar la normalización de las variables de entrada o ajustar hiperparámetros, como la tasa de aprendizaje, para abordar este problema. Además, la elección de la función sigmoide también afecta la capacidad del modelo para manejar relaciones más complejas entre las variables.\n",
    "\n",
    "- Conclusión sobre la Eficacia de la Regresión Logística:\n",
    "\n",
    "En base a los resultados obtenidos, la regresión logística demostró ser un clasificador eficaz para este problema específico, alcanzando una precisión considerable en la clasificación binaria. Sin embargo, es esencial considerar la naturaleza de los datos y ajustar adecuadamente los parámetros del modelo para evitar problemas numéricos.\n",
    "\n",
    "La regresión logística es útil en contextos donde se busca predecir eventos binarios y se asume que existe una relación lineal entre las variables de entrada y la variable de salida. Es particularmente útil cuando se busca interpretabilidad del modelo y se desea conocer las contribuciones relativas de cada variable predictor en la clasificación."
   ]
  },
  {
   "cell_type": "markdown",
   "id": "0378097a",
   "metadata": {},
   "source": [
    "## Bibliografía\n",
    "\n",
    "[1] “¿Qué es la regresión logística? - Explicación del modelo de regresión logística - AWS”. Amazon Web Services, Inc. Accedido el 23 de noviembre de 2023. [En línea]. Disponible: https://aws.amazon.com/es/what-is/logistic-regression/"
   ]
  },
  {
   "cell_type": "code",
   "execution_count": null,
   "id": "5a7333de",
   "metadata": {},
   "outputs": [],
   "source": []
  }
 ],
 "metadata": {
  "kernelspec": {
   "display_name": "Python 3 (ipykernel)",
   "language": "python",
   "name": "python3"
  },
  "language_info": {
   "codemirror_mode": {
    "name": "ipython",
    "version": 3
   },
   "file_extension": ".py",
   "mimetype": "text/x-python",
   "name": "python",
   "nbconvert_exporter": "python",
   "pygments_lexer": "ipython3",
   "version": "3.11.5"
  },
  "toc": {
   "base_numbering": 1,
   "nav_menu": {},
   "number_sections": true,
   "sideBar": true,
   "skip_h1_title": false,
   "title_cell": "Table of Contents",
   "title_sidebar": "Contents",
   "toc_cell": true,
   "toc_position": {
    "height": "calc(100% - 180px)",
    "left": "10px",
    "top": "150px",
    "width": "172px"
   },
   "toc_section_display": true,
   "toc_window_display": true
  },
  "varInspector": {
   "cols": {
    "lenName": 16,
    "lenType": 16,
    "lenVar": 40
   },
   "kernels_config": {
    "python": {
     "delete_cmd_postfix": "",
     "delete_cmd_prefix": "del ",
     "library": "var_list.py",
     "varRefreshCmd": "print(var_dic_list())"
    },
    "r": {
     "delete_cmd_postfix": ") ",
     "delete_cmd_prefix": "rm(",
     "library": "var_list.r",
     "varRefreshCmd": "cat(var_dic_list()) "
    }
   },
   "types_to_exclude": [
    "module",
    "function",
    "builtin_function_or_method",
    "instance",
    "_Feature"
   ],
   "window_display": false
  }
 },
 "nbformat": 4,
 "nbformat_minor": 5
}
