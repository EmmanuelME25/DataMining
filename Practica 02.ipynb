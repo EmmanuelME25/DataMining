{
 "cells": [
  {
   "cell_type": "markdown",
   "id": "ced1ba8a",
   "metadata": {},
   "source": [
    "## Practica 02"
   ]
  },
  {
   "cell_type": "markdown",
   "id": "1ee94f5b",
   "metadata": {},
   "source": [
    "### Preparación de datos"
   ]
  },
  {
   "cell_type": "code",
   "execution_count": 3,
   "id": "283bbd0d",
   "metadata": {},
   "outputs": [],
   "source": [
    "import pandas as pd\n",
    "import random\n",
    "from datetime import datetime"
   ]
  },
  {
   "cell_type": "code",
   "execution_count": 4,
   "id": "5e6bb199",
   "metadata": {},
   "outputs": [],
   "source": [
    "nombre = ['Ana', 'Luz', 'Daniela', 'Samanta', 'America']\n",
    "materia = ['Calculo', 'Algebra', 'Diferenciales', 'Fisica', 'Geometria']"
   ]
  },
  {
   "cell_type": "code",
   "execution_count": 6,
   "id": "0d35a452",
   "metadata": {},
   "outputs": [],
   "source": [
    "lista_nombre = []\n",
    "lista_materia = []\n",
    "lista_semestre = []\n",
    "lista_calificacion = []"
   ]
  },
  {
   "cell_type": "code",
   "execution_count": 7,
   "id": "e8d92aec",
   "metadata": {},
   "outputs": [],
   "source": [
    "for _ in range(500):\n",
    "    nom = random.choice(nombre)\n",
    "    mat = random.choice(materia)\n",
    "    sem = random.randint(1, 8)  \n",
    "    cal = random.randint(0, 10)  \n",
    "\n",
    "    lista_nombre.append(nom)\n",
    "    lista_materia.append(mat)\n",
    "    lista_semestre.append(sem)\n",
    "    lista_calificacion.append(cal)"
   ]
  },
  {
   "cell_type": "code",
   "execution_count": 8,
   "id": "45de8384",
   "metadata": {},
   "outputs": [],
   "source": [
    "df = pd.DataFrame({\n",
    "    'Nombre': lista_nombre,\n",
    "    'Materia': lista_materia,\n",
    "    'Semestre': lista_semestre,\n",
    "    'Calificacion': lista_calificacion,\n",
    "})"
   ]
  },
  {
   "cell_type": "code",
   "execution_count": 9,
   "id": "7293ddb4",
   "metadata": {},
   "outputs": [
    {
     "name": "stdout",
     "output_type": "stream",
     "text": [
      "    Nombre  Materia  Semestre  Calificacion\n",
      "0      Ana  Algebra         8            10\n",
      "1      Ana  Algebra         8             3\n",
      "2  America   Fisica         5            10\n",
      "3      Ana   Fisica         3             2\n",
      "4      Luz   Fisica         1             9\n"
     ]
    }
   ],
   "source": [
    "print(df.head())"
   ]
  },
  {
   "cell_type": "markdown",
   "id": "6eaf8efa",
   "metadata": {},
   "source": [
    "### Análisis multidimensional"
   ]
  },
  {
   "cell_type": "code",
   "execution_count": 10,
   "id": "b1e4c4f3",
   "metadata": {},
   "outputs": [
    {
     "data": {
      "text/plain": [
       "Materia        Semestre\n",
       "Algebra        1           4.500000\n",
       "               2           4.818182\n",
       "               3           4.000000\n",
       "               4           6.214286\n",
       "               5           5.250000\n",
       "               6           7.400000\n",
       "               7           4.750000\n",
       "               8           4.866667\n",
       "Calculo        1           5.142857\n",
       "               2           6.086957\n",
       "               3           3.700000\n",
       "               4           4.100000\n",
       "               5           4.200000\n",
       "               6           3.000000\n",
       "               7           5.388889\n",
       "               8           3.857143\n",
       "Diferenciales  1           5.666667\n",
       "               2           3.750000\n",
       "               3           5.900000\n",
       "               4           3.285714\n",
       "               5           5.285714\n",
       "               6           3.666667\n",
       "               7           6.045455\n",
       "               8           6.066667\n",
       "Fisica         1           9.333333\n",
       "               2           4.214286\n",
       "               3           3.250000\n",
       "               4           4.666667\n",
       "               5           5.800000\n",
       "               6           4.272727\n",
       "               7           4.000000\n",
       "               8           5.066667\n",
       "Geometria      1           4.428571\n",
       "               2           5.166667\n",
       "               3           5.200000\n",
       "               4           4.111111\n",
       "               5           4.800000\n",
       "               6           4.800000\n",
       "               7           5.312500\n",
       "               8           6.142857\n",
       "Name: Calificacion, dtype: float64"
      ]
     },
     "execution_count": 10,
     "metadata": {},
     "output_type": "execute_result"
    }
   ],
   "source": [
    "df.groupby(['Materia','Semestre'])['Calificacion'].mean()"
   ]
  },
  {
   "cell_type": "markdown",
   "id": "0a981cc6",
   "metadata": {},
   "source": [
    "### Visualización"
   ]
  },
  {
   "cell_type": "code",
   "execution_count": 13,
   "id": "b07e42d8",
   "metadata": {},
   "outputs": [
    {
     "data": {
      "image/png": "[encoded data removed]",
      "text/plain": [
       "<Figure size 640x480 with 1 Axes>"
      ]
     },
     "metadata": {},
     "output_type": "display_data"
    }
   ],
   "source": [
    "import seaborn as sns\n",
    "import matplotlib.pyplot as plt\n",
    "sns.barplot(x='Materia', y='Calificacion', hue='Semestre', data=df) \n",
    "plt.show()"
   ]
  },
  {
   "cell_type": "markdown",
   "id": "b643f15c",
   "metadata": {},
   "source": [
    "## Preguntas de reflexión"
   ]
  },
  {
   "cell_type": "markdown",
   "id": "01ff798c",
   "metadata": {},
   "source": [
    "¿Cuál materia tiene el promedio más alto y en qué semestre?\n",
    "\n",
    "Física en el semestre 1\n",
    "\n",
    "¿Hay alguna materia que mejore o empeore significativamente entre\n",
    "semestres?\n",
    "\n",
    "Mantienen variaciones significativas \n",
    "\n",
    "¿Cómo podrían los educadores utilizar estos insights para mejorar el\n",
    "currículo?\n",
    "\n",
    "Mantiene una visualización que permite una fácil interpretación de los datos, lo cual ayuda al análisis de la información procesada"
   ]
  },
  {
   "cell_type": "code",
   "execution_count": null,
   "id": "4a9530c5",
   "metadata": {},
   "outputs": [],
   "source": []
  }
 ],
 "metadata": {
  "kernelspec": {
   "display_name": "Python 3 (ipykernel)",
   "language": "python",
   "name": "python3"
  },
  "language_info": {
   "codemirror_mode": {
    "name": "ipython",
    "version": 3
   },
   "file_extension": ".py",
   "mimetype": "text/x-python",
   "name": "python",
   "nbconvert_exporter": "python",
   "pygments_lexer": "ipython3",
   "version": "3.11.3"
  }
 },
 "nbformat": 4,
 "nbformat_minor": 5
}
