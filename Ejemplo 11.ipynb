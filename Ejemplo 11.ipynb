{
 "cells": [
  {
   "cell_type": "markdown",
   "id": "8572203f",
   "metadata": {
    "toc": true
   },
   "source": [
    "<h1>Table of Contents<span class=\"tocSkip\"></span></h1>\n",
    "<div class=\"toc\"><ul class=\"toc-item\"><li><span><a href=\"#Ejercicio-11\" data-toc-modified-id=\"Ejercicio-11-1\"><span class=\"toc-item-num\">1&nbsp;&nbsp;</span>Ejercicio 11</a></span><ul class=\"toc-item\"><li><span><a href=\"#Árboles-de-desición\" data-toc-modified-id=\"Árboles-de-desición-1.1\"><span class=\"toc-item-num\">1.1&nbsp;&nbsp;</span>Árboles de desición</a></span></li><li><span><a href=\"#Estado-del-arte\" data-toc-modified-id=\"Estado-del-arte-1.2\"><span class=\"toc-item-num\">1.2&nbsp;&nbsp;</span>Estado del arte</a></span><ul class=\"toc-item\"><li><span><a href=\"#Clasificación\" data-toc-modified-id=\"Clasificación-1.2.1\"><span class=\"toc-item-num\">1.2.1&nbsp;&nbsp;</span>Clasificación</a></span></li></ul></li><li><span><a href=\"#Implementación\" data-toc-modified-id=\"Implementación-1.3\"><span class=\"toc-item-num\">1.3&nbsp;&nbsp;</span>Implementación</a></span></li><li><span><a href=\"#Referencias\" data-toc-modified-id=\"Referencias-1.4\"><span class=\"toc-item-num\">1.4&nbsp;&nbsp;</span>Referencias</a></span></li></ul></li></ul></div>"
   ]
  },
  {
   "cell_type": "markdown",
   "id": "548b47d0",
   "metadata": {},
   "source": [
    "## Ejercicio 11"
   ]
  },
  {
   "cell_type": "markdown",
   "id": "baa3ca40",
   "metadata": {},
   "source": [
    "### Árboles de desición"
   ]
  },
  {
   "cell_type": "markdown",
   "id": "e6dc51ef",
   "metadata": {},
   "source": [
    "### Estado del arte"
   ]
  },
  {
   "cell_type": "markdown",
   "id": "3ba85e53",
   "metadata": {},
   "source": [
    "Los árboles de decisión (DT) son un método de aprendizaje supervisado no paramétrico utilizado para la clasificación y la regresión. El objetivo es crear un modelo que prediga el valor de una variable objetivo aprendiendo reglas de decisión simples inferidas de las características de los datos. Un árbol puede verse como una aproximación constante a trozos.\n",
    "\n",
    "Por ejemplo, en el siguiente ejemplo, los árboles de decisión aprenden de los datos para aproximarse a una curva sinusoidal con un conjunto de reglas de decisión if-then-else. Cuanto más profundo sea el árbol, más complejas son las reglas de decisión y más ajustado es el modelo."
   ]
  },
  {
   "cell_type": "markdown",
   "id": "73967c35",
   "metadata": {},
   "source": [
    "![Árbol de decisión](./Multimedia/ad.png)"
   ]
  },
  {
   "cell_type": "markdown",
   "id": "8a7fd34a",
   "metadata": {},
   "source": [
    "Algunas ventajas de los árboles de decisión son:\n",
    "\n",
    "- Fácil de entender e interpretar. Los árboles se pueden visualizar.\n",
    "- Requiere poca preparación de datos. Otras técnicas a menudo requieren la normalización de los datos, es necesario crear variables ficticias y eliminar los valores en blanco. Algunas combinaciones de árboles y algoritmos admiten valores que faltan.\n",
    "- El costo de usar el árbol (es decir, predecir datos) es logarítmico en el número de puntos de datos utilizados para entrenar el árbol.\n",
    "- Capaz de manejar datos numéricos y categóricos. Sin embargo, la implementación de scikit-learn no admite variables categóricas por ahora. Otras técnicas suelen estar especializadas en el análisis de conjuntos de datos que tienen un solo tipo de variable. Consulte los algoritmos para obtener más información.\n",
    "- Capaz de manejar problemas de salida múltiple.\n",
    "- Utiliza un modelo de caja blanca. Si una situación dada es observable en un modelo, la explicación de la condición se explica fácilmente con la lógica booleana. Por el contrario, en un modelo de caja negra (por ejemplo, en una red neuronal artificial), los resultados pueden ser más difíciles de interpretar.\n",
    "- Es posible validar un modelo utilizando pruebas estadísticas. Eso hace posible tener en cuenta la fiabilidad del modelo.\n",
    "- Funciona bien incluso si sus suposiciones son algo violadas por el verdadero modelo a partir del cual se generaron los datos.\n",
    "\n",
    "Las desventajas de los árboles de decisión incluyen:\n",
    "\n",
    "- Los estudiantes del árbol de decisiones pueden crear árboles demasiado complejos que no generalizan bien los datos. Esto se llama sobreajuste. Para evitar este problema son necesarios mecanismos como la poda, el establecimiento del número mínimo de muestras requeridas en un nodo de la hoja o el establecimiento de la profundidad máxima del árbol.\n",
    "- Los árboles de decisión pueden ser inestables porque pequeñas variaciones en los datos pueden dar lugar a la generación de un árbol completamente diferente. Este problema se mitiga mediante el uso de árboles de decisión dentro de un conjunto.\n",
    "- Las predicciones de los árboles de decisión no son ni suaves ni continuas, sino aproximaciones constantes a trozos como se ve en la figura anterior. Por lo tanto, no son buenos en la extrapolación.\n",
    "- Se sabe que el problema de aprender un árbol de decisiones óptimo es NP-completo bajo varios aspectos de la optimización e incluso para conceptos simples. En consecuencia, los algoritmos prácticos de aprendizaje del árbol de decisiones se basan en algoritmos heurísticos como el algoritmo codicioso, donde se toman decisiones localmente óptimas en cada nodo. Tales algoritmos no pueden garantizar el retorno del árbol de decisiones óptimo a nivel mundial. Esto se puede mitigar entrenando múltiples árboles en un alumno de conjunto, donde las características y las muestras se muestrean al azar con reemplazo.\n",
    "- Hay conceptos que son difíciles de aprender porque los árboles de decisión no los expresan fácilmente, como XOR, paridad o problemas de multiplexores.\n",
    "- Los estudiantes del árbol de decisiones crean árboles sesgados si dominan algunas clases. Por lo tanto, se recomienda equilibrar el conjunto de datos antes de encajar con el árbol de decisiones."
   ]
  },
  {
   "cell_type": "markdown",
   "id": "16c30ec1",
   "metadata": {},
   "source": [
    "#### Clasificación"
   ]
  },
  {
   "cell_type": "markdown",
   "id": "7e6fd31d",
   "metadata": {},
   "source": [
    "Al igual que con otros clasificadores,DecisionTreeClassifier toma como entrada two arrays: an array X, sparse or dense, of shape (n_samples, n_features) holding the training samples, and an array Y of integer values, shape (n_samples,), holding the class labels for the training sample."
   ]
  },
  {
   "cell_type": "markdown",
   "id": "1cf4bd3e",
   "metadata": {},
   "source": [
    "![Árbol de decisión ejemplo](./Multimedia/ejad.png)"
   ]
  },
  {
   "cell_type": "markdown",
   "id": "3686a882",
   "metadata": {},
   "source": [
    "### Implementación"
   ]
  },
  {
   "cell_type": "code",
   "execution_count": 1,
   "id": "c7ccb183",
   "metadata": {},
   "outputs": [],
   "source": [
    "import numpy as np\n",
    "from sklearn.datasets import load_iris\n",
    "from sklearn.model_selection import train_test_split\n",
    "from sklearn.tree import DecisionTreeClassifier\n",
    "from sklearn.metrics import accuracy_score, confusion_matrix"
   ]
  },
  {
   "cell_type": "code",
   "execution_count": 2,
   "id": "d929fe7d",
   "metadata": {},
   "outputs": [],
   "source": [
    "iris = load_iris()\n",
    "X, y = iris.data, iris.target"
   ]
  },
  {
   "cell_type": "code",
   "execution_count": 3,
   "id": "e69ff101",
   "metadata": {},
   "outputs": [],
   "source": [
    "X_train, X_test, y_train, y_test = train_test_split(X, y, test_size=0.3, random_state=42)"
   ]
  },
  {
   "cell_type": "code",
   "execution_count": 4,
   "id": "098343e4",
   "metadata": {},
   "outputs": [
    {
     "data": {
      "text/html": [
       "<style>#sk-container-id-1 {color: black;background-color: white;}#sk-container-id-1 pre{padding: 0;}#sk-container-id-1 div.sk-toggleable {background-color: white;}#sk-container-id-1 label.sk-toggleable__label {cursor: pointer;display: block;width: 100%;margin-bottom: 0;padding: 0.3em;box-sizing: border-box;text-align: center;}#sk-container-id-1 label.sk-toggleable__label-arrow:before {content: \"▸\";float: left;margin-right: 0.25em;color: #696969;}#sk-container-id-1 label.sk-toggleable__label-arrow:hover:before {color: black;}#sk-container-id-1 div.sk-estimator:hover label.sk-toggleable__label-arrow:before {color: black;}#sk-container-id-1 div.sk-toggleable__content {max-height: 0;max-width: 0;overflow: hidden;text-align: left;background-color: #f0f8ff;}#sk-container-id-1 div.sk-toggleable__content pre {margin: 0.2em;color: black;border-radius: 0.25em;background-color: #f0f8ff;}#sk-container-id-1 input.sk-toggleable__control:checked~div.sk-toggleable__content {max-height: 200px;max-width: 100%;overflow: auto;}#sk-container-id-1 input.sk-toggleable__control:checked~label.sk-toggleable__label-arrow:before {content: \"▾\";}#sk-container-id-1 div.sk-estimator input.sk-toggleable__control:checked~label.sk-toggleable__label {background-color: #d4ebff;}#sk-container-id-1 div.sk-label input.sk-toggleable__control:checked~label.sk-toggleable__label {background-color: #d4ebff;}#sk-container-id-1 input.sk-hidden--visually {border: 0;clip: rect(1px 1px 1px 1px);clip: rect(1px, 1px, 1px, 1px);height: 1px;margin: -1px;overflow: hidden;padding: 0;position: absolute;width: 1px;}#sk-container-id-1 div.sk-estimator {font-family: monospace;background-color: #f0f8ff;border: 1px dotted black;border-radius: 0.25em;box-sizing: border-box;margin-bottom: 0.5em;}#sk-container-id-1 div.sk-estimator:hover {background-color: #d4ebff;}#sk-container-id-1 div.sk-parallel-item::after {content: \"\";width: 100%;border-bottom: 1px solid gray;flex-grow: 1;}#sk-container-id-1 div.sk-label:hover label.sk-toggleable__label {background-color: #d4ebff;}#sk-container-id-1 div.sk-serial::before {content: \"\";position: absolute;border-left: 1px solid gray;box-sizing: border-box;top: 0;bottom: 0;left: 50%;z-index: 0;}#sk-container-id-1 div.sk-serial {display: flex;flex-direction: column;align-items: center;background-color: white;padding-right: 0.2em;padding-left: 0.2em;position: relative;}#sk-container-id-1 div.sk-item {position: relative;z-index: 1;}#sk-container-id-1 div.sk-parallel {display: flex;align-items: stretch;justify-content: center;background-color: white;position: relative;}#sk-container-id-1 div.sk-item::before, #sk-container-id-1 div.sk-parallel-item::before {content: \"\";position: absolute;border-left: 1px solid gray;box-sizing: border-box;top: 0;bottom: 0;left: 50%;z-index: -1;}#sk-container-id-1 div.sk-parallel-item {display: flex;flex-direction: column;z-index: 1;position: relative;background-color: white;}#sk-container-id-1 div.sk-parallel-item:first-child::after {align-self: flex-end;width: 50%;}#sk-container-id-1 div.sk-parallel-item:last-child::after {align-self: flex-start;width: 50%;}#sk-container-id-1 div.sk-parallel-item:only-child::after {width: 0;}#sk-container-id-1 div.sk-dashed-wrapped {border: 1px dashed gray;margin: 0 0.4em 0.5em 0.4em;box-sizing: border-box;padding-bottom: 0.4em;background-color: white;}#sk-container-id-1 div.sk-label label {font-family: monospace;font-weight: bold;display: inline-block;line-height: 1.2em;}#sk-container-id-1 div.sk-label-container {text-align: center;}#sk-container-id-1 div.sk-container {/* jupyter's `normalize.less` sets `[hidden] { display: none; }` but bootstrap.min.css set `[hidden] { display: none !important; }` so we also need the `!important` here to be able to override the default hidden behavior on the sphinx rendered scikit-learn.org. See: https://github.com/scikit-learn/scikit-learn/issues/21755 */display: inline-block !important;position: relative;}#sk-container-id-1 div.sk-text-repr-fallback {display: none;}</style><div id=\"sk-container-id-1\" class=\"sk-top-container\"><div class=\"sk-text-repr-fallback\"><pre>DecisionTreeClassifier(random_state=42)</pre><b>In a Jupyter environment, please rerun this cell to show the HTML representation or trust the notebook. <br />On GitHub, the HTML representation is unable to render, please try loading this page with nbviewer.org.</b></div><div class=\"sk-container\" hidden><div class=\"sk-item\"><div class=\"sk-estimator sk-toggleable\"><input class=\"sk-toggleable__control sk-hidden--visually\" id=\"sk-estimator-id-1\" type=\"checkbox\" checked><label for=\"sk-estimator-id-1\" class=\"sk-toggleable__label sk-toggleable__label-arrow\">DecisionTreeClassifier</label><div class=\"sk-toggleable__content\"><pre>DecisionTreeClassifier(random_state=42)</pre></div></div></div></div></div>"
      ],
      "text/plain": [
       "DecisionTreeClassifier(random_state=42)"
      ]
     },
     "execution_count": 4,
     "metadata": {},
     "output_type": "execute_result"
    }
   ],
   "source": [
    "clf = DecisionTreeClassifier(random_state=42)\n",
    "clf.fit(X_train, y_train)"
   ]
  },
  {
   "cell_type": "code",
   "execution_count": 5,
   "id": "6de57f4b",
   "metadata": {},
   "outputs": [],
   "source": [
    "y_pred = clf.predict(X_test)"
   ]
  },
  {
   "cell_type": "code",
   "execution_count": 6,
   "id": "e6f94edd",
   "metadata": {},
   "outputs": [],
   "source": [
    "accuracy = accuracy_score(y_test, y_pred)\n",
    "conf_matrix = confusion_matrix(y_test, y_pred)"
   ]
  },
  {
   "cell_type": "code",
   "execution_count": 7,
   "id": "d04f4408",
   "metadata": {},
   "outputs": [
    {
     "name": "stdout",
     "output_type": "stream",
     "text": [
      "Accuracy: 100.00%\n"
     ]
    }
   ],
   "source": [
    "print(f'Accuracy: {accuracy * 100:.2f}%')"
   ]
  },
  {
   "cell_type": "code",
   "execution_count": 8,
   "id": "453fe542",
   "metadata": {},
   "outputs": [
    {
     "name": "stdout",
     "output_type": "stream",
     "text": [
      "Confusion Matrix:\n",
      "[[19  0  0]\n",
      " [ 0 13  0]\n",
      " [ 0  0 13]]\n"
     ]
    }
   ],
   "source": [
    "print(f'Confusion Matrix:\\n{conf_matrix}')"
   ]
  },
  {
   "cell_type": "code",
   "execution_count": 9,
   "id": "6da696b3",
   "metadata": {},
   "outputs": [],
   "source": [
    "def predecir_tipo_pétalo(modelo, nueva_observación):\n",
    "    # La nueva_observación debe ser un arreglo de 1D con las características de la flor\n",
    "    # Devolver el tipo de pétalo predicho\n",
    "    return iris.target_names[clf.predict([nueva_observación])][0]"
   ]
  },
  {
   "cell_type": "code",
   "execution_count": 10,
   "id": "630410c9",
   "metadata": {},
   "outputs": [
    {
     "name": "stdout",
     "output_type": "stream",
     "text": [
      "Tipo de pétalo predicho por el Árbol de Decisiones: setosa\n"
     ]
    }
   ],
   "source": [
    "nueva_observacion = np.array([5.1, 3.5, 1.4, 0.2])  # Cambia estos valores según la nueva observación\n",
    "tipo_petalo_predicho_tree = predecir_tipo_pétalo(clf, nueva_observacion)\n",
    "print('Tipo de pétalo predicho por el Árbol de Decisiones:', tipo_petalo_predicho_tree)"
   ]
  },
  {
   "cell_type": "markdown",
   "id": "597400d2",
   "metadata": {},
   "source": [
    "### Referencias"
   ]
  },
  {
   "cell_type": "markdown",
   "id": "1d11de73",
   "metadata": {},
   "source": [
    "[1] J. Grus, Data Science From Scratch: First Principles With Python. O'Reilly Media, Inc., 2019.\n",
    "\n",
    "[2] Desarrolladores de scikit-learn. “1.1. linear models”. scikit-learn. Accedido el 4 de octubre de 2023. [En línea]. Disponible: https://scikit-learn.org/stable/modules/linear_model.html"
   ]
  }
 ],
 "metadata": {
  "kernelspec": {
   "display_name": "Python 3 (ipykernel)",
   "language": "python",
   "name": "python3"
  },
  "language_info": {
   "codemirror_mode": {
    "name": "ipython",
    "version": 3
   },
   "file_extension": ".py",
   "mimetype": "text/x-python",
   "name": "python",
   "nbconvert_exporter": "python",
   "pygments_lexer": "ipython3",
   "version": "3.11.3"
  },
  "toc": {
   "base_numbering": 1,
   "nav_menu": {},
   "number_sections": true,
   "sideBar": true,
   "skip_h1_title": false,
   "title_cell": "Table of Contents",
   "title_sidebar": "Contents",
   "toc_cell": true,
   "toc_position": {},
   "toc_section_display": true,
   "toc_window_display": true
  },
  "varInspector": {
   "cols": {
    "lenName": 16,
    "lenType": 16,
    "lenVar": 40
   },
   "kernels_config": {
    "python": {
     "delete_cmd_postfix": "",
     "delete_cmd_prefix": "del ",
     "library": "var_list.py",
     "varRefreshCmd": "print(var_dic_list())"
    },
    "r": {
     "delete_cmd_postfix": ") ",
     "delete_cmd_prefix": "rm(",
     "library": "var_list.r",
     "varRefreshCmd": "cat(var_dic_list()) "
    }
   },
   "types_to_exclude": [
    "module",
    "function",
    "builtin_function_or_method",
    "instance",
    "_Feature"
   ],
   "window_display": false
  }
 },
 "nbformat": 4,
 "nbformat_minor": 5
}
