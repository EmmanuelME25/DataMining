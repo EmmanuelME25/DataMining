{
 "cells": [
  {
   "cell_type": "markdown",
   "id": "1e4f43e5",
   "metadata": {
    "toc": true
   },
   "source": [
    "<h1>Table of Contents<span class=\"tocSkip\"></span></h1>\n",
    "<div class=\"toc\"><ul class=\"toc-item\"><li><span><a href=\"#Objetivo\" data-toc-modified-id=\"Objetivo-1\"><span class=\"toc-item-num\">1&nbsp;&nbsp;</span>Objetivo</a></span><ul class=\"toc-item\"><li><span><a href=\"#Reursos-necesarios\" data-toc-modified-id=\"Reursos-necesarios-1.1\"><span class=\"toc-item-num\">1.1&nbsp;&nbsp;</span>Reursos necesarios</a></span></li></ul></li><li><span><a href=\"#Práctica\" data-toc-modified-id=\"Práctica-2\"><span class=\"toc-item-num\">2&nbsp;&nbsp;</span>Práctica</a></span><ul class=\"toc-item\"><li><span><a href=\"#Comprensión-del-Problema\" data-toc-modified-id=\"Comprensión-del-Problema-2.1\"><span class=\"toc-item-num\">2.1&nbsp;&nbsp;</span>Comprensión del Problema</a></span></li><li><span><a href=\"#Exploración-de-Datos\" data-toc-modified-id=\"Exploración-de-Datos-2.2\"><span class=\"toc-item-num\">2.2&nbsp;&nbsp;</span>Exploración de Datos</a></span></li><li><span><a href=\"#División-de-Datos\" data-toc-modified-id=\"División-de-Datos-2.3\"><span class=\"toc-item-num\">2.3&nbsp;&nbsp;</span>División de Datos</a></span></li><li><span><a href=\"#Preprocesamiento-de-Datos\" data-toc-modified-id=\"Preprocesamiento-de-Datos-2.4\"><span class=\"toc-item-num\">2.4&nbsp;&nbsp;</span>Preprocesamiento de Datos</a></span><ul class=\"toc-item\"><li><span><a href=\"#Bag-of-Words\" data-toc-modified-id=\"Bag-of-Words-2.4.1\"><span class=\"toc-item-num\">2.4.1&nbsp;&nbsp;</span>Bag of Words</a></span></li></ul></li><li><span><a href=\"#Construcción-de-Modelos\" data-toc-modified-id=\"Construcción-de-Modelos-2.5\"><span class=\"toc-item-num\">2.5&nbsp;&nbsp;</span>Construcción de Modelos</a></span><ul class=\"toc-item\"><li><span><a href=\"#Modelo-de-Clasificación\" data-toc-modified-id=\"Modelo-de-Clasificación-2.5.1\"><span class=\"toc-item-num\">2.5.1&nbsp;&nbsp;</span>Modelo de Clasificación</a></span></li><li><span><a href=\"#Matriz-de-Confusión-y-Métricas-de-Evaluación\" data-toc-modified-id=\"Matriz-de-Confusión-y-Métricas-de-Evaluación-2.5.2\"><span class=\"toc-item-num\">2.5.2&nbsp;&nbsp;</span>Matriz de Confusión y Métricas de Evaluación</a></span></li><li><span><a href=\"#Evaluación-del-Desempeño\" data-toc-modified-id=\"Evaluación-del-Desempeño-2.5.3\"><span class=\"toc-item-num\">2.5.3&nbsp;&nbsp;</span>Evaluación del Desempeño</a></span></li><li><span><a href=\"#Naive-Bayes\" data-toc-modified-id=\"Naive-Bayes-2.5.4\"><span class=\"toc-item-num\">2.5.4&nbsp;&nbsp;</span>Naive Bayes</a></span></li><li><span><a href=\"#SVM\" data-toc-modified-id=\"SVM-2.5.5\"><span class=\"toc-item-num\">2.5.5&nbsp;&nbsp;</span>SVM</a></span></li><li><span><a href=\"#Árboles-de-decisión\" data-toc-modified-id=\"Árboles-de-decisión-2.5.6\"><span class=\"toc-item-num\">2.5.6&nbsp;&nbsp;</span>Árboles de decisión</a></span></li></ul></li><li><span><a href=\"#Interpretación-de-Resultados\" data-toc-modified-id=\"Interpretación-de-Resultados-2.6\"><span class=\"toc-item-num\">2.6&nbsp;&nbsp;</span>Interpretación de Resultados</a></span></li><li><span><a href=\"#Evaluación-de-la-práctica\" data-toc-modified-id=\"Evaluación-de-la-práctica-2.7\"><span class=\"toc-item-num\">2.7&nbsp;&nbsp;</span>Evaluación de la práctica</a></span></li></ul></li></ul></div>"
   ]
  },
  {
   "cell_type": "markdown",
   "id": "bc27d9fc",
   "metadata": {},
   "source": [
    "## Objetivo"
   ]
  },
  {
   "cell_type": "markdown",
   "id": "512ec7f3",
   "metadata": {},
   "source": [
    "> Aprender a construir y evaluar un modelo de clasificación de correos\n",
    "electrónicos como spam o no spam."
   ]
  },
  {
   "cell_type": "markdown",
   "id": "7e641ce8",
   "metadata": {},
   "source": [
    "### Reursos necesarios"
   ]
  },
  {
   "cell_type": "markdown",
   "id": "7ca3009a",
   "metadata": {},
   "source": [
    "- Acceso al [dataset](https://www.kaggle.com/datasets/purusinghvi/email-spam-classification-dataset) de Kaggle.\n",
    "\n",
    "- Herramientas de análisis. Python con bibliotecas (pandas, numpy, scikit-learn, matplotlib)."
   ]
  },
  {
   "cell_type": "markdown",
   "id": "c765adbb",
   "metadata": {},
   "source": [
    "## Práctica"
   ]
  },
  {
   "cell_type": "markdown",
   "id": "30ea8b35",
   "metadata": {},
   "source": [
    "### Comprensión del Problema"
   ]
  },
  {
   "cell_type": "markdown",
   "id": "3dbeb458",
   "metadata": {},
   "source": [
    "El problema consiste en la mezcla de algunos datasets que contienen la información de correos electrónicos etiquetados como spam o no spam, el problema consta de hacer la clasificación de cuales correos son spam y cuales no, esto ayuda al sistema a clasificar los correos y decidir que correos mostrarle al usuario, los cuales deben de ser los más relevantes."
   ]
  },
  {
   "cell_type": "markdown",
   "id": "1f58d3dc",
   "metadata": {},
   "source": [
    "### Exploración de Datos"
   ]
  },
  {
   "cell_type": "code",
   "execution_count": 1,
   "id": "925da925",
   "metadata": {
    "ExecuteTime": {
     "end_time": "2023-11-13T05:55:28.157777Z",
     "start_time": "2023-11-13T05:55:27.475390Z"
    }
   },
   "outputs": [],
   "source": [
    "import pandas as pd \n",
    "import numpy as np\n",
    "import matplotlib.pyplot as plt"
   ]
  },
  {
   "cell_type": "code",
   "execution_count": 2,
   "id": "0f6d2ced",
   "metadata": {
    "ExecuteTime": {
     "end_time": "2023-11-13T05:55:29.239070Z",
     "start_time": "2023-11-13T05:55:28.158891Z"
    }
   },
   "outputs": [],
   "source": [
    "data = pd.read_csv(\"combined_data.csv\")"
   ]
  },
  {
   "cell_type": "code",
   "execution_count": 3,
   "id": "26bb7648",
   "metadata": {
    "ExecuteTime": {
     "end_time": "2023-11-13T05:55:29.248045Z",
     "start_time": "2023-11-13T05:55:29.240914Z"
    }
   },
   "outputs": [
    {
     "data": {
      "text/html": [
       "<div>\n",
       "<style scoped>\n",
       "    .dataframe tbody tr th:only-of-type {\n",
       "        vertical-align: middle;\n",
       "    }\n",
       "\n",
       "    .dataframe tbody tr th {\n",
       "        vertical-align: top;\n",
       "    }\n",
       "\n",
       "    .dataframe thead th {\n",
       "        text-align: right;\n",
       "    }\n",
       "</style>\n",
       "<table border=\"1\" class=\"dataframe\">\n",
       "  <thead>\n",
       "    <tr style=\"text-align: right;\">\n",
       "      <th></th>\n",
       "      <th>label</th>\n",
       "      <th>text</th>\n",
       "    </tr>\n",
       "  </thead>\n",
       "  <tbody>\n",
       "    <tr>\n",
       "      <th>0</th>\n",
       "      <td>1</td>\n",
       "      <td>ounce feather bowl hummingbird opec moment ala...</td>\n",
       "    </tr>\n",
       "    <tr>\n",
       "      <th>1</th>\n",
       "      <td>1</td>\n",
       "      <td>wulvob get your medircations online qnb ikud v...</td>\n",
       "    </tr>\n",
       "    <tr>\n",
       "      <th>2</th>\n",
       "      <td>0</td>\n",
       "      <td>computer connection from cnn com wednesday es...</td>\n",
       "    </tr>\n",
       "    <tr>\n",
       "      <th>3</th>\n",
       "      <td>1</td>\n",
       "      <td>university degree obtain a prosperous future m...</td>\n",
       "    </tr>\n",
       "    <tr>\n",
       "      <th>4</th>\n",
       "      <td>0</td>\n",
       "      <td>thanks for all your answers guys i know i shou...</td>\n",
       "    </tr>\n",
       "    <tr>\n",
       "      <th>...</th>\n",
       "      <td>...</td>\n",
       "      <td>...</td>\n",
       "    </tr>\n",
       "    <tr>\n",
       "      <th>83443</th>\n",
       "      <td>0</td>\n",
       "      <td>hi given a date how do i get the last date of ...</td>\n",
       "    </tr>\n",
       "    <tr>\n",
       "      <th>83444</th>\n",
       "      <td>1</td>\n",
       "      <td>now you can order software on cd or download i...</td>\n",
       "    </tr>\n",
       "    <tr>\n",
       "      <th>83445</th>\n",
       "      <td>1</td>\n",
       "      <td>dear valued member canadianpharmacy provides a...</td>\n",
       "    </tr>\n",
       "    <tr>\n",
       "      <th>83446</th>\n",
       "      <td>0</td>\n",
       "      <td>subscribe change profile contact us long term ...</td>\n",
       "    </tr>\n",
       "    <tr>\n",
       "      <th>83447</th>\n",
       "      <td>1</td>\n",
       "      <td>get the most out of life ! viagra has helped m...</td>\n",
       "    </tr>\n",
       "  </tbody>\n",
       "</table>\n",
       "<p>83448 rows × 2 columns</p>\n",
       "</div>"
      ],
      "text/plain": [
       "       label                                               text\n",
       "0          1  ounce feather bowl hummingbird opec moment ala...\n",
       "1          1  wulvob get your medircations online qnb ikud v...\n",
       "2          0   computer connection from cnn com wednesday es...\n",
       "3          1  university degree obtain a prosperous future m...\n",
       "4          0  thanks for all your answers guys i know i shou...\n",
       "...      ...                                                ...\n",
       "83443      0  hi given a date how do i get the last date of ...\n",
       "83444      1  now you can order software on cd or download i...\n",
       "83445      1  dear valued member canadianpharmacy provides a...\n",
       "83446      0  subscribe change profile contact us long term ...\n",
       "83447      1  get the most out of life ! viagra has helped m...\n",
       "\n",
       "[83448 rows x 2 columns]"
      ]
     },
     "execution_count": 3,
     "metadata": {},
     "output_type": "execute_result"
    }
   ],
   "source": [
    "data"
   ]
  },
  {
   "cell_type": "code",
   "execution_count": 4,
   "id": "9f4c9f3e",
   "metadata": {
    "ExecuteTime": {
     "end_time": "2023-11-13T05:55:29.261399Z",
     "start_time": "2023-11-13T05:55:29.249166Z"
    }
   },
   "outputs": [
    {
     "name": "stdout",
     "output_type": "stream",
     "text": [
      "<class 'pandas.core.frame.DataFrame'>\n",
      "RangeIndex: 83448 entries, 0 to 83447\n",
      "Data columns (total 2 columns):\n",
      " #   Column  Non-Null Count  Dtype \n",
      "---  ------  --------------  ----- \n",
      " 0   label   83448 non-null  int64 \n",
      " 1   text    83448 non-null  object\n",
      "dtypes: int64(1), object(1)\n",
      "memory usage: 1.3+ MB\n"
     ]
    }
   ],
   "source": [
    "data.info()"
   ]
  },
  {
   "cell_type": "code",
   "execution_count": 5,
   "id": "697ce1b0",
   "metadata": {
    "ExecuteTime": {
     "end_time": "2023-11-13T05:55:29.272994Z",
     "start_time": "2023-11-13T05:55:29.262582Z"
    }
   },
   "outputs": [
    {
     "data": {
      "text/plain": [
       "label    0\n",
       "text     0\n",
       "dtype: int64"
      ]
     },
     "execution_count": 5,
     "metadata": {},
     "output_type": "execute_result"
    }
   ],
   "source": [
    "data.isna().sum()"
   ]
  },
  {
   "cell_type": "code",
   "execution_count": 6,
   "id": "342b97fe",
   "metadata": {
    "ExecuteTime": {
     "end_time": "2023-11-13T05:55:29.277390Z",
     "start_time": "2023-11-13T05:55:29.273711Z"
    }
   },
   "outputs": [],
   "source": [
    "df = data.sample(n=20_000, random_state=42)"
   ]
  },
  {
   "cell_type": "code",
   "execution_count": 7,
   "id": "c2f6df86",
   "metadata": {
    "ExecuteTime": {
     "end_time": "2023-11-13T05:55:29.281706Z",
     "start_time": "2023-11-13T05:55:29.278082Z"
    }
   },
   "outputs": [
    {
     "data": {
      "text/html": [
       "<div>\n",
       "<style scoped>\n",
       "    .dataframe tbody tr th:only-of-type {\n",
       "        vertical-align: middle;\n",
       "    }\n",
       "\n",
       "    .dataframe tbody tr th {\n",
       "        vertical-align: top;\n",
       "    }\n",
       "\n",
       "    .dataframe thead th {\n",
       "        text-align: right;\n",
       "    }\n",
       "</style>\n",
       "<table border=\"1\" class=\"dataframe\">\n",
       "  <thead>\n",
       "    <tr style=\"text-align: right;\">\n",
       "      <th></th>\n",
       "      <th>label</th>\n",
       "      <th>text</th>\n",
       "    </tr>\n",
       "  </thead>\n",
       "  <tbody>\n",
       "    <tr>\n",
       "      <th>67681</th>\n",
       "      <td>0</td>\n",
       "      <td>accuweather escapenumber day forecast for beve...</td>\n",
       "    </tr>\n",
       "    <tr>\n",
       "      <th>61385</th>\n",
       "      <td>1</td>\n",
       "      <td>dear in christ the time has come for christian...</td>\n",
       "    </tr>\n",
       "    <tr>\n",
       "      <th>41829</th>\n",
       "      <td>1</td>\n",
       "      <td>hallway cosponsor pry reimbursable coat clumsy...</td>\n",
       "    </tr>\n",
       "    <tr>\n",
       "      <th>29172</th>\n",
       "      <td>1</td>\n",
       "      <td>does size matter' escapenumber of women said t...</td>\n",
       "    </tr>\n",
       "    <tr>\n",
       "      <th>35274</th>\n",
       "      <td>0</td>\n",
       "      <td>along zeng wrote hi all is there levene' test ...</td>\n",
       "    </tr>\n",
       "    <tr>\n",
       "      <th>...</th>\n",
       "      <td>...</td>\n",
       "      <td>...</td>\n",
       "    </tr>\n",
       "    <tr>\n",
       "      <th>71454</th>\n",
       "      <td>0</td>\n",
       "      <td>on escapenumber escapenumber escapenumber maph...</td>\n",
       "    </tr>\n",
       "    <tr>\n",
       "      <th>44071</th>\n",
       "      <td>0</td>\n",
       "      <td>hi i used split screen command to creaye escap...</td>\n",
       "    </tr>\n",
       "    <tr>\n",
       "      <th>71721</th>\n",
       "      <td>0</td>\n",
       "      <td>begin pgp signed message hash shaescapenumber...</td>\n",
       "    </tr>\n",
       "    <tr>\n",
       "      <th>3928</th>\n",
       "      <td>0</td>\n",
       "      <td>we have a great deal of work underway with our...</td>\n",
       "    </tr>\n",
       "    <tr>\n",
       "      <th>18885</th>\n",
       "      <td>0</td>\n",
       "      <td>the february ncl regular meeting will be this ...</td>\n",
       "    </tr>\n",
       "  </tbody>\n",
       "</table>\n",
       "<p>20000 rows × 2 columns</p>\n",
       "</div>"
      ],
      "text/plain": [
       "       label                                               text\n",
       "67681      0  accuweather escapenumber day forecast for beve...\n",
       "61385      1  dear in christ the time has come for christian...\n",
       "41829      1  hallway cosponsor pry reimbursable coat clumsy...\n",
       "29172      1  does size matter' escapenumber of women said t...\n",
       "35274      0  along zeng wrote hi all is there levene' test ...\n",
       "...      ...                                                ...\n",
       "71454      0  on escapenumber escapenumber escapenumber maph...\n",
       "44071      0  hi i used split screen command to creaye escap...\n",
       "71721      0   begin pgp signed message hash shaescapenumber...\n",
       "3928       0  we have a great deal of work underway with our...\n",
       "18885      0  the february ncl regular meeting will be this ...\n",
       "\n",
       "[20000 rows x 2 columns]"
      ]
     },
     "execution_count": 7,
     "metadata": {},
     "output_type": "execute_result"
    }
   ],
   "source": [
    "df"
   ]
  },
  {
   "cell_type": "code",
   "execution_count": 8,
   "id": "87a1dcb1",
   "metadata": {
    "ExecuteTime": {
     "end_time": "2023-11-13T05:55:29.286551Z",
     "start_time": "2023-11-13T05:55:29.282302Z"
    }
   },
   "outputs": [
    {
     "data": {
      "text/plain": [
       "label    0\n",
       "text     0\n",
       "dtype: int64"
      ]
     },
     "execution_count": 8,
     "metadata": {},
     "output_type": "execute_result"
    }
   ],
   "source": [
    "df.isna().sum()"
   ]
  },
  {
   "cell_type": "code",
   "execution_count": 9,
   "id": "8f1ccde8",
   "metadata": {
    "ExecuteTime": {
     "end_time": "2023-11-13T05:55:29.355415Z",
     "start_time": "2023-11-13T05:55:29.287153Z"
    }
   },
   "outputs": [
    {
     "data": {
      "image/png": "[encoded data removed]",
      "text/plain": [
       "<Figure size 640x480 with 1 Axes>"
      ]
     },
     "metadata": {},
     "output_type": "display_data"
    }
   ],
   "source": [
    "type1_counts = df['label'].value_counts()\n",
    "type1_counts.plot(kind='bar')\n",
    "plt.xlabel('Valores')\n",
    "plt.ylabel('Frecuencia')\n",
    "plt.title('Distribución de spam')\n",
    "plt.show()"
   ]
  },
  {
   "cell_type": "code",
   "execution_count": 10,
   "id": "2c496206",
   "metadata": {
    "ExecuteTime": {
     "end_time": "2023-11-13T05:55:29.364087Z",
     "start_time": "2023-11-13T05:55:29.361183Z"
    }
   },
   "outputs": [
    {
     "name": "stdout",
     "output_type": "stream",
     "text": [
      "1    10504\n",
      "0     9496\n",
      "Name: label, dtype: int64\n"
     ]
    }
   ],
   "source": [
    "labels = {0 : \"Not Spam\", 1 : \"Spam\"}\n",
    "label_counts = df['label'].value_counts()\n",
    "print(label_counts)"
   ]
  },
  {
   "cell_type": "code",
   "execution_count": 11,
   "id": "74aa7753",
   "metadata": {
    "ExecuteTime": {
     "end_time": "2023-11-13T05:55:29.400234Z",
     "start_time": "2023-11-13T05:55:29.365663Z"
    }
   },
   "outputs": [
    {
     "data": {
      "image/png": "[encoded data removed]",
      "text/plain": [
       "<Figure size 640x480 with 1 Axes>"
      ]
     },
     "metadata": {},
     "output_type": "display_data"
    }
   ],
   "source": [
    "plt.pie(label_counts, labels = labels.values(), autopct = \"%.2f%%\")\n",
    "plt.show()"
   ]
  },
  {
   "cell_type": "markdown",
   "id": "3acd4b8a",
   "metadata": {},
   "source": [
    "### División de Datos"
   ]
  },
  {
   "cell_type": "code",
   "execution_count": 12,
   "id": "884a1010",
   "metadata": {
    "ExecuteTime": {
     "end_time": "2023-11-13T05:55:29.886029Z",
     "start_time": "2023-11-13T05:55:29.402483Z"
    }
   },
   "outputs": [],
   "source": [
    "from sklearn.model_selection import train_test_split"
   ]
  },
  {
   "cell_type": "code",
   "execution_count": 13,
   "id": "5d756d78",
   "metadata": {
    "ExecuteTime": {
     "end_time": "2023-11-13T05:55:29.890466Z",
     "start_time": "2023-11-13T05:55:29.886776Z"
    }
   },
   "outputs": [],
   "source": [
    "# Dividir el conjunto de datos en entrenamiento y prueba\n",
    "X_train, X_test, y_train, y_test = train_test_split(df['text'], df['label'], test_size=0.25, random_state=42)"
   ]
  },
  {
   "cell_type": "code",
   "execution_count": 14,
   "id": "a673225f",
   "metadata": {
    "ExecuteTime": {
     "end_time": "2023-11-13T05:55:29.895249Z",
     "start_time": "2023-11-13T05:55:29.891223Z"
    }
   },
   "outputs": [
    {
     "name": "stdout",
     "output_type": "stream",
     "text": [
      "<class 'pandas.core.series.Series'>\n",
      "Int64Index: 15000 entries, 15990 to 43579\n",
      "Series name: text\n",
      "Non-Null Count  Dtype \n",
      "--------------  ----- \n",
      "15000 non-null  object\n",
      "dtypes: object(1)\n",
      "memory usage: 234.4+ KB\n"
     ]
    }
   ],
   "source": [
    "X_train.info()"
   ]
  },
  {
   "cell_type": "code",
   "execution_count": 15,
   "id": "f6b377bc",
   "metadata": {
    "ExecuteTime": {
     "end_time": "2023-11-13T05:55:29.900329Z",
     "start_time": "2023-11-13T05:55:29.896062Z"
    }
   },
   "outputs": [
    {
     "name": "stdout",
     "output_type": "stream",
     "text": [
      "<class 'pandas.core.series.Series'>\n",
      "Int64Index: 5000 entries, 24397 to 30749\n",
      "Series name: text\n",
      "Non-Null Count  Dtype \n",
      "--------------  ----- \n",
      "5000 non-null   object\n",
      "dtypes: object(1)\n",
      "memory usage: 78.1+ KB\n"
     ]
    }
   ],
   "source": [
    "X_test.info()"
   ]
  },
  {
   "cell_type": "markdown",
   "id": "4db5a1b8",
   "metadata": {},
   "source": [
    "### Preprocesamiento de Datos"
   ]
  },
  {
   "cell_type": "markdown",
   "id": "e4494be1",
   "metadata": {},
   "source": [
    "#### Bag of Words"
   ]
  },
  {
   "cell_type": "markdown",
   "id": "6c693827",
   "metadata": {},
   "source": [
    "Representa un documento como un conjunto no ordenado de palabras, ignorando la estructura gramatical y el orden de las palabras. Cada palabra única en el corpus se convierte en una característica, y el valor en cada posición del vector representa la frecuencia o la presencia de esa palabra en el documento."
   ]
  },
  {
   "cell_type": "code",
   "execution_count": 16,
   "id": "827f98a5",
   "metadata": {
    "ExecuteTime": {
     "end_time": "2023-11-13T05:55:29.909106Z",
     "start_time": "2023-11-13T05:55:29.901240Z"
    }
   },
   "outputs": [],
   "source": [
    "from sklearn.feature_extraction.text import CountVectorizer"
   ]
  },
  {
   "cell_type": "code",
   "execution_count": 17,
   "id": "f74d2447",
   "metadata": {
    "ExecuteTime": {
     "end_time": "2023-11-13T05:55:31.511217Z",
     "start_time": "2023-11-13T05:55:29.910077Z"
    }
   },
   "outputs": [],
   "source": [
    "vectorizer = CountVectorizer()\n",
    "X = vectorizer.fit_transform(X_train.values)\n",
    "Y = vectorizer.transform(X_test.values)"
   ]
  },
  {
   "cell_type": "code",
   "execution_count": 18,
   "id": "082014ef",
   "metadata": {
    "ExecuteTime": {
     "end_time": "2023-11-13T05:55:32.774043Z",
     "start_time": "2023-11-13T05:55:31.511958Z"
    }
   },
   "outputs": [
    {
     "data": {
      "text/plain": [
       "array([[ 0,  0,  0, ...,  0,  0,  0],\n",
       "       [ 0,  0,  0, ...,  0,  0,  0],\n",
       "       [ 0,  0,  0, ...,  0,  0,  0],\n",
       "       ...,\n",
       "       [ 0,  2,  0, ...,  0,  0,  0],\n",
       "       [ 0,  0,  0, ...,  0,  0,  0],\n",
       "       [27,  0,  0, ...,  0,  0,  0]])"
      ]
     },
     "execution_count": 18,
     "metadata": {},
     "output_type": "execute_result"
    }
   ],
   "source": [
    "X.toarray()"
   ]
  },
  {
   "cell_type": "code",
   "execution_count": 19,
   "id": "274eee35",
   "metadata": {
    "ExecuteTime": {
     "end_time": "2023-11-13T05:55:33.202890Z",
     "start_time": "2023-11-13T05:55:32.774867Z"
    }
   },
   "outputs": [
    {
     "data": {
      "text/plain": [
       "array([[0, 0, 0, ..., 0, 0, 0],\n",
       "       [0, 0, 0, ..., 0, 0, 0],\n",
       "       [0, 0, 0, ..., 0, 0, 0],\n",
       "       ...,\n",
       "       [0, 0, 0, ..., 0, 0, 0],\n",
       "       [0, 0, 0, ..., 0, 0, 0],\n",
       "       [0, 0, 0, ..., 0, 0, 0]])"
      ]
     },
     "execution_count": 19,
     "metadata": {},
     "output_type": "execute_result"
    }
   ],
   "source": [
    "Y.toarray()"
   ]
  },
  {
   "cell_type": "markdown",
   "id": "62c98c6e",
   "metadata": {},
   "source": [
    "### Construcción de Modelos"
   ]
  },
  {
   "cell_type": "code",
   "execution_count": 20,
   "id": "a7abac76",
   "metadata": {
    "ExecuteTime": {
     "end_time": "2023-11-13T05:55:33.282243Z",
     "start_time": "2023-11-13T05:55:33.204010Z"
    }
   },
   "outputs": [],
   "source": [
    "from sklearn.tree import DecisionTreeClassifier\n",
    "from sklearn.metrics import accuracy_score, confusion_matrix"
   ]
  },
  {
   "cell_type": "markdown",
   "id": "3e2678ec",
   "metadata": {},
   "source": [
    "#### Modelo de Clasificación"
   ]
  },
  {
   "cell_type": "markdown",
   "id": "08646e4c",
   "metadata": {},
   "source": [
    ">Un modelo de clasificación es un algoritmo o sistema que se entrena para asignar una etiqueta (o clase) a una entrada basándose en ciertas características o atributos. La tarea principal de un modelo de clasificación es aprender patrones a partir de datos de entrenamiento para luego hacer predicciones sobre nuevos datos.\n",
    "\n",
    "- **Datos de Entrada:**\n",
    "\n",
    "Un conjunto de datos de entrada que consiste en ejemplos de entrenamiento, donde cada ejemplo tiene características y una etiqueta asociada.\n",
    "\n",
    "- **Entrenamiento del Modelo:**\n",
    "\n",
    "El modelo de clasificación se entrena utilizando el conjunto de datos de entrenamiento. Durante el entrenamiento, el modelo ajusta sus parámetros internos para aprender los patrones que relacionan las características de entrada con las etiquetas de salida.\n",
    "\n",
    "- **Predicciones:**\n",
    "\n",
    "Después del entrenamiento, el modelo puede realizar predicciones sobre nuevos datos. Dada una entrada sin etiqueta, el modelo asigna una etiqueta basándose en los patrones aprendidos durante el entrenamiento.\n",
    "\n",
    "- **Evaluación del Rendimiento:**\n",
    "\n",
    "El rendimiento del modelo se evalúa utilizando un conjunto de datos de prueba o de validación que no se utilizó durante el entrenamiento. Métricas comunes de evaluación incluyen precisión, recall, F1-score, matriz de confusión, entre otras, dependiendo de la naturaleza del problema."
   ]
  },
  {
   "cell_type": "markdown",
   "id": "b3605337",
   "metadata": {},
   "source": [
    "#### Matriz de Confusión y Métricas de Evaluación"
   ]
  },
  {
   "cell_type": "markdown",
   "id": "b0c6e54e",
   "metadata": {},
   "source": [
    "- **Matriz de confusión**\n",
    "\n",
    "Una matriz de confusión es una tabla que se utiliza en clasificación para evaluar el rendimiento de un modelo. Esta matriz compara las predicciones del modelo con los valores reales y resume la cantidad de verdaderos positivos (TP), falsos positivos (FP), verdaderos negativos (TN) y falsos negativos (FN).\n",
    "\n",
    "    Verdaderos Positivos (TP): \n",
    "    Casos en los que el modelo predijo positivo y la clase real también es positiva.\n",
    "\n",
    "    Falsos Positivos (FP): \n",
    "    Casos en los que el modelo predijo positivo, pero la clase real es negativa.\n",
    "\n",
    "    Verdaderos Negativos (TN): \n",
    "    Casos en los que el modelo predijo negativo y la clase real también es negativa.\n",
    "\n",
    "    Falsos Negativos (FN): \n",
    "    Casos en los que el modelo predijo negativo, pero la clase real es positiva.\n",
    "\n",
    "- **Exactitud**\n",
    "\n",
    "Proporción de predicciones correctas con respecto al total de predicciones. Es una medida general del rendimiento del modelo.\n",
    "\n",
    "$$ \\frac{TP+TN}{TP+FP+TN+FN} $$\n",
    "\n",
    "- **Precisión**\n",
    "\n",
    "Proporción de instancias positivas predichas correctamente entre todas las instancias positivas predichas.\n",
    "\n",
    "$$ \\frac{TP}{TP+FP} $$\n",
    "\n",
    "- **Tasa de error**\n",
    "\n",
    "Proporción de predicciones incorrectas con respecto al total de predicciones.\n",
    "\n",
    "$$ \\frac{FP+FN}{TP+FP+TN+FN} $$\n",
    "\n",
    "- **Sensibilidad (recall)**\n",
    "\n",
    "Proporción de instancias positivas predichas correctamente entre todas las instancias positivas reales.\n",
    "\n",
    "$$ \\frac{TP}{TP+FN} $$\n",
    "\n",
    "- **Especificidad**\n",
    "\n",
    "Proporción de instancias negativas predichas correctamente entre todas las instancias negativas reales.\n",
    "\n",
    "$$ \\frac{TN}{TN+FP} $$\n",
    "\n",
    "- **Comprensibilidad**\n",
    "\n",
    "Media armónica de precisión y sensibilidad. Es útil cuando hay un desequilibrio entre las clases.\n",
    "\n",
    "$$ \\frac{2 * Presicion * Sensibilidad}{Presicion + Sensibilidad} $$"
   ]
  },
  {
   "cell_type": "markdown",
   "id": "653df079",
   "metadata": {},
   "source": [
    "#### Evaluación del Desempeño"
   ]
  },
  {
   "cell_type": "markdown",
   "id": "c314b4c2",
   "metadata": {},
   "source": [
    "- **Método de Retención (Holdout):**\n",
    "\n",
    "Divide el conjunto de datos en conjuntos de entrenamiento y prueba. El modelo se entrena en el conjunto de entrenamiento y se evalúa en el conjunto de prueba.\n",
    "\n",
    "- **Validación Cruzada (Cross-Validation):**\n",
    "\n",
    "Divide el conjunto de datos en k pliegues (folds). El modelo se entrena k veces, cada vez utilizando k-1 pliegues como conjunto de entrenamiento y el pliegue restante como conjunto de prueba.\n",
    "\n",
    "- **Submuestreo Aleatorio (Random Undersampling):**\n",
    "\n",
    "Reduce el tamaño de la clase mayoritaria al eliminar aleatoriamente ejemplos. Se utiliza en problemas de desequilibrio de clases.\n",
    "\n",
    "- **Bootstrap:**\n",
    "\n",
    "Muestreo con reemplazo. Se generan múltiples conjuntos de datos bootstrap a partir del conjunto de datos original, y el modelo se entrena y evalúa en cada conjunto."
   ]
  },
  {
   "cell_type": "code",
   "execution_count": 21,
   "id": "80e36cae",
   "metadata": {
    "ExecuteTime": {
     "end_time": "2023-11-13T05:55:33.350335Z",
     "start_time": "2023-11-13T05:55:33.282983Z"
    }
   },
   "outputs": [],
   "source": [
    "import seaborn as sns"
   ]
  },
  {
   "cell_type": "markdown",
   "id": "b427b3e1",
   "metadata": {},
   "source": [
    "#### Naive Bayes"
   ]
  },
  {
   "cell_type": "code",
   "execution_count": 22,
   "id": "0988ed62",
   "metadata": {
    "ExecuteTime": {
     "end_time": "2023-11-13T05:55:33.354283Z",
     "start_time": "2023-11-13T05:55:33.351059Z"
    }
   },
   "outputs": [],
   "source": [
    "from sklearn.naive_bayes import MultinomialNB\n",
    "from sklearn.metrics import accuracy_score, precision_score, recall_score, f1_score, confusion_matrix, classification_report\n",
    "from sklearn.model_selection import cross_val_score, StratifiedKFold\n",
    "from sklearn.utils import resample"
   ]
  },
  {
   "cell_type": "code",
   "execution_count": 23,
   "id": "2f450a49",
   "metadata": {
    "ExecuteTime": {
     "end_time": "2023-11-13T05:55:33.366001Z",
     "start_time": "2023-11-13T05:55:33.355081Z"
    }
   },
   "outputs": [
    {
     "data": {
      "text/html": [
       "<style>#sk-container-id-1 {color: black;}#sk-container-id-1 pre{padding: 0;}#sk-container-id-1 div.sk-toggleable {background-color: white;}#sk-container-id-1 label.sk-toggleable__label {cursor: pointer;display: block;width: 100%;margin-bottom: 0;padding: 0.3em;box-sizing: border-box;text-align: center;}#sk-container-id-1 label.sk-toggleable__label-arrow:before {content: \"▸\";float: left;margin-right: 0.25em;color: #696969;}#sk-container-id-1 label.sk-toggleable__label-arrow:hover:before {color: black;}#sk-container-id-1 div.sk-estimator:hover label.sk-toggleable__label-arrow:before {color: black;}#sk-container-id-1 div.sk-toggleable__content {max-height: 0;max-width: 0;overflow: hidden;text-align: left;background-color: #f0f8ff;}#sk-container-id-1 div.sk-toggleable__content pre {margin: 0.2em;color: black;border-radius: 0.25em;background-color: #f0f8ff;}#sk-container-id-1 input.sk-toggleable__control:checked~div.sk-toggleable__content {max-height: 200px;max-width: 100%;overflow: auto;}#sk-container-id-1 input.sk-toggleable__control:checked~label.sk-toggleable__label-arrow:before {content: \"▾\";}#sk-container-id-1 div.sk-estimator input.sk-toggleable__control:checked~label.sk-toggleable__label {background-color: #d4ebff;}#sk-container-id-1 div.sk-label input.sk-toggleable__control:checked~label.sk-toggleable__label {background-color: #d4ebff;}#sk-container-id-1 input.sk-hidden--visually {border: 0;clip: rect(1px 1px 1px 1px);clip: rect(1px, 1px, 1px, 1px);height: 1px;margin: -1px;overflow: hidden;padding: 0;position: absolute;width: 1px;}#sk-container-id-1 div.sk-estimator {font-family: monospace;background-color: #f0f8ff;border: 1px dotted black;border-radius: 0.25em;box-sizing: border-box;margin-bottom: 0.5em;}#sk-container-id-1 div.sk-estimator:hover {background-color: #d4ebff;}#sk-container-id-1 div.sk-parallel-item::after {content: \"\";width: 100%;border-bottom: 1px solid gray;flex-grow: 1;}#sk-container-id-1 div.sk-label:hover label.sk-toggleable__label {background-color: #d4ebff;}#sk-container-id-1 div.sk-serial::before {content: \"\";position: absolute;border-left: 1px solid gray;box-sizing: border-box;top: 0;bottom: 0;left: 50%;z-index: 0;}#sk-container-id-1 div.sk-serial {display: flex;flex-direction: column;align-items: center;background-color: white;padding-right: 0.2em;padding-left: 0.2em;position: relative;}#sk-container-id-1 div.sk-item {position: relative;z-index: 1;}#sk-container-id-1 div.sk-parallel {display: flex;align-items: stretch;justify-content: center;background-color: white;position: relative;}#sk-container-id-1 div.sk-item::before, #sk-container-id-1 div.sk-parallel-item::before {content: \"\";position: absolute;border-left: 1px solid gray;box-sizing: border-box;top: 0;bottom: 0;left: 50%;z-index: -1;}#sk-container-id-1 div.sk-parallel-item {display: flex;flex-direction: column;z-index: 1;position: relative;background-color: white;}#sk-container-id-1 div.sk-parallel-item:first-child::after {align-self: flex-end;width: 50%;}#sk-container-id-1 div.sk-parallel-item:last-child::after {align-self: flex-start;width: 50%;}#sk-container-id-1 div.sk-parallel-item:only-child::after {width: 0;}#sk-container-id-1 div.sk-dashed-wrapped {border: 1px dashed gray;margin: 0 0.4em 0.5em 0.4em;box-sizing: border-box;padding-bottom: 0.4em;background-color: white;}#sk-container-id-1 div.sk-label label {font-family: monospace;font-weight: bold;display: inline-block;line-height: 1.2em;}#sk-container-id-1 div.sk-label-container {text-align: center;}#sk-container-id-1 div.sk-container {/* jupyter's `normalize.less` sets `[hidden] { display: none; }` but bootstrap.min.css set `[hidden] { display: none !important; }` so we also need the `!important` here to be able to override the default hidden behavior on the sphinx rendered scikit-learn.org. See: https://github.com/scikit-learn/scikit-learn/issues/21755 */display: inline-block !important;position: relative;}#sk-container-id-1 div.sk-text-repr-fallback {display: none;}</style><div id=\"sk-container-id-1\" class=\"sk-top-container\"><div class=\"sk-text-repr-fallback\"><pre>MultinomialNB()</pre><b>In a Jupyter environment, please rerun this cell to show the HTML representation or trust the notebook. <br />On GitHub, the HTML representation is unable to render, please try loading this page with nbviewer.org.</b></div><div class=\"sk-container\" hidden><div class=\"sk-item\"><div class=\"sk-estimator sk-toggleable\"><input class=\"sk-toggleable__control sk-hidden--visually\" id=\"sk-estimator-id-1\" type=\"checkbox\" checked><label for=\"sk-estimator-id-1\" class=\"sk-toggleable__label sk-toggleable__label-arrow\">MultinomialNB</label><div class=\"sk-toggleable__content\"><pre>MultinomialNB()</pre></div></div></div></div></div>"
      ],
      "text/plain": [
       "MultinomialNB()"
      ]
     },
     "execution_count": 23,
     "metadata": {},
     "output_type": "execute_result"
    }
   ],
   "source": [
    "naive_bayes_classifier = MultinomialNB()\n",
    "naive_bayes_classifier.fit(X, y_train)"
   ]
  },
  {
   "cell_type": "code",
   "execution_count": 24,
   "id": "a8150c1d",
   "metadata": {
    "ExecuteTime": {
     "end_time": "2023-11-13T05:55:33.373805Z",
     "start_time": "2023-11-13T05:55:33.366947Z"
    }
   },
   "outputs": [],
   "source": [
    "y_pred = naive_bayes_classifier.predict(Y)"
   ]
  },
  {
   "cell_type": "code",
   "execution_count": 25,
   "id": "b00328da",
   "metadata": {
    "ExecuteTime": {
     "end_time": "2023-11-13T05:55:33.377281Z",
     "start_time": "2023-11-13T05:55:33.374588Z"
    }
   },
   "outputs": [
    {
     "name": "stdout",
     "output_type": "stream",
     "text": [
      "Exactitud: 0.97\n"
     ]
    }
   ],
   "source": [
    "accuracy = accuracy_score(y_test, y_pred)\n",
    "print(f\"Exactitud: {accuracy:.2f}\")"
   ]
  },
  {
   "cell_type": "code",
   "execution_count": 26,
   "id": "4823806c",
   "metadata": {
    "ExecuteTime": {
     "end_time": "2023-11-13T05:55:33.381609Z",
     "start_time": "2023-11-13T05:55:33.377951Z"
    }
   },
   "outputs": [
    {
     "name": "stdout",
     "output_type": "stream",
     "text": [
      "Precisión: 0.99\n"
     ]
    }
   ],
   "source": [
    "precision = precision_score(y_test, y_pred)\n",
    "print(f\"Precisión: {precision:.2f}\")"
   ]
  },
  {
   "cell_type": "code",
   "execution_count": 27,
   "id": "d1039447",
   "metadata": {
    "ExecuteTime": {
     "end_time": "2023-11-13T05:55:33.383860Z",
     "start_time": "2023-11-13T05:55:33.382318Z"
    }
   },
   "outputs": [
    {
     "name": "stdout",
     "output_type": "stream",
     "text": [
      "Tasa de Error: 0.03\n"
     ]
    }
   ],
   "source": [
    "error_rate = 1 - accuracy\n",
    "print(f\"Tasa de Error: {error_rate:.2f}\")"
   ]
  },
  {
   "cell_type": "code",
   "execution_count": 28,
   "id": "eeb38bbe",
   "metadata": {
    "ExecuteTime": {
     "end_time": "2023-11-13T05:55:33.391738Z",
     "start_time": "2023-11-13T05:55:33.388223Z"
    }
   },
   "outputs": [
    {
     "name": "stdout",
     "output_type": "stream",
     "text": [
      "Sensibilidad (Recall): 0.95\n"
     ]
    }
   ],
   "source": [
    "recall = recall_score(y_test, y_pred)\n",
    "print(f\"Sensibilidad (Recall): {recall:.2f}\")"
   ]
  },
  {
   "cell_type": "code",
   "execution_count": 29,
   "id": "4d7e184b",
   "metadata": {
    "ExecuteTime": {
     "end_time": "2023-11-13T05:55:33.396149Z",
     "start_time": "2023-11-13T05:55:33.392374Z"
    }
   },
   "outputs": [
    {
     "name": "stdout",
     "output_type": "stream",
     "text": [
      "Especificidad: 0.99\n"
     ]
    }
   ],
   "source": [
    "specificity = confusion_matrix(y_test, y_pred)[0, 0] / (confusion_matrix(y_test, y_pred)[0, 0] + confusion_matrix(y_test, y_pred)[0, 1])\n",
    "print(f\"Especificidad: {specificity:.2f}\")"
   ]
  },
  {
   "cell_type": "code",
   "execution_count": 30,
   "id": "8e2e94fb",
   "metadata": {
    "ExecuteTime": {
     "end_time": "2023-11-13T05:55:33.400342Z",
     "start_time": "2023-11-13T05:55:33.396785Z"
    }
   },
   "outputs": [
    {
     "name": "stdout",
     "output_type": "stream",
     "text": [
      "F1 Score: 0.97\n"
     ]
    }
   ],
   "source": [
    "f1 = f1_score(y_test, y_pred)\n",
    "print(f\"F1 Score: {f1:.2f}\")"
   ]
  },
  {
   "cell_type": "code",
   "execution_count": 31,
   "id": "f37448e3",
   "metadata": {
    "ExecuteTime": {
     "end_time": "2023-11-13T05:55:33.460540Z",
     "start_time": "2023-11-13T05:55:33.401101Z"
    }
   },
   "outputs": [
    {
     "data": {
      "image/png": "[encoded data removed]",
      "text/plain": [
       "<Figure size 800x600 with 2 Axes>"
      ]
     },
     "metadata": {},
     "output_type": "display_data"
    }
   ],
   "source": [
    "# Calcular la matriz de confusión\n",
    "conf_matrix = confusion_matrix(y_test, y_pred)\n",
    "\n",
    "# Visualizar la matriz de confusión con seaborn\n",
    "plt.figure(figsize=(8, 6))\n",
    "sns.heatmap(conf_matrix, annot=True, fmt='d', cmap='Blues', xticklabels=['0', '1'], yticklabels=['0', '1'])\n",
    "plt.title('Matriz de Confusión')\n",
    "plt.xlabel('Predicción')\n",
    "plt.ylabel('Real')\n",
    "plt.show()"
   ]
  },
  {
   "cell_type": "code",
   "execution_count": 32,
   "id": "868b368b",
   "metadata": {
    "ExecuteTime": {
     "end_time": "2023-11-13T05:55:33.473244Z",
     "start_time": "2023-11-13T05:55:33.461995Z"
    }
   },
   "outputs": [
    {
     "name": "stdout",
     "output_type": "stream",
     "text": [
      "              precision    recall  f1-score   support\n",
      "\n",
      "           0       0.95      0.99      0.97      2382\n",
      "           1       0.99      0.95      0.97      2618\n",
      "\n",
      "    accuracy                           0.97      5000\n",
      "   macro avg       0.97      0.97      0.97      5000\n",
      "weighted avg       0.97      0.97      0.97      5000\n",
      "\n"
     ]
    }
   ],
   "source": [
    "print(classification_report(y_test, y_pred))"
   ]
  },
  {
   "cell_type": "code",
   "execution_count": 33,
   "id": "7ac3360f",
   "metadata": {
    "ExecuteTime": {
     "end_time": "2023-11-13T05:55:33.520739Z",
     "start_time": "2023-11-13T05:55:33.474616Z"
    }
   },
   "outputs": [
    {
     "name": "stdout",
     "output_type": "stream",
     "text": [
      "\n",
      " (Validación Cruzada): 0.98\n"
     ]
    }
   ],
   "source": [
    "cv_scores = cross_val_score(naive_bayes_classifier, Y, y_pred, cv=5, scoring='accuracy')\n",
    "print(f\"\\n (Validación Cruzada): {np.mean(cv_scores):.2f}\")"
   ]
  },
  {
   "cell_type": "code",
   "execution_count": 34,
   "id": "faa93338",
   "metadata": {
    "ExecuteTime": {
     "end_time": "2023-11-13T05:55:33.533384Z",
     "start_time": "2023-11-13T05:55:33.522381Z"
    }
   },
   "outputs": [
    {
     "name": "stdout",
     "output_type": "stream",
     "text": [
      "(Submuestreo Aleatorio): 0.75\n",
      "Informe de Clasificación (Submuestreo Aleatorio):\n",
      "              precision    recall  f1-score   support\n",
      "\n",
      "           0       0.82      0.75      0.78        12\n",
      "           1       0.67      0.75      0.71         8\n",
      "\n",
      "    accuracy                           0.75        20\n",
      "   macro avg       0.74      0.75      0.74        20\n",
      "weighted avg       0.76      0.75      0.75        20\n",
      "\n"
     ]
    }
   ],
   "source": [
    "X_resampled, y_resampled = resample(Y, y_pred, n_samples=100, random_state=42)  # Número arbitrario de ejemplos resampleados\n",
    "X_train_resampled, X_test_resampled, y_train_resampled, y_test_resampled = train_test_split(X_resampled, y_resampled, test_size=0.2, random_state=42)\n",
    "naive_bayes_classifier.fit(X_train_resampled, y_train_resampled)\n",
    "y_pred_resampled = naive_bayes_classifier.predict(X_test_resampled)\n",
    "accuracy_resampled = accuracy_score(y_test_resampled, y_pred_resampled)\n",
    "print(f\"(Submuestreo Aleatorio): {accuracy_resampled:.2f}\")\n",
    "print(\"Informe de Clasificación (Submuestreo Aleatorio):\")\n",
    "print(classification_report(y_test_resampled, y_pred_resampled))"
   ]
  },
  {
   "cell_type": "code",
   "execution_count": 35,
   "id": "43b54013",
   "metadata": {
    "ExecuteTime": {
     "end_time": "2023-11-13T05:55:34.465806Z",
     "start_time": "2023-11-13T05:55:33.535313Z"
    }
   },
   "outputs": [
    {
     "name": "stdout",
     "output_type": "stream",
     "text": [
      "Exactitud promedio (Bootstrap): 0.99\n",
      "Puntuaciones Bootstrap:\n",
      "[0.987, 0.987, 0.987, 0.987, 0.987, 0.987, 0.987, 0.987, 0.987, 0.987, 0.987, 0.987, 0.987, 0.987, 0.987, 0.987, 0.987, 0.987, 0.987, 0.987, 0.987, 0.987, 0.987, 0.987, 0.987, 0.987, 0.987, 0.987, 0.987, 0.987, 0.987, 0.987, 0.987, 0.987, 0.987, 0.987, 0.987, 0.987, 0.987, 0.987, 0.987, 0.987, 0.987, 0.987, 0.987, 0.987, 0.987, 0.987, 0.987, 0.987, 0.987, 0.987, 0.987, 0.987, 0.987, 0.987, 0.987, 0.987, 0.987, 0.987, 0.987, 0.987, 0.987, 0.987, 0.987, 0.987, 0.987, 0.987, 0.987, 0.987, 0.987, 0.987, 0.987, 0.987, 0.987, 0.987, 0.987, 0.987, 0.987, 0.987, 0.987, 0.987, 0.987, 0.987, 0.987, 0.987, 0.987, 0.987, 0.987, 0.987, 0.987, 0.987, 0.987, 0.987, 0.987, 0.987, 0.987, 0.987, 0.987, 0.987]\n"
     ]
    }
   ],
   "source": [
    "bootstrap_scores = []\n",
    "num_bootstrap_samples = 100  # Número arbitrario de muestras bootstrap\n",
    "for _ in range(num_bootstrap_samples):\n",
    "    X_bootstrap, y_bootstrap = resample(Y, y_pred, random_state=42)\n",
    "    X_train_bootstrap, X_test_bootstrap, y_train_bootstrap, y_test_bootstrap = train_test_split(X_bootstrap, y_bootstrap, test_size=0.2, random_state=42)\n",
    "    naive_bayes_classifier.fit(X_train_bootstrap, y_train_bootstrap)\n",
    "    y_pred_bootstrap = naive_bayes_classifier.predict(X_test_bootstrap)\n",
    "    accuracy_bootstrap = accuracy_score(y_test_bootstrap, y_pred_bootstrap)\n",
    "    bootstrap_scores.append(accuracy_bootstrap)\n",
    "\n",
    "print(f\"Exactitud promedio (Bootstrap): {sum(bootstrap_scores) / num_bootstrap_samples:.2f}\")\n",
    "print(\"Puntuaciones Bootstrap:\")\n",
    "print(bootstrap_scores)"
   ]
  },
  {
   "cell_type": "markdown",
   "id": "7c442aca",
   "metadata": {},
   "source": [
    "#### SVM"
   ]
  },
  {
   "cell_type": "code",
   "execution_count": 36,
   "id": "15462dda",
   "metadata": {
    "ExecuteTime": {
     "end_time": "2023-11-13T05:55:34.468180Z",
     "start_time": "2023-11-13T05:55:34.466724Z"
    }
   },
   "outputs": [],
   "source": [
    "from sklearn.svm import SVC"
   ]
  },
  {
   "cell_type": "code",
   "execution_count": 37,
   "id": "719706a5",
   "metadata": {
    "ExecuteTime": {
     "end_time": "2023-11-13T05:55:55.277471Z",
     "start_time": "2023-11-13T05:55:34.469269Z"
    }
   },
   "outputs": [
    {
     "data": {
      "text/html": [
       "<style>#sk-container-id-2 {color: black;}#sk-container-id-2 pre{padding: 0;}#sk-container-id-2 div.sk-toggleable {background-color: white;}#sk-container-id-2 label.sk-toggleable__label {cursor: pointer;display: block;width: 100%;margin-bottom: 0;padding: 0.3em;box-sizing: border-box;text-align: center;}#sk-container-id-2 label.sk-toggleable__label-arrow:before {content: \"▸\";float: left;margin-right: 0.25em;color: #696969;}#sk-container-id-2 label.sk-toggleable__label-arrow:hover:before {color: black;}#sk-container-id-2 div.sk-estimator:hover label.sk-toggleable__label-arrow:before {color: black;}#sk-container-id-2 div.sk-toggleable__content {max-height: 0;max-width: 0;overflow: hidden;text-align: left;background-color: #f0f8ff;}#sk-container-id-2 div.sk-toggleable__content pre {margin: 0.2em;color: black;border-radius: 0.25em;background-color: #f0f8ff;}#sk-container-id-2 input.sk-toggleable__control:checked~div.sk-toggleable__content {max-height: 200px;max-width: 100%;overflow: auto;}#sk-container-id-2 input.sk-toggleable__control:checked~label.sk-toggleable__label-arrow:before {content: \"▾\";}#sk-container-id-2 div.sk-estimator input.sk-toggleable__control:checked~label.sk-toggleable__label {background-color: #d4ebff;}#sk-container-id-2 div.sk-label input.sk-toggleable__control:checked~label.sk-toggleable__label {background-color: #d4ebff;}#sk-container-id-2 input.sk-hidden--visually {border: 0;clip: rect(1px 1px 1px 1px);clip: rect(1px, 1px, 1px, 1px);height: 1px;margin: -1px;overflow: hidden;padding: 0;position: absolute;width: 1px;}#sk-container-id-2 div.sk-estimator {font-family: monospace;background-color: #f0f8ff;border: 1px dotted black;border-radius: 0.25em;box-sizing: border-box;margin-bottom: 0.5em;}#sk-container-id-2 div.sk-estimator:hover {background-color: #d4ebff;}#sk-container-id-2 div.sk-parallel-item::after {content: \"\";width: 100%;border-bottom: 1px solid gray;flex-grow: 1;}#sk-container-id-2 div.sk-label:hover label.sk-toggleable__label {background-color: #d4ebff;}#sk-container-id-2 div.sk-serial::before {content: \"\";position: absolute;border-left: 1px solid gray;box-sizing: border-box;top: 0;bottom: 0;left: 50%;z-index: 0;}#sk-container-id-2 div.sk-serial {display: flex;flex-direction: column;align-items: center;background-color: white;padding-right: 0.2em;padding-left: 0.2em;position: relative;}#sk-container-id-2 div.sk-item {position: relative;z-index: 1;}#sk-container-id-2 div.sk-parallel {display: flex;align-items: stretch;justify-content: center;background-color: white;position: relative;}#sk-container-id-2 div.sk-item::before, #sk-container-id-2 div.sk-parallel-item::before {content: \"\";position: absolute;border-left: 1px solid gray;box-sizing: border-box;top: 0;bottom: 0;left: 50%;z-index: -1;}#sk-container-id-2 div.sk-parallel-item {display: flex;flex-direction: column;z-index: 1;position: relative;background-color: white;}#sk-container-id-2 div.sk-parallel-item:first-child::after {align-self: flex-end;width: 50%;}#sk-container-id-2 div.sk-parallel-item:last-child::after {align-self: flex-start;width: 50%;}#sk-container-id-2 div.sk-parallel-item:only-child::after {width: 0;}#sk-container-id-2 div.sk-dashed-wrapped {border: 1px dashed gray;margin: 0 0.4em 0.5em 0.4em;box-sizing: border-box;padding-bottom: 0.4em;background-color: white;}#sk-container-id-2 div.sk-label label {font-family: monospace;font-weight: bold;display: inline-block;line-height: 1.2em;}#sk-container-id-2 div.sk-label-container {text-align: center;}#sk-container-id-2 div.sk-container {/* jupyter's `normalize.less` sets `[hidden] { display: none; }` but bootstrap.min.css set `[hidden] { display: none !important; }` so we also need the `!important` here to be able to override the default hidden behavior on the sphinx rendered scikit-learn.org. See: https://github.com/scikit-learn/scikit-learn/issues/21755 */display: inline-block !important;position: relative;}#sk-container-id-2 div.sk-text-repr-fallback {display: none;}</style><div id=\"sk-container-id-2\" class=\"sk-top-container\"><div class=\"sk-text-repr-fallback\"><pre>SVC(kernel=&#x27;linear&#x27;)</pre><b>In a Jupyter environment, please rerun this cell to show the HTML representation or trust the notebook. <br />On GitHub, the HTML representation is unable to render, please try loading this page with nbviewer.org.</b></div><div class=\"sk-container\" hidden><div class=\"sk-item\"><div class=\"sk-estimator sk-toggleable\"><input class=\"sk-toggleable__control sk-hidden--visually\" id=\"sk-estimator-id-2\" type=\"checkbox\" checked><label for=\"sk-estimator-id-2\" class=\"sk-toggleable__label sk-toggleable__label-arrow\">SVC</label><div class=\"sk-toggleable__content\"><pre>SVC(kernel=&#x27;linear&#x27;)</pre></div></div></div></div></div>"
      ],
      "text/plain": [
       "SVC(kernel='linear')"
      ]
     },
     "execution_count": 37,
     "metadata": {},
     "output_type": "execute_result"
    }
   ],
   "source": [
    "svm_classifier = SVC(kernel='linear', C=1.0)  # SVM con kernel lineal\n",
    "svm_classifier.fit(X, y_train)"
   ]
  },
  {
   "cell_type": "code",
   "execution_count": 38,
   "id": "9646424f",
   "metadata": {
    "ExecuteTime": {
     "end_time": "2023-11-13T05:55:59.865786Z",
     "start_time": "2023-11-13T05:55:55.278181Z"
    }
   },
   "outputs": [],
   "source": [
    "y_pred = svm_classifier.predict(Y)"
   ]
  },
  {
   "cell_type": "code",
   "execution_count": 39,
   "id": "b60d9029",
   "metadata": {
    "ExecuteTime": {
     "end_time": "2023-11-13T05:55:59.868633Z",
     "start_time": "2023-11-13T05:55:59.866502Z"
    }
   },
   "outputs": [
    {
     "name": "stdout",
     "output_type": "stream",
     "text": [
      "Exactitud: 0.97\n"
     ]
    }
   ],
   "source": [
    "accuracy = accuracy_score(y_test, y_pred)\n",
    "print(f\"Exactitud: {accuracy:.2f}\")"
   ]
  },
  {
   "cell_type": "code",
   "execution_count": 40,
   "id": "7d3fe8b4",
   "metadata": {
    "ExecuteTime": {
     "end_time": "2023-11-13T05:55:59.872393Z",
     "start_time": "2023-11-13T05:55:59.869260Z"
    }
   },
   "outputs": [
    {
     "name": "stdout",
     "output_type": "stream",
     "text": [
      "Precisión: 0.97\n"
     ]
    }
   ],
   "source": [
    "precision = precision_score(y_test, y_pred)\n",
    "print(f\"Precisión: {precision:.2f}\")"
   ]
  },
  {
   "cell_type": "code",
   "execution_count": 41,
   "id": "69e0f45d",
   "metadata": {
    "ExecuteTime": {
     "end_time": "2023-11-13T05:55:59.874308Z",
     "start_time": "2023-11-13T05:55:59.873065Z"
    }
   },
   "outputs": [
    {
     "name": "stdout",
     "output_type": "stream",
     "text": [
      "Tasa de Error: 0.03\n"
     ]
    }
   ],
   "source": [
    "error_rate = 1 - accuracy\n",
    "print(f\"Tasa de Error: {error_rate:.2f}\")"
   ]
  },
  {
   "cell_type": "code",
   "execution_count": 42,
   "id": "0b89ab90",
   "metadata": {
    "ExecuteTime": {
     "end_time": "2023-11-13T05:55:59.878414Z",
     "start_time": "2023-11-13T05:55:59.875044Z"
    }
   },
   "outputs": [
    {
     "name": "stdout",
     "output_type": "stream",
     "text": [
      "Sensibilidad (Recall): 0.97\n"
     ]
    }
   ],
   "source": [
    "recall = recall_score(y_test, y_pred)\n",
    "print(f\"Sensibilidad (Recall): {recall:.2f}\")"
   ]
  },
  {
   "cell_type": "code",
   "execution_count": 43,
   "id": "1aee6483",
   "metadata": {
    "ExecuteTime": {
     "end_time": "2023-11-13T05:55:59.883129Z",
     "start_time": "2023-11-13T05:55:59.879125Z"
    }
   },
   "outputs": [
    {
     "name": "stdout",
     "output_type": "stream",
     "text": [
      "Especificidad: 0.96\n"
     ]
    }
   ],
   "source": [
    "specificity = confusion_matrix(y_test, y_pred)[0, 0] / (confusion_matrix(y_test, y_pred)[0, 0] + confusion_matrix(y_test, y_pred)[0, 1])\n",
    "print(f\"Especificidad: {specificity:.2f}\")"
   ]
  },
  {
   "cell_type": "code",
   "execution_count": 44,
   "id": "c7dca112",
   "metadata": {
    "ExecuteTime": {
     "end_time": "2023-11-13T05:55:59.887583Z",
     "start_time": "2023-11-13T05:55:59.883916Z"
    }
   },
   "outputs": [
    {
     "name": "stdout",
     "output_type": "stream",
     "text": [
      "F1 Score: 0.97\n"
     ]
    }
   ],
   "source": [
    "f1 = f1_score(y_test, y_pred)\n",
    "print(f\"F1 Score: {f1:.2f}\")"
   ]
  },
  {
   "cell_type": "code",
   "execution_count": 45,
   "id": "23fe2434",
   "metadata": {
    "ExecuteTime": {
     "end_time": "2023-11-13T05:55:59.947608Z",
     "start_time": "2023-11-13T05:55:59.888391Z"
    }
   },
   "outputs": [
    {
     "data": {
      "image/png": "[encoded data removed]",
      "text/plain": [
       "<Figure size 800x600 with 2 Axes>"
      ]
     },
     "metadata": {},
     "output_type": "display_data"
    }
   ],
   "source": [
    "# Calcular la matriz de confusión\n",
    "conf_matrix = confusion_matrix(y_test, y_pred)\n",
    "\n",
    "# Visualizar la matriz de confusión con seaborn\n",
    "plt.figure(figsize=(8, 6))\n",
    "sns.heatmap(conf_matrix, annot=True, fmt='d', cmap='Blues', xticklabels=['0', '1'], yticklabels=['0', '1'])\n",
    "plt.title('Matriz de Confusión')\n",
    "plt.xlabel('Predicción')\n",
    "plt.ylabel('Real')\n",
    "plt.show()"
   ]
  },
  {
   "cell_type": "code",
   "execution_count": 46,
   "id": "bb97b04f",
   "metadata": {
    "ExecuteTime": {
     "end_time": "2023-11-13T05:55:59.958226Z",
     "start_time": "2023-11-13T05:55:59.948862Z"
    }
   },
   "outputs": [
    {
     "name": "stdout",
     "output_type": "stream",
     "text": [
      "              precision    recall  f1-score   support\n",
      "\n",
      "           0       0.97      0.96      0.96      2382\n",
      "           1       0.97      0.97      0.97      2618\n",
      "\n",
      "    accuracy                           0.97      5000\n",
      "   macro avg       0.97      0.97      0.97      5000\n",
      "weighted avg       0.97      0.97      0.97      5000\n",
      "\n"
     ]
    }
   ],
   "source": [
    "print(classification_report(y_test, y_pred))"
   ]
  },
  {
   "cell_type": "code",
   "execution_count": 47,
   "id": "bef4199f",
   "metadata": {
    "ExecuteTime": {
     "end_time": "2023-11-13T05:56:12.597069Z",
     "start_time": "2023-11-13T05:55:59.959043Z"
    }
   },
   "outputs": [
    {
     "name": "stdout",
     "output_type": "stream",
     "text": [
      "\n",
      " (Validación Cruzada): 0.95\n"
     ]
    }
   ],
   "source": [
    "cv_scores = cross_val_score(svm_classifier, Y, y_pred, cv=5, scoring='accuracy')\n",
    "print(f\"\\n (Validación Cruzada): {np.mean(cv_scores):.2f}\")"
   ]
  },
  {
   "cell_type": "code",
   "execution_count": 48,
   "id": "1e42ca8e",
   "metadata": {
    "ExecuteTime": {
     "end_time": "2023-11-13T05:56:12.608203Z",
     "start_time": "2023-11-13T05:56:12.597764Z"
    }
   },
   "outputs": [
    {
     "name": "stdout",
     "output_type": "stream",
     "text": [
      "(Submuestreo Aleatorio): 0.80\n",
      "Informe de Clasificación (Submuestreo Aleatorio):\n",
      "              precision    recall  f1-score   support\n",
      "\n",
      "           0       0.79      0.92      0.85        12\n",
      "           1       0.83      0.62      0.71         8\n",
      "\n",
      "    accuracy                           0.80        20\n",
      "   macro avg       0.81      0.77      0.78        20\n",
      "weighted avg       0.80      0.80      0.79        20\n",
      "\n"
     ]
    }
   ],
   "source": [
    "X_resampled, y_resampled = resample(Y, y_pred, n_samples=100, random_state=42)  # Número arbitrario de ejemplos resampleados\n",
    "X_train_resampled, X_test_resampled, y_train_resampled, y_test_resampled = train_test_split(X_resampled, y_resampled, test_size=0.2, random_state=42)\n",
    "svm_classifier.fit(X_train_resampled, y_train_resampled)\n",
    "y_pred_resampled = svm_classifier.predict(X_test_resampled)\n",
    "accuracy_resampled = accuracy_score(y_test_resampled, y_pred_resampled)\n",
    "print(f\"(Submuestreo Aleatorio): {accuracy_resampled:.2f}\")\n",
    "print(\"Informe de Clasificación (Submuestreo Aleatorio):\")\n",
    "print(classification_report(y_test_resampled, y_pred_resampled))"
   ]
  },
  {
   "cell_type": "code",
   "execution_count": 49,
   "id": "4fe04f70",
   "metadata": {
    "ExecuteTime": {
     "end_time": "2023-11-13T06:00:13.142222Z",
     "start_time": "2023-11-13T05:56:12.609009Z"
    }
   },
   "outputs": [
    {
     "name": "stdout",
     "output_type": "stream",
     "text": [
      "Exactitud promedio (Bootstrap): 0.97\n",
      "Puntuaciones Bootstrap:\n",
      "[0.971, 0.971, 0.971, 0.971, 0.971, 0.971, 0.971, 0.971, 0.971, 0.971, 0.971, 0.971, 0.971, 0.971, 0.971, 0.971, 0.971, 0.971, 0.971, 0.971, 0.971, 0.971, 0.971, 0.971, 0.971, 0.971, 0.971, 0.971, 0.971, 0.971, 0.971, 0.971, 0.971, 0.971, 0.971, 0.971, 0.971, 0.971, 0.971, 0.971, 0.971, 0.971, 0.971, 0.971, 0.971, 0.971, 0.971, 0.971, 0.971, 0.971, 0.971, 0.971, 0.971, 0.971, 0.971, 0.971, 0.971, 0.971, 0.971, 0.971, 0.971, 0.971, 0.971, 0.971, 0.971, 0.971, 0.971, 0.971, 0.971, 0.971, 0.971, 0.971, 0.971, 0.971, 0.971, 0.971, 0.971, 0.971, 0.971, 0.971, 0.971, 0.971, 0.971, 0.971, 0.971, 0.971, 0.971, 0.971, 0.971, 0.971, 0.971, 0.971, 0.971, 0.971, 0.971, 0.971, 0.971, 0.971, 0.971, 0.971]\n"
     ]
    }
   ],
   "source": [
    "bootstrap_scores = []\n",
    "num_bootstrap_samples = 100  # Número arbitrario de muestras bootstrap\n",
    "for _ in range(num_bootstrap_samples):\n",
    "    X_bootstrap, y_bootstrap = resample(Y, y_pred, random_state=42)\n",
    "    X_train_bootstrap, X_test_bootstrap, y_train_bootstrap, y_test_bootstrap = train_test_split(X_bootstrap, y_bootstrap, test_size=0.2, random_state=42)\n",
    "    svm_classifier.fit(X_train_bootstrap, y_train_bootstrap)\n",
    "    y_pred_bootstrap = svm_classifier.predict(X_test_bootstrap)\n",
    "    accuracy_bootstrap = accuracy_score(y_test_bootstrap, y_pred_bootstrap)\n",
    "    bootstrap_scores.append(accuracy_bootstrap)\n",
    "\n",
    "print(f\"Exactitud promedio (Bootstrap): {sum(bootstrap_scores) / num_bootstrap_samples:.2f}\")\n",
    "print(\"Puntuaciones Bootstrap:\")\n",
    "print(bootstrap_scores)"
   ]
  },
  {
   "cell_type": "markdown",
   "id": "9ac39de6",
   "metadata": {},
   "source": [
    "#### Árboles de decisión"
   ]
  },
  {
   "cell_type": "code",
   "execution_count": 50,
   "id": "7be8d976",
   "metadata": {
    "ExecuteTime": {
     "end_time": "2023-11-13T06:00:13.144383Z",
     "start_time": "2023-11-13T06:00:13.143008Z"
    }
   },
   "outputs": [],
   "source": [
    "from sklearn.tree import DecisionTreeClassifier"
   ]
  },
  {
   "cell_type": "code",
   "execution_count": 51,
   "id": "f41315ae",
   "metadata": {
    "ExecuteTime": {
     "end_time": "2023-11-13T06:00:16.915818Z",
     "start_time": "2023-11-13T06:00:13.144967Z"
    }
   },
   "outputs": [
    {
     "data": {
      "text/html": [
       "<style>#sk-container-id-3 {color: black;}#sk-container-id-3 pre{padding: 0;}#sk-container-id-3 div.sk-toggleable {background-color: white;}#sk-container-id-3 label.sk-toggleable__label {cursor: pointer;display: block;width: 100%;margin-bottom: 0;padding: 0.3em;box-sizing: border-box;text-align: center;}#sk-container-id-3 label.sk-toggleable__label-arrow:before {content: \"▸\";float: left;margin-right: 0.25em;color: #696969;}#sk-container-id-3 label.sk-toggleable__label-arrow:hover:before {color: black;}#sk-container-id-3 div.sk-estimator:hover label.sk-toggleable__label-arrow:before {color: black;}#sk-container-id-3 div.sk-toggleable__content {max-height: 0;max-width: 0;overflow: hidden;text-align: left;background-color: #f0f8ff;}#sk-container-id-3 div.sk-toggleable__content pre {margin: 0.2em;color: black;border-radius: 0.25em;background-color: #f0f8ff;}#sk-container-id-3 input.sk-toggleable__control:checked~div.sk-toggleable__content {max-height: 200px;max-width: 100%;overflow: auto;}#sk-container-id-3 input.sk-toggleable__control:checked~label.sk-toggleable__label-arrow:before {content: \"▾\";}#sk-container-id-3 div.sk-estimator input.sk-toggleable__control:checked~label.sk-toggleable__label {background-color: #d4ebff;}#sk-container-id-3 div.sk-label input.sk-toggleable__control:checked~label.sk-toggleable__label {background-color: #d4ebff;}#sk-container-id-3 input.sk-hidden--visually {border: 0;clip: rect(1px 1px 1px 1px);clip: rect(1px, 1px, 1px, 1px);height: 1px;margin: -1px;overflow: hidden;padding: 0;position: absolute;width: 1px;}#sk-container-id-3 div.sk-estimator {font-family: monospace;background-color: #f0f8ff;border: 1px dotted black;border-radius: 0.25em;box-sizing: border-box;margin-bottom: 0.5em;}#sk-container-id-3 div.sk-estimator:hover {background-color: #d4ebff;}#sk-container-id-3 div.sk-parallel-item::after {content: \"\";width: 100%;border-bottom: 1px solid gray;flex-grow: 1;}#sk-container-id-3 div.sk-label:hover label.sk-toggleable__label {background-color: #d4ebff;}#sk-container-id-3 div.sk-serial::before {content: \"\";position: absolute;border-left: 1px solid gray;box-sizing: border-box;top: 0;bottom: 0;left: 50%;z-index: 0;}#sk-container-id-3 div.sk-serial {display: flex;flex-direction: column;align-items: center;background-color: white;padding-right: 0.2em;padding-left: 0.2em;position: relative;}#sk-container-id-3 div.sk-item {position: relative;z-index: 1;}#sk-container-id-3 div.sk-parallel {display: flex;align-items: stretch;justify-content: center;background-color: white;position: relative;}#sk-container-id-3 div.sk-item::before, #sk-container-id-3 div.sk-parallel-item::before {content: \"\";position: absolute;border-left: 1px solid gray;box-sizing: border-box;top: 0;bottom: 0;left: 50%;z-index: -1;}#sk-container-id-3 div.sk-parallel-item {display: flex;flex-direction: column;z-index: 1;position: relative;background-color: white;}#sk-container-id-3 div.sk-parallel-item:first-child::after {align-self: flex-end;width: 50%;}#sk-container-id-3 div.sk-parallel-item:last-child::after {align-self: flex-start;width: 50%;}#sk-container-id-3 div.sk-parallel-item:only-child::after {width: 0;}#sk-container-id-3 div.sk-dashed-wrapped {border: 1px dashed gray;margin: 0 0.4em 0.5em 0.4em;box-sizing: border-box;padding-bottom: 0.4em;background-color: white;}#sk-container-id-3 div.sk-label label {font-family: monospace;font-weight: bold;display: inline-block;line-height: 1.2em;}#sk-container-id-3 div.sk-label-container {text-align: center;}#sk-container-id-3 div.sk-container {/* jupyter's `normalize.less` sets `[hidden] { display: none; }` but bootstrap.min.css set `[hidden] { display: none !important; }` so we also need the `!important` here to be able to override the default hidden behavior on the sphinx rendered scikit-learn.org. See: https://github.com/scikit-learn/scikit-learn/issues/21755 */display: inline-block !important;position: relative;}#sk-container-id-3 div.sk-text-repr-fallback {display: none;}</style><div id=\"sk-container-id-3\" class=\"sk-top-container\"><div class=\"sk-text-repr-fallback\"><pre>DecisionTreeClassifier(random_state=42)</pre><b>In a Jupyter environment, please rerun this cell to show the HTML representation or trust the notebook. <br />On GitHub, the HTML representation is unable to render, please try loading this page with nbviewer.org.</b></div><div class=\"sk-container\" hidden><div class=\"sk-item\"><div class=\"sk-estimator sk-toggleable\"><input class=\"sk-toggleable__control sk-hidden--visually\" id=\"sk-estimator-id-3\" type=\"checkbox\" checked><label for=\"sk-estimator-id-3\" class=\"sk-toggleable__label sk-toggleable__label-arrow\">DecisionTreeClassifier</label><div class=\"sk-toggleable__content\"><pre>DecisionTreeClassifier(random_state=42)</pre></div></div></div></div></div>"
      ],
      "text/plain": [
       "DecisionTreeClassifier(random_state=42)"
      ]
     },
     "execution_count": 51,
     "metadata": {},
     "output_type": "execute_result"
    }
   ],
   "source": [
    "decision_tree_classifier = DecisionTreeClassifier(random_state=42)\n",
    "decision_tree_classifier.fit(X, y_train)"
   ]
  },
  {
   "cell_type": "code",
   "execution_count": 52,
   "id": "ba8f70d3",
   "metadata": {
    "ExecuteTime": {
     "end_time": "2023-11-13T06:00:16.920550Z",
     "start_time": "2023-11-13T06:00:16.916513Z"
    }
   },
   "outputs": [],
   "source": [
    "y_pred = decision_tree_classifier.predict(Y)"
   ]
  },
  {
   "cell_type": "code",
   "execution_count": 53,
   "id": "8edeb355",
   "metadata": {
    "ExecuteTime": {
     "end_time": "2023-11-13T06:00:16.923267Z",
     "start_time": "2023-11-13T06:00:16.921270Z"
    }
   },
   "outputs": [
    {
     "name": "stdout",
     "output_type": "stream",
     "text": [
      "Exactitud: 0.95\n"
     ]
    }
   ],
   "source": [
    "accuracy = accuracy_score(y_test, y_pred)\n",
    "print(f\"Exactitud: {accuracy:.2f}\")"
   ]
  },
  {
   "cell_type": "code",
   "execution_count": 54,
   "id": "de60b8b1",
   "metadata": {
    "ExecuteTime": {
     "end_time": "2023-11-13T06:00:16.927578Z",
     "start_time": "2023-11-13T06:00:16.923878Z"
    }
   },
   "outputs": [
    {
     "name": "stdout",
     "output_type": "stream",
     "text": [
      "Precisión: 0.95\n"
     ]
    }
   ],
   "source": [
    "precision = precision_score(y_test, y_pred)\n",
    "print(f\"Precisión: {precision:.2f}\")"
   ]
  },
  {
   "cell_type": "code",
   "execution_count": 55,
   "id": "762216bb",
   "metadata": {
    "ExecuteTime": {
     "end_time": "2023-11-13T06:00:16.929911Z",
     "start_time": "2023-11-13T06:00:16.928351Z"
    }
   },
   "outputs": [
    {
     "name": "stdout",
     "output_type": "stream",
     "text": [
      "Tasa de Error: 0.05\n"
     ]
    }
   ],
   "source": [
    "error_rate = 1 - accuracy\n",
    "print(f\"Tasa de Error: {error_rate:.2f}\")"
   ]
  },
  {
   "cell_type": "code",
   "execution_count": 56,
   "id": "4d0c9192",
   "metadata": {
    "ExecuteTime": {
     "end_time": "2023-11-13T06:00:16.934012Z",
     "start_time": "2023-11-13T06:00:16.930648Z"
    }
   },
   "outputs": [
    {
     "name": "stdout",
     "output_type": "stream",
     "text": [
      "Sensibilidad (Recall): 0.95\n"
     ]
    }
   ],
   "source": [
    "recall = recall_score(y_test, y_pred)\n",
    "print(f\"Sensibilidad (Recall): {recall:.2f}\")"
   ]
  },
  {
   "cell_type": "code",
   "execution_count": 57,
   "id": "fe2e9ea1",
   "metadata": {
    "ExecuteTime": {
     "end_time": "2023-11-13T06:00:16.938398Z",
     "start_time": "2023-11-13T06:00:16.934639Z"
    }
   },
   "outputs": [
    {
     "name": "stdout",
     "output_type": "stream",
     "text": [
      "Especificidad: 0.94\n"
     ]
    }
   ],
   "source": [
    "specificity = confusion_matrix(y_test, y_pred)[0, 0] / (confusion_matrix(y_test, y_pred)[0, 0] + confusion_matrix(y_test, y_pred)[0, 1])\n",
    "print(f\"Especificidad: {specificity:.2f}\")"
   ]
  },
  {
   "cell_type": "code",
   "execution_count": 58,
   "id": "fa3387e2",
   "metadata": {
    "ExecuteTime": {
     "end_time": "2023-11-13T06:00:16.942199Z",
     "start_time": "2023-11-13T06:00:16.939099Z"
    }
   },
   "outputs": [
    {
     "name": "stdout",
     "output_type": "stream",
     "text": [
      "F1 Score: 0.95\n"
     ]
    }
   ],
   "source": [
    "f1 = f1_score(y_test, y_pred)\n",
    "print(f\"F1 Score: {f1:.2f}\")"
   ]
  },
  {
   "cell_type": "code",
   "execution_count": 59,
   "id": "49d32e10",
   "metadata": {
    "ExecuteTime": {
     "end_time": "2023-11-13T06:00:16.996993Z",
     "start_time": "2023-11-13T06:00:16.942811Z"
    }
   },
   "outputs": [
    {
     "data": {
      "image/png": "[encoded data removed]",
      "text/plain": [
       "<Figure size 800x600 with 2 Axes>"
      ]
     },
     "metadata": {},
     "output_type": "display_data"
    }
   ],
   "source": [
    "# Calcular la matriz de confusión\n",
    "conf_matrix = confusion_matrix(y_test, y_pred)\n",
    "\n",
    "# Visualizar la matriz de confusión con seaborn\n",
    "plt.figure(figsize=(8, 6))\n",
    "sns.heatmap(conf_matrix, annot=True, fmt='d', cmap='Blues', xticklabels=['0', '1'], yticklabels=['0', '1'])\n",
    "plt.title('Matriz de Confusión')\n",
    "plt.xlabel('Predicción')\n",
    "plt.ylabel('Real')\n",
    "plt.show()"
   ]
  },
  {
   "cell_type": "code",
   "execution_count": 60,
   "id": "14f48c60",
   "metadata": {
    "ExecuteTime": {
     "end_time": "2023-11-13T06:00:17.011767Z",
     "start_time": "2023-11-13T06:00:16.998811Z"
    }
   },
   "outputs": [
    {
     "name": "stdout",
     "output_type": "stream",
     "text": [
      "              precision    recall  f1-score   support\n",
      "\n",
      "           0       0.95      0.94      0.95      2382\n",
      "           1       0.95      0.95      0.95      2618\n",
      "\n",
      "    accuracy                           0.95      5000\n",
      "   macro avg       0.95      0.95      0.95      5000\n",
      "weighted avg       0.95      0.95      0.95      5000\n",
      "\n"
     ]
    }
   ],
   "source": [
    "print(classification_report(y_test, y_pred))"
   ]
  },
  {
   "cell_type": "code",
   "execution_count": 61,
   "id": "9ae2c032",
   "metadata": {
    "ExecuteTime": {
     "end_time": "2023-11-13T06:00:21.546411Z",
     "start_time": "2023-11-13T06:00:17.014614Z"
    }
   },
   "outputs": [
    {
     "name": "stdout",
     "output_type": "stream",
     "text": [
      "\n",
      " (Validación Cruzada): 0.94\n"
     ]
    }
   ],
   "source": [
    "cv_scores = cross_val_score(decision_tree_classifier, Y, y_pred, cv=5, scoring='accuracy')\n",
    "print(f\"\\n (Validación Cruzada): {np.mean(cv_scores):.2f}\")"
   ]
  },
  {
   "cell_type": "code",
   "execution_count": 62,
   "id": "dc075be7",
   "metadata": {
    "ExecuteTime": {
     "end_time": "2023-11-13T06:00:21.570352Z",
     "start_time": "2023-11-13T06:00:21.547207Z"
    }
   },
   "outputs": [
    {
     "name": "stdout",
     "output_type": "stream",
     "text": [
      "(Submuestreo Aleatorio): 0.80\n",
      "Informe de Clasificación (Submuestreo Aleatorio):\n",
      "              precision    recall  f1-score   support\n",
      "\n",
      "           0       1.00      0.71      0.83        14\n",
      "           1       0.60      1.00      0.75         6\n",
      "\n",
      "    accuracy                           0.80        20\n",
      "   macro avg       0.80      0.86      0.79        20\n",
      "weighted avg       0.88      0.80      0.81        20\n",
      "\n"
     ]
    }
   ],
   "source": [
    "X_resampled, y_resampled = resample(Y, y_pred, n_samples=100, random_state=42)  # Número arbitrario de ejemplos resampleados\n",
    "X_train_resampled, X_test_resampled, y_train_resampled, y_test_resampled = train_test_split(X_resampled, y_resampled, test_size=0.2, random_state=42)\n",
    "decision_tree_classifier.fit(X_train_resampled, y_train_resampled)\n",
    "y_pred_resampled = decision_tree_classifier.predict(X_test_resampled)\n",
    "accuracy_resampled = accuracy_score(y_test_resampled, y_pred_resampled)\n",
    "print(f\"(Submuestreo Aleatorio): {accuracy_resampled:.2f}\")\n",
    "print(\"Informe de Clasificación (Submuestreo Aleatorio):\")\n",
    "print(classification_report(y_test_resampled, y_pred_resampled))"
   ]
  },
  {
   "cell_type": "code",
   "execution_count": 63,
   "id": "c89a9251",
   "metadata": {
    "ExecuteTime": {
     "end_time": "2023-11-13T06:01:22.819076Z",
     "start_time": "2023-11-13T06:00:21.571158Z"
    }
   },
   "outputs": [
    {
     "name": "stdout",
     "output_type": "stream",
     "text": [
      "Exactitud promedio (Bootstrap): 0.96\n",
      "Puntuaciones Bootstrap:\n",
      "[0.961, 0.961, 0.961, 0.961, 0.961, 0.961, 0.961, 0.961, 0.961, 0.961, 0.961, 0.961, 0.961, 0.961, 0.961, 0.961, 0.961, 0.961, 0.961, 0.961, 0.961, 0.961, 0.961, 0.961, 0.961, 0.961, 0.961, 0.961, 0.961, 0.961, 0.961, 0.961, 0.961, 0.961, 0.961, 0.961, 0.961, 0.961, 0.961, 0.961, 0.961, 0.961, 0.961, 0.961, 0.961, 0.961, 0.961, 0.961, 0.961, 0.961, 0.961, 0.961, 0.961, 0.961, 0.961, 0.961, 0.961, 0.961, 0.961, 0.961, 0.961, 0.961, 0.961, 0.961, 0.961, 0.961, 0.961, 0.961, 0.961, 0.961, 0.961, 0.961, 0.961, 0.961, 0.961, 0.961, 0.961, 0.961, 0.961, 0.961, 0.961, 0.961, 0.961, 0.961, 0.961, 0.961, 0.961, 0.961, 0.961, 0.961, 0.961, 0.961, 0.961, 0.961, 0.961, 0.961, 0.961, 0.961, 0.961, 0.961]\n"
     ]
    }
   ],
   "source": [
    "bootstrap_scores = []\n",
    "num_bootstrap_samples = 100  # Número arbitrario de muestras bootstrap\n",
    "for _ in range(num_bootstrap_samples):\n",
    "    X_bootstrap, y_bootstrap = resample(Y, y_pred, random_state=42)\n",
    "    X_train_bootstrap, X_test_bootstrap, y_train_bootstrap, y_test_bootstrap = train_test_split(X_bootstrap, y_bootstrap, test_size=0.2, random_state=42)\n",
    "    decision_tree_classifier.fit(X_train_bootstrap, y_train_bootstrap)\n",
    "    y_pred_bootstrap = decision_tree_classifier.predict(X_test_bootstrap)\n",
    "    accuracy_bootstrap = accuracy_score(y_test_bootstrap, y_pred_bootstrap)\n",
    "    bootstrap_scores.append(accuracy_bootstrap)\n",
    "\n",
    "print(f\"Exactitud promedio (Bootstrap): {sum(bootstrap_scores) / num_bootstrap_samples:.2f}\")\n",
    "print(\"Puntuaciones Bootstrap:\")\n",
    "print(bootstrap_scores)"
   ]
  },
  {
   "cell_type": "markdown",
   "id": "1d0c53bd",
   "metadata": {},
   "source": [
    "### Interpretación de Resultados"
   ]
  },
  {
   "cell_type": "markdown",
   "id": "0432bb42",
   "metadata": {},
   "source": [
    "- **Naive Bayes:**\n",
    "\n",
    "Exactitud: 0.97\n",
    "\n",
    "El modelo tiene una alta exactitud, lo que significa que clasifica correctamente el 97% de las instancias.\n",
    "\n",
    "Precisión: 0.99\n",
    "\n",
    "La precisión indica que el 99% de las predicciones positivas son correctas.\n",
    "\n",
    "Sensibilidad (Recall): 0.95\n",
    "\n",
    "La sensibilidad muestra que el 95% de los casos positivos fueron capturados por el modelo.\n",
    "\n",
    "Especificidad: 0.99\n",
    "\n",
    "La especificidad es alta, indicando que el modelo es efectivo para identificar casos negativos.\n",
    "\n",
    "F1 Score: 0.97\n",
    "\n",
    "El F1 Score equilibra precisión y recall, y el valor de 0.97 es excelente.\n",
    "\n",
    "Comprensibilidad:\n",
    "\n",
    "Naive Bayes es conocido por su simplicidad y fácil interpretación. Al ser un modelo probabilístico, puede ser comprendido de manera intuitiva. Sin embargo, no proporciona información sobre la importancia de las características.\n",
    "\n",
    "- **SVM (Máquinas de Soporte Vectorial):**\n",
    "\n",
    "Exactitud: 0.97\n",
    "\n",
    "Precisión: 0.97\n",
    "\n",
    "Sensibilidad (Recall): 0.97\n",
    "\n",
    "Especificidad: 0.96\n",
    "\n",
    "F1 Score: 0.97\n",
    "\n",
    "Comprensibilidad:\n",
    "\n",
    "Los SVM, en general, son modelos menos interpretables en comparación con Naive Bayes. Pueden funcionar bien en conjuntos de datos complejos, pero entender el motivo detrás de cada predicción puede ser desafiante.\n",
    "\n",
    "- **Árboles de Decisión:**\n",
    "\n",
    "Exactitud: 0.95\n",
    "\n",
    "Precisión: 0.95\n",
    "\n",
    "Sensibilidad (Recall): 0.95\n",
    "\n",
    "Especificidad: 0.94\n",
    "\n",
    "F1 Score: 0.95\n",
    "\n",
    "Comprensibilidad:\n",
    "\n",
    "Los árboles de decisión ofrecen interpretabilidad, ya que puedes visualizar el árbol y entender cómo se toman las decisiones. Sin embargo, en este caso, se observa cierta variabilidad en el rendimiento según la técnica de evaluación.\n",
    "\n",
    "\n",
    "**Conclusiones:**\n",
    "Todos los modelos muestran un rendimiento sólido con pequeñas variaciones.\n",
    "La elección del modelo puede depender de la importancia de la interpretabilidad.\n",
    "Naive Bayes es fácil de interpretar, pero los árboles de decisión también ofrecen interpretabilidad y muestran un rendimiento competitivo.\n",
    "La interpretación de las métricas sugiere que los tres modelos son efectivos, y la elección entre ellos puede depender de consideraciones específicas del problema y preferencias sobre interpretabilidad."
   ]
  },
  {
   "cell_type": "markdown",
   "id": "c7fc6ad2",
   "metadata": {},
   "source": [
    "### Evaluación de la práctica"
   ]
  },
  {
   "cell_type": "markdown",
   "id": "9b904e92",
   "metadata": {},
   "source": [
    "- ¿Qué representa la variable objetivo en nuestro conjunto de datos y qué valores puede tomar?\n",
    "\n",
    "Representa el mensaje de texto del correo electronico recibido, puede tomar valores de cadenas de datos que forman el texto del correo en cuestión.\n",
    "\n",
    "- Describe el proceso de preprocesamiento de datos aplicado al conjunto de correos electrónicos.\n",
    "\n",
    "El proceso de \"Bag of Words\" (BoW) es una técnica fundamental en procesamiento de lenguaje natural (PLN) y se utiliza comúnmente para representar documentos de texto de manera numérica. Aquí hay una descripción del proceso:\n",
    "\n",
    "Tokenización:\n",
    "\n",
    "El primer paso es dividir el texto en unidades más pequeñas llamadas \"tokens\". Los tokens pueden ser palabras individuales o incluso caracteres, dependiendo de la granularidad deseada.\n",
    "\n",
    "Creación del Vocabulario:\n",
    "\n",
    "Se crea un vocabulario único que consiste en todas las palabras únicas encontradas en el conjunto de documentos. Cada palabra en el vocabulario se convierte en una \"feature\" o característica.\n",
    "\n",
    "Creación del Vector (BoW):\n",
    "\n",
    "Para cada documento, se crea un vector que tiene la longitud del vocabulario. Cada posición en el vector corresponde a una palabra en el vocabulario, y el valor en esa posición indica cuántas veces aparece esa palabra en el documento. Puede ser simplemente un conteo de ocurrencias.\n",
    "\n",
    "Ignorar la Estructura y el Orden:\n",
    "\n",
    "La principal característica del BoW es que ignora completamente la estructura gramatical y el orden de las palabras en el documento. Solo se tiene en cuenta la frecuencia de las palabras.\n",
    "\n",
    "Matriz BoW:\n",
    "\n",
    "Cuando se aplica el proceso a un conjunto de documentos, se obtiene una matriz BoW. Cada fila de la matriz representa un documento y cada columna representa una palabra en el vocabulario.\n",
    "\n",
    "Frecuencias o Binario:\n",
    "\n",
    "En lugar de contar la frecuencia de las palabras, también se puede usar un enfoque binario, donde la presencia o ausencia de una palabra en el documento se marca con 1 o 0, respectivamente.\n",
    "\n",
    "- ¿Qué algoritmos de clasificación utilizaste y por qué los elegiste?\n",
    "\n",
    "**Naive Bayes:**\n",
    "\n",
    "Algoritmo:\n",
    "\n",
    "Entrenamiento:\n",
    "Calcula las probabilidades a priori de cada clase.\n",
    "Para cada clase, calcula la probabilidad condicional de cada característica dado que pertenece a esa clase.\n",
    "\n",
    "Predicción:\n",
    "Dado un nuevo conjunto de características, utiliza el teorema de Bayes para calcular la probabilidad de pertenecer a cada clase.\n",
    "Asigna la clase con la probabilidad más alta como la predicción.\n",
    "\n",
    "Ventajas de Naive Bayes:\n",
    "\n",
    "Simplicidad:\n",
    "Fácil de entender y implementar.\n",
    "\n",
    "Eficiencia:\n",
    "Funciona bien en conjuntos de datos grandes.\n",
    "\n",
    "Manejo de Características Irrelevantes:\n",
    "Robusto ante características irrelevantes, ya que asume independencia entre ellas.\n",
    "\n",
    "**Support Vector Machine (SVM):**\n",
    "\n",
    "Algoritmo:\n",
    "\n",
    "Definición del Hiperplano:\n",
    "Encuentra el hiperplano óptimo que mejor separa las clases en el espacio de características.\n",
    "\n",
    "Margen Máximo:\n",
    "Maximiza el margen entre las clases, que es la distancia perpendicular desde el hiperplano a los puntos de datos más cercanos.\n",
    "\n",
    "Clasificación:\n",
    "Para predecir nuevas instancias, las coloca en el lado del hiperplano al que pertenecen.\n",
    "\n",
    "Ventajas de SVM:\n",
    "Efectivo en Espacios de Alta Dimensión:\n",
    "Funciona bien incluso en espacios de características de alta dimensión.\n",
    "\n",
    "Versatilidad del Kernel:\n",
    "Puede manejar datos lineales y no lineales mediante el uso de kernels.\n",
    "\n",
    "Margen Máximo:\n",
    "Busca el hiperplano que maximiza el margen, lo que puede llevar a un mejor rendimiento en datos de prueba.\n",
    "\n",
    "**Árboles de Decisión:**\n",
    "\n",
    "Algoritmo:\n",
    "\n",
    "Selección de la Mejor Característica:\n",
    "Elige la característica que mejor divide los datos en términos de pureza/clasificación.\n",
    "\n",
    "División del Conjunto de Datos:\n",
    "Divide el conjunto de datos en subconjuntos basados en la característica seleccionada.\n",
    "\n",
    "Recursividad:\n",
    "Repite el proceso en cada subconjunto hasta que se cumple un criterio de parada.\n",
    "\n",
    "Construcción del Árbol:\n",
    "Construye un árbol jerárquico donde los nodos internos representan características y las hojas representan clases.\n",
    "\n",
    "Ventajas de Árboles de Decisión:\n",
    "\n",
    "Interpretabilidad:\n",
    "Fácil de entender y visualizar.\n",
    "\n",
    "No Requiere Normalización de Datos:\n",
    "No es sensible a la escala de las características.\n",
    "\n",
    "Manejo de Datos Mixtos:\n",
    "Puede manejar conjuntos de datos con características categóricas y numéricas.\n",
    "\n",
    "- Explica cómo la vectorización de textos afecta el rendimiento del modelo de clasificación.\n",
    "\n",
    "La vectorización de textos es un paso crucial al trabajar con modelos de clasificación en datos de texto. Consiste en convertir el texto en un formato numérico que los algoritmos de aprendizaje automático pueden entender. Aquí hay una explicación de cómo la vectorización de textos afecta el rendimiento del modelo de clasificación:\n",
    "\n",
    "Representación Numérica:\n",
    "\n",
    "Los modelos de clasificación, como Naive Bayes, SVM, y otros, requieren datos numéricos como entrada. La vectorización convierte el texto en vectores numéricos, donde cada palabra o término puede representarse por un valor numérico.\n",
    "\n",
    "Bolsa de Palabras (BoW):\n",
    "\n",
    "Una de las técnicas comunes de vectorización es la Bolsa de Palabras. En esta técnica, se crea un vocabulario único de todas las palabras presentes en el conjunto de datos. Cada documento o texto se representa como un vector que cuenta la frecuencia de cada palabra en el vocabulario. Esto crea una matriz de términos-documentos.\n",
    "\n",
    "Impacto en el Rendimiento:\n",
    "\n",
    "Mejora la Entrada del Modelo:\n",
    "Permite que los modelos de clasificación trabajen con datos de texto, que de otra manera serían difíciles de manejar.\n",
    "\n",
    "Captura Información Semántica:\n",
    "Al capturar la frecuencia de las palabras, la vectorización puede ayudar a capturar información semántica, como la importancia relativa de las palabras en un documento.\n",
    "\n",
    "Reducción de la Dimensionalidad:\n",
    "Puede ayudar a reducir la dimensionalidad del espacio de características al eliminar palabras poco informativas o comunes (stop words).\n",
    "\n",
    "Modelos de Clasificación más Efectivos:\n",
    "Al proporcionar representaciones numéricas de los textos, facilita el entrenamiento de modelos de clasificación efectivos.\n",
    "\n",
    "Elección del Método de Vectorización:\n",
    "TF-IDF (Term Frequency-Inverse Document Frequency):\n",
    "Otro método común que tiene en cuenta la importancia relativa de las palabras en todo el corpus.\n",
    "\n",
    "Embeddings de Palabras:\n",
    "Utiliza representaciones vectoriales pre-entrenadas que pueden capturar relaciones semánticas entre palabras.\n",
    "Consideraciones:\n",
    "\n",
    "Stop Words y Preprocesamiento:\n",
    "La vectorización a menudo incluye pasos de preprocesamiento, como eliminar stop words o realizar lematización, para mejorar la calidad de la representación.\n",
    "\n",
    "Selección de Características:\n",
    "Puede ser beneficioso ajustar la vectorización según el problema, como la elección del tamaño del vocabulario o la ponderación de términos.\n",
    "\n",
    "En resumen, la vectorización de textos es esencial para permitir que los modelos de clasificación trabajen con datos de texto, y la elección de la técnica de vectorización puede influir en el rendimiento del modelo. La selección del método y la afinación de los parámetros deben realizarse considerando la naturaleza específica del problema y del conjunto de datos.\n",
    "\n",
    "- ¿Qué es una matriz de confusión y qué información proporciona?\n",
    "\n",
    "Una matriz de confusión es una tabla que se utiliza en clasificación para evaluar el rendimiento de un modelo. Esta matriz compara las predicciones del modelo con los valores reales y resume la cantidad de verdaderos positivos (TP), falsos positivos (FP), verdaderos negativos (TN) y falsos negativos (FN).\n",
    "\n",
    "    Verdaderos Positivos (TP): \n",
    "    Casos en los que el modelo predijo positivo y la clase real también es positiva.\n",
    "\n",
    "    Falsos Positivos (FP): \n",
    "    Casos en los que el modelo predijo positivo, pero la clase real es negativa.\n",
    "\n",
    "    Verdaderos Negativos (TN): \n",
    "    Casos en los que el modelo predijo negativo y la clase real también es negativa.\n",
    "\n",
    "    Falsos Negativos (FN): \n",
    "    Casos en los que el modelo predijo negativo, pero la clase real es positiva.\n",
    "\n",
    "- Define las métricas de evaluación: exactitud, precisión, tasa de error, sensibilidad y especificidad.\n",
    "\n",
    "**Exactitud**\n",
    "\n",
    "Proporción de predicciones correctas con respecto al total de predicciones. Es una medida general del rendimiento del modelo.\n",
    "\n",
    "$$ \\frac{TP+TN}{TP+FP+TN+FN} $$\n",
    "\n",
    "**Precisión**\n",
    "\n",
    "Proporción de instancias positivas predichas correctamente entre todas las instancias positivas predichas.\n",
    "\n",
    "$$ \\frac{TP}{TP+FP} $$\n",
    "\n",
    "**Tasa de error**\n",
    "\n",
    "Proporción de predicciones incorrectas con respecto al total de predicciones.\n",
    "\n",
    "$$ \\frac{FP+FN}{TP+FP+TN+FN} $$\n",
    "\n",
    "**Sensibilidad (recall)**\n",
    "\n",
    "Proporción de instancias positivas predichas correctamente entre todas las instancias positivas reales.\n",
    "\n",
    "$$ \\frac{TP}{TP+FN} $$\n",
    "\n",
    "**Especificidad**\n",
    "\n",
    "Proporción de instancias negativas predichas correctamente entre todas las instancias negativas reales.\n",
    "\n",
    "$$ \\frac{TN}{TN+FP} $$\n",
    "\n",
    "**Comprensibilidad**\n",
    "\n",
    "Media armónica de precisión y sensibilidad. Es útil cuando hay un desequilibrio entre las clases.\n",
    "\n",
    "$$ \\frac{2 * Presicion * Sensibilidad}{Presicion + Sensibilidad} $$\n",
    "\n",
    "- ¿Cuál fue el modelo de clasificación más efectivo según las métricas evaluadas y por qué?\n",
    "\n",
    "Naive Bayes, tiene las metricas más altas de las tres.\n",
    "\n",
    "- Discute cómo la validación cruzada mejora la estimación del rendimiento del modelo.\n",
    "\n",
    "La validación cruzada es una técnica fundamental en el desarrollo y evaluación de modelos de aprendizaje automático. Mejora la estimación del rendimiento del modelo de varias maneras. Aquí hay algunas razones clave:\n",
    "\n",
    "Mitigación del Impacto de la Variabilidad en los Datos:\n",
    "\n",
    "Los conjuntos de datos pueden tener variabilidad debido a la forma en que se dividen en conjuntos de entrenamiento y prueba. La validación cruzada realiza múltiples divisiones y promedia los resultados, reduciendo así el impacto de la variabilidad.\n",
    "\n",
    "Mejor Utilización de los Datos Disponibles:\n",
    "\n",
    "Al realizar k divisiones (donde k es el número de pliegues en la validación cruzada k-fold), el modelo se entrena y evalúa k veces. Esto permite utilizar de manera más eficiente el conjunto de datos completo para entrenamiento y evaluación.\n",
    "\n",
    "Evaluación más Robusta del Rendimiento del Modelo:\n",
    "\n",
    "Proporciona una evaluación más robusta del rendimiento del modelo al considerar múltiples configuraciones de datos de entrenamiento y prueba. Esto ayuda a identificar si el rendimiento del modelo es consistente en diferentes subconjuntos de datos.\n",
    "\n",
    "Reducción del Sesgo en la Estimación del Rendimiento:\n",
    "\n",
    "Al calcular la media de las métricas de rendimiento en múltiples divisiones, la validación cruzada ayuda a reducir el sesgo en la estimación del rendimiento del modelo. Esto es especialmente útil cuando se tiene un conjunto de datos limitado.\n",
    "\n",
    "Identificación de Problemas de Sobreajuste o Subajuste:\n",
    "\n",
    "Al realizar la validación cruzada, se puede observar cómo el modelo se comporta en diferentes subconjuntos de datos. Esto ayuda a identificar problemas de sobreajuste (si el rendimiento es excelente en el conjunto de entrenamiento pero no en el de prueba) o subajuste (si el rendimiento es pobre en ambos conjuntos).\n",
    "\n",
    "Selección de Modelos y Ajuste de Parámetros:\n",
    "\n",
    "La validación cruzada es fundamental al seleccionar entre diferentes modelos o al ajustar los parámetros del modelo. Permite comparar el rendimiento en múltiples configuraciones de manera más confiable que si se utilizara un solo conjunto de entrenamiento/prueba.\n",
    "\n",
    "Mayor Confiabilidad en la Evaluación del Rendimiento:\n",
    "\n",
    "La validación cruzada proporciona una estimación más confiable del rendimiento general del modelo en comparación con una única división entre conjuntos de entrenamiento y prueba.\n",
    "\n",
    "- ¿Cómo afecta el desequilibrio de clases al rendimiento del modelo y cómo lo abordaste?\n",
    "\n",
    "Impacto del Desequilibrio de Clases:\n",
    "\n",
    "Sesgo del Modelo:\n",
    "\n",
    "El modelo puede desarrollar un sesgo hacia la clase dominante, ya que tiene más ejemplos para aprender patrones. Esto puede llevar a que la clase minoritaria se ignore o tenga un rendimiento deficiente.\n",
    "\n",
    "Baja Sensibilidad a la Clase Minoritaria:\n",
    "\n",
    "El modelo puede tener una baja sensibilidad (recall) para la clase minoritaria, lo que significa que no identifica correctamente muchos de los casos positivos.\n",
    "\n",
    "Precisión Engañosa:\n",
    "\n",
    "La precisión puede ser engañosa en conjuntos de datos desequilibrados. Un modelo que predice siempre la clase dominante puede tener una alta precisión simplemente porque acierta la mayoría de las instancias de esa clase.\n",
    "\n",
    "Estrategias para Abordar el Desequilibrio de Clases:\n",
    "\n",
    "Remuestreo:\n",
    "\n",
    "Submuestreo (Undersampling): Reduce el número de instancias de la clase mayoritaria para equilibrar proporciones.\n",
    "\n",
    "Ponderación de Clases:\n",
    "\n",
    "Asigna pesos diferentes a las clases durante el entrenamiento para penalizar más los errores en la clase minoritaria.\n",
    "\n",
    "Métodos de Evaluación Específicos:\n",
    "\n",
    "Utiliza métricas como precisión, recall y F1-score en lugar de la exactitud, ya que son más informativas en conjuntos de datos desequilibrados.\n",
    "\n",
    "Enfoques de Modelos Específicos:\n",
    "\n",
    "Algunos algoritmos de aprendizaje automático tienen parámetros específicos para manejar el desequilibrio, como el parámetro class_weight en Scikit-Learn para ciertos modelos.\n",
    "\n",
    "Ensamble de Modelos:\n",
    "\n",
    "Utiliza técnicas de ensamblado como Bagging y Boosting con modelos base que manejen el desequilibrio de clases de manera efectiva.\n",
    "\n",
    "Generación de Características Informativas:\n",
    "\n",
    "Crea características adicionales que ayuden al modelo a distinguir mejor entre las clases, incluso si la cantidad de datos es limitada.\n",
    "\n",
    "Validación Cruzada Estratificada:\n",
    "\n",
    "Asegura que las divisiones en la validación cruzada mantengan la proporción de clases, evitando así que los conjuntos de entrenamiento o prueba tengan un desequilibrio significativo.\n",
    "\n",
    "\n",
    "- ¿Qué técnicas adicionales podrían implementarse para mejorar la clasificación de correos electrónicos?\n",
    "\n",
    "Procesamiento de Lenguaje Natural (PLN):\n",
    "\n",
    "Utilizar técnicas avanzadas de PLN para comprender mejor el significado de los mensajes. Esto puede incluir análisis de sentimientos, extracción de entidades, y desambiguación léxica.\n",
    "\n",
    "Word Embeddings:\n",
    "\n",
    "Emplear representaciones vectoriales de palabras (word embeddings) como Word2Vec, GloVe o FastText para capturar mejor la semántica de las palabras y sus relaciones.\n",
    "Redes Neuronales Recurrentes (RNN) o Redes Neuronales Convolucionales (CNN):\n",
    "\n",
    "Estas arquitecturas pueden aprender patrones temporales y características relevantes en los textos, mejorando la capacidad del modelo para comprender la estructura de los correos electrónicos.\n",
    "\n",
    "Características Específicas del Correo Electrónico:\n",
    "\n",
    "Considerar características específicas del correo electrónico, como la frecuencia de aparición de ciertas palabras clave, la presencia de enlaces, el formato del correo electrónico, y la existencia de archivos adjuntos.\n",
    "\n",
    "Aprendizaje Semi-Supervisado:\n",
    "\n",
    "Utilizar datos no etiquetados en combinación con datos etiquetados para mejorar el rendimiento del modelo, especialmente cuando la disponibilidad de datos etiquetados es limitada.\n",
    "\n",
    "Enfoques de Ensemble:\n",
    "\n",
    "Implementar ensambles de modelos para aprovechar la diversidad y complementariedad de diferentes algoritmos. Esto puede incluir ensamblajes de modelos basados en árboles, modelos lineales y modelos de aprendizaje profundo.\n",
    "\n",
    "Ajuste Fino (Fine-Tuning):\n",
    "\n",
    "Realizar ajuste fino de modelos preentrenados en corpus de texto más grandes. Modelos preentrenados como BERT, GPT, o ELMo pueden mejorar significativamente la comprensión del contexto y las relaciones semánticas.\n",
    "\n",
    "Extracción de Características Manuales:\n",
    "\n",
    "Identificar manualmente características específicas del contenido del correo electrónico que puedan ser indicadores clave de spam, como la presencia de ciertas palabras o frases, patrones específicos de formato, o características relacionadas con la dirección del remitente.\n",
    "\n",
    "Validación Cruzada Estratificada:\n",
    "\n",
    "Utilizar validación cruzada estratificada para garantizar que las proporciones de clases se mantengan en cada pliegue, especialmente si hay desequilibrio entre las clases.\n",
    "\n",
    "Aprendizaje Activo:\n",
    "\n",
    "Incorporar técnicas de aprendizaje activo para identificar y etiquetar de manera proactiva instancias inciertas, mejorando así la calidad de los datos de entrenamiento."
   ]
  }
 ],
 "metadata": {
  "kernelspec": {
   "display_name": "Python 3 (ipykernel)",
   "language": "python",
   "name": "python3"
  },
  "language_info": {
   "codemirror_mode": {
    "name": "ipython",
    "version": 3
   },
   "file_extension": ".py",
   "mimetype": "text/x-python",
   "name": "python",
   "nbconvert_exporter": "python",
   "pygments_lexer": "ipython3",
   "version": "3.11.5"
  },
  "toc": {
   "base_numbering": 1,
   "nav_menu": {},
   "number_sections": true,
   "sideBar": true,
   "skip_h1_title": false,
   "title_cell": "Table of Contents",
   "title_sidebar": "Contents",
   "toc_cell": true,
   "toc_position": {
    "height": "calc(100% - 180px)",
    "left": "10px",
    "top": "150px",
    "width": "255px"
   },
   "toc_section_display": true,
   "toc_window_display": false
  },
  "varInspector": {
   "cols": {
    "lenName": 16,
    "lenType": 16,
    "lenVar": 40
   },
   "kernels_config": {
    "python": {
     "delete_cmd_postfix": "",
     "delete_cmd_prefix": "del ",
     "library": "var_list.py",
     "varRefreshCmd": "print(var_dic_list())"
    },
    "r": {
     "delete_cmd_postfix": ") ",
     "delete_cmd_prefix": "rm(",
     "library": "var_list.r",
     "varRefreshCmd": "cat(var_dic_list()) "
    }
   },
   "types_to_exclude": [
    "module",
    "function",
    "builtin_function_or_method",
    "instance",
    "_Feature"
   ],
   "window_display": false
  }
 },
 "nbformat": 4,
 "nbformat_minor": 5
}
