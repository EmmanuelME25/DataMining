{
 "cells": [
  {
   "cell_type": "markdown",
   "id": "fc995f1e",
   "metadata": {},
   "source": [
    "## Ejemplo 7"
   ]
  },
  {
   "cell_type": "code",
   "execution_count": 2,
   "id": "03eaaae3",
   "metadata": {},
   "outputs": [],
   "source": [
    "#Ejemplo de SaaS\n",
    "import requests\n",
    "import json"
   ]
  },
  {
   "cell_type": "code",
   "execution_count": 7,
   "id": "245c7e4d",
   "metadata": {},
   "outputs": [],
   "source": [
    "def get_github_repo_info(owner, repo):\n",
    "    url = f\"https://api.github.com/repos/{owner}{repo}\"\n",
    "    response = requests.get(url)\n",
    "    \n",
    "    if response.status_code == 200:\n",
    "        data = response.json()\n",
    "        print(f\"Nombre del repositorio: {data['name']}\")\n",
    "        print(f\"Descripción: {data['description']}\")\n",
    "        print(f\"Estrellas: {data['stargazers_count']}\")\n",
    "        print(f\"Idioma principal: {data['language']}\")\n",
    "    else:\n",
    "        print(\"No se pudo obtener información para el repositorio {owner}/{repo}. Estado HTTP: {response.status_code}\")"
   ]
  },
  {
   "cell_type": "code",
   "execution_count": 8,
   "id": "f909d945",
   "metadata": {},
   "outputs": [
    {
     "name": "stdout",
     "output_type": "stream",
     "text": [
      "No se pudo obtener información para el repositorio {owner}/{repo}. Estado HTTP: {response.status_code}\n"
     ]
    }
   ],
   "source": [
    "get_github_repo_info(\"Halex300486\", \"prueba01\")"
   ]
  },
  {
   "cell_type": "code",
   "execution_count": 10,
   "id": "d9f61aab",
   "metadata": {},
   "outputs": [
    {
     "name": "stdout",
     "output_type": "stream",
     "text": [
      "No se pudo obtener información para el repositorio {owner}/{repo}. Estado HTTP: {response.status_code}\n"
     ]
    }
   ],
   "source": [
    "get_github_repo_info(\"tensorflow\", \"tensorflow\")"
   ]
  }
 ],
 "metadata": {
  "kernelspec": {
   "display_name": "Python 3 (ipykernel)",
   "language": "python",
   "name": "python3"
  },
  "language_info": {
   "codemirror_mode": {
    "name": "ipython",
    "version": 3
   },
   "file_extension": ".py",
   "mimetype": "text/x-python",
   "name": "python",
   "nbconvert_exporter": "python",
   "pygments_lexer": "ipython3",
   "version": "3.11.3"
  }
 },
 "nbformat": 4,
 "nbformat_minor": 5
}
