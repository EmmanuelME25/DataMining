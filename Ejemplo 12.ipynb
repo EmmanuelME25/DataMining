{
 "cells": [
  {
   "cell_type": "markdown",
   "id": "1b06d1d8",
   "metadata": {
    "toc": true
   },
   "source": [
    "<h1>Table of Contents<span class=\"tocSkip\"></span></h1>\n",
    "<div class=\"toc\"><ul class=\"toc-item\"><li><span><a href=\"#Ejemplo-12\" data-toc-modified-id=\"Ejemplo-12-1\"><span class=\"toc-item-num\">1&nbsp;&nbsp;</span>Ejemplo 12</a></span><ul class=\"toc-item\"><li><span><a href=\"#Regresión-logistica\" data-toc-modified-id=\"Regresión-logistica-1.1\"><span class=\"toc-item-num\">1.1&nbsp;&nbsp;</span>Regresión logistica</a></span></li><li><span><a href=\"#Estado-del-arte\" data-toc-modified-id=\"Estado-del-arte-1.2\"><span class=\"toc-item-num\">1.2&nbsp;&nbsp;</span>Estado del arte</a></span><ul class=\"toc-item\"><li><span><a href=\"#Funcion-logística\" data-toc-modified-id=\"Funcion-logística-1.2.1\"><span class=\"toc-item-num\">1.2.1&nbsp;&nbsp;</span>Funcion logística</a></span></li><li><span><a href=\"#Caso-binario\" data-toc-modified-id=\"Caso-binario-1.2.2\"><span class=\"toc-item-num\">1.2.2&nbsp;&nbsp;</span>Caso binario</a></span></li><li><span><a href=\"#Caso-multinomial\" data-toc-modified-id=\"Caso-multinomial-1.2.3\"><span class=\"toc-item-num\">1.2.3&nbsp;&nbsp;</span>Caso multinomial</a></span></li></ul></li><li><span><a href=\"#Implementación\" data-toc-modified-id=\"Implementación-1.3\"><span class=\"toc-item-num\">1.3&nbsp;&nbsp;</span>Implementación</a></span></li><li><span><a href=\"#Referencias\" data-toc-modified-id=\"Referencias-1.4\"><span class=\"toc-item-num\">1.4&nbsp;&nbsp;</span>Referencias</a></span></li></ul></li></ul></div>"
   ]
  },
  {
   "cell_type": "markdown",
   "id": "0c685a65",
   "metadata": {},
   "source": [
    "## Ejemplo 12"
   ]
  },
  {
   "cell_type": "markdown",
   "id": "a7c65324",
   "metadata": {},
   "source": [
    "### Regresión logistica"
   ]
  },
  {
   "cell_type": "markdown",
   "id": "c9de2dc4",
   "metadata": {},
   "source": [
    "### Estado del arte"
   ]
  },
  {
   "cell_type": "markdown",
   "id": "ddc77c3b",
   "metadata": {},
   "source": [
    "La regresión logística se implementa en LogisticRegression. A pesar de su nombre, se implementa como un modelo lineal para la clasificación en lugar de la regresión en términos de la nomenclatura scikit-learn/ML. La regresión logística también se conoce en la literatura como regresión de logit, clasificación de entropía máxima (MaxEnt) o clasificador logarítmicolineal. En este modelo, las probabilidades que describen los posibles resultados de un solo ensayo se modelan utilizando una función logística."
   ]
  },
  {
   "cell_type": "markdown",
   "id": "3e49077b",
   "metadata": {},
   "source": [
    "#### Funcion logística"
   ]
  },
  {
   "cell_type": "markdown",
   "id": "e288ffc0",
   "metadata": {},
   "source": [
    "Una función logística o curva logística es una curva común en forma de S (curva sigmoida) con la ecuación\n",
    "$$ f(x) = \\frac{L}{1 + e^{-k(x-x_0)}}$$\n",
    "\n",
    "Dónde\n",
    "\n",
    "$$x_0, \\text{el valor x del punto medio de la función}$$\n",
    "$$L, \\text{el supremo de los valores de la función}$$\n",
    "$$k, \\text{la tasa de crecimiento logístico o la pendiente de la curva}$$"
   ]
  },
  {
   "cell_type": "markdown",
   "id": "306dbfe0",
   "metadata": {},
   "source": [
    "![Sigmoid function](./Multimedia/sf.png)"
   ]
  },
  {
   "cell_type": "markdown",
   "id": "30510b61",
   "metadata": {},
   "source": [
    "Esta implementación puede adaptarse a la regresión logística binaria,  o multinomial con opcional,o regularización de Elastic-Net."
   ]
  },
  {
   "cell_type": "markdown",
   "id": "44171beb",
   "metadata": {},
   "source": [
    "<div class=\"alert alert-block alert-success\">\n",
    "<b>Nota de Regularización</b> La regularización se aplica de forma predeterminada, lo que es común en el aprendizaje automático, pero no en las estadísticas. Otra ventaja de la regularización es que mejora la estabilidad numérica. Ninguna regularización equivale a establecer C en un valor muy alto.\n",
    "</div>"
   ]
  },
  {
   "cell_type": "markdown",
   "id": "edd10f8a",
   "metadata": {},
   "source": [
    "<div class=\"alert alert-block alert-success\">\n",
    "<b>Tenga en cuenta la regresión logística como un caso especial de los modelos lineales generalizados (GLM)</b> \n",
    "    La regresión logística es un caso especial de modelos lineales generalizados con una distribución condicional binomial / Bernoulli y un enlace Logit. La producción numérica de la regresión logística, que es la probabilidad predicha, se puede utilizar como clasificador aplicándose un umbral (por defecto, 0,5). Así es como se implementa en scikit-learn, por lo que espera un objetivo categórico, haciendo de la Regresión Logística un clasificador.\n",
    "</div>"
   ]
  },
  {
   "cell_type": "markdown",
   "id": "34fc7e9c",
   "metadata": {},
   "source": [
    "#### Caso binario"
   ]
  },
  {
   "cell_type": "markdown",
   "id": "61956c96",
   "metadata": {},
   "source": [
    "Para facilitar la notación, asumimos que el objetivo $y_i$ toma valores en el conjunto ${0,1}$ para el punto de datos $i$. Una vez instalado, elpredict_proba método de LogisticRegression predice la probabilidad de la clase positiva $P(y_i = 1|X_i)$.\n",
    "\n",
    "$$p(X_i)=expit(X_iw+w_0) = \\frac{1}{1+e^{-X_i w - w_0}}$$\n",
    "\n",
    "Como problema de optimización, regresión logística de clase binaria con término de regularizaciónminimiza la siguiente función de coste:\n",
    "\n",
    "$$min_w C \\sum_{i=1}^{n}(-y_i \\log (p(X_i))-(1-y_i)\\log(1-p(X_i)))+r(w)$$"
   ]
  },
  {
   "cell_type": "markdown",
   "id": "f38df9f8",
   "metadata": {},
   "source": [
    "#### Caso multinomial"
   ]
  },
  {
   "cell_type": "markdown",
   "id": "ed584534",
   "metadata": {},
   "source": [
    "El caso binario se puede extender a $K$ clases que conducen a la regresión logística multinomial, véase también el modelo logarítmicolineal."
   ]
  },
  {
   "cell_type": "markdown",
   "id": "e5cedf12",
   "metadata": {},
   "source": [
    "<div class=\"alert alert-block alert-success\">\n",
    "<b>Nota</b> \n",
    "    Es posible parametrizar un $K$-modelo de clasificación de clase usando solo $K-1$ vectores de peso, dejando una probabilidad de clase completamente determinada por las probabilidades de la otra clase aprovechando el hecho de que todas las probabilidades de clase deben sumar a una. Elegimos deliberadamente sobreparaparatizar el modelo usando $K$ vectores de peso para facilitar la implementación y para preservar el sesgo inductivo simétrico con respecto al orden de las clases. Este efecto se vuelve especialmente importante cuando se utiliza la regularización. La elección de la sobreparaparatización puede ser perjudicial para los modelos no penalizados, ya que entonces la solución puede no ser única\n",
    "</div>"
   ]
  },
  {
   "cell_type": "markdown",
   "id": "57802d90",
   "metadata": {},
   "source": [
    "$y_i \\in 1, ..., K$ ser la variable objetivo codificada etiquetada (ordinal) para la observación. En lugar de un solo vector de coeficiente, ahora tenemos una matriz de coeficientes $W$ donde cada vector de fila $W_k$ corresponde a la clase $k$. Nuestro objetivo es predecir las probabilidades de clase $P(y_i = k|X_i)$ vía predict_probacomo:\n",
    "\n",
    "$$p_k(X_i)= \\frac{e^{X_i W_k +W_{0,k}}}{\\sum_{l=0}^{k-1}e^{X_iW_i+W_{0,l}}}$$\n",
    "\n",
    "El objetivo de la optimización se convierte en:\n",
    "\n",
    "$$min_w -C \\sum_{i=1}^{n}\\sum_{k=0}^{k-1}\\log (p_k(X_i))+r(W)$$"
   ]
  },
  {
   "cell_type": "markdown",
   "id": "d05ede67",
   "metadata": {},
   "source": [
    "### Implementación"
   ]
  },
  {
   "cell_type": "code",
   "execution_count": 1,
   "id": "20af501e",
   "metadata": {},
   "outputs": [],
   "source": [
    "import numpy as np\n",
    "from sklearn import datasets\n",
    "from sklearn.model_selection import train_test_split\n",
    "from sklearn.preprocessing import StandardScaler\n",
    "from sklearn.linear_model import LogisticRegression\n",
    "from sklearn.metrics import accuracy_score"
   ]
  },
  {
   "cell_type": "code",
   "execution_count": 2,
   "id": "c756c770",
   "metadata": {},
   "outputs": [],
   "source": [
    "iris = datasets.load_iris()\n",
    "X = iris.data\n",
    "y = (iris.target == 2).astype(int)  # 1 si Virginica, 0 si no"
   ]
  },
  {
   "cell_type": "code",
   "execution_count": 3,
   "id": "59302db4",
   "metadata": {},
   "outputs": [],
   "source": [
    "X_train, X_test, y_train, y_test = train_test_split(X, y, test_size=0.2, random_state=42)"
   ]
  },
  {
   "cell_type": "code",
   "execution_count": 4,
   "id": "5eaf9203",
   "metadata": {},
   "outputs": [
    {
     "data": {
      "text/html": [
       "<style>#sk-container-id-1 {color: black;background-color: white;}#sk-container-id-1 pre{padding: 0;}#sk-container-id-1 div.sk-toggleable {background-color: white;}#sk-container-id-1 label.sk-toggleable__label {cursor: pointer;display: block;width: 100%;margin-bottom: 0;padding: 0.3em;box-sizing: border-box;text-align: center;}#sk-container-id-1 label.sk-toggleable__label-arrow:before {content: \"▸\";float: left;margin-right: 0.25em;color: #696969;}#sk-container-id-1 label.sk-toggleable__label-arrow:hover:before {color: black;}#sk-container-id-1 div.sk-estimator:hover label.sk-toggleable__label-arrow:before {color: black;}#sk-container-id-1 div.sk-toggleable__content {max-height: 0;max-width: 0;overflow: hidden;text-align: left;background-color: #f0f8ff;}#sk-container-id-1 div.sk-toggleable__content pre {margin: 0.2em;color: black;border-radius: 0.25em;background-color: #f0f8ff;}#sk-container-id-1 input.sk-toggleable__control:checked~div.sk-toggleable__content {max-height: 200px;max-width: 100%;overflow: auto;}#sk-container-id-1 input.sk-toggleable__control:checked~label.sk-toggleable__label-arrow:before {content: \"▾\";}#sk-container-id-1 div.sk-estimator input.sk-toggleable__control:checked~label.sk-toggleable__label {background-color: #d4ebff;}#sk-container-id-1 div.sk-label input.sk-toggleable__control:checked~label.sk-toggleable__label {background-color: #d4ebff;}#sk-container-id-1 input.sk-hidden--visually {border: 0;clip: rect(1px 1px 1px 1px);clip: rect(1px, 1px, 1px, 1px);height: 1px;margin: -1px;overflow: hidden;padding: 0;position: absolute;width: 1px;}#sk-container-id-1 div.sk-estimator {font-family: monospace;background-color: #f0f8ff;border: 1px dotted black;border-radius: 0.25em;box-sizing: border-box;margin-bottom: 0.5em;}#sk-container-id-1 div.sk-estimator:hover {background-color: #d4ebff;}#sk-container-id-1 div.sk-parallel-item::after {content: \"\";width: 100%;border-bottom: 1px solid gray;flex-grow: 1;}#sk-container-id-1 div.sk-label:hover label.sk-toggleable__label {background-color: #d4ebff;}#sk-container-id-1 div.sk-serial::before {content: \"\";position: absolute;border-left: 1px solid gray;box-sizing: border-box;top: 0;bottom: 0;left: 50%;z-index: 0;}#sk-container-id-1 div.sk-serial {display: flex;flex-direction: column;align-items: center;background-color: white;padding-right: 0.2em;padding-left: 0.2em;position: relative;}#sk-container-id-1 div.sk-item {position: relative;z-index: 1;}#sk-container-id-1 div.sk-parallel {display: flex;align-items: stretch;justify-content: center;background-color: white;position: relative;}#sk-container-id-1 div.sk-item::before, #sk-container-id-1 div.sk-parallel-item::before {content: \"\";position: absolute;border-left: 1px solid gray;box-sizing: border-box;top: 0;bottom: 0;left: 50%;z-index: -1;}#sk-container-id-1 div.sk-parallel-item {display: flex;flex-direction: column;z-index: 1;position: relative;background-color: white;}#sk-container-id-1 div.sk-parallel-item:first-child::after {align-self: flex-end;width: 50%;}#sk-container-id-1 div.sk-parallel-item:last-child::after {align-self: flex-start;width: 50%;}#sk-container-id-1 div.sk-parallel-item:only-child::after {width: 0;}#sk-container-id-1 div.sk-dashed-wrapped {border: 1px dashed gray;margin: 0 0.4em 0.5em 0.4em;box-sizing: border-box;padding-bottom: 0.4em;background-color: white;}#sk-container-id-1 div.sk-label label {font-family: monospace;font-weight: bold;display: inline-block;line-height: 1.2em;}#sk-container-id-1 div.sk-label-container {text-align: center;}#sk-container-id-1 div.sk-container {/* jupyter's `normalize.less` sets `[hidden] { display: none; }` but bootstrap.min.css set `[hidden] { display: none !important; }` so we also need the `!important` here to be able to override the default hidden behavior on the sphinx rendered scikit-learn.org. See: https://github.com/scikit-learn/scikit-learn/issues/21755 */display: inline-block !important;position: relative;}#sk-container-id-1 div.sk-text-repr-fallback {display: none;}</style><div id=\"sk-container-id-1\" class=\"sk-top-container\"><div class=\"sk-text-repr-fallback\"><pre>StandardScaler()</pre><b>In a Jupyter environment, please rerun this cell to show the HTML representation or trust the notebook. <br />On GitHub, the HTML representation is unable to render, please try loading this page with nbviewer.org.</b></div><div class=\"sk-container\" hidden><div class=\"sk-item\"><div class=\"sk-estimator sk-toggleable\"><input class=\"sk-toggleable__control sk-hidden--visually\" id=\"sk-estimator-id-1\" type=\"checkbox\" checked><label for=\"sk-estimator-id-1\" class=\"sk-toggleable__label sk-toggleable__label-arrow\">StandardScaler</label><div class=\"sk-toggleable__content\"><pre>StandardScaler()</pre></div></div></div></div></div>"
      ],
      "text/plain": [
       "StandardScaler()"
      ]
     },
     "execution_count": 4,
     "metadata": {},
     "output_type": "execute_result"
    }
   ],
   "source": [
    "scaler = StandardScaler()\n",
    "scaler.fit(X_train)"
   ]
  },
  {
   "cell_type": "code",
   "execution_count": 5,
   "id": "50fa667c",
   "metadata": {},
   "outputs": [],
   "source": [
    "X_train = scaler.transform(X_train)\n",
    "X_test = scaler.transform(X_test)"
   ]
  },
  {
   "cell_type": "code",
   "execution_count": 6,
   "id": "134ba501",
   "metadata": {},
   "outputs": [
    {
     "data": {
      "text/html": [
       "<style>#sk-container-id-2 {color: black;background-color: white;}#sk-container-id-2 pre{padding: 0;}#sk-container-id-2 div.sk-toggleable {background-color: white;}#sk-container-id-2 label.sk-toggleable__label {cursor: pointer;display: block;width: 100%;margin-bottom: 0;padding: 0.3em;box-sizing: border-box;text-align: center;}#sk-container-id-2 label.sk-toggleable__label-arrow:before {content: \"▸\";float: left;margin-right: 0.25em;color: #696969;}#sk-container-id-2 label.sk-toggleable__label-arrow:hover:before {color: black;}#sk-container-id-2 div.sk-estimator:hover label.sk-toggleable__label-arrow:before {color: black;}#sk-container-id-2 div.sk-toggleable__content {max-height: 0;max-width: 0;overflow: hidden;text-align: left;background-color: #f0f8ff;}#sk-container-id-2 div.sk-toggleable__content pre {margin: 0.2em;color: black;border-radius: 0.25em;background-color: #f0f8ff;}#sk-container-id-2 input.sk-toggleable__control:checked~div.sk-toggleable__content {max-height: 200px;max-width: 100%;overflow: auto;}#sk-container-id-2 input.sk-toggleable__control:checked~label.sk-toggleable__label-arrow:before {content: \"▾\";}#sk-container-id-2 div.sk-estimator input.sk-toggleable__control:checked~label.sk-toggleable__label {background-color: #d4ebff;}#sk-container-id-2 div.sk-label input.sk-toggleable__control:checked~label.sk-toggleable__label {background-color: #d4ebff;}#sk-container-id-2 input.sk-hidden--visually {border: 0;clip: rect(1px 1px 1px 1px);clip: rect(1px, 1px, 1px, 1px);height: 1px;margin: -1px;overflow: hidden;padding: 0;position: absolute;width: 1px;}#sk-container-id-2 div.sk-estimator {font-family: monospace;background-color: #f0f8ff;border: 1px dotted black;border-radius: 0.25em;box-sizing: border-box;margin-bottom: 0.5em;}#sk-container-id-2 div.sk-estimator:hover {background-color: #d4ebff;}#sk-container-id-2 div.sk-parallel-item::after {content: \"\";width: 100%;border-bottom: 1px solid gray;flex-grow: 1;}#sk-container-id-2 div.sk-label:hover label.sk-toggleable__label {background-color: #d4ebff;}#sk-container-id-2 div.sk-serial::before {content: \"\";position: absolute;border-left: 1px solid gray;box-sizing: border-box;top: 0;bottom: 0;left: 50%;z-index: 0;}#sk-container-id-2 div.sk-serial {display: flex;flex-direction: column;align-items: center;background-color: white;padding-right: 0.2em;padding-left: 0.2em;position: relative;}#sk-container-id-2 div.sk-item {position: relative;z-index: 1;}#sk-container-id-2 div.sk-parallel {display: flex;align-items: stretch;justify-content: center;background-color: white;position: relative;}#sk-container-id-2 div.sk-item::before, #sk-container-id-2 div.sk-parallel-item::before {content: \"\";position: absolute;border-left: 1px solid gray;box-sizing: border-box;top: 0;bottom: 0;left: 50%;z-index: -1;}#sk-container-id-2 div.sk-parallel-item {display: flex;flex-direction: column;z-index: 1;position: relative;background-color: white;}#sk-container-id-2 div.sk-parallel-item:first-child::after {align-self: flex-end;width: 50%;}#sk-container-id-2 div.sk-parallel-item:last-child::after {align-self: flex-start;width: 50%;}#sk-container-id-2 div.sk-parallel-item:only-child::after {width: 0;}#sk-container-id-2 div.sk-dashed-wrapped {border: 1px dashed gray;margin: 0 0.4em 0.5em 0.4em;box-sizing: border-box;padding-bottom: 0.4em;background-color: white;}#sk-container-id-2 div.sk-label label {font-family: monospace;font-weight: bold;display: inline-block;line-height: 1.2em;}#sk-container-id-2 div.sk-label-container {text-align: center;}#sk-container-id-2 div.sk-container {/* jupyter's `normalize.less` sets `[hidden] { display: none; }` but bootstrap.min.css set `[hidden] { display: none !important; }` so we also need the `!important` here to be able to override the default hidden behavior on the sphinx rendered scikit-learn.org. See: https://github.com/scikit-learn/scikit-learn/issues/21755 */display: inline-block !important;position: relative;}#sk-container-id-2 div.sk-text-repr-fallback {display: none;}</style><div id=\"sk-container-id-2\" class=\"sk-top-container\"><div class=\"sk-text-repr-fallback\"><pre>LogisticRegression(random_state=42)</pre><b>In a Jupyter environment, please rerun this cell to show the HTML representation or trust the notebook. <br />On GitHub, the HTML representation is unable to render, please try loading this page with nbviewer.org.</b></div><div class=\"sk-container\" hidden><div class=\"sk-item\"><div class=\"sk-estimator sk-toggleable\"><input class=\"sk-toggleable__control sk-hidden--visually\" id=\"sk-estimator-id-2\" type=\"checkbox\" checked><label for=\"sk-estimator-id-2\" class=\"sk-toggleable__label sk-toggleable__label-arrow\">LogisticRegression</label><div class=\"sk-toggleable__content\"><pre>LogisticRegression(random_state=42)</pre></div></div></div></div></div>"
      ],
      "text/plain": [
       "LogisticRegression(random_state=42)"
      ]
     },
     "execution_count": 6,
     "metadata": {},
     "output_type": "execute_result"
    }
   ],
   "source": [
    "log_reg = LogisticRegression(random_state=42)\n",
    "log_reg.fit(X_train, y_train)"
   ]
  },
  {
   "cell_type": "code",
   "execution_count": 7,
   "id": "ef6c7507",
   "metadata": {},
   "outputs": [],
   "source": [
    "y_pred = log_reg.predict(X_test)"
   ]
  },
  {
   "cell_type": "code",
   "execution_count": 8,
   "id": "ad8cda0d",
   "metadata": {},
   "outputs": [],
   "source": [
    "accuracy = accuracy_score(y_test, y_pred)"
   ]
  },
  {
   "cell_type": "code",
   "execution_count": 9,
   "id": "4ac1ace4",
   "metadata": {},
   "outputs": [
    {
     "name": "stdout",
     "output_type": "stream",
     "text": [
      "Accuracy: 100.00%\n"
     ]
    }
   ],
   "source": [
    "print(f'Accuracy: {accuracy * 100:.2f}%')"
   ]
  },
  {
   "cell_type": "code",
   "execution_count": 10,
   "id": "975fefe6",
   "metadata": {},
   "outputs": [],
   "source": [
    "def predecir_tipo_pétalo(modelo, nueva_observación):\n",
    "    return iris.target_names[log_reg.predict([nueva_observación])][0]"
   ]
  },
  {
   "cell_type": "code",
   "execution_count": 11,
   "id": "abcc1129",
   "metadata": {},
   "outputs": [
    {
     "name": "stdout",
     "output_type": "stream",
     "text": [
      "Tipo de pétalo predicho para la nueva observación: setosa\n"
     ]
    }
   ],
   "source": [
    "nueva_observacion = np.array([5.1, 3.5, 1.4, 0.2])  \n",
    "tipo_petalo_predicho = predecir_tipo_pétalo(log_reg, nueva_observacion)\n",
    "print('Tipo de pétalo predicho para la nueva observación:', tipo_petalo_predicho)\n"
   ]
  },
  {
   "cell_type": "markdown",
   "id": "3262f952",
   "metadata": {},
   "source": [
    "### Referencias"
   ]
  },
  {
   "cell_type": "markdown",
   "id": "a812c1c9",
   "metadata": {},
   "source": [
    "[1] J. Grus, Data Science From Scratch: First Principles With Python. O'Reilly Media, Inc., 2019.\n",
    "\n",
    "[2] Desarrolladores de scikit-learn. “1.1. linear models”. scikit-learn. Accedido el 4 de octubre de 2023. [En línea]. Disponible: https://scikit-learn.org/stable/modules/linear_model.html"
   ]
  }
 ],
 "metadata": {
  "kernelspec": {
   "display_name": "Python 3 (ipykernel)",
   "language": "python",
   "name": "python3"
  },
  "language_info": {
   "codemirror_mode": {
    "name": "ipython",
    "version": 3
   },
   "file_extension": ".py",
   "mimetype": "text/x-python",
   "name": "python",
   "nbconvert_exporter": "python",
   "pygments_lexer": "ipython3",
   "version": "3.11.5"
  },
  "toc": {
   "base_numbering": 1,
   "nav_menu": {},
   "number_sections": true,
   "sideBar": true,
   "skip_h1_title": false,
   "title_cell": "Table of Contents",
   "title_sidebar": "Contents",
   "toc_cell": true,
   "toc_position": {},
   "toc_section_display": true,
   "toc_window_display": true
  },
  "varInspector": {
   "cols": {
    "lenName": 16,
    "lenType": 16,
    "lenVar": 40
   },
   "kernels_config": {
    "python": {
     "delete_cmd_postfix": "",
     "delete_cmd_prefix": "del ",
     "library": "var_list.py",
     "varRefreshCmd": "print(var_dic_list())"
    },
    "r": {
     "delete_cmd_postfix": ") ",
     "delete_cmd_prefix": "rm(",
     "library": "var_list.r",
     "varRefreshCmd": "cat(var_dic_list()) "
    }
   },
   "types_to_exclude": [
    "module",
    "function",
    "builtin_function_or_method",
    "instance",
    "_Feature"
   ],
   "window_display": false
  }
 },
 "nbformat": 4,
 "nbformat_minor": 5
}
