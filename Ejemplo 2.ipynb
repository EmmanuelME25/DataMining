{
 "cells": [
  {
   "cell_type": "markdown",
   "id": "853a3d4d",
   "metadata": {},
   "source": [
    "## Ejemplo 2"
   ]
  },
  {
   "cell_type": "code",
   "execution_count": 1,
   "id": "6fe4474a",
   "metadata": {},
   "outputs": [],
   "source": [
    "cubo_de_datos = {\n",
    "    '2023': {\n",
    "        'Nueva York':{\n",
    "            'Televisor':5000,\n",
    "            'Teléfono':3000,\n",
    "        },\n",
    "        'San Francisco':{\n",
    "            'Televisor':4000,\n",
    "            'Teléfono':3500,\n",
    "        }\n",
    "    },\n",
    "    \n",
    "    '2022': {\n",
    "        'Nueva York':{\n",
    "            'Televisor':4500,\n",
    "            'Teléfono':2900,\n",
    "        },\n",
    "        'San Francisco':{\n",
    "            'Televisor':3900,\n",
    "            'Teléfono':3400,\n",
    "        }\n",
    "    }\n",
    "    \n",
    "}"
   ]
  },
  {
   "cell_type": "code",
   "execution_count": 2,
   "id": "0ca07169",
   "metadata": {},
   "outputs": [],
   "source": [
    "def consultar_ventas (tiempo, ubicacion, producto):\n",
    "    try:\n",
    "        return cubo_de_datos[tiempo][ubicacion][producto]\n",
    "    except KeyError:\n",
    "        return \"No disponible\""
   ]
  },
  {
   "cell_type": "code",
   "execution_count": 3,
   "id": "03bff2df",
   "metadata": {},
   "outputs": [
    {
     "name": "stdout",
     "output_type": "stream",
     "text": [
      "Ventas de televisores en Nueva York en 2023: $ 5000\n"
     ]
    }
   ],
   "source": [
    "print(\"Ventas de televisores en Nueva York en 2023: $\",consultar_ventas('2023', 'Nueva York', 'Televisor'))"
   ]
  }
 ],
 "metadata": {
  "kernelspec": {
   "display_name": "Python 3 (ipykernel)",
   "language": "python",
   "name": "python3"
  },
  "language_info": {
   "codemirror_mode": {
    "name": "ipython",
    "version": 3
   },
   "file_extension": ".py",
   "mimetype": "text/x-python",
   "name": "python",
   "nbconvert_exporter": "python",
   "pygments_lexer": "ipython3",
   "version": "3.11.3"
  }
 },
 "nbformat": 4,
 "nbformat_minor": 5
}
