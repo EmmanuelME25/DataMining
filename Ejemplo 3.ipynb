{
 "cells": [
  {
   "cell_type": "markdown",
   "id": "f23c03d9",
   "metadata": {},
   "source": [
    "## Ejemplo 3"
   ]
  },
  {
   "cell_type": "code",
   "execution_count": 1,
   "id": "586d7d1b",
   "metadata": {},
   "outputs": [],
   "source": [
    "cubo_de_datos = {\n",
    "    '2023': {\n",
    "        'Nueva York':{\n",
    "            'Televisor':5000,\n",
    "            'Teléfono':3000,\n",
    "        },\n",
    "        'San Francisco':{\n",
    "            'Televisor':4000,\n",
    "            'Teléfono':3500,\n",
    "        }\n",
    "    },\n",
    "    \n",
    "    '2022': {\n",
    "        'Nueva York':{\n",
    "            'Televisor':4500,\n",
    "            'Teléfono':2900,\n",
    "        },\n",
    "        'San Francisco':{\n",
    "            'Televisor':3900,\n",
    "            'Teléfono':3400,\n",
    "        }\n",
    "    }\n",
    "    \n",
    "}"
   ]
  },
  {
   "cell_type": "code",
   "execution_count": 2,
   "id": "ddf43427",
   "metadata": {},
   "outputs": [],
   "source": [
    "#Funcion para añadir datos al cubo\n",
    "def añadir_datos(tiempo,ubicacion,producto,ventas):\n",
    "    if tiempo not in cubo_de_datos:\n",
    "        cubo_de_datos[tiempo]={}\n",
    "    if ubicacion not in cubo_de_datos[tiempo]:\n",
    "        cubo_de_datos[tiempo][ubicacion]={}\n",
    "    cubo_de_datos[tiempo][ubicacion][producto] = ventas"
   ]
  },
  {
   "cell_type": "code",
   "execution_count": 3,
   "id": "39c69245",
   "metadata": {},
   "outputs": [
    {
     "name": "stdout",
     "output_type": "stream",
     "text": [
      "Ingrese el año (por ejemplo 2023): 2022\n",
      "Ingrese la ubicacion (por ejemplo, Nueva York): Nueva York\n",
      "Ingrese el tipo de producto (por ejemplo, Televisor): Teléfono\n",
      "Ingrese la cantidad total de ventas: 5900\n"
     ]
    }
   ],
   "source": [
    "#Permitir al usuario añadir datos\n",
    "tiempo = input(\"Ingrese el año (por ejemplo 2023): \")\n",
    "ubicacion = input(\"Ingrese la ubicacion (por ejemplo, Nueva York): \")\n",
    "producto = input(\"Ingrese el tipo de producto (por ejemplo, Televisor): \")\n",
    "ventas = int(input(\"Ingrese la cantidad total de ventas: \"))\n",
    "\n",
    "añadir_datos(tiempo,ubicacion,producto,ventas)"
   ]
  },
  {
   "cell_type": "code",
   "execution_count": 4,
   "id": "4a9670db",
   "metadata": {},
   "outputs": [
    {
     "name": "stdout",
     "output_type": "stream",
     "text": [
      "Ingrese el año que desea consultar: 2022\n",
      "Ingrese la ubicacion que desea consultar: Nueva York\n",
      "Ingrese tipo de producto que desea consultar: Teléfono\n"
     ]
    }
   ],
   "source": [
    "#Permitir al usuario hacer una consulta\n",
    "tiempo_consulta = input(\"Ingrese el año que desea consultar: \")\n",
    "ubicacion_consulta = input(\"Ingrese la ubicacion que desea consultar: \")\n",
    "producto_consulta = input(\"Ingrese tipo de producto que desea consultar: \")"
   ]
  },
  {
   "cell_type": "code",
   "execution_count": 5,
   "id": "2f3687c4",
   "metadata": {},
   "outputs": [
    {
     "name": "stdout",
     "output_type": "stream",
     "text": [
      "Ventas totales:  2022 Nueva York Teléfono\n"
     ]
    }
   ],
   "source": [
    "print(\"Ventas totales: \", tiempo_consulta, ubicacion_consulta,producto_consulta)"
   ]
  }
 ],
 "metadata": {
  "kernelspec": {
   "display_name": "Python 3 (ipykernel)",
   "language": "python",
   "name": "python3"
  },
  "language_info": {
   "codemirror_mode": {
    "name": "ipython",
    "version": 3
   },
   "file_extension": ".py",
   "mimetype": "text/x-python",
   "name": "python",
   "nbconvert_exporter": "python",
   "pygments_lexer": "ipython3",
   "version": "3.11.3"
  }
 },
 "nbformat": 4,
 "nbformat_minor": 5
}
