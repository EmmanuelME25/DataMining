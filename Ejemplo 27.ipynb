{
 "cells": [
  {
   "cell_type": "markdown",
   "id": "9706ec1b",
   "metadata": {
    "toc": true
   },
   "source": [
    "<h1>Table of Contents<span class=\"tocSkip\"></span></h1>\n",
    "<div class=\"toc\"><ul class=\"toc-item\"><li><span><a href=\"#ID3\" data-toc-modified-id=\"ID3-1\"><span class=\"toc-item-num\">1&nbsp;&nbsp;</span>ID3</a></span></li></ul></div>"
   ]
  },
  {
   "cell_type": "markdown",
   "id": "df544f3d",
   "metadata": {},
   "source": [
    "## ID3"
   ]
  },
  {
   "cell_type": "code",
   "execution_count": 1,
   "id": "ee2177ea",
   "metadata": {
    "ExecuteTime": {
     "end_time": "2023-11-15T19:19:44.634907Z",
     "start_time": "2023-11-15T19:19:44.632344Z"
    }
   },
   "outputs": [],
   "source": [
    "import numpy as np"
   ]
  },
  {
   "cell_type": "code",
   "execution_count": 2,
   "id": "7ca88376",
   "metadata": {
    "ExecuteTime": {
     "end_time": "2023-11-15T19:19:50.936535Z",
     "start_time": "2023-11-15T19:19:50.933679Z"
    }
   },
   "outputs": [],
   "source": [
    "labels = np.array([1, 0, 0, 1, 1, 1, 0, 1, 0, 1, 1, 1])"
   ]
  },
  {
   "cell_type": "markdown",
   "id": "5407bff8",
   "metadata": {},
   "source": [
    "Asumiendo que el problema sólo tiene dos clases las frecuencias relativas son:"
   ]
  },
  {
   "cell_type": "code",
   "execution_count": 5,
   "id": "4e391078",
   "metadata": {
    "ExecuteTime": {
     "end_time": "2023-11-15T19:20:43.082548Z",
     "start_time": "2023-11-15T19:20:43.075352Z"
    }
   },
   "outputs": [
    {
     "data": {
      "text/plain": [
       "array([0.33333333, 0.66666667])"
      ]
     },
     "execution_count": 5,
     "metadata": {},
     "output_type": "execute_result"
    }
   ],
   "source": [
    "_, counts = np.unique(labels, return_counts=True)\n",
    "counts/len(labels)"
   ]
  },
  {
   "cell_type": "markdown",
   "id": "c3cd207f",
   "metadata": {},
   "source": [
    "$$H(A) = - \\sum_{y \\in \\mathcal{Y}} p(y|A) \\log p(y|A)$$"
   ]
  },
  {
   "cell_type": "markdown",
   "id": "c061b69d",
   "metadata": {},
   "source": [
    "Y la entropía del conjunto sería:"
   ]
  },
  {
   "cell_type": "code",
   "execution_count": 6,
   "id": "d8e65689",
   "metadata": {
    "ExecuteTime": {
     "end_time": "2023-11-15T19:21:42.637573Z",
     "start_time": "2023-11-15T19:21:42.626932Z"
    }
   },
   "outputs": [
    {
     "data": {
      "text/plain": [
       "0.9182958340544893"
      ]
     },
     "execution_count": 6,
     "metadata": {},
     "output_type": "execute_result"
    }
   ],
   "source": [
    "def entropy(subset_labels):\n",
    "    unique, counts = np.unique(subset_labels, return_counts=True)\n",
    "    frequencies = counts/len(subset_labels)\n",
    "    return -np.sum(frequencies*np.log2(frequencies+1e-16))\n",
    "\n",
    "entropy(labels)"
   ]
  },
  {
   "cell_type": "markdown",
   "id": "3e8d89de",
   "metadata": {},
   "source": [
    "La entropía es máxima si hay igual cantidad de ejemplos de ambas clases (mínima pureza)"
   ]
  },
  {
   "cell_type": "code",
   "execution_count": 7,
   "id": "7f53f28f",
   "metadata": {
    "ExecuteTime": {
     "end_time": "2023-11-15T19:22:14.383867Z",
     "start_time": "2023-11-15T19:22:14.376866Z"
    }
   },
   "outputs": [
    {
     "data": {
      "text/plain": [
       "0.9999999999999997"
      ]
     },
     "execution_count": 7,
     "metadata": {},
     "output_type": "execute_result"
    }
   ],
   "source": [
    "B = np.array([1, 1, 1, 0, 0, 0])\n",
    "entropy(B)"
   ]
  },
  {
   "cell_type": "markdown",
   "id": "c5fa7e18",
   "metadata": {},
   "source": [
    "y mínima si todos los ejemplos son de una clase (máxima pureza)"
   ]
  },
  {
   "cell_type": "code",
   "execution_count": 8,
   "id": "ac9d3db8",
   "metadata": {
    "ExecuteTime": {
     "end_time": "2023-11-15T19:22:39.849930Z",
     "start_time": "2023-11-15T19:22:39.843272Z"
    }
   },
   "outputs": [
    {
     "data": {
      "text/plain": [
       "-0.0"
      ]
     },
     "execution_count": 8,
     "metadata": {},
     "output_type": "execute_result"
    }
   ],
   "source": [
    "C = np.array([1, 1, 1, 1, 1, 1])\n",
    "entropy(C)"
   ]
  },
  {
   "cell_type": "code",
   "execution_count": 9,
   "id": "dfc6a9ae",
   "metadata": {
    "ExecuteTime": {
     "end_time": "2023-11-15T19:24:41.782035Z",
     "start_time": "2023-11-15T19:24:40.641322Z"
    }
   },
   "outputs": [],
   "source": [
    "import pandas as pd"
   ]
  },
  {
   "cell_type": "markdown",
   "id": "e8f5f26e",
   "metadata": {},
   "source": [
    "$$G(D; D_{izq}, D_{der}) = H(D) - \\frac{|D_{izq}|}{|D|} H(D_{izq}) - \\frac{|D_{der}|}{|D|} H(D_{der})$$"
   ]
  },
  {
   "cell_type": "code",
   "execution_count": 11,
   "id": "f2231b36",
   "metadata": {
    "ExecuteTime": {
     "end_time": "2023-11-15T19:26:39.343814Z",
     "start_time": "2023-11-15T19:26:39.330217Z"
    }
   },
   "outputs": [
    {
     "data": {
      "text/html": [
       "<div>\n",
       "<style scoped>\n",
       "    .dataframe tbody tr th:only-of-type {\n",
       "        vertical-align: middle;\n",
       "    }\n",
       "\n",
       "    .dataframe tbody tr th {\n",
       "        vertical-align: top;\n",
       "    }\n",
       "\n",
       "    .dataframe thead th {\n",
       "        text-align: right;\n",
       "    }\n",
       "</style>\n",
       "<table border=\"1\" class=\"dataframe\">\n",
       "  <thead>\n",
       "    <tr style=\"text-align: right;\">\n",
       "      <th></th>\n",
       "      <th>tiempo</th>\n",
       "      <th>humedad</th>\n",
       "      <th>temperatura</th>\n",
       "    </tr>\n",
       "  </thead>\n",
       "  <tbody>\n",
       "    <tr>\n",
       "      <th>0</th>\n",
       "      <td>soleado</td>\n",
       "      <td>baja</td>\n",
       "      <td>templado</td>\n",
       "    </tr>\n",
       "    <tr>\n",
       "      <th>1</th>\n",
       "      <td>soleado</td>\n",
       "      <td>baja</td>\n",
       "      <td>caluroso</td>\n",
       "    </tr>\n",
       "    <tr>\n",
       "      <th>2</th>\n",
       "      <td>soleado</td>\n",
       "      <td>alta</td>\n",
       "      <td>caluroso</td>\n",
       "    </tr>\n",
       "    <tr>\n",
       "      <th>3</th>\n",
       "      <td>lluvioso</td>\n",
       "      <td>alta</td>\n",
       "      <td>templado</td>\n",
       "    </tr>\n",
       "    <tr>\n",
       "      <th>4</th>\n",
       "      <td>lluvioso</td>\n",
       "      <td>alta</td>\n",
       "      <td>frio</td>\n",
       "    </tr>\n",
       "  </tbody>\n",
       "</table>\n",
       "</div>"
      ],
      "text/plain": [
       "     tiempo humedad temperatura\n",
       "0   soleado    baja    templado\n",
       "1   soleado    baja    caluroso\n",
       "2   soleado    alta    caluroso\n",
       "3  lluvioso    alta    templado\n",
       "4  lluvioso    alta        frio"
      ]
     },
     "execution_count": 11,
     "metadata": {},
     "output_type": "execute_result"
    }
   ],
   "source": [
    "data = {'tiempo': ['soleado', 'soleado', 'soleado', 'lluvioso', 'lluvioso'], \n",
    "        'humedad': ['baja', 'baja', 'alta', 'alta', 'alta'],\n",
    "        'temperatura': ['templado', 'caluroso', 'caluroso', 'templado', 'frio']}\n",
    "\n",
    "node = pd.DataFrame(data)\n",
    "node"
   ]
  },
  {
   "cell_type": "code",
   "execution_count": 12,
   "id": "393b334d",
   "metadata": {
    "ExecuteTime": {
     "end_time": "2023-11-15T19:26:42.185304Z",
     "start_time": "2023-11-15T19:26:42.172412Z"
    }
   },
   "outputs": [
    {
     "name": "stdout",
     "output_type": "stream",
     "text": [
      "Ganancia de información de humedad: 0.419973\n",
      "Ganancia de información de temperatura: 0.570951\n"
     ]
    }
   ],
   "source": [
    "def info_gain(subset, feature):\n",
    "    subset_labels = subset[\"tiempo\"].values\n",
    "    entropy_root = entropy(subset_labels)\n",
    "    entropy_nodes = []\n",
    "    for unique_label in subset[feature].unique():\n",
    "        split = subset.loc[subset[feature] == unique_label]\n",
    "        split_labels = split[\"tiempo\"].values\n",
    "        entropy_nodes.append(entropy(split_labels)*len(split_labels)/len(subset_labels))\n",
    "    return entropy_root - sum(entropy_nodes)\n",
    "\n",
    "\n",
    "for feature in [\"humedad\", \"temperatura\"]:\n",
    "    print(f\"Ganancia de información de {feature}: {info_gain(node, feature):0.6f}\")"
   ]
  },
  {
   "cell_type": "code",
   "execution_count": 13,
   "id": "feb6e926",
   "metadata": {
    "ExecuteTime": {
     "end_time": "2023-11-15T19:26:52.616750Z",
     "start_time": "2023-11-15T19:26:52.605815Z"
    }
   },
   "outputs": [
    {
     "data": {
      "text/html": [
       "<div>\n",
       "<style scoped>\n",
       "    .dataframe tbody tr th:only-of-type {\n",
       "        vertical-align: middle;\n",
       "    }\n",
       "\n",
       "    .dataframe tbody tr th {\n",
       "        vertical-align: top;\n",
       "    }\n",
       "\n",
       "    .dataframe thead th {\n",
       "        text-align: right;\n",
       "    }\n",
       "</style>\n",
       "<table border=\"1\" class=\"dataframe\">\n",
       "  <thead>\n",
       "    <tr style=\"text-align: right;\">\n",
       "      <th></th>\n",
       "      <th>tiempo</th>\n",
       "      <th>humedad</th>\n",
       "      <th>temperatura</th>\n",
       "    </tr>\n",
       "  </thead>\n",
       "  <tbody>\n",
       "    <tr>\n",
       "      <th>4</th>\n",
       "      <td>lluvioso</td>\n",
       "      <td>alta</td>\n",
       "      <td>frio</td>\n",
       "    </tr>\n",
       "  </tbody>\n",
       "</table>\n",
       "</div>"
      ],
      "text/plain": [
       "     tiempo humedad temperatura\n",
       "4  lluvioso    alta        frio"
      ]
     },
     "execution_count": 13,
     "metadata": {},
     "output_type": "execute_result"
    }
   ],
   "source": [
    "node.loc[node[\"temperatura\"] == 'frio']"
   ]
  },
  {
   "cell_type": "code",
   "execution_count": 14,
   "id": "4e74b0b1",
   "metadata": {
    "ExecuteTime": {
     "end_time": "2023-11-15T19:27:07.051703Z",
     "start_time": "2023-11-15T19:27:07.041848Z"
    }
   },
   "outputs": [
    {
     "data": {
      "text/html": [
       "<div>\n",
       "<style scoped>\n",
       "    .dataframe tbody tr th:only-of-type {\n",
       "        vertical-align: middle;\n",
       "    }\n",
       "\n",
       "    .dataframe tbody tr th {\n",
       "        vertical-align: top;\n",
       "    }\n",
       "\n",
       "    .dataframe thead th {\n",
       "        text-align: right;\n",
       "    }\n",
       "</style>\n",
       "<table border=\"1\" class=\"dataframe\">\n",
       "  <thead>\n",
       "    <tr style=\"text-align: right;\">\n",
       "      <th></th>\n",
       "      <th>tiempo</th>\n",
       "      <th>humedad</th>\n",
       "      <th>temperatura</th>\n",
       "    </tr>\n",
       "  </thead>\n",
       "  <tbody>\n",
       "    <tr>\n",
       "      <th>1</th>\n",
       "      <td>soleado</td>\n",
       "      <td>baja</td>\n",
       "      <td>caluroso</td>\n",
       "    </tr>\n",
       "    <tr>\n",
       "      <th>2</th>\n",
       "      <td>soleado</td>\n",
       "      <td>alta</td>\n",
       "      <td>caluroso</td>\n",
       "    </tr>\n",
       "  </tbody>\n",
       "</table>\n",
       "</div>"
      ],
      "text/plain": [
       "    tiempo humedad temperatura\n",
       "1  soleado    baja    caluroso\n",
       "2  soleado    alta    caluroso"
      ]
     },
     "execution_count": 14,
     "metadata": {},
     "output_type": "execute_result"
    }
   ],
   "source": [
    "node.loc[node[\"temperatura\"] == 'caluroso']"
   ]
  },
  {
   "cell_type": "code",
   "execution_count": 15,
   "id": "97cc434b",
   "metadata": {
    "ExecuteTime": {
     "end_time": "2023-11-15T19:27:18.417824Z",
     "start_time": "2023-11-15T19:27:18.406743Z"
    }
   },
   "outputs": [
    {
     "data": {
      "text/html": [
       "<div>\n",
       "<style scoped>\n",
       "    .dataframe tbody tr th:only-of-type {\n",
       "        vertical-align: middle;\n",
       "    }\n",
       "\n",
       "    .dataframe tbody tr th {\n",
       "        vertical-align: top;\n",
       "    }\n",
       "\n",
       "    .dataframe thead th {\n",
       "        text-align: right;\n",
       "    }\n",
       "</style>\n",
       "<table border=\"1\" class=\"dataframe\">\n",
       "  <thead>\n",
       "    <tr style=\"text-align: right;\">\n",
       "      <th></th>\n",
       "      <th>tiempo</th>\n",
       "      <th>humedad</th>\n",
       "      <th>temperatura</th>\n",
       "    </tr>\n",
       "  </thead>\n",
       "  <tbody>\n",
       "    <tr>\n",
       "      <th>0</th>\n",
       "      <td>soleado</td>\n",
       "      <td>baja</td>\n",
       "      <td>templado</td>\n",
       "    </tr>\n",
       "    <tr>\n",
       "      <th>3</th>\n",
       "      <td>lluvioso</td>\n",
       "      <td>alta</td>\n",
       "      <td>templado</td>\n",
       "    </tr>\n",
       "  </tbody>\n",
       "</table>\n",
       "</div>"
      ],
      "text/plain": [
       "     tiempo humedad temperatura\n",
       "0   soleado    baja    templado\n",
       "3  lluvioso    alta    templado"
      ]
     },
     "execution_count": 15,
     "metadata": {},
     "output_type": "execute_result"
    }
   ],
   "source": [
    "node.loc[node[\"temperatura\"] == 'templado']"
   ]
  },
  {
   "cell_type": "code",
   "execution_count": 16,
   "id": "326405d1",
   "metadata": {
    "ExecuteTime": {
     "end_time": "2023-11-15T19:27:26.668433Z",
     "start_time": "2023-11-15T19:27:26.658015Z"
    }
   },
   "outputs": [
    {
     "name": "stdout",
     "output_type": "stream",
     "text": [
      "Ganancia de información de humedad: 0.9999999999999997\n",
      "Ganancia de información de temperatura: 0.0\n"
     ]
    }
   ],
   "source": [
    "node = node.loc[node[\"temperatura\"] == 'templado']\n",
    "for feature in [\"humedad\", \"temperatura\"]:\n",
    "    print(f\"Ganancia de información de {feature}: {info_gain(node, feature)}\")"
   ]
  },
  {
   "cell_type": "code",
   "execution_count": null,
   "id": "b803ba52",
   "metadata": {},
   "outputs": [],
   "source": []
  }
 ],
 "metadata": {
  "kernelspec": {
   "display_name": "Python 3 (ipykernel)",
   "language": "python",
   "name": "python3"
  },
  "language_info": {
   "codemirror_mode": {
    "name": "ipython",
    "version": 3
   },
   "file_extension": ".py",
   "mimetype": "text/x-python",
   "name": "python",
   "nbconvert_exporter": "python",
   "pygments_lexer": "ipython3",
   "version": "3.11.3"
  },
  "toc": {
   "base_numbering": 1,
   "nav_menu": {},
   "number_sections": true,
   "sideBar": true,
   "skip_h1_title": false,
   "title_cell": "Table of Contents",
   "title_sidebar": "Contents",
   "toc_cell": true,
   "toc_position": {},
   "toc_section_display": true,
   "toc_window_display": false
  },
  "varInspector": {
   "cols": {
    "lenName": 16,
    "lenType": 16,
    "lenVar": 40
   },
   "kernels_config": {
    "python": {
     "delete_cmd_postfix": "",
     "delete_cmd_prefix": "del ",
     "library": "var_list.py",
     "varRefreshCmd": "print(var_dic_list())"
    },
    "r": {
     "delete_cmd_postfix": ") ",
     "delete_cmd_prefix": "rm(",
     "library": "var_list.r",
     "varRefreshCmd": "cat(var_dic_list()) "
    }
   },
   "types_to_exclude": [
    "module",
    "function",
    "builtin_function_or_method",
    "instance",
    "_Feature"
   ],
   "window_display": false
  }
 },
 "nbformat": 4,
 "nbformat_minor": 5
}
