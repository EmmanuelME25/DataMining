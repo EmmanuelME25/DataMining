{
 "cells": [
  {
   "cell_type": "markdown",
   "id": "a76564bb",
   "metadata": {},
   "source": [
    "## Ejemplo 10"
   ]
  },
  {
   "cell_type": "code",
   "execution_count": 9,
   "id": "50c3fa4b",
   "metadata": {},
   "outputs": [],
   "source": [
    "import pandas as pd\n",
    "import numpy as np\n",
    "from datetime import datetime"
   ]
  },
  {
   "cell_type": "code",
   "execution_count": 2,
   "id": "3b3c5712",
   "metadata": {},
   "outputs": [
    {
     "name": "stdout",
     "output_type": "stream",
     "text": [
      "Datos categoricos: \n",
      "0     rojo\n",
      "1    verde\n",
      "2     azul\n",
      "3     rojo\n",
      "dtype: category\n",
      "Categories (3, object): ['azul', 'rojo', 'verde']\n"
     ]
    }
   ],
   "source": [
    "categorias = pd.Series(['rojo','verde','azul','rojo'],dtype='category')\n",
    "print(\"Datos categoricos: \")\n",
    "print(categorias)"
   ]
  },
  {
   "cell_type": "code",
   "execution_count": 3,
   "id": "9443c877",
   "metadata": {},
   "outputs": [
    {
     "name": "stdout",
     "output_type": "stream",
     "text": [
      "Datos Ordinales: \n",
      "['bajo', 'medio', NaN, 'medio']\n",
      "Categories (3, object): ['bajo' < 'medio' < 'alto']\n"
     ]
    }
   ],
   "source": [
    "ordinales = pd.Categorical(['bajo','medio','aldo','medio'],categories=['bajo','medio','alto'],ordered=True)\n",
    "print(\"Datos Ordinales: \")\n",
    "print(ordinales)"
   ]
  },
  {
   "cell_type": "code",
   "execution_count": 10,
   "id": "8f80ca81",
   "metadata": {},
   "outputs": [
    {
     "name": "stdout",
     "output_type": "stream",
     "text": [
      "Datos temporales:\n",
      "0   2023-01-01\n",
      "1   2023-01-02\n",
      "2   2023-01-03\n",
      "dtype: datetime64[ns]\n"
     ]
    }
   ],
   "source": [
    "fechas = pd.Series([datetime(2023, 1, 1), datetime(2023, 1, 2), datetime(2023, 1, 3)])\n",
    "print(\"Datos temporales:\")\n",
    "print(fechas)"
   ]
  },
  {
   "cell_type": "code",
   "execution_count": 5,
   "id": "9ef53b3e",
   "metadata": {},
   "outputs": [
    {
     "name": "stdout",
     "output_type": "stream",
     "text": [
      "Datos de textos:\n",
      "0                    Hola mundo\n",
      "1    Mineria de datos en Python\n",
      "2                Tipos de datos\n",
      "dtype: object\n"
     ]
    }
   ],
   "source": [
    "textos = pd.Series([\"Hola mundo\", \"Mineria de datos en Python\", \"Tipos de datos\"])\n",
    "print(\"Datos de textos:\")\n",
    "print(textos)"
   ]
  },
  {
   "cell_type": "code",
   "execution_count": 6,
   "id": "c24ed927",
   "metadata": {},
   "outputs": [
    {
     "name": "stdout",
     "output_type": "stream",
     "text": [
      "Datos Multidimencionales:\n",
      "  categorica  numerica\n",
      "0          A        10\n",
      "1          B        20\n",
      "2          C        30\n",
      "3          A        40\n"
     ]
    }
   ],
   "source": [
    "data = {\n",
    "    'categorica': ['A','B','C','A'],\n",
    "    'numerica': [10,20,30,40]\n",
    "}\n",
    "df = pd.DataFrame(data)\n",
    "print(\"Datos Multidimencionales:\")\n",
    "print(df)"
   ]
  }
 ],
 "metadata": {
  "kernelspec": {
   "display_name": "Python 3 (ipykernel)",
   "language": "python",
   "name": "python3"
  },
  "language_info": {
   "codemirror_mode": {
    "name": "ipython",
    "version": 3
   },
   "file_extension": ".py",
   "mimetype": "text/x-python",
   "name": "python",
   "nbconvert_exporter": "python",
   "pygments_lexer": "ipython3",
   "version": "3.11.3"
  }
 },
 "nbformat": 4,
 "nbformat_minor": 5
}
