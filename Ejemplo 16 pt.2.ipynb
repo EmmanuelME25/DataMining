{
 "cells": [
  {
   "cell_type": "markdown",
   "id": "07bc4df5",
   "metadata": {},
   "source": [
    "## Ejercicio 16"
   ]
  },
  {
   "cell_type": "markdown",
   "id": "f052bdf6",
   "metadata": {},
   "source": [
    "### Redes Neuronales Artificiales 02"
   ]
  },
  {
   "cell_type": "code",
   "execution_count": 1,
   "id": "0392b3ee",
   "metadata": {},
   "outputs": [],
   "source": [
    "import numpy as np\n",
    "import tensorflow as tf\n",
    "from tensorflow import keras\n",
    "from tensorflow.keras.models import Sequential\n",
    "from tensorflow.keras.layers import Dense\n",
    "import matplotlib.pyplot as plt"
   ]
  },
  {
   "cell_type": "code",
   "execution_count": 2,
   "id": "7693e900",
   "metadata": {},
   "outputs": [],
   "source": [
    "# Generamos datos aleatorios\n",
    "np.random.seed(0)\n",
    "data = np.random.rand(1000, 2)\n",
    "labels = (data[:, 0] + data[:, 1]) > 1  # Etiqueta es 1 si la suma de las coordenadas es mayor que 1, 0 en caso contrario"
   ]
  },
  {
   "cell_type": "code",
   "execution_count": 3,
   "id": "1703faef",
   "metadata": {},
   "outputs": [],
   "source": [
    "model = Sequential()\n",
    "model.add(Dense(4, input_dim=2, activation='relu'))  # Capa oculta con 4 neuronas y activación ReLU\n",
    "model.add(Dense(1, activation='sigmoid'))  # Capa de salida con activación sigmoide"
   ]
  },
  {
   "cell_type": "code",
   "execution_count": 4,
   "id": "641e50aa",
   "metadata": {},
   "outputs": [],
   "source": [
    "model.compile(loss='binary_crossentropy', optimizer='adam', metrics=['accuracy'])"
   ]
  },
  {
   "cell_type": "code",
   "execution_count": 5,
   "id": "84eda217",
   "metadata": {},
   "outputs": [
    {
     "name": "stdout",
     "output_type": "stream",
     "text": [
      "Epoch 1/20\n",
      "32/32 [==============================] - 0s 473us/step - loss: 0.6932 - accuracy: 0.5020\n",
      "Epoch 2/20\n",
      "32/32 [==============================] - 0s 429us/step - loss: 0.6932 - accuracy: 0.5070\n",
      "Epoch 3/20\n",
      " 1/32 [..............................] - ETA: 0s - loss: 0.6930 - accuracy: 0.5312"
     ]
    },
    {
     "name": "stderr",
     "output_type": "stream",
     "text": [
      "2023-10-02 11:14:27.031412: W tensorflow/tsl/platform/profile_utils/cpu_utils.cc:128] Failed to get CPU frequency: 0 Hz\n"
     ]
    },
    {
     "name": "stdout",
     "output_type": "stream",
     "text": [
      "32/32 [==============================] - 0s 394us/step - loss: 0.6931 - accuracy: 0.5070\n",
      "Epoch 4/20\n",
      "32/32 [==============================] - 0s 392us/step - loss: 0.6931 - accuracy: 0.5070\n",
      "Epoch 5/20\n",
      "32/32 [==============================] - 0s 394us/step - loss: 0.6931 - accuracy: 0.5070\n",
      "Epoch 6/20\n",
      "32/32 [==============================] - 0s 384us/step - loss: 0.6931 - accuracy: 0.5070\n",
      "Epoch 7/20\n",
      "32/32 [==============================] - 0s 367us/step - loss: 0.6931 - accuracy: 0.5070\n",
      "Epoch 8/20\n",
      "32/32 [==============================] - 0s 358us/step - loss: 0.6931 - accuracy: 0.5070\n",
      "Epoch 9/20\n",
      "32/32 [==============================] - 0s 381us/step - loss: 0.6931 - accuracy: 0.5070\n",
      "Epoch 10/20\n",
      "32/32 [==============================] - 0s 378us/step - loss: 0.6931 - accuracy: 0.5070\n",
      "Epoch 11/20\n",
      "32/32 [==============================] - 0s 375us/step - loss: 0.6931 - accuracy: 0.5070\n",
      "Epoch 12/20\n",
      "32/32 [==============================] - 0s 378us/step - loss: 0.6931 - accuracy: 0.5070\n",
      "Epoch 13/20\n",
      "32/32 [==============================] - 0s 355us/step - loss: 0.6931 - accuracy: 0.5070\n",
      "Epoch 14/20\n",
      "32/32 [==============================] - 0s 370us/step - loss: 0.6931 - accuracy: 0.5070\n",
      "Epoch 15/20\n",
      "32/32 [==============================] - 0s 378us/step - loss: 0.6931 - accuracy: 0.5070\n",
      "Epoch 16/20\n",
      "32/32 [==============================] - 0s 373us/step - loss: 0.6931 - accuracy: 0.5070\n",
      "Epoch 17/20\n",
      "32/32 [==============================] - 0s 371us/step - loss: 0.6931 - accuracy: 0.5070\n",
      "Epoch 18/20\n",
      "32/32 [==============================] - 0s 372us/step - loss: 0.6931 - accuracy: 0.5070\n",
      "Epoch 19/20\n",
      "32/32 [==============================] - 0s 372us/step - loss: 0.6931 - accuracy: 0.5070\n",
      "Epoch 20/20\n",
      "32/32 [==============================] - 0s 377us/step - loss: 0.6931 - accuracy: 0.5070\n"
     ]
    }
   ],
   "source": [
    "history = model.fit(data, labels, epochs=20, verbose=1)"
   ]
  },
  {
   "cell_type": "code",
   "execution_count": 6,
   "id": "9f9d7ea1",
   "metadata": {},
   "outputs": [
    {
     "name": "stdout",
     "output_type": "stream",
     "text": [
      "32/32 [==============================] - 0s 398us/step - loss: 0.6930 - accuracy: 0.5070\n",
      "Accuracy: 50.70%\n"
     ]
    }
   ],
   "source": [
    "loss, accuracy = model.evaluate(data, labels)\n",
    "print(f'Accuracy: {accuracy * 100:.2f}%')"
   ]
  },
  {
   "cell_type": "code",
   "execution_count": 7,
   "id": "d48fa078",
   "metadata": {},
   "outputs": [
    {
     "data": {
      "image/png": "[encoded data removed]",
      "text/plain": [
       "<Figure size 640x480 with 1 Axes>"
      ]
     },
     "metadata": {},
     "output_type": "display_data"
    }
   ],
   "source": [
    "plt.plot(history.history['accuracy'])\n",
    "plt.title('Accuracy over epochs')\n",
    "plt.xlabel('Epoch')\n",
    "plt.ylabel('Accuracy')\n",
    "plt.show()"
   ]
  }
 ],
 "metadata": {
  "kernelspec": {
   "display_name": "Python 3 (ipykernel)",
   "language": "python",
   "name": "python3"
  },
  "language_info": {
   "codemirror_mode": {
    "name": "ipython",
    "version": 3
   },
   "file_extension": ".py",
   "mimetype": "text/x-python",
   "name": "python",
   "nbconvert_exporter": "python",
   "pygments_lexer": "ipython3",
   "version": "3.11.3"
  }
 },
 "nbformat": 4,
 "nbformat_minor": 5
}
