{
 "cells": [
  {
   "cell_type": "markdown",
   "id": "02b0ab92",
   "metadata": {},
   "source": [
    "## Ejemplo 18"
   ]
  },
  {
   "cell_type": "code",
   "execution_count": 1,
   "id": "d1b7983b",
   "metadata": {},
   "outputs": [],
   "source": [
    "import pandas as pd\n",
    "import numpy as np\n",
    "from sklearn.model_selection import train_test_split\n",
    "from sklearn.linear_model import LogisticRegression\n",
    "from sklearn.metrics import accuracy_score, classification_report\n",
    "from sklearn.preprocessing import StandardScaler, OneHotEncoder\n",
    "from sklearn.compose import ColumnTransformer\n",
    "from sklearn.pipeline import Pipeline"
   ]
  },
  {
   "cell_type": "code",
   "execution_count": 2,
   "id": "e35e332f",
   "metadata": {},
   "outputs": [],
   "source": [
    "np.random.seed(42)\n",
    "n_samples = 1000\n",
    "edades = np.random.randint(18, 70, n_samples)\n",
    "salarios = np.random.randint(20000, 100000, n_samples)\n",
    "tipo_producto = np.random.choice(['A', 'B', 'C'], n_samples)\n",
    "interacciones = np.random.randint(1, 20, n_samples)\n",
    "churn = np.where(\n",
    "    (salarios < 30000) | \n",
    "    (interacciones > 15), 1, 0\n",
    ")"
   ]
  },
  {
   "cell_type": "code",
   "execution_count": 3,
   "id": "1731dded",
   "metadata": {},
   "outputs": [],
   "source": [
    "df = pd.DataFrame({\n",
    "    'edad': edades,\n",
    "    'salario': salarios,\n",
    "    'tipo_producto': tipo_producto,\n",
    "    'interacciones': interacciones,\n",
    "    'Churn': churn\n",
    "})"
   ]
  },
  {
   "cell_type": "code",
   "execution_count": 4,
   "id": "4acf29cf",
   "metadata": {},
   "outputs": [
    {
     "name": "stdout",
     "output_type": "stream",
     "text": [
      "   edad  salario tipo_producto  interacciones  Churn\n",
      "0    56  54674.0             B              9      0\n",
      "1    69  55854.0             A              6      0\n",
      "2    46  66271.0             A             18      1\n",
      "3    32  93688.0             A              6      0\n",
      "4    60  58518.0             B             19      1\n"
     ]
    }
   ],
   "source": [
    "indices_faltantes = np.random.choice(df.index, size=int(0.05 * n_samples), replace=False)\n",
    "df.loc[indices_faltantes, 'salario'] = np.nan\n",
    "print(df.head())"
   ]
  },
  {
   "cell_type": "code",
   "execution_count": 5,
   "id": "c495bd1d",
   "metadata": {},
   "outputs": [],
   "source": [
    "# Preprocesamiento\n",
    "# Llenar valores faltantes y eliminar registros con edades erróneas\n",
    "df['salario'].fillna(df['salario'].mean(), inplace=True)\n",
    "df = df[df['edad'] < 120]"
   ]
  },
  {
   "cell_type": "code",
   "execution_count": 6,
   "id": "b43a28f8",
   "metadata": {},
   "outputs": [],
   "source": [
    "# Transformación\n",
    "# Variables categóricas y numéricas\n",
    "cat_features = ['tipo_producto']\n",
    "num_features = ['edad', 'salario', 'interacciones']"
   ]
  },
  {
   "cell_type": "code",
   "execution_count": 7,
   "id": "6e89a4be",
   "metadata": {},
   "outputs": [],
   "source": [
    "# Crear transformadores para variables categóricas y numéricas\n",
    "transformers = [\n",
    "    ('num', StandardScaler(), num_features),\n",
    "    ('cat', OneHotEncoder(drop='first'), cat_features)\n",
    "]\n",
    "preprocessor = ColumnTransformer(transformers)"
   ]
  },
  {
   "cell_type": "code",
   "execution_count": 8,
   "id": "7edcb1cc",
   "metadata": {},
   "outputs": [],
   "source": [
    "# Minería de datos\n",
    "# Dividir los datos en entrenamiento y prueba\n",
    "X = df.drop('Churn', axis=1)\n",
    "y = df['Churn']"
   ]
  },
  {
   "cell_type": "code",
   "execution_count": 9,
   "id": "77a63b19",
   "metadata": {},
   "outputs": [],
   "source": [
    "X_train, X_test, y_train, y_test = train_test_split(X, y, test_size=0.2, random_state=42)"
   ]
  },
  {
   "cell_type": "code",
   "execution_count": 10,
   "id": "c7e6a3c4",
   "metadata": {},
   "outputs": [],
   "source": [
    "pipeline = Pipeline([\n",
    "    ('preprocessor', preprocessor),\n",
    "    ('classifier', LogisticRegression())\n",
    "])"
   ]
  },
  {
   "cell_type": "code",
   "execution_count": 11,
   "id": "8fd97cf9",
   "metadata": {},
   "outputs": [
    {
     "name": "stdout",
     "output_type": "stream",
     "text": [
      "0.805\n",
      "              precision    recall  f1-score   support\n",
      "\n",
      "           0       0.85      0.87      0.86       136\n",
      "           1       0.70      0.67      0.69        64\n",
      "\n",
      "    accuracy                           0.81       200\n",
      "   macro avg       0.78      0.77      0.77       200\n",
      "weighted avg       0.80      0.81      0.80       200\n",
      "\n"
     ]
    }
   ],
   "source": [
    "pipeline.fit(X_train, y_train)\n",
    "y_pred = pipeline.predict(X_test)\n",
    "print(accuracy_score(y_test, y_pred))\n",
    "print(classification_report(y_test, y_pred))"
   ]
  }
 ],
 "metadata": {
  "kernelspec": {
   "display_name": "Python 3 (ipykernel)",
   "language": "python",
   "name": "python3"
  },
  "language_info": {
   "codemirror_mode": {
    "name": "ipython",
    "version": 3
   },
   "file_extension": ".py",
   "mimetype": "text/x-python",
   "name": "python",
   "nbconvert_exporter": "python",
   "pygments_lexer": "ipython3",
   "version": "3.11.3"
  }
 },
 "nbformat": 4,
 "nbformat_minor": 5
}
