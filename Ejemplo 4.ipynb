{
 "cells": [
  {
   "cell_type": "markdown",
   "id": "9b2ac2d1",
   "metadata": {},
   "source": [
    "## Ejemplo 4"
   ]
  },
  {
   "cell_type": "code",
   "execution_count": 1,
   "id": "44da1d4b",
   "metadata": {},
   "outputs": [],
   "source": [
    "#Inicializamos un diccionario vacio para actuar como nuestro cubo de datos\n",
    "cubo_de_datos = ()\n",
    "\n",
    "def añadir_datos(tiempo,ubicacion,producto,ventas):\n",
    "    if tiempo not in cubo_de_datos:\n",
    "        cubo_de_datos[tiempo]={}\n",
    "    if ubicacion not in cubo_de_datos[tiempo]:\n",
    "        cubo_de_datos[tiempo][ubicacion]={}\n",
    "    cubo_de_datos[tiempo][ubicacion][producto] = ventas"
   ]
  },
  {
   "cell_type": "code",
   "execution_count": 2,
   "id": "ae461226",
   "metadata": {},
   "outputs": [],
   "source": [
    "#Funcion para mostrar el cubo de datos\n",
    "def mostrar_cubo():\n",
    "    for tiempo,datos_tiempo in cubo_de_datos.items():\n",
    "        print(f\"año:{tiempo}\")\n",
    "        for ubicacion, datos_ubicacion in datos_tiempo.items():\n",
    "            print(f\"ubicacaion :{ubicacion}\")\n",
    "            for producto,ventas in datos_ubicacion.items():\n",
    "                print(f\"productos:{producto}, ventas totales:{ventas}\")"
   ]
  },
  {
   "cell_type": "code",
   "execution_count": null,
   "id": "92d52535",
   "metadata": {},
   "outputs": [
    {
     "name": "stdout",
     "output_type": "stream",
     "text": [
      "----Llenar el cubo de datos----\n"
     ]
    }
   ],
   "source": [
    "#Interaccion con el usuario para llenar el cubo de datos\n",
    "while True:\n",
    "    print(\"----Llenar el cubo de datos----\")\n",
    "    \n",
    "    tiempo = input(\"ingrese el año (por ejemplo, 2023): \")\n",
    "    ubicacion = input (\"ingrese la ubicacion (por ejemplo, Nueva York): \")\n",
    "    producto = input(\"ingrese el tipo de producto (por ejemplo, Televisor): \")\n",
    "    ventas = int(input(\"ingrese la cantidad total de ventas: \"))\n",
    "    \n",
    "    añadir_datos(tiempo,ubicacion,producto,ventas)\n",
    "    \n",
    "    mostrar_cubo()\n",
    "    \n",
    "    continuar = input(\"¿desea continuar añadiendo daots? [s/n]: \")\n",
    "    if continuar.lower() !='s':\n",
    "        break"
   ]
  }
 ],
 "metadata": {
  "kernelspec": {
   "display_name": "Python 3 (ipykernel)",
   "language": "python",
   "name": "python3"
  },
  "language_info": {
   "codemirror_mode": {
    "name": "ipython",
    "version": 3
   },
   "file_extension": ".py",
   "mimetype": "text/x-python",
   "name": "python",
   "nbconvert_exporter": "python",
   "pygments_lexer": "ipython3",
   "version": "3.11.3"
  }
 },
 "nbformat": 4,
 "nbformat_minor": 5
}
