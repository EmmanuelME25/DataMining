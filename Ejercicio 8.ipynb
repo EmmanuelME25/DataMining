{
 "cells": [
  {
   "cell_type": "markdown",
   "id": "0ed77dc3",
   "metadata": {},
   "source": [
    "## Ejercicio 8"
   ]
  },
  {
   "cell_type": "code",
   "execution_count": 2,
   "id": "98dd2211",
   "metadata": {},
   "outputs": [],
   "source": [
    "import pandas as pd"
   ]
  },
  {
   "cell_type": "code",
   "execution_count": 1,
   "id": "73fc9ca0",
   "metadata": {},
   "outputs": [],
   "source": [
    "data = {\n",
    "    'Fecha': ['2021-01', '2021-01', '2021-02', '2021-02', '2021-03'],\n",
    "    'Producto': ['Manzana', 'Banana', 'Manzana', 'Banana', 'Manzana'],\n",
    "    'Region': ['Norte', 'Norte', 'Sur', 'Sur', 'Oeste'],\n",
    "    'Ventas': [100, 75, 90, 80, 110]\n",
    "}"
   ]
  },
  {
   "cell_type": "code",
   "execution_count": 12,
   "id": "c11f675a",
   "metadata": {},
   "outputs": [
    {
     "name": "stdout",
     "output_type": "stream",
     "text": [
      "DataFrame Original:\n",
      "     Fecha Producto Region  Ventas\n",
      "0  2021-01  Manzana  Norte     100\n",
      "1  2021-01   Banana  Norte      75\n",
      "2  2021-02  Manzana    Sur      90\n",
      "3  2021-02   Banana    Sur      80\n",
      "4  2021-03  Manzana  Oeste     110\n"
     ]
    }
   ],
   "source": [
    "df = pd.DataFrame(data)\n",
    "print(\"DataFrame Original:\")\n",
    "print(df)"
   ]
  },
  {
   "cell_type": "code",
   "execution_count": 13,
   "id": "9a0c9b1c",
   "metadata": {},
   "outputs": [
    {
     "name": "stdout",
     "output_type": "stream",
     "text": [
      "\n",
      "Drill-Down (Ventas por Mes y Producto):\n",
      "                  Ventas\n",
      "Fecha   Producto        \n",
      "2021-01 Banana        75\n",
      "        Manzana      100\n",
      "2021-02 Banana        80\n",
      "        Manzana       90\n",
      "2021-03 Manzana      110\n"
     ]
    },
    {
     "name": "stderr",
     "output_type": "stream",
     "text": [
      "/var/folders/hh/g6fqg94s6x9frs4dt49gl1rr0000gn/T/ipykernel_2640/1516755669.py:3: FutureWarning: The default value of numeric_only in DataFrameGroupBy.sum is deprecated. In a future version, numeric_only will default to False. Either specify numeric_only or select only columns which should be valid for the function.\n",
      "  drill_down = df.groupby(['Fecha', 'Producto']).sum()\n"
     ]
    }
   ],
   "source": [
    "#Drill-Down: Detallar las ventas por mes y producto\n",
    "print(\"\\nDrill-Down (Ventas por Mes y Producto):\")\n",
    "drill_down = df.groupby(['Fecha', 'Producto']).sum()\n",
    "print(drill_down)"
   ]
  },
  {
   "cell_type": "code",
   "execution_count": 14,
   "id": "f9da849c",
   "metadata": {},
   "outputs": [
    {
     "name": "stdout",
     "output_type": "stream",
     "text": [
      "\n",
      "Roll-Up (Ventas por Mes):\n",
      "         Ventas\n",
      "Fecha          \n",
      "2021-01     175\n",
      "2021-02     170\n",
      "2021-03     110\n"
     ]
    },
    {
     "name": "stderr",
     "output_type": "stream",
     "text": [
      "/var/folders/hh/g6fqg94s6x9frs4dt49gl1rr0000gn/T/ipykernel_2640/4022562515.py:3: FutureWarning: The default value of numeric_only in DataFrameGroupBy.sum is deprecated. In a future version, numeric_only will default to False. Either specify numeric_only or select only columns which should be valid for the function.\n",
      "  roll_up = df.groupby('Fecha').sum()\n"
     ]
    }
   ],
   "source": [
    "#Roll-Up: Resumir las ventas por mes\n",
    "print(\"\\nRoll-Up (Ventas por Mes):\")\n",
    "roll_up = df.groupby('Fecha').sum()\n",
    "print(roll_up)"
   ]
  },
  {
   "cell_type": "code",
   "execution_count": 15,
   "id": "e10cd34e",
   "metadata": {},
   "outputs": [
    {
     "name": "stdout",
     "output_type": "stream",
     "text": [
      "\n",
      "Slice (Ventas en Enero 2021):\n",
      "     Fecha Producto Region  Ventas\n",
      "0  2021-01  Manzana  Norte     100\n",
      "1  2021-01   Banana  Norte      75\n"
     ]
    }
   ],
   "source": [
    "#Slice: Seleccionar ventas en el mes '2021-01'\n",
    "print(\"\\nSlice (Ventas en Enero 2021):\")\n",
    "slice_op = df[df['Fecha'] == '2021-01']\n",
    "print(slice_op)"
   ]
  },
  {
   "cell_type": "code",
   "execution_count": 16,
   "id": "231d25f2",
   "metadata": {},
   "outputs": [
    {
     "name": "stdout",
     "output_type": "stream",
     "text": [
      "\n",
      "Dice (Ventas de Manzanas en Enero 2021):\n",
      "     Fecha Producto Region  Ventas\n",
      "0  2021-01  Manzana  Norte     100\n"
     ]
    }
   ],
   "source": [
    "#Dice: Seleccionar ventas de 'Manzana' en el mes '2021-01'\n",
    "print(\"\\nDice (Ventas de Manzanas en Enero 2021):\")\n",
    "dice_op = df[(df['Producto'] == 'Manzana') & (df['Fecha'] == '2021-01')]\n",
    "print(dice_op)"
   ]
  },
  {
   "cell_type": "code",
   "execution_count": 24,
   "id": "04050e3c",
   "metadata": {},
   "outputs": [
    {
     "name": "stdout",
     "output_type": "stream",
     "text": [
      "\n",
      "Pivot (Cambiar dimensiones):\n",
      "Fecha     2021-01  2021-02  2021-03\n",
      "Producto                           \n",
      "Banana       75.0     80.0      NaN\n",
      "Manzana     100.0     90.0    110.0\n"
     ]
    }
   ],
   "source": [
    "#Pivote: Cambiar las dimensiones de Fecha y Producto\n",
    "print(\"\\nPivot (Cambiar dimensiones):\")\n",
    "pivot_op = pd.pivot_table(df, values='Ventas', index='Producto', \n",
    "                          columns='Fecha', aggfunc='sum')\n",
    "print(pivot_op)"
   ]
  },
  {
   "cell_type": "code",
   "execution_count": 17,
   "id": "f6053d13",
   "metadata": {},
   "outputs": [
    {
     "name": "stdout",
     "output_type": "stream",
     "text": [
      "\n",
      "Drill-Through (Datos que componen la suma de ventas en Enero 2021):\n",
      "     Fecha Producto Region  Ventas\n",
      "0  2021-01  Manzana  Norte     100\n",
      "1  2021-01   Banana  Norte      75\n"
     ]
    }
   ],
   "source": [
    "#Drill-Through: Mostrar los datos detallados que componen una suma de ventas\n",
    "print(\"\\nDrill-Through (Datos que componen la suma de ventas en Enero 2021):\")\n",
    "drill_through = df[df['Fecha'] == '2021-01']\n",
    "print(drill_through)"
   ]
  },
  {
   "cell_type": "code",
   "execution_count": 20,
   "id": "aec5821a",
   "metadata": {},
   "outputs": [],
   "source": [
    "#Drill-Across: Esto requiere dos DataFrames, \n",
    "# vamos a crear un segundo DataFrame para el ejemplo\n",
    "data2 = {\n",
    "    'Fecha': ['2021-01', '2021-01', '2021-02', '2021-02', '2021-03'],\n",
    "    'Producto': ['Manzana', 'Banana', 'Manzana', 'Banana', 'Manzana'],\n",
    "    'Inventario': [200, 150, 180, 160, 220]\n",
    "}\n",
    "df2 = pd.DataFrame(data2)"
   ]
  },
  {
   "cell_type": "code",
   "execution_count": 21,
   "id": "3eb3eeda",
   "metadata": {},
   "outputs": [
    {
     "name": "stdout",
     "output_type": "stream",
     "text": [
      "\n",
      "Drill-Across (Cruzar datos de Ventas e Inventario para 'Manzana'):\n",
      "     Fecha Producto Region  Ventas  Inventario\n",
      "0  2021-01  Manzana  Norte     100         200\n",
      "1  2021-02  Manzana    Sur      90         180\n",
      "2  2021-03  Manzana  Oeste     110         220\n"
     ]
    }
   ],
   "source": [
    "#Aquí cruzamos datos de Ventas e Inventario para el producto 'Manzana'\n",
    "print(\"\\nDrill-Across (Cruzar datos de Ventas e Inventario para 'Manzana'):\")\n",
    "drill_across = pd.merge(\n",
    "    df[df['Producto'] == 'Manzana'],\n",
    "    df2[df2['Producto'] == 'Manzana'],\n",
    "    on=['Fecha', 'Producto']\n",
    ")\n",
    "print(drill_across)"
   ]
  },
  {
   "cell_type": "code",
   "execution_count": 22,
   "id": "709f93f9",
   "metadata": {},
   "outputs": [
    {
     "name": "stdout",
     "output_type": "stream",
     "text": [
      "\n",
      "Consolidación (Suma y Promedio de Ventas):\n",
      "sum     455.0\n",
      "mean     91.0\n",
      "Name: Ventas, dtype: float64\n"
     ]
    }
   ],
   "source": [
    "#Consolidación: Calcular métricas como la suma total, el promedio, etc.\n",
    "print(\"\\nConsolidación (Suma y Promedio de Ventas):\")\n",
    "consolidation = df['Ventas'].agg(['sum', 'mean'])\n",
    "print(consolidation)"
   ]
  }
 ],
 "metadata": {
  "kernelspec": {
   "display_name": "Python 3 (ipykernel)",
   "language": "python",
   "name": "python3"
  },
  "language_info": {
   "codemirror_mode": {
    "name": "ipython",
    "version": 3
   },
   "file_extension": ".py",
   "mimetype": "text/x-python",
   "name": "python",
   "nbconvert_exporter": "python",
   "pygments_lexer": "ipython3",
   "version": "3.11.3"
  }
 },
 "nbformat": 4,
 "nbformat_minor": 5
}
