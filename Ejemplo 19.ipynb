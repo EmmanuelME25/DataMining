{
 "cells": [
  {
   "cell_type": "markdown",
   "id": "d2a99675",
   "metadata": {},
   "source": [
    "### Ejamplo 19"
   ]
  },
  {
   "cell_type": "code",
   "execution_count": 1,
   "id": "bddb79ac",
   "metadata": {},
   "outputs": [],
   "source": [
    "import pandas as pd"
   ]
  },
  {
   "cell_type": "code",
   "execution_count": 3,
   "id": "2a56bf91",
   "metadata": {},
   "outputs": [
    {
     "name": "stdout",
     "output_type": "stream",
     "text": [
      "   edad  salario\n",
      "0  25.0  50000.0\n",
      "1  30.0  55000.0\n",
      "2  35.0  55750.0\n",
      "3  32.5  58000.0\n",
      "4  40.0  60000.0\n"
     ]
    }
   ],
   "source": [
    "data = {\n",
    "    'edad': [25,30,35,None,40],\n",
    "    'salario': [50000,55000, None, 58000,60000]\n",
    "}\n",
    "\n",
    "df = pd.DataFrame(data)\n",
    "df['edad'].fillna(df['edad'].mean(), inplace=True)\n",
    "df['salario'].fillna(df['salario'].mean(),inplace=True)\n",
    "\n",
    "print(df)"
   ]
  },
  {
   "cell_type": "code",
   "execution_count": 4,
   "id": "c4116d87",
   "metadata": {},
   "outputs": [],
   "source": [
    "#Se añade una columna categórica \n",
    "df['departamento']=['ventas','ingenieria','ventas',None,'ingenieria']"
   ]
  },
  {
   "cell_type": "code",
   "execution_count": 5,
   "id": "09e9a96f",
   "metadata": {},
   "outputs": [],
   "source": [
    "#Imputar valores perdidos con la moda\n",
    "df['departamento'].fillna(df['departamento'].mode()[0],inplace=True)"
   ]
  },
  {
   "cell_type": "code",
   "execution_count": 6,
   "id": "99fbf08c",
   "metadata": {},
   "outputs": [
    {
     "name": "stdout",
     "output_type": "stream",
     "text": [
      "   edad  salario departamento\n",
      "0  25.0  50000.0       ventas\n",
      "1  30.0  55000.0   ingenieria\n",
      "2  35.0  55750.0       ventas\n",
      "3  32.5  58000.0   ingenieria\n",
      "4  40.0  60000.0   ingenieria\n"
     ]
    }
   ],
   "source": [
    "print(df)"
   ]
  }
 ],
 "metadata": {
  "kernelspec": {
   "display_name": "Python 3 (ipykernel)",
   "language": "python",
   "name": "python3"
  },
  "language_info": {
   "codemirror_mode": {
    "name": "ipython",
    "version": 3
   },
   "file_extension": ".py",
   "mimetype": "text/x-python",
   "name": "python",
   "nbconvert_exporter": "python",
   "pygments_lexer": "ipython3",
   "version": "3.11.3"
  }
 },
 "nbformat": 4,
 "nbformat_minor": 5
}
