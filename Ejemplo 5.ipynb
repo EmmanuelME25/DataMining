{
 "cells": [
  {
   "cell_type": "markdown",
   "id": "8187893a",
   "metadata": {},
   "source": [
    "## Ejemplo 5"
   ]
  },
  {
   "cell_type": "code",
   "execution_count": 2,
   "id": "54b3ec16",
   "metadata": {},
   "outputs": [],
   "source": [
    "import pandas as pd"
   ]
  },
  {
   "cell_type": "code",
   "execution_count": 3,
   "id": "023cb49e",
   "metadata": {},
   "outputs": [],
   "source": [
    "data ={\n",
    "    'Fecha': ['2021-01-01','2021-01-01','2021-01-02','2021-01-02'],\n",
    "    'Producto': ['Manzana', 'Banana', 'Manzana', 'Banana'],\n",
    "    'Ciudad': ['Nueva York', 'Nueva York', 'Chicago', 'Chicago'],\n",
    "    'Ventas': [100,150,200,50]\n",
    "}\n",
    "\n",
    "df = pd.DataFrame(data)"
   ]
  },
  {
   "cell_type": "code",
   "execution_count": 4,
   "id": "daefd637",
   "metadata": {},
   "outputs": [
    {
     "name": "stdout",
     "output_type": "stream",
     "text": [
      "Cubo simple\n",
      "Producto    Banana  Manzana\n",
      "Fecha                      \n",
      "2021-01-01     150      100\n",
      "2021-01-02      50      200\n"
     ]
    }
   ],
   "source": [
    "#Pivot para crear un cubo simple (suma de ventas por fecha y producto)\n",
    "cube = pd.pivot_table(df, values='Ventas', index= 'Fecha',columns='Producto', aggfunc='sum')\n",
    "print(\"Cubo simple\")\n",
    "print(cube )"
   ]
  },
  {
   "cell_type": "code",
   "execution_count": 5,
   "id": "90f784dc",
   "metadata": {},
   "outputs": [],
   "source": [
    "#Se puede realizar un análisis más complejo agregando dimensiones\n",
    "#Por ejemplo, podríamos querer saber las ventas por ciudad y producto\n",
    "\n",
    "cube_multi_dimension = pd.pivot_table(df, values='Ventas', index =['Fecha','Ciudad'], columns='Producto', aggfunc='sum')"
   ]
  },
  {
   "cell_type": "code",
   "execution_count": 10,
   "id": "e0443796",
   "metadata": {},
   "outputs": [
    {
     "name": "stdout",
     "output_type": "stream",
     "text": [
      "\n",
      "Cubo multi-dimension:\n",
      "Producto               Banana  Manzana\n",
      "Fecha      Ciudad                     \n",
      "2021-01-01 Nueva York     150      100\n",
      "2021-01-02 Chicago         50      200\n"
     ]
    }
   ],
   "source": [
    "print(\"\\nCubo multi-dimension:\")\n",
    "print(cube_multi_dimension)"
   ]
  },
  {
   "cell_type": "code",
   "execution_count": 13,
   "id": "c024db6d",
   "metadata": {},
   "outputs": [],
   "source": [
    "#Podríamos querer \"rodar\" (roll-up) el cubo para tener las ventas por Producto independientemente de la fecha\"\n",
    "cube_rollup = pd.pivot_table(df, values='Ventas',columns='Producto', aggfunc='sum')"
   ]
  },
  {
   "cell_type": "code",
   "execution_count": 14,
   "id": "2ee35e60",
   "metadata": {},
   "outputs": [
    {
     "name": "stdout",
     "output_type": "stream",
     "text": [
      "\n",
      "Cubo Rodado (Roll up): \n",
      "Producto  Banana  Manzana\n",
      "Ventas       200      300\n"
     ]
    }
   ],
   "source": [
    "print(\"\\nCubo Rodado (Roll up): \")\n",
    "print(cube_rollup)"
   ]
  }
 ],
 "metadata": {
  "kernelspec": {
   "display_name": "Python 3 (ipykernel)",
   "language": "python",
   "name": "python3"
  },
  "language_info": {
   "codemirror_mode": {
    "name": "ipython",
    "version": 3
   },
   "file_extension": ".py",
   "mimetype": "text/x-python",
   "name": "python",
   "nbconvert_exporter": "python",
   "pygments_lexer": "ipython3",
   "version": "3.11.3"
  }
 },
 "nbformat": 4,
 "nbformat_minor": 5
}
