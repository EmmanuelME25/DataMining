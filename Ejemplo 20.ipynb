{
 "cells": [
  {
   "cell_type": "markdown",
   "id": "46692440",
   "metadata": {},
   "source": [
    "### Ejemplo 20"
   ]
  },
  {
   "cell_type": "code",
   "execution_count": 2,
   "id": "30417624",
   "metadata": {},
   "outputs": [],
   "source": [
    "import pandas as pd\n",
    "from sklearn.preprocessing import MinMaxScaler"
   ]
  },
  {
   "cell_type": "code",
   "execution_count": 3,
   "id": "07c21fe9",
   "metadata": {},
   "outputs": [],
   "source": [
    "data = {\n",
    "    'edad': [25,30,35,40,45],\n",
    "    'salario': [50000,55000,58000,62000,64000]\n",
    "    \n",
    "}"
   ]
  },
  {
   "cell_type": "code",
   "execution_count": 6,
   "id": "87b40311",
   "metadata": {},
   "outputs": [],
   "source": [
    "df = pd.DataFrame(data)\n",
    "scaler=MinMaxScaler()"
   ]
  },
  {
   "cell_type": "code",
   "execution_count": 7,
   "id": "f788cea5",
   "metadata": {},
   "outputs": [],
   "source": [
    "df_scaled = scaler.fit_transform(df)\n",
    "df_scaled = pd.DataFrame(df_scaled, columns=df.columns)"
   ]
  },
  {
   "cell_type": "code",
   "execution_count": 8,
   "id": "1415a578",
   "metadata": {},
   "outputs": [
    {
     "name": "stdout",
     "output_type": "stream",
     "text": [
      "   edad   salario\n",
      "0  0.00  0.000000\n",
      "1  0.25  0.357143\n",
      "2  0.50  0.571429\n",
      "3  0.75  0.857143\n",
      "4  1.00  1.000000\n"
     ]
    }
   ],
   "source": [
    "print(df_scaled)"
   ]
  }
 ],
 "metadata": {
  "kernelspec": {
   "display_name": "Python 3 (ipykernel)",
   "language": "python",
   "name": "python3"
  },
  "language_info": {
   "codemirror_mode": {
    "name": "ipython",
    "version": 3
   },
   "file_extension": ".py",
   "mimetype": "text/x-python",
   "name": "python",
   "nbconvert_exporter": "python",
   "pygments_lexer": "ipython3",
   "version": "3.11.3"
  }
 },
 "nbformat": 4,
 "nbformat_minor": 5
}
