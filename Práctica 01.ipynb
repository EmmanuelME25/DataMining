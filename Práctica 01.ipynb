{
 "cells": [
  {
   "cell_type": "markdown",
   "id": "e7d34005",
   "metadata": {},
   "source": [
    "# Práctica 01"
   ]
  },
  {
   "cell_type": "markdown",
   "id": "712a44d9",
   "metadata": {},
   "source": [
    "## Creación del conjunto de datos"
   ]
  },
  {
   "cell_type": "code",
   "execution_count": 9,
   "id": "05e904b6",
   "metadata": {},
   "outputs": [],
   "source": [
    "import pandas as pd\n",
    "import random\n",
    "from datetime import datetime"
   ]
  },
  {
   "cell_type": "code",
   "execution_count": 10,
   "id": "7afd4191",
   "metadata": {},
   "outputs": [],
   "source": [
    "# Crear listas con valores posibles para cada columna\n",
    "fechas = [f\"2021-{str(month).zfill(2)}\" for month in range(1, 13)] * 42 \n",
    "productos = ['Manzana', 'Leche', 'Pan', 'Platano', 'Jugo de Naranja']\n",
    "categorias = ['Frutas', 'Lácteos', 'Panadería', 'Frutas', 'Bebidas']\n",
    "municipios = ['Zacatecas', 'Guadalupe', 'Fresnillo','Tlaltenango','Jerez']\n",
    "vendedores = ['Ana', 'Héctor', 'Francisco', 'Nora','Clauido']"
   ]
  },
  {
   "cell_type": "code",
   "execution_count": 11,
   "id": "be8569d7",
   "metadata": {},
   "outputs": [],
   "source": [
    "# Inicializar listas vacías para almacenar los datos generados\n",
    "lista_fechas = []\n",
    "lista_productos = []\n",
    "lista_categorias = []\n",
    "lista_mun = []\n",
    "lista_vendedores = []\n",
    "lista_ventas = []\n",
    "lista_unidades = []"
   ]
  },
  {
   "cell_type": "code",
   "execution_count": 12,
   "id": "85f8ea51",
   "metadata": {},
   "outputs": [],
   "source": [
    "# Generar 500 filas de datos\n",
    "for _ in range(500):\n",
    "    fecha = random.choice(fechas)\n",
    "    producto = random.choice(productos)\n",
    "    categoria = categorias[productos.index(producto)]  \n",
    "    municipio = random.choice(municipios)\n",
    "    vendedor = random.choice(vendedores)\n",
    "    ventas = random.randint(50, 200)  # Ventas en dólares, entre 50 y 200\n",
    "    unidades = random.randint(20, 100)  # Unidades vendidas, entre 20 y 100\n",
    "    # Añadir los datos generados a las listas\n",
    "    lista_fechas.append(fecha)\n",
    "    lista_productos.append(producto)\n",
    "    lista_categorias.append(categoria)\n",
    "    lista_mun.append(municipio)\n",
    "    lista_vendedores.append(vendedor)\n",
    "    lista_ventas.append(ventas)\n",
    "    lista_unidades.append(unidades)"
   ]
  },
  {
   "cell_type": "code",
   "execution_count": 13,
   "id": "8613e803",
   "metadata": {},
   "outputs": [],
   "source": [
    "# Crear un DataFrame de pandas con los datos\n",
    "df = pd.DataFrame({\n",
    "    'Fecha': lista_fechas,\n",
    "    'Producto': lista_productos,\n",
    "    'Categoría': lista_categorias,\n",
    "    'Municipio': lista_mun,\n",
    "    'Vendedor': lista_vendedores,\n",
    "    'Ventas': lista_ventas,\n",
    "    'UnidadesVendidas': lista_unidades\n",
    "})"
   ]
  },
  {
   "cell_type": "code",
   "execution_count": 14,
   "id": "efb34af5",
   "metadata": {},
   "outputs": [
    {
     "name": "stdout",
     "output_type": "stream",
     "text": [
      "     Fecha         Producto Categoría  Municipio   Vendedor  Ventas  \\\n",
      "0  2021-12            Leche   Lácteos  Guadalupe    Clauido     188   \n",
      "1  2021-02            Leche   Lácteos      Jerez  Francisco      85   \n",
      "2  2021-09          Manzana    Frutas  Fresnillo  Francisco     106   \n",
      "3  2021-01  Jugo de Naranja   Bebidas  Fresnillo    Clauido      78   \n",
      "4  2021-05  Jugo de Naranja   Bebidas  Zacatecas        Ana      76   \n",
      "\n",
      "   UnidadesVendidas  \n",
      "0                44  \n",
      "1                34  \n",
      "2                56  \n",
      "3                45  \n",
      "4                35  \n"
     ]
    }
   ],
   "source": [
    "# Ver las primeras filas del DataFrame para asegurarnos de que se ha creado correctamente\n",
    "print(df.head())"
   ]
  },
  {
   "cell_type": "code",
   "execution_count": null,
   "id": "2ef65d87",
   "metadata": {},
   "outputs": [],
   "source": [
    "# Opcional: guardar el DataFrame en un archivo CSV\n",
    "# df.to_csv('datos_ventas.csv', index=False)"
   ]
  },
  {
   "cell_type": "markdown",
   "id": "ace3c1a1",
   "metadata": {},
   "source": [
    "## Actividades"
   ]
  },
  {
   "cell_type": "markdown",
   "id": "4b8e9579",
   "metadata": {},
   "source": [
    "### Drill-Down"
   ]
  },
  {
   "cell_type": "code",
   "execution_count": 15,
   "id": "409effdf",
   "metadata": {},
   "outputs": [
    {
     "name": "stdout",
     "output_type": "stream",
     "text": [
      "      Fecha  Ventas\n",
      "0   2021-01    6321\n",
      "1   2021-02    4930\n",
      "2   2021-03    5392\n",
      "3   2021-04    4340\n",
      "4   2021-05    4969\n",
      "5   2021-06    5374\n",
      "6   2021-07    5246\n",
      "7   2021-08    5009\n",
      "8   2021-09    4925\n",
      "9   2021-10    4378\n",
      "10  2021-11    5572\n",
      "11  2021-12    5784\n"
     ]
    }
   ],
   "source": [
    "print(df.groupby('Fecha')['Ventas'].sum().reset_index())"
   ]
  },
  {
   "cell_type": "code",
   "execution_count": 16,
   "id": "8b0ec0c1",
   "metadata": {},
   "outputs": [
    {
     "name": "stdout",
     "output_type": "stream",
     "text": [
      "\n",
      "Drill-Down\n",
      "                                   Ventas  UnidadesVendidas\n",
      "Fecha   Categoría Producto                                 \n",
      "2021-01 Bebidas   Jugo de Naranja     393               219\n",
      "        Frutas    Manzana            1044               487\n",
      "                  Platano            1374               640\n",
      "        Lácteos   Leche              2030               919\n",
      "        Panadería Pan                1480               638\n",
      "2021-02 Bebidas   Jugo de Naranja     849               362\n",
      "        Frutas    Manzana             877               349\n",
      "                  Platano             967               467\n",
      "        Lácteos   Leche              1009               707\n",
      "        Panadería Pan                1228               544\n",
      "2021-03 Bebidas   Jugo de Naranja     583               414\n",
      "        Frutas    Manzana             762               291\n",
      "                  Platano            1136               536\n",
      "        Lácteos   Leche              1312               775\n",
      "        Panadería Pan                1599               577\n",
      "2021-04 Bebidas   Jugo de Naranja    1199               524\n",
      "        Frutas    Manzana             894               403\n",
      "                  Platano             850               491\n",
      "        Lácteos   Leche               388               139\n",
      "        Panadería Pan                1009               395\n",
      "2021-05 Bebidas   Jugo de Naranja     685               346\n",
      "        Frutas    Manzana            1055               696\n",
      "                  Platano            1219               557\n",
      "        Lácteos   Leche               894               477\n",
      "        Panadería Pan                1116               503\n",
      "2021-06 Bebidas   Jugo de Naranja     757               411\n",
      "        Frutas    Manzana            1522               681\n",
      "                  Platano            1499               563\n",
      "        Lácteos   Leche              1329               668\n",
      "        Panadería Pan                 267               108\n",
      "2021-07 Bebidas   Jugo de Naranja    1560               693\n",
      "        Frutas    Manzana             950               424\n",
      "                  Platano             519               326\n",
      "        Lácteos   Leche              1087               371\n",
      "        Panadería Pan                1130               785\n",
      "2021-08 Bebidas   Jugo de Naranja    1235               382\n",
      "        Frutas    Manzana            1014               390\n",
      "                  Platano             854               532\n",
      "        Lácteos   Leche               762               419\n",
      "        Panadería Pan                1144               669\n",
      "2021-09 Bebidas   Jugo de Naranja    1742               814\n",
      "        Frutas    Manzana             856               432\n",
      "                  Platano             688               358\n",
      "        Lácteos   Leche               657               226\n",
      "        Panadería Pan                 982               379\n",
      "2021-10 Bebidas   Jugo de Naranja    1182               514\n",
      "        Frutas    Manzana             506               303\n",
      "                  Platano             710               373\n",
      "        Lácteos   Leche               843               377\n",
      "        Panadería Pan                1137               754\n",
      "2021-11 Bebidas   Jugo de Naranja    1178               476\n",
      "        Frutas    Manzana            1306               585\n",
      "                  Platano            1768               715\n",
      "        Lácteos   Leche               313               187\n",
      "        Panadería Pan                1007               518\n",
      "2021-12 Bebidas   Jugo de Naranja     834               486\n",
      "        Frutas    Manzana            1603               715\n",
      "                  Platano             583               290\n",
      "        Lácteos   Leche              1210               469\n",
      "        Panadería Pan                1554               819\n"
     ]
    },
    {
     "name": "stderr",
     "output_type": "stream",
     "text": [
      "/var/folders/hh/g6fqg94s6x9frs4dt49gl1rr0000gn/T/ipykernel_2252/28440412.py:3: FutureWarning: The default value of numeric_only in DataFrameGroupBy.sum is deprecated. In a future version, numeric_only will default to False. Either specify numeric_only or select only columns which should be valid for the function.\n",
      "  drill_down = df.groupby(['Fecha','Categoría', 'Producto']).sum()\n"
     ]
    }
   ],
   "source": [
    "#Drill-Down: Desglosar las ventas por `Fecha`, `Categoría`, y `Producto`.\n",
    "print(\"\\nDrill-Down\")\n",
    "drill_down = df.groupby(['Fecha','Categoría', 'Producto']).sum()\n",
    "print(drill_down)"
   ]
  },
  {
   "cell_type": "markdown",
   "id": "cb954956",
   "metadata": {},
   "source": [
    "### Roll-Up"
   ]
  },
  {
   "cell_type": "code",
   "execution_count": 17,
   "id": "2b1fffcb",
   "metadata": {},
   "outputs": [
    {
     "name": "stdout",
     "output_type": "stream",
     "text": [
      "             count        mean        std   min    25%    50%     75%    max\n",
      "Municipio                                                                   \n",
      "Fresnillo    102.0  124.941176  43.143285  51.0  88.50  124.0  159.50  196.0\n",
      "Guadalupe     93.0  124.892473  43.524971  50.0  86.00  126.0  166.00  196.0\n",
      "Jerez         88.0  125.204545  44.309559  52.0  85.00  125.5  157.25  199.0\n",
      "Tlaltenango  113.0  125.672566  42.728470  51.0  93.00  128.0  162.00  199.0\n",
      "Zacatecas    104.0  121.750000  43.910931  50.0  85.25  121.0  158.50  196.0\n"
     ]
    }
   ],
   "source": [
    "print(df.groupby('Municipio')['Ventas'].describe())"
   ]
  },
  {
   "cell_type": "code",
   "execution_count": 18,
   "id": "bdb2f69f",
   "metadata": {},
   "outputs": [
    {
     "name": "stdout",
     "output_type": "stream",
     "text": [
      "\n",
      "Roll-Up\n",
      "Municipio\n",
      "Fresnillo      12744\n",
      "Guadalupe      11615\n",
      "Jerez          11018\n",
      "Tlaltenango    14201\n",
      "Zacatecas      12662\n",
      "Name: Ventas, dtype: int64\n"
     ]
    }
   ],
   "source": [
    "#Roll-Up: Ventas totales\n",
    "print(\"\\nRoll-Up\")\n",
    "roll_up = df.groupby('Municipio')['Ventas'].sum()\n",
    "print(roll_up['Ventas'].sum())"
   ]
  },
  {
   "cell_type": "markdown",
   "id": "2f182ff4",
   "metadata": {},
   "source": [
    "### Slice and Dice"
   ]
  },
  {
   "cell_type": "code",
   "execution_count": 19,
   "id": "13eda73d",
   "metadata": {},
   "outputs": [
    {
     "name": "stdout",
     "output_type": "stream",
     "text": [
      "\n",
      "Slice \n",
      "       Fecha         Producto  Categoría  Municipio   Vendedor  Ventas  \\\n",
      "4    2021-05  Jugo de Naranja    Bebidas  Zacatecas        Ana      76   \n",
      "16   2021-09              Pan  Panadería  Zacatecas  Francisco     130   \n",
      "17   2021-04              Pan  Panadería  Zacatecas        Ana      68   \n",
      "21   2021-05          Manzana     Frutas  Zacatecas       Nora      60   \n",
      "22   2021-10              Pan  Panadería  Zacatecas    Clauido      63   \n",
      "..       ...              ...        ...        ...        ...     ...   \n",
      "467  2021-12              Pan  Panadería  Zacatecas  Francisco     151   \n",
      "484  2021-02  Jugo de Naranja    Bebidas  Zacatecas  Francisco     180   \n",
      "485  2021-03  Jugo de Naranja    Bebidas  Zacatecas        Ana     176   \n",
      "496  2021-03          Platano     Frutas  Zacatecas    Clauido     178   \n",
      "499  2021-10              Pan  Panadería  Zacatecas    Clauido     109   \n",
      "\n",
      "     UnidadesVendidas  \n",
      "4                  35  \n",
      "16                 63  \n",
      "17                 24  \n",
      "21                 68  \n",
      "22                 67  \n",
      "..                ...  \n",
      "467                83  \n",
      "484                68  \n",
      "485                53  \n",
      "496                62  \n",
      "499                62  \n",
      "\n",
      "[104 rows x 7 columns]\n"
     ]
    }
   ],
   "source": [
    "#Slice: ventas en región Zacatecas\n",
    "print(\"\\nSlice \")\n",
    "slice_op = df[df['Municipio'] == 'Zacatecas']\n",
    "print(slice_op)"
   ]
  },
  {
   "cell_type": "code",
   "execution_count": 20,
   "id": "11d6969a",
   "metadata": {},
   "outputs": [
    {
     "name": "stdout",
     "output_type": "stream",
     "text": [
      "\n",
      "Dice \n",
      "       Fecha Producto Categoría  Municipio   Vendedor  Ventas  \\\n",
      "21   2021-05  Manzana    Frutas  Zacatecas       Nora      60   \n",
      "24   2021-07  Platano    Frutas  Zacatecas    Clauido     147   \n",
      "31   2021-12  Platano    Frutas  Zacatecas     Héctor      50   \n",
      "42   2021-10  Platano    Frutas  Zacatecas     Héctor     163   \n",
      "89   2021-03  Manzana    Frutas  Zacatecas    Clauido     142   \n",
      "96   2021-02  Platano    Frutas  Zacatecas  Francisco      77   \n",
      "100  2021-12  Manzana    Frutas  Zacatecas     Héctor     184   \n",
      "101  2021-03  Platano    Frutas  Zacatecas       Nora     179   \n",
      "120  2021-08  Platano    Frutas  Zacatecas    Clauido      65   \n",
      "133  2021-01  Manzana    Frutas  Zacatecas    Clauido     195   \n",
      "144  2021-05  Platano    Frutas  Zacatecas  Francisco     196   \n",
      "162  2021-12  Manzana    Frutas  Zacatecas    Clauido      69   \n",
      "183  2021-09  Platano    Frutas  Zacatecas       Nora     135   \n",
      "184  2021-11  Platano    Frutas  Zacatecas       Nora     180   \n",
      "185  2021-01  Manzana    Frutas  Zacatecas    Clauido     118   \n",
      "186  2021-02  Platano    Frutas  Zacatecas        Ana     184   \n",
      "189  2021-10  Platano    Frutas  Zacatecas     Héctor     123   \n",
      "190  2021-11  Manzana    Frutas  Zacatecas    Clauido     107   \n",
      "194  2021-02  Platano    Frutas  Zacatecas        Ana     191   \n",
      "197  2021-08  Platano    Frutas  Zacatecas     Héctor      53   \n",
      "209  2021-09  Platano    Frutas  Zacatecas  Francisco     181   \n",
      "233  2021-04  Platano    Frutas  Zacatecas       Nora      83   \n",
      "268  2021-12  Manzana    Frutas  Zacatecas    Clauido      94   \n",
      "280  2021-08  Platano    Frutas  Zacatecas       Nora      98   \n",
      "281  2021-05  Platano    Frutas  Zacatecas    Clauido     171   \n",
      "282  2021-02  Platano    Frutas  Zacatecas       Nora     163   \n",
      "290  2021-09  Manzana    Frutas  Zacatecas     Héctor     122   \n",
      "293  2021-05  Platano    Frutas  Zacatecas       Nora      51   \n",
      "296  2021-06  Manzana    Frutas  Zacatecas    Clauido     120   \n",
      "314  2021-03  Manzana    Frutas  Zacatecas     Héctor      68   \n",
      "316  2021-09  Manzana    Frutas  Zacatecas       Nora     135   \n",
      "327  2021-08  Platano    Frutas  Zacatecas     Héctor     154   \n",
      "332  2021-01  Manzana    Frutas  Zacatecas       Nora     132   \n",
      "333  2021-03  Manzana    Frutas  Zacatecas       Nora     166   \n",
      "373  2021-06  Manzana    Frutas  Zacatecas        Ana     152   \n",
      "374  2021-09  Manzana    Frutas  Zacatecas    Clauido      93   \n",
      "384  2021-07  Manzana    Frutas  Zacatecas    Clauido     107   \n",
      "394  2021-01  Platano    Frutas  Zacatecas        Ana      94   \n",
      "413  2021-09  Manzana    Frutas  Zacatecas        Ana     134   \n",
      "416  2021-05  Manzana    Frutas  Zacatecas     Héctor      52   \n",
      "431  2021-01  Manzana    Frutas  Zacatecas       Nora     157   \n",
      "432  2021-07  Manzana    Frutas  Zacatecas       Nora     193   \n",
      "496  2021-03  Platano    Frutas  Zacatecas    Clauido     178   \n",
      "\n",
      "     UnidadesVendidas  \n",
      "21                 68  \n",
      "24                 92  \n",
      "31                 73  \n",
      "42                 39  \n",
      "89                 21  \n",
      "96                 42  \n",
      "100                32  \n",
      "101                76  \n",
      "120                79  \n",
      "133                39  \n",
      "144                91  \n",
      "162                74  \n",
      "183                71  \n",
      "184                65  \n",
      "185                98  \n",
      "186                97  \n",
      "189                51  \n",
      "190                34  \n",
      "194                23  \n",
      "197                71  \n",
      "209                93  \n",
      "233                81  \n",
      "268                79  \n",
      "280                20  \n",
      "281                47  \n",
      "282                79  \n",
      "290                34  \n",
      "293                76  \n",
      "296                52  \n",
      "314                37  \n",
      "316                22  \n",
      "327                66  \n",
      "332                38  \n",
      "333                49  \n",
      "373                88  \n",
      "374                95  \n",
      "384                58  \n",
      "394                31  \n",
      "413                91  \n",
      "416                46  \n",
      "431                58  \n",
      "432                80  \n",
      "496                62  \n"
     ]
    }
   ],
   "source": [
    "#Dice: Seleccionar ventas de frutas\n",
    "print(\"\\nDice \")\n",
    "dice_op = df[(df['Categoría'] == 'Frutas') & (df['Municipio'] == 'Zacatecas')]\n",
    "print(dice_op)"
   ]
  },
  {
   "cell_type": "markdown",
   "id": "ec1ca487",
   "metadata": {},
   "source": [
    "### Pivot"
   ]
  },
  {
   "cell_type": "code",
   "execution_count": 21,
   "id": "025c2fc8",
   "metadata": {},
   "outputs": [
    {
     "name": "stdout",
     "output_type": "stream",
     "text": [
      "\n",
      "Pivot \n",
      "Fecha      2021-01  2021-02  2021-03  2021-04  2021-05  2021-06  2021-07  \\\n",
      "Vendedor                                                                   \n",
      "Ana           1125     1104      679      680      644     1020     1087   \n",
      "Clauido       1204      498     1616      975     1492      687     1314   \n",
      "Francisco      697     1814     1302     1218      841     1966     1333   \n",
      "Héctor        1586      479      508      413     1262      983      735   \n",
      "Nora          1709     1035     1287     1054      730      718      777   \n",
      "\n",
      "Fecha      2021-08  2021-09  2021-10  2021-11  2021-12  \n",
      "Vendedor                                                \n",
      "Ana           1177      920      472     1137     1537  \n",
      "Clauido       1173     1209     1044     1458     1282  \n",
      "Francisco      905      786     1269      326      880  \n",
      "Héctor         808     1031      855     1881     1106  \n",
      "Nora           946      979      738      770      979  \n"
     ]
    }
   ],
   "source": [
    "#Pivote: Ventas por vendedor y fecha\n",
    "print(\"\\nPivot \")\n",
    "pivot_op = pd.pivot_table(df, values='Ventas',index='Vendedor', columns='Fecha', aggfunc='sum')\n",
    "print(pivot_op)"
   ]
  },
  {
   "cell_type": "markdown",
   "id": "f4cd3f76",
   "metadata": {},
   "source": [
    "### Drill-Through"
   ]
  },
  {
   "cell_type": "code",
   "execution_count": 22,
   "id": "8fd74968",
   "metadata": {},
   "outputs": [
    {
     "name": "stdout",
     "output_type": "stream",
     "text": [
      "\n",
      "Drill-Through\n",
      "       Fecha Producto Categoría    Municipio   Vendedor  Ventas  \\\n",
      "12   2021-01  Platano    Frutas    Fresnillo    Clauido     196   \n",
      "27   2021-01  Platano    Frutas    Guadalupe     Héctor      63   \n",
      "44   2021-01  Manzana    Frutas  Tlaltenango     Héctor      65   \n",
      "49   2021-01  Platano    Frutas    Guadalupe       Nora     170   \n",
      "73   2021-01  Platano    Frutas    Guadalupe  Francisco      87   \n",
      "78   2021-01  Manzana    Frutas  Tlaltenango       Nora      78   \n",
      "130  2021-01  Platano    Frutas        Jerez       Nora     156   \n",
      "133  2021-01  Manzana    Frutas    Zacatecas    Clauido     195   \n",
      "135  2021-01  Manzana    Frutas    Fresnillo  Francisco     133   \n",
      "185  2021-01  Manzana    Frutas    Zacatecas    Clauido     118   \n",
      "222  2021-01  Platano    Frutas        Jerez     Héctor      64   \n",
      "250  2021-01  Platano    Frutas    Fresnillo        Ana     193   \n",
      "332  2021-01  Manzana    Frutas    Zacatecas       Nora     132   \n",
      "338  2021-01  Manzana    Frutas    Guadalupe  Francisco     166   \n",
      "349  2021-01  Platano    Frutas  Tlaltenango     Héctor     195   \n",
      "394  2021-01  Platano    Frutas    Zacatecas        Ana      94   \n",
      "420  2021-01  Platano    Frutas    Fresnillo     Héctor     156   \n",
      "431  2021-01  Manzana    Frutas    Zacatecas       Nora     157   \n",
      "\n",
      "     UnidadesVendidas  \n",
      "12                 94  \n",
      "27                 51  \n",
      "44                 86  \n",
      "49                 75  \n",
      "73                 22  \n",
      "78                 57  \n",
      "130                47  \n",
      "133                39  \n",
      "135                39  \n",
      "185                98  \n",
      "222                96  \n",
      "250                30  \n",
      "332                38  \n",
      "338                72  \n",
      "349                94  \n",
      "394                31  \n",
      "420               100  \n",
      "431                58  \n"
     ]
    }
   ],
   "source": [
    "#Drill-Through: Registros individuales 2021-01 frutas\n",
    "print(\"\\nDrill-Through\")\n",
    "drill_through = df[(df['Categoría'] == 'Frutas') & (df['Fecha'] == '2021-01')]\n",
    "print(drill_through)"
   ]
  },
  {
   "cell_type": "markdown",
   "id": "5ffe0073",
   "metadata": {},
   "source": [
    "### Drill-Across"
   ]
  },
  {
   "cell_type": "code",
   "execution_count": 23,
   "id": "1c2fffbd",
   "metadata": {},
   "outputs": [],
   "source": [
    "#Drill-Across: Esto requiere dos DataFrames\n",
    "lista_inventario = []\n",
    "\n",
    "# Generar 500 filas de datos\n",
    "for _ in range(500):\n",
    "    inventario = random.randint(200, 500) \n",
    "    # Añadir los datos generados a las listas\n",
    "    lista_inventario.append(inventario)"
   ]
  },
  {
   "cell_type": "code",
   "execution_count": 25,
   "id": "9cddf38b",
   "metadata": {},
   "outputs": [],
   "source": [
    "# Crear un DataFrame de pandas con los datos\n",
    "df2 = pd.DataFrame({\n",
    "    'Fecha': lista_fechas,\n",
    "    'Producto': lista_productos,\n",
    "    'Inventario': lista_inventario,\n",
    "})"
   ]
  },
  {
   "cell_type": "code",
   "execution_count": 26,
   "id": "a1831f9b",
   "metadata": {},
   "outputs": [
    {
     "name": "stdout",
     "output_type": "stream",
     "text": [
      "     Fecha         Producto  Inventario\n",
      "0  2021-12            Leche         367\n",
      "1  2021-02            Leche         204\n",
      "2  2021-09          Manzana         399\n",
      "3  2021-01  Jugo de Naranja         446\n",
      "4  2021-05  Jugo de Naranja         343\n"
     ]
    }
   ],
   "source": [
    "# Ver las primeras filas del DataFrame para asegurarnos de que se ha creado correctamente\n",
    "print(df2.head())"
   ]
  },
  {
   "cell_type": "code",
   "execution_count": 27,
   "id": "d73ee092",
   "metadata": {},
   "outputs": [
    {
     "name": "stdout",
     "output_type": "stream",
     "text": [
      "\n",
      "Drill-Across \n",
      "        Fecha Producto Categoría  Municipio   Vendedor  Ventas  \\\n",
      "0     2021-12    Leche   Lácteos  Guadalupe    Clauido     188   \n",
      "1     2021-12    Leche   Lácteos  Guadalupe    Clauido     188   \n",
      "2     2021-12    Leche   Lácteos  Guadalupe    Clauido     188   \n",
      "3     2021-12    Leche   Lácteos  Guadalupe    Clauido     188   \n",
      "4     2021-12    Leche   Lácteos  Guadalupe    Clauido     188   \n",
      "...       ...      ...       ...        ...        ...     ...   \n",
      "4603  2021-04    Leche   Lácteos  Guadalupe  Francisco     145   \n",
      "4604  2021-04    Leche   Lácteos  Guadalupe  Francisco     145   \n",
      "4605  2021-04    Leche   Lácteos  Guadalupe       Nora     104   \n",
      "4606  2021-04    Leche   Lácteos  Guadalupe       Nora     104   \n",
      "4607  2021-04    Leche   Lácteos  Guadalupe       Nora     104   \n",
      "\n",
      "      UnidadesVendidas  Inventario  \n",
      "0                   44         367  \n",
      "1                   44         208  \n",
      "2                   44         214  \n",
      "3                   44         451  \n",
      "4                   44         448  \n",
      "...                ...         ...  \n",
      "4603                40         426  \n",
      "4604                40         456  \n",
      "4605                60         378  \n",
      "4606                60         426  \n",
      "4607                60         456  \n",
      "\n",
      "[4608 rows x 8 columns]\n"
     ]
    }
   ],
   "source": [
    "#Aquí cruzamos datos de Ventas e Inventario para cada producto y fecha\n",
    "print(\"\\nDrill-Across \")\n",
    "drill_across = pd.merge(df,df2, on=['Fecha', 'Producto'])\n",
    "\n",
    "print(drill_across)"
   ]
  },
  {
   "cell_type": "markdown",
   "id": "d9351b00",
   "metadata": {},
   "source": [
    "### Consolidación"
   ]
  },
  {
   "cell_type": "code",
   "execution_count": 28,
   "id": "2b647c16",
   "metadata": {},
   "outputs": [
    {
     "name": "stdout",
     "output_type": "stream",
     "text": [
      "\n",
      "Consolidación \n",
      "          Ventas                  UnidadesVendidas                \n",
      "             sum        mean  max              sum       mean  max\n",
      "Vendedor                                                          \n",
      "Ana        11582  128.688889  195             5452  60.577778   99\n",
      "Clauido    13952  124.571429  198             6401  57.151786  100\n",
      "Francisco  13337  127.019048  199             6182  58.876190  100\n",
      "Héctor     11647  114.186275  196             6038  59.196078  100\n",
      "Nora       11722  128.813187  197             5595  61.483516  100\n"
     ]
    },
    {
     "name": "stderr",
     "output_type": "stream",
     "text": [
      "/var/folders/hh/g6fqg94s6x9frs4dt49gl1rr0000gn/T/ipykernel_2252/4222722570.py:3: FutureWarning: Indexing with multiple keys (implicitly converted to a tuple of keys) will be deprecated, use a list instead.\n",
      "  consolidation = df.groupby('Vendedor')['Ventas', 'UnidadesVendidas'].agg(['sum', 'mean', 'max'])\n"
     ]
    }
   ],
   "source": [
    "#Consolidación: suma, promedio, max ventas y max unidades vendidas por vendedor\n",
    "print(\"\\nConsolidación \")\n",
    "consolidation = df.groupby('Vendedor')['Ventas', 'UnidadesVendidas'].agg(['sum', 'mean', 'max'])\n",
    "print(consolidation)"
   ]
  },
  {
   "cell_type": "markdown",
   "id": "8f1cf2cc",
   "metadata": {},
   "source": [
    "## Preguntas"
   ]
  },
  {
   "cell_type": "markdown",
   "id": "dcf82c07",
   "metadata": {},
   "source": [
    "1. **¿Qué insights puedes obtener de cada operación?**\n",
    "\n",
    "El apartado de Drill-Down hace un agrupamiento de diferentes categorías ofreciendo una reprecentación en conjunto de los datos de una forma más consisa, el apartado de Roll-Up representa de una forma más sencilla un análisis simple del conjunto de datos, con los estadísticos más representativos y un dato significativo de una variable representativa,para el Slice and Dice se hace un enfoque en datos más específicos por division de categorias y variables específicas que muestran el resultado de una búsqueda más específica, en el caso de Pivot se hace un desglose del agrupamiento de datos de forma horizontal,para el Drill-Throught se enfoca en la agrupación de una búsqueda específica, Drill-Across hace una representación y un entrelazamiento entre dos dataframes, finalmente la consolidación expone un condensado del agrupamiento de datos para variables específicas.\n",
    "\n",
    "2. **¿Cómo podrían estas insights beneficiar a la empresa?**\n",
    "\n",
    "Estos datos pueden ayudar a la interpretación y el análisis de los datos de una forma más consisa, con una representación de los datos necesarios para el objetivo de la empresa.\n",
    "\n",
    "3. **¿Qué otras métricas o dimensiones serían útiles para analizar?**\n",
    "\n",
    "Modelos predictivos de datos enfocados al machine learning o dependiendo de los onjetivos de la empresa."
   ]
  }
 ],
 "metadata": {
  "kernelspec": {
   "display_name": "Python 3 (ipykernel)",
   "language": "python",
   "name": "python3"
  },
  "language_info": {
   "codemirror_mode": {
    "name": "ipython",
    "version": 3
   },
   "file_extension": ".py",
   "mimetype": "text/x-python",
   "name": "python",
   "nbconvert_exporter": "python",
   "pygments_lexer": "ipython3",
   "version": "3.11.3"
  }
 },
 "nbformat": 4,
 "nbformat_minor": 5
}
