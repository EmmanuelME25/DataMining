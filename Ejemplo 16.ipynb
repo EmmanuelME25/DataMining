{
 "cells": [
  {
   "cell_type": "markdown",
   "id": "568cfeb7",
   "metadata": {},
   "source": [
    "## Ejercicio 16"
   ]
  },
  {
   "cell_type": "markdown",
   "id": "b865bf2f",
   "metadata": {},
   "source": [
    "### Redes Neuronales Artificiales"
   ]
  },
  {
   "cell_type": "code",
   "execution_count": 1,
   "id": "406eb11e",
   "metadata": {},
   "outputs": [],
   "source": [
    "import tensorflow as tf\n",
    "from sklearn import datasets\n",
    "from sklearn.model_selection import train_test_split\n",
    "from sklearn.preprocessing import StandardScaler\n",
    "from sklearn.preprocessing import OneHotEncoder"
   ]
  },
  {
   "cell_type": "code",
   "execution_count": 2,
   "id": "8f9510d2",
   "metadata": {},
   "outputs": [],
   "source": [
    "iris = datasets.load_iris()\n",
    "X = iris.data\n",
    "y = iris.target"
   ]
  },
  {
   "cell_type": "code",
   "execution_count": 3,
   "id": "57a7186f",
   "metadata": {},
   "outputs": [
    {
     "name": "stderr",
     "output_type": "stream",
     "text": [
      "/Users/medina/anaconda3/lib/python3.11/site-packages/sklearn/preprocessing/_encoders.py:868: FutureWarning: `sparse` was renamed to `sparse_output` in version 1.2 and will be removed in 1.4. `sparse_output` is ignored unless you leave `sparse` to its default value.\n",
      "  warnings.warn(\n"
     ]
    }
   ],
   "source": [
    "encoder = OneHotEncoder(sparse=False) #nos ayuda a categorizar\n",
    "y = encoder.fit_transform(y.reshape(-1, 1))"
   ]
  },
  {
   "cell_type": "code",
   "execution_count": 4,
   "id": "c7e3cebb",
   "metadata": {},
   "outputs": [],
   "source": [
    "X_train, X_test, y_train, y_test = train_test_split(X, y, test_size=0.3, random_state=42)"
   ]
  },
  {
   "cell_type": "code",
   "execution_count": 5,
   "id": "92af5282",
   "metadata": {},
   "outputs": [
    {
     "data": {
      "text/html": [
       "<style>#sk-container-id-1 {color: black;background-color: white;}#sk-container-id-1 pre{padding: 0;}#sk-container-id-1 div.sk-toggleable {background-color: white;}#sk-container-id-1 label.sk-toggleable__label {cursor: pointer;display: block;width: 100%;margin-bottom: 0;padding: 0.3em;box-sizing: border-box;text-align: center;}#sk-container-id-1 label.sk-toggleable__label-arrow:before {content: \"▸\";float: left;margin-right: 0.25em;color: #696969;}#sk-container-id-1 label.sk-toggleable__label-arrow:hover:before {color: black;}#sk-container-id-1 div.sk-estimator:hover label.sk-toggleable__label-arrow:before {color: black;}#sk-container-id-1 div.sk-toggleable__content {max-height: 0;max-width: 0;overflow: hidden;text-align: left;background-color: #f0f8ff;}#sk-container-id-1 div.sk-toggleable__content pre {margin: 0.2em;color: black;border-radius: 0.25em;background-color: #f0f8ff;}#sk-container-id-1 input.sk-toggleable__control:checked~div.sk-toggleable__content {max-height: 200px;max-width: 100%;overflow: auto;}#sk-container-id-1 input.sk-toggleable__control:checked~label.sk-toggleable__label-arrow:before {content: \"▾\";}#sk-container-id-1 div.sk-estimator input.sk-toggleable__control:checked~label.sk-toggleable__label {background-color: #d4ebff;}#sk-container-id-1 div.sk-label input.sk-toggleable__control:checked~label.sk-toggleable__label {background-color: #d4ebff;}#sk-container-id-1 input.sk-hidden--visually {border: 0;clip: rect(1px 1px 1px 1px);clip: rect(1px, 1px, 1px, 1px);height: 1px;margin: -1px;overflow: hidden;padding: 0;position: absolute;width: 1px;}#sk-container-id-1 div.sk-estimator {font-family: monospace;background-color: #f0f8ff;border: 1px dotted black;border-radius: 0.25em;box-sizing: border-box;margin-bottom: 0.5em;}#sk-container-id-1 div.sk-estimator:hover {background-color: #d4ebff;}#sk-container-id-1 div.sk-parallel-item::after {content: \"\";width: 100%;border-bottom: 1px solid gray;flex-grow: 1;}#sk-container-id-1 div.sk-label:hover label.sk-toggleable__label {background-color: #d4ebff;}#sk-container-id-1 div.sk-serial::before {content: \"\";position: absolute;border-left: 1px solid gray;box-sizing: border-box;top: 0;bottom: 0;left: 50%;z-index: 0;}#sk-container-id-1 div.sk-serial {display: flex;flex-direction: column;align-items: center;background-color: white;padding-right: 0.2em;padding-left: 0.2em;position: relative;}#sk-container-id-1 div.sk-item {position: relative;z-index: 1;}#sk-container-id-1 div.sk-parallel {display: flex;align-items: stretch;justify-content: center;background-color: white;position: relative;}#sk-container-id-1 div.sk-item::before, #sk-container-id-1 div.sk-parallel-item::before {content: \"\";position: absolute;border-left: 1px solid gray;box-sizing: border-box;top: 0;bottom: 0;left: 50%;z-index: -1;}#sk-container-id-1 div.sk-parallel-item {display: flex;flex-direction: column;z-index: 1;position: relative;background-color: white;}#sk-container-id-1 div.sk-parallel-item:first-child::after {align-self: flex-end;width: 50%;}#sk-container-id-1 div.sk-parallel-item:last-child::after {align-self: flex-start;width: 50%;}#sk-container-id-1 div.sk-parallel-item:only-child::after {width: 0;}#sk-container-id-1 div.sk-dashed-wrapped {border: 1px dashed gray;margin: 0 0.4em 0.5em 0.4em;box-sizing: border-box;padding-bottom: 0.4em;background-color: white;}#sk-container-id-1 div.sk-label label {font-family: monospace;font-weight: bold;display: inline-block;line-height: 1.2em;}#sk-container-id-1 div.sk-label-container {text-align: center;}#sk-container-id-1 div.sk-container {/* jupyter's `normalize.less` sets `[hidden] { display: none; }` but bootstrap.min.css set `[hidden] { display: none !important; }` so we also need the `!important` here to be able to override the default hidden behavior on the sphinx rendered scikit-learn.org. See: https://github.com/scikit-learn/scikit-learn/issues/21755 */display: inline-block !important;position: relative;}#sk-container-id-1 div.sk-text-repr-fallback {display: none;}</style><div id=\"sk-container-id-1\" class=\"sk-top-container\"><div class=\"sk-text-repr-fallback\"><pre>StandardScaler()</pre><b>In a Jupyter environment, please rerun this cell to show the HTML representation or trust the notebook. <br />On GitHub, the HTML representation is unable to render, please try loading this page with nbviewer.org.</b></div><div class=\"sk-container\" hidden><div class=\"sk-item\"><div class=\"sk-estimator sk-toggleable\"><input class=\"sk-toggleable__control sk-hidden--visually\" id=\"sk-estimator-id-1\" type=\"checkbox\" checked><label for=\"sk-estimator-id-1\" class=\"sk-toggleable__label sk-toggleable__label-arrow\">StandardScaler</label><div class=\"sk-toggleable__content\"><pre>StandardScaler()</pre></div></div></div></div></div>"
      ],
      "text/plain": [
       "StandardScaler()"
      ]
     },
     "execution_count": 5,
     "metadata": {},
     "output_type": "execute_result"
    }
   ],
   "source": [
    "scaler = StandardScaler()\n",
    "scaler.fit(X_train)"
   ]
  },
  {
   "cell_type": "code",
   "execution_count": 6,
   "id": "b3216ca3",
   "metadata": {},
   "outputs": [],
   "source": [
    "X_train = scaler.transform(X_train)\n",
    "X_test = scaler.transform(X_test)"
   ]
  },
  {
   "cell_type": "code",
   "execution_count": 7,
   "id": "fe50fb98",
   "metadata": {},
   "outputs": [],
   "source": [
    "#Construir el modelo ANN\n",
    "model = tf.keras.models.Sequential([\n",
    "    tf.keras.layers.Dense(units=8, \n",
    "        activation='relu', input_shape=(4,)),  #Capa oculta con 8 neuronas\n",
    "    tf.keras.layers.Dense(units=3, \n",
    "        activation='softmax')  #Capa de salida con 3 neuronas (una para cada clase)\n",
    "])"
   ]
  },
  {
   "cell_type": "code",
   "execution_count": 8,
   "id": "b7d720ec",
   "metadata": {},
   "outputs": [
    {
     "name": "stdout",
     "output_type": "stream",
     "text": [
      "Epoch 1/50\n",
      "4/4 [==============================] - 0s 1ms/step - loss: 1.3404 - accuracy: 0.0095\n",
      "Epoch 2/50\n",
      "4/4 [==============================] - 0s 595us/step - loss: 1.3109 - accuracy: 0.0190\n",
      "Epoch 3/50\n",
      "4/4 [==============================] - 0s 545us/step - loss: 1.2822 - accuracy: 0.0286\n",
      "Epoch 4/50\n",
      "4/4 [==============================] - 0s 756us/step - loss: 1.2559 - accuracy: 0.0476\n",
      "Epoch 5/50\n",
      "4/4 [==============================] - 0s 846us/step - loss: 1.2300 - accuracy: 0.0667\n",
      "Epoch 6/50\n",
      "4/4 [==============================] - 0s 774us/step - loss: 1.2052 - accuracy: 0.0762\n",
      "Epoch 7/50\n",
      "4/4 [==============================] - 0s 724us/step - loss: 1.1817 - accuracy: 0.0762\n",
      "Epoch 8/50\n",
      "4/4 [==============================] - 0s 776us/step - loss: 1.1580 - accuracy: 0.1048\n",
      "Epoch 9/50\n",
      "4/4 [==============================] - 0s 752us/step - loss: 1.1354 - accuracy: 0.1333\n",
      "Epoch 10/50\n",
      "4/4 [==============================] - 0s 797us/step - loss: 1.1148 - accuracy: 0.1905\n",
      "Epoch 11/50\n",
      "1/4 [======>.......................] - ETA: 0s - loss: 1.0956 - accuracy: 0.2188"
     ]
    },
    {
     "name": "stderr",
     "output_type": "stream",
     "text": [
      "2023-10-02 11:11:45.462469: W tensorflow/tsl/platform/profile_utils/cpu_utils.cc:128] Failed to get CPU frequency: 0 Hz\n"
     ]
    },
    {
     "name": "stdout",
     "output_type": "stream",
     "text": [
      "4/4 [==============================] - 0s 787us/step - loss: 1.0936 - accuracy: 0.2381\n",
      "Epoch 12/50\n",
      "4/4 [==============================] - 0s 661us/step - loss: 1.0733 - accuracy: 0.2667\n",
      "Epoch 13/50\n",
      "4/4 [==============================] - 0s 700us/step - loss: 1.0530 - accuracy: 0.2762\n",
      "Epoch 14/50\n",
      "4/4 [==============================] - 0s 773us/step - loss: 1.0345 - accuracy: 0.3238\n",
      "Epoch 15/50\n",
      "4/4 [==============================] - 0s 809us/step - loss: 1.0161 - accuracy: 0.3714\n",
      "Epoch 16/50\n",
      "4/4 [==============================] - 0s 763us/step - loss: 0.9986 - accuracy: 0.4000\n",
      "Epoch 17/50\n",
      "4/4 [==============================] - 0s 703us/step - loss: 0.9812 - accuracy: 0.4667\n",
      "Epoch 18/50\n",
      "4/4 [==============================] - 0s 886us/step - loss: 0.9650 - accuracy: 0.4952\n",
      "Epoch 19/50\n",
      "4/4 [==============================] - 0s 777us/step - loss: 0.9496 - accuracy: 0.5238\n",
      "Epoch 20/50\n",
      "4/4 [==============================] - 0s 774us/step - loss: 0.9347 - accuracy: 0.5619\n",
      "Epoch 21/50\n",
      "4/4 [==============================] - 0s 632us/step - loss: 0.9201 - accuracy: 0.5905\n",
      "Epoch 22/50\n",
      "4/4 [==============================] - 0s 703us/step - loss: 0.9060 - accuracy: 0.6286\n",
      "Epoch 23/50\n",
      "4/4 [==============================] - 0s 877us/step - loss: 0.8919 - accuracy: 0.6381\n",
      "Epoch 24/50\n",
      "4/4 [==============================] - 0s 818us/step - loss: 0.8789 - accuracy: 0.6381\n",
      "Epoch 25/50\n",
      "4/4 [==============================] - 0s 691us/step - loss: 0.8664 - accuracy: 0.6667\n",
      "Epoch 26/50\n",
      "4/4 [==============================] - 0s 704us/step - loss: 0.8547 - accuracy: 0.6667\n",
      "Epoch 27/50\n",
      "4/4 [==============================] - 0s 847us/step - loss: 0.8430 - accuracy: 0.6762\n",
      "Epoch 28/50\n",
      "4/4 [==============================] - 0s 721us/step - loss: 0.8314 - accuracy: 0.6952\n",
      "Epoch 29/50\n",
      "4/4 [==============================] - 0s 689us/step - loss: 0.8209 - accuracy: 0.6952\n",
      "Epoch 30/50\n",
      "4/4 [==============================] - 0s 683us/step - loss: 0.8102 - accuracy: 0.7143\n",
      "Epoch 31/50\n",
      "4/4 [==============================] - 0s 816us/step - loss: 0.8003 - accuracy: 0.7048\n",
      "Epoch 32/50\n",
      "4/4 [==============================] - 0s 860us/step - loss: 0.7903 - accuracy: 0.7048\n",
      "Epoch 33/50\n",
      "4/4 [==============================] - 0s 830us/step - loss: 0.7808 - accuracy: 0.7048\n",
      "Epoch 34/50\n",
      "4/4 [==============================] - 0s 633us/step - loss: 0.7716 - accuracy: 0.7048\n",
      "Epoch 35/50\n",
      "4/4 [==============================] - 0s 690us/step - loss: 0.7625 - accuracy: 0.7048\n",
      "Epoch 36/50\n",
      "4/4 [==============================] - 0s 818us/step - loss: 0.7538 - accuracy: 0.7143\n",
      "Epoch 37/50\n",
      "4/4 [==============================] - 0s 1ms/step - loss: 0.7453 - accuracy: 0.7238\n",
      "Epoch 38/50\n",
      "4/4 [==============================] - 0s 707us/step - loss: 0.7372 - accuracy: 0.7714\n",
      "Epoch 39/50\n",
      "4/4 [==============================] - 0s 746us/step - loss: 0.7293 - accuracy: 0.8571\n",
      "Epoch 40/50\n",
      "4/4 [==============================] - 0s 837us/step - loss: 0.7216 - accuracy: 0.8952\n",
      "Epoch 41/50\n",
      "4/4 [==============================] - 0s 672us/step - loss: 0.7140 - accuracy: 0.9048\n",
      "Epoch 42/50\n",
      "4/4 [==============================] - 0s 777us/step - loss: 0.7064 - accuracy: 0.9048\n",
      "Epoch 43/50\n",
      "4/4 [==============================] - 0s 710us/step - loss: 0.6990 - accuracy: 0.9143\n",
      "Epoch 44/50\n",
      "4/4 [==============================] - 0s 771us/step - loss: 0.6915 - accuracy: 0.9238\n",
      "Epoch 45/50\n",
      "4/4 [==============================] - 0s 857us/step - loss: 0.6842 - accuracy: 0.9238\n",
      "Epoch 46/50\n",
      "4/4 [==============================] - 0s 744us/step - loss: 0.6769 - accuracy: 0.9333\n",
      "Epoch 47/50\n",
      "4/4 [==============================] - 0s 673us/step - loss: 0.6698 - accuracy: 0.9333\n",
      "Epoch 48/50\n",
      "4/4 [==============================] - 0s 793us/step - loss: 0.6629 - accuracy: 0.9333\n",
      "Epoch 49/50\n",
      "4/4 [==============================] - 0s 763us/step - loss: 0.6559 - accuracy: 0.9238\n",
      "Epoch 50/50\n",
      "4/4 [==============================] - 0s 780us/step - loss: 0.6493 - accuracy: 0.9238\n",
      "2/2 [==============================] - 0s 1ms/step - loss: 0.5817 - accuracy: 0.9556\n"
     ]
    }
   ],
   "source": [
    "model.compile(optimizer='adam', loss='categorical_crossentropy', metrics=['accuracy'])\n",
    "model.fit(X_train, y_train, epochs=50)\n",
    "loss, accuracy = model.evaluate(X_test, y_test)"
   ]
  },
  {
   "cell_type": "code",
   "execution_count": 9,
   "id": "e65a2f60",
   "metadata": {},
   "outputs": [
    {
     "name": "stdout",
     "output_type": "stream",
     "text": [
      "Loss: 0.5817117691040039\n",
      "Accuracy: 0.9555555582046509\n"
     ]
    }
   ],
   "source": [
    "print(f'Loss: {loss}')\n",
    "print(f'Accuracy: {accuracy}')"
   ]
  }
 ],
 "metadata": {
  "kernelspec": {
   "display_name": "Python 3 (ipykernel)",
   "language": "python",
   "name": "python3"
  },
  "language_info": {
   "codemirror_mode": {
    "name": "ipython",
    "version": 3
   },
   "file_extension": ".py",
   "mimetype": "text/x-python",
   "name": "python",
   "nbconvert_exporter": "python",
   "pygments_lexer": "ipython3",
   "version": "3.11.3"
  }
 },
 "nbformat": 4,
 "nbformat_minor": 5
}
