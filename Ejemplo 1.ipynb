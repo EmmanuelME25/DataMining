{
 "cells": [
  {
   "cell_type": "markdown",
   "id": "73828a81",
   "metadata": {},
   "source": [
    "## Ejemplo 1"
   ]
  },
  {
   "cell_type": "code",
   "execution_count": 1,
   "id": "8633f2bb",
   "metadata": {},
   "outputs": [],
   "source": [
    "def elegir_planta(temperatura, tipo_suelo):\n",
    "    if temperatura == \"frio\":\n",
    "        if tipo_suelo == \"acido\":\n",
    "            return \"Rododendro\"\n",
    "        elif tipo_suelo == \"neutro\":\n",
    "            return \"Arándano\"\n",
    "        else:\n",
    "            return \"Enebro\"\n",
    "    elif temperatura == \"moderado\":\n",
    "        if tipo_suelo == \"acido\":\n",
    "            return \"Camelia\"\n",
    "        elif tipo_suelo == \"neutro\":\n",
    "            return \"Rosa\"\n",
    "        else:\n",
    "            return \"Lavanda\"\n",
    "    else:  # Clima cálido\n",
    "        if tipo_suelo == \"acido\":\n",
    "            return \"Azalea\"\n",
    "        elif tipo_suelo == \"neutro\":\n",
    "            return \"Hibisco\"\n",
    "        else:\n",
    "            return \"Olivo\""
   ]
  },
  {
   "cell_type": "code",
   "execution_count": 2,
   "id": "5ebfa6b6",
   "metadata": {},
   "outputs": [
    {
     "name": "stdout",
     "output_type": "stream",
     "text": [
      "¿Cómo es el clima (frio/moderado/caluroso)? frio\n",
      "¿Qué tipo de suelo tienes (acido/neutro/alcalino)? acido\n"
     ]
    }
   ],
   "source": [
    "temperatura = input(\"¿Cómo es el clima (frio/moderado/caluroso)? \").lower()\n",
    "tipo_suelo = input(\"¿Qué tipo de suelo tienes (acido/neutro/alcalino)? \").lower()"
   ]
  },
  {
   "cell_type": "code",
   "execution_count": 3,
   "id": "ee2d5bf0",
   "metadata": {},
   "outputs": [],
   "source": [
    "planta_a_cultivar = elegir_planta(temperatura, tipo_suelo)"
   ]
  },
  {
   "cell_type": "code",
   "execution_count": 4,
   "id": "365c7ce6",
   "metadata": {},
   "outputs": [
    {
     "name": "stdout",
     "output_type": "stream",
     "text": [
      "La mejor planta para que cultives es Rododendro.\n"
     ]
    }
   ],
   "source": [
    "print(f\"La mejor planta para que cultives es {planta_a_cultivar}.\")"
   ]
  }
 ],
 "metadata": {
  "kernelspec": {
   "display_name": "Python 3 (ipykernel)",
   "language": "python",
   "name": "python3"
  },
  "language_info": {
   "codemirror_mode": {
    "name": "ipython",
    "version": 3
   },
   "file_extension": ".py",
   "mimetype": "text/x-python",
   "name": "python",
   "nbconvert_exporter": "python",
   "pygments_lexer": "ipython3",
   "version": "3.11.3"
  }
 },
 "nbformat": 4,
 "nbformat_minor": 5
}
