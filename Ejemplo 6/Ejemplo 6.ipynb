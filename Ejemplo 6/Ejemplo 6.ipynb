{
 "cells": [
  {
   "cell_type": "markdown",
   "id": "cf8adc90",
   "metadata": {},
   "source": [
    "## Ejemplo 6"
   ]
  },
  {
   "cell_type": "code",
   "execution_count": 1,
   "id": "e84d5d77",
   "metadata": {},
   "outputs": [],
   "source": [
    "import pandas as pd"
   ]
  },
  {
   "cell_type": "code",
   "execution_count": 4,
   "id": "3d343392",
   "metadata": {},
   "outputs": [],
   "source": [
    "#Cargar los datos desde un archivo csv\n",
    "df = pd.read_csv(\"data_ejemplo06.csv\")"
   ]
  },
  {
   "cell_type": "code",
   "execution_count": 5,
   "id": "be1a3322",
   "metadata": {},
   "outputs": [
    {
     "name": "stdout",
     "output_type": "stream",
     "text": [
      "Datos originales: \n",
      "        Fecha Producto  Ventas Región\n",
      "0  2023-01-01  Manzana     100  Norte\n",
      "1  2023-01-01  Plátano     150  Norte\n",
      "2  2023-01-02  Manzana     120    Sur\n",
      "3  2023-01-02  Plátano     130    Sur\n",
      "4  2023-01-01  Manzana     110    Sur\n",
      "5  2023-01-01  Plátano     160    Sur\n",
      "6  2023-01-02  Manzana     115  Norte\n",
      "7  2023-01-02  Plátano     140  Norte\n",
      "\n"
     ]
    }
   ],
   "source": [
    "#Ver los primeros datos del dataframe\n",
    "print(\"Datos originales: \")\n",
    "print(df)\n",
    "print()"
   ]
  },
  {
   "cell_type": "code",
   "execution_count": 6,
   "id": "ccddcc65",
   "metadata": {},
   "outputs": [
    {
     "name": "stdout",
     "output_type": "stream",
     "text": [
      "Ventas totales por producto\n",
      "Producto\n",
      "Manzana    445\n",
      "Plátano    580\n",
      "Name: Ventas, dtype: int64\n",
      "\n"
     ]
    }
   ],
   "source": [
    "#Agregar ventas por producto (simulando un cubo GLAP)\n",
    "print(\"Ventas totales por producto\")\n",
    "ventas_por_producto = df.groupby('Producto')['Ventas'].sum()\n",
    "print(ventas_por_producto)\n",
    "print()"
   ]
  },
  {
   "cell_type": "code",
   "execution_count": 7,
   "id": "7461815c",
   "metadata": {},
   "outputs": [
    {
     "name": "stdout",
     "output_type": "stream",
     "text": [
      "Ventas totales por región:\n",
      "Región\n",
      "Norte    505\n",
      "Sur      520\n",
      "Name: Ventas, dtype: int64\n",
      "\n"
     ]
    }
   ],
   "source": [
    "#Agregar ventas por región\n",
    "print(\"Ventas totales por región:\")\n",
    "ventas_por_region = df.groupby('Región')['Ventas'].sum()\n",
    "print(ventas_por_region)\n",
    "print()"
   ]
  },
  {
   "cell_type": "code",
   "execution_count": 10,
   "id": "31496342",
   "metadata": {},
   "outputs": [
    {
     "name": "stdout",
     "output_type": "stream",
     "text": [
      "Ventas por producto y por región\n",
      "Región    Norte  Sur\n",
      "Producto            \n",
      "Manzana     215  230\n",
      "Plátano     290  290\n"
     ]
    }
   ],
   "source": [
    "#Agregar ventas por producto y región\n",
    "print(\"Ventas por producto y por región\")\n",
    "ventas_por_producto_y_region= df.groupby(['Producto','Región'])['Ventas'].sum().unstack()\n",
    "print(ventas_por_producto_y_region)"
   ]
  }
 ],
 "metadata": {
  "kernelspec": {
   "display_name": "Python 3 (ipykernel)",
   "language": "python",
   "name": "python3"
  },
  "language_info": {
   "codemirror_mode": {
    "name": "ipython",
    "version": 3
   },
   "file_extension": ".py",
   "mimetype": "text/x-python",
   "name": "python",
   "nbconvert_exporter": "python",
   "pygments_lexer": "ipython3",
   "version": "3.11.3"
  }
 },
 "nbformat": 4,
 "nbformat_minor": 5
}
