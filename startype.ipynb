{
  "metadata": {
    "papermill": {
      "default_parameters": {},
      "duration": 111.826937,
      "end_time": "2023-03-02T15:18:10.505576",
      "environment_variables": {},
      "exception": null,
      "input_path": "__notebook__.ipynb",
      "output_path": "__notebook__.ipynb",
      "parameters": {},
      "start_time": "2023-03-02T15:16:18.678639",
      "version": "2.4.0"
    },
    "kernelspec": {
      "name": "python",
      "display_name": "Python (Pyodide)",
      "language": "python"
    },
    "language_info": {
      "codemirror_mode": {
        "name": "ipython",
        "version": 3
      },
      "file_extension": ".py",
      "mimetype": "text/x-python",
      "name": "python",
      "nbconvert_exporter": "python",
      "pygments_lexer": "ipython3",
      "version": "3.7.12"
    }
  },
  "nbformat_minor": 5,
  "nbformat": 4,
  "cells": [
    {
      "cell_type": "markdown",
      "source": "# Librerias",
      "metadata": {
        "id": "qZrvfyuMid_J",
        "papermill": {
          "duration": 0.050938,
          "end_time": "2023-03-02T15:16:28.712873",
          "exception": false,
          "start_time": "2023-03-02T15:16:28.661935",
          "status": "completed"
        },
        "tags": []
      },
      "id": "40a062da"
    },
    {
      "cell_type": "code",
      "source": "import pandas as pd\nimport numpy as np\nimport matplotlib.pyplot as plt\nimport seaborn as sns",
      "metadata": {
        "execution": {
          "iopub.execute_input": "2023-03-02T15:16:28.813244Z",
          "iopub.status.busy": "2023-03-02T15:16:28.812387Z",
          "iopub.status.idle": "2023-03-02T15:16:29.954186Z",
          "shell.execute_reply": "2023-03-02T15:16:29.952836Z"
        },
        "id": "HY1Xv6MaiZO0",
        "papermill": {
          "duration": 1.19495,
          "end_time": "2023-03-02T15:16:29.957125",
          "exception": false,
          "start_time": "2023-03-02T15:16:28.762175",
          "status": "completed"
        },
        "tags": []
      },
      "execution_count": 1,
      "outputs": [],
      "id": "4030d7e6"
    },
    {
      "cell_type": "code",
      "source": "sns.set()",
      "metadata": {
        "execution": {
          "iopub.execute_input": "2023-03-02T15:16:30.054600Z",
          "iopub.status.busy": "2023-03-02T15:16:30.053926Z",
          "iopub.status.idle": "2023-03-02T15:16:30.059644Z",
          "shell.execute_reply": "2023-03-02T15:16:30.058413Z"
        },
        "id": "peJrri3Mil2z",
        "papermill": {
          "duration": 0.057156,
          "end_time": "2023-03-02T15:16:30.061964",
          "exception": false,
          "start_time": "2023-03-02T15:16:30.004808",
          "status": "completed"
        },
        "tags": []
      },
      "execution_count": 2,
      "outputs": [],
      "id": "bd8b5cf3"
    },
    {
      "cell_type": "markdown",
      "source": "# Cargando el dataframe",
      "metadata": {
        "id": "y3aZ7UUyi3mx",
        "papermill": {
          "duration": 0.047756,
          "end_time": "2023-03-02T15:16:30.157614",
          "exception": false,
          "start_time": "2023-03-02T15:16:30.109858",
          "status": "completed"
        },
        "tags": []
      },
      "id": "fc30229b"
    },
    {
      "cell_type": "code",
      "source": "df = pd.read_csv('/kaggle/input/star-dataset/6 class csv.csv')",
      "metadata": {
        "execution": {
          "iopub.execute_input": "2023-03-02T15:16:30.255981Z",
          "iopub.status.busy": "2023-03-02T15:16:30.255148Z",
          "iopub.status.idle": "2023-03-02T15:16:30.276121Z",
          "shell.execute_reply": "2023-03-02T15:16:30.275109Z"
        },
        "id": "CJGeBPoDim-_",
        "papermill": {
          "duration": 0.073152,
          "end_time": "2023-03-02T15:16:30.278868",
          "exception": false,
          "start_time": "2023-03-02T15:16:30.205716",
          "status": "completed"
        },
        "tags": []
      },
      "execution_count": 3,
      "outputs": [],
      "id": "3a4974ab"
    },
    {
      "cell_type": "code",
      "source": "df.head()",
      "metadata": {
        "execution": {
          "iopub.execute_input": "2023-03-02T15:16:30.378444Z",
          "iopub.status.busy": "2023-03-02T15:16:30.378021Z",
          "iopub.status.idle": "2023-03-02T15:16:30.407303Z",
          "shell.execute_reply": "2023-03-02T15:16:30.406259Z"
        },
        "id": "OdIBgS8pjJAF",
        "outputId": "704030d2-1778-4e43-b319-bfd4f1297030",
        "papermill": {
          "duration": 0.081409,
          "end_time": "2023-03-02T15:16:30.409668",
          "exception": false,
          "start_time": "2023-03-02T15:16:30.328259",
          "status": "completed"
        },
        "tags": []
      },
      "execution_count": 4,
      "outputs": [
        {
          "execution_count": 4,
          "output_type": "execute_result",
          "data": {
            "text/html": [
              "<div>\n",
              "<style scoped>\n",
              "    .dataframe tbody tr th:only-of-type {\n",
              "        vertical-align: middle;\n",
              "    }\n",
              "\n",
              "    .dataframe tbody tr th {\n",
              "        vertical-align: top;\n",
              "    }\n",
              "\n",
              "    .dataframe thead th {\n",
              "        text-align: right;\n",
              "    }\n",
              "</style>\n",
              "<table border=\"1\" class=\"dataframe\">\n",
              "  <thead>\n",
              "    <tr style=\"text-align: right;\">\n",
              "      <th></th>\n",
              "      <th>Temperature (K)</th>\n",
              "      <th>Luminosity(L/Lo)</th>\n",
              "      <th>Radius(R/Ro)</th>\n",
              "      <th>Absolute magnitude(Mv)</th>\n",
              "      <th>Star type</th>\n",
              "      <th>Star color</th>\n",
              "      <th>Spectral Class</th>\n",
              "    </tr>\n",
              "  </thead>\n",
              "  <tbody>\n",
              "    <tr>\n",
              "      <th>0</th>\n",
              "      <td>3068</td>\n",
              "      <td>0.002400</td>\n",
              "      <td>0.1700</td>\n",
              "      <td>16.12</td>\n",
              "      <td>0</td>\n",
              "      <td>Red</td>\n",
              "      <td>M</td>\n",
              "    </tr>\n",
              "    <tr>\n",
              "      <th>1</th>\n",
              "      <td>3042</td>\n",
              "      <td>0.000500</td>\n",
              "      <td>0.1542</td>\n",
              "      <td>16.60</td>\n",
              "      <td>0</td>\n",
              "      <td>Red</td>\n",
              "      <td>M</td>\n",
              "    </tr>\n",
              "    <tr>\n",
              "      <th>2</th>\n",
              "      <td>2600</td>\n",
              "      <td>0.000300</td>\n",
              "      <td>0.1020</td>\n",
              "      <td>18.70</td>\n",
              "      <td>0</td>\n",
              "      <td>Red</td>\n",
              "      <td>M</td>\n",
              "    </tr>\n",
              "    <tr>\n",
              "      <th>3</th>\n",
              "      <td>2800</td>\n",
              "      <td>0.000200</td>\n",
              "      <td>0.1600</td>\n",
              "      <td>16.65</td>\n",
              "      <td>0</td>\n",
              "      <td>Red</td>\n",
              "      <td>M</td>\n",
              "    </tr>\n",
              "    <tr>\n",
              "      <th>4</th>\n",
              "      <td>1939</td>\n",
              "      <td>0.000138</td>\n",
              "      <td>0.1030</td>\n",
              "      <td>20.06</td>\n",
              "      <td>0</td>\n",
              "      <td>Red</td>\n",
              "      <td>M</td>\n",
              "    </tr>\n",
              "  </tbody>\n",
              "</table>\n",
              "</div>"
            ],
            "text/plain": [
              "   Temperature (K)  Luminosity(L/Lo)  Radius(R/Ro)  Absolute magnitude(Mv)  \\\n",
              "0             3068          0.002400        0.1700                   16.12   \n",
              "1             3042          0.000500        0.1542                   16.60   \n",
              "2             2600          0.000300        0.1020                   18.70   \n",
              "3             2800          0.000200        0.1600                   16.65   \n",
              "4             1939          0.000138        0.1030                   20.06   \n",
              "\n",
              "   Star type Star color Spectral Class  \n",
              "0          0        Red              M  \n",
              "1          0        Red              M  \n",
              "2          0        Red              M  \n",
              "3          0        Red              M  \n",
              "4          0        Red              M  "
            ]
          },
          "metadata": {}
        }
      ],
      "id": "4b53d42a"
    },
    {
      "cell_type": "markdown",
      "source": "# Sobre el dataset",
      "metadata": {
        "id": "tdc1gPAPjW1r",
        "papermill": {
          "duration": 0.048345,
          "end_time": "2023-03-02T15:16:30.506234",
          "exception": false,
          "start_time": "2023-03-02T15:16:30.457889",
          "status": "completed"
        },
        "tags": []
      },
      "id": "ea1d3ea8"
    },
    {
      "cell_type": "markdown",
      "source": "From Kaggle: https://www.kaggle.com/datasets/deepu1109/star-dataset\n\nThis CSV file contains a dataset of 240 stars of 6 classes:\n\nBrown Dwarf -> Star Type = 0\n\nRed Dwarf -> Star Type = 1\n\nWhite Dwarf-> Star Type = 2\n\nMain Sequence -> Star Type = 3\n\nSupergiant -> Star Type = 4\n\nHypergiant -> Star Type = 5\n\nThe Luminosity and radius of each star is calculated w.r.t. that of the values of Sun.\n\nLo = 3.828 x 10^26 Watts\n\nRo = 6.9551 x 10^8 m",
      "metadata": {
        "id": "JiB-JVrtjZcg",
        "papermill": {
          "duration": 0.048219,
          "end_time": "2023-03-02T15:16:30.603425",
          "exception": false,
          "start_time": "2023-03-02T15:16:30.555206",
          "status": "completed"
        },
        "tags": []
      },
      "id": "ed24123a"
    },
    {
      "cell_type": "markdown",
      "source": "## Dataset informaciòn",
      "metadata": {
        "id": "8nKRfR9dj3bh",
        "papermill": {
          "duration": 0.047835,
          "end_time": "2023-03-02T15:16:30.903083",
          "exception": false,
          "start_time": "2023-03-02T15:16:30.855248",
          "status": "completed"
        },
        "tags": []
      },
      "id": "97474f4c"
    },
    {
      "cell_type": "code",
      "source": "df.info()",
      "metadata": {
        "execution": {
          "iopub.execute_input": "2023-03-02T15:16:31.002701Z",
          "iopub.status.busy": "2023-03-02T15:16:31.002081Z",
          "iopub.status.idle": "2023-03-02T15:16:31.025667Z",
          "shell.execute_reply": "2023-03-02T15:16:31.024086Z"
        },
        "id": "pxCBMhitj0vO",
        "outputId": "34399a65-f08f-44b7-df57-154a4a669a52",
        "papermill": {
          "duration": 0.076231,
          "end_time": "2023-03-02T15:16:31.028397",
          "exception": false,
          "start_time": "2023-03-02T15:16:30.952166",
          "status": "completed"
        },
        "tags": []
      },
      "execution_count": 6,
      "outputs": [
        {
          "name": "stdout",
          "output_type": "stream",
          "text": "<class 'pandas.core.frame.DataFrame'>\n\nRangeIndex: 240 entries, 0 to 239\n\nData columns (total 7 columns):\n\n #   Column                  Non-Null Count  Dtype  \n\n---  ------                  --------------  -----  \n\n 0   Temperature (K)         240 non-null    int64  \n\n 1   Luminosity(L/Lo)        240 non-null    float64\n\n 2   Radius(R/Ro)            240 non-null    float64\n\n 3   Absolute magnitude(Mv)  240 non-null    float64\n\n 4   Star type               240 non-null    int64  \n\n 5   Star color              240 non-null    object \n\n 6   Spectral Class          240 non-null    object \n\ndtypes: float64(3), int64(2), object(2)\n\nmemory usage: 13.2+ KB\n"
        }
      ],
      "id": "17584515"
    },
    {
      "cell_type": "markdown",
      "source": "# Renombrar columnas",
      "metadata": {
        "id": "qpYGtpk7lRFq",
        "papermill": {
          "duration": 0.048319,
          "end_time": "2023-03-02T15:16:31.222197",
          "exception": false,
          "start_time": "2023-03-02T15:16:31.173878",
          "status": "completed"
        },
        "tags": []
      },
      "id": "02068b48"
    },
    {
      "cell_type": "code",
      "source": "df.columns = ['temperature', 'luminosity', \n              'radius', 'absolute_magnitude', \n              'star_type', 'star_color', 'spectral_class']",
      "metadata": {
        "execution": {
          "iopub.execute_input": "2023-03-02T15:16:31.419544Z",
          "iopub.status.busy": "2023-03-02T15:16:31.419154Z",
          "iopub.status.idle": "2023-03-02T15:16:31.423977Z",
          "shell.execute_reply": "2023-03-02T15:16:31.423179Z"
        },
        "id": "Y5UTVVWwk0Hw",
        "papermill": {
          "duration": 0.058406,
          "end_time": "2023-03-02T15:16:31.426056",
          "exception": false,
          "start_time": "2023-03-02T15:16:31.367650",
          "status": "completed"
        },
        "tags": []
      },
      "execution_count": 7,
      "outputs": [],
      "id": "c018626e"
    },
    {
      "cell_type": "code",
      "source": "df.head()",
      "metadata": {
        "execution": {
          "iopub.execute_input": "2023-03-02T15:16:31.525852Z",
          "iopub.status.busy": "2023-03-02T15:16:31.525208Z",
          "iopub.status.idle": "2023-03-02T15:16:31.539664Z",
          "shell.execute_reply": "2023-03-02T15:16:31.538422Z"
        },
        "id": "gDz8iE1ulhio",
        "outputId": "4bf8d6b7-2736-4075-abe2-34885fb926cd",
        "papermill": {
          "duration": 0.067423,
          "end_time": "2023-03-02T15:16:31.542247",
          "exception": false,
          "start_time": "2023-03-02T15:16:31.474824",
          "status": "completed"
        },
        "tags": []
      },
      "execution_count": 8,
      "outputs": [
        {
          "execution_count": 8,
          "output_type": "execute_result",
          "data": {
            "text/html": [
              "<div>\n",
              "<style scoped>\n",
              "    .dataframe tbody tr th:only-of-type {\n",
              "        vertical-align: middle;\n",
              "    }\n",
              "\n",
              "    .dataframe tbody tr th {\n",
              "        vertical-align: top;\n",
              "    }\n",
              "\n",
              "    .dataframe thead th {\n",
              "        text-align: right;\n",
              "    }\n",
              "</style>\n",
              "<table border=\"1\" class=\"dataframe\">\n",
              "  <thead>\n",
              "    <tr style=\"text-align: right;\">\n",
              "      <th></th>\n",
              "      <th>temperature</th>\n",
              "      <th>luminosity</th>\n",
              "      <th>radius</th>\n",
              "      <th>absolute_magnitude</th>\n",
              "      <th>star_type</th>\n",
              "      <th>star_color</th>\n",
              "      <th>spectral_class</th>\n",
              "    </tr>\n",
              "  </thead>\n",
              "  <tbody>\n",
              "    <tr>\n",
              "      <th>0</th>\n",
              "      <td>3068</td>\n",
              "      <td>0.002400</td>\n",
              "      <td>0.1700</td>\n",
              "      <td>16.12</td>\n",
              "      <td>0</td>\n",
              "      <td>Red</td>\n",
              "      <td>M</td>\n",
              "    </tr>\n",
              "    <tr>\n",
              "      <th>1</th>\n",
              "      <td>3042</td>\n",
              "      <td>0.000500</td>\n",
              "      <td>0.1542</td>\n",
              "      <td>16.60</td>\n",
              "      <td>0</td>\n",
              "      <td>Red</td>\n",
              "      <td>M</td>\n",
              "    </tr>\n",
              "    <tr>\n",
              "      <th>2</th>\n",
              "      <td>2600</td>\n",
              "      <td>0.000300</td>\n",
              "      <td>0.1020</td>\n",
              "      <td>18.70</td>\n",
              "      <td>0</td>\n",
              "      <td>Red</td>\n",
              "      <td>M</td>\n",
              "    </tr>\n",
              "    <tr>\n",
              "      <th>3</th>\n",
              "      <td>2800</td>\n",
              "      <td>0.000200</td>\n",
              "      <td>0.1600</td>\n",
              "      <td>16.65</td>\n",
              "      <td>0</td>\n",
              "      <td>Red</td>\n",
              "      <td>M</td>\n",
              "    </tr>\n",
              "    <tr>\n",
              "      <th>4</th>\n",
              "      <td>1939</td>\n",
              "      <td>0.000138</td>\n",
              "      <td>0.1030</td>\n",
              "      <td>20.06</td>\n",
              "      <td>0</td>\n",
              "      <td>Red</td>\n",
              "      <td>M</td>\n",
              "    </tr>\n",
              "  </tbody>\n",
              "</table>\n",
              "</div>"
            ],
            "text/plain": [
              "   temperature  luminosity  radius  absolute_magnitude  star_type star_color  \\\n",
              "0         3068    0.002400  0.1700               16.12          0        Red   \n",
              "1         3042    0.000500  0.1542               16.60          0        Red   \n",
              "2         2600    0.000300  0.1020               18.70          0        Red   \n",
              "3         2800    0.000200  0.1600               16.65          0        Red   \n",
              "4         1939    0.000138  0.1030               20.06          0        Red   \n",
              "\n",
              "  spectral_class  \n",
              "0              M  \n",
              "1              M  \n",
              "2              M  \n",
              "3              M  \n",
              "4              M  "
            ]
          },
          "metadata": {}
        }
      ],
      "id": "90d0fcbe"
    },
    {
      "cell_type": "markdown",
      "source": "# Anàlisis exploratorio",
      "metadata": {
        "id": "NSk7G23FkYfy",
        "papermill": {
          "duration": 0.049039,
          "end_time": "2023-03-02T15:16:31.641689",
          "exception": false,
          "start_time": "2023-03-02T15:16:31.592650",
          "status": "completed"
        },
        "tags": []
      },
      "id": "fd6e49b1"
    },
    {
      "cell_type": "markdown",
      "source": "## Columna temperatura",
      "metadata": {
        "id": "DDmLACxprPuj",
        "papermill": {
          "duration": 0.049149,
          "end_time": "2023-03-02T15:16:31.740260",
          "exception": false,
          "start_time": "2023-03-02T15:16:31.691111",
          "status": "completed"
        },
        "tags": []
      },
      "id": "71446082"
    },
    {
      "cell_type": "markdown",
      "source": "The unit of temperature used in the data for this quantity is the Kelvin (K) scale.",
      "metadata": {
        "id": "QBL6-9JerVTE",
        "papermill": {
          "duration": 0.048766,
          "end_time": "2023-03-02T15:16:31.838185",
          "exception": false,
          "start_time": "2023-03-02T15:16:31.789419",
          "status": "completed"
        },
        "tags": []
      },
      "id": "a5242f29"
    },
    {
      "cell_type": "markdown",
      "source": "### Average, median and mode",
      "metadata": {
        "id": "MBPCD4NHrf2a",
        "papermill": {
          "duration": 0.048583,
          "end_time": "2023-03-02T15:16:31.935866",
          "exception": false,
          "start_time": "2023-03-02T15:16:31.887283",
          "status": "completed"
        },
        "tags": []
      },
      "id": "24766d86"
    },
    {
      "cell_type": "code",
      "source": "pd.DataFrame({'Average': df['temperature'].mean(),\n              'Median': df['temperature'].median(),\n              'Mode': df['temperature'].mode()[0]},\n             index= ['Values'])",
      "metadata": {
        "execution": {
          "iopub.execute_input": "2023-03-02T15:16:32.035278Z",
          "iopub.status.busy": "2023-03-02T15:16:32.034856Z",
          "iopub.status.idle": "2023-03-02T15:16:32.049808Z",
          "shell.execute_reply": "2023-03-02T15:16:32.048976Z"
        },
        "id": "LTBm4vF7rSLs",
        "outputId": "fc1bf0c0-0894-4e16-b704-afa9102cca35",
        "papermill": {
          "duration": 0.067295,
          "end_time": "2023-03-02T15:16:32.052053",
          "exception": false,
          "start_time": "2023-03-02T15:16:31.984758",
          "status": "completed"
        },
        "tags": []
      },
      "execution_count": 9,
      "outputs": [
        {
          "execution_count": 9,
          "output_type": "execute_result",
          "data": {
            "text/html": [
              "<div>\n",
              "<style scoped>\n",
              "    .dataframe tbody tr th:only-of-type {\n",
              "        vertical-align: middle;\n",
              "    }\n",
              "\n",
              "    .dataframe tbody tr th {\n",
              "        vertical-align: top;\n",
              "    }\n",
              "\n",
              "    .dataframe thead th {\n",
              "        text-align: right;\n",
              "    }\n",
              "</style>\n",
              "<table border=\"1\" class=\"dataframe\">\n",
              "  <thead>\n",
              "    <tr style=\"text-align: right;\">\n",
              "      <th></th>\n",
              "      <th>Average</th>\n",
              "      <th>Median</th>\n",
              "      <th>Mode</th>\n",
              "    </tr>\n",
              "  </thead>\n",
              "  <tbody>\n",
              "    <tr>\n",
              "      <th>Values</th>\n",
              "      <td>10497.4625</td>\n",
              "      <td>5776.0</td>\n",
              "      <td>3600</td>\n",
              "    </tr>\n",
              "  </tbody>\n",
              "</table>\n",
              "</div>"
            ],
            "text/plain": [
              "           Average  Median  Mode\n",
              "Values  10497.4625  5776.0  3600"
            ]
          },
          "metadata": {}
        }
      ],
      "id": "02ac3081"
    },
    {
      "cell_type": "markdown",
      "source": "### Mean absolute deviation, variance and standard deviation",
      "metadata": {
        "id": "kNu91GiVr7lz",
        "papermill": {
          "duration": 0.049291,
          "end_time": "2023-03-02T15:16:32.151684",
          "exception": false,
          "start_time": "2023-03-02T15:16:32.102393",
          "status": "completed"
        },
        "tags": []
      },
      "id": "1c142f82"
    },
    {
      "cell_type": "code",
      "source": "pd.DataFrame({'Mean absolute deviation': df['temperature'].mad(),\n              'Variance': df['temperature'].var(),\n              'Standard deviation': df['temperature'].std()},\n             index= ['Values'])",
      "metadata": {
        "execution": {
          "iopub.execute_input": "2023-03-02T15:16:32.253085Z",
          "iopub.status.busy": "2023-03-02T15:16:32.252641Z",
          "iopub.status.idle": "2023-03-02T15:16:32.266861Z",
          "shell.execute_reply": "2023-03-02T15:16:32.265798Z"
        },
        "id": "yljuMrBKr29_",
        "outputId": "942e08c2-e3e7-4f76-817d-9590772262fa",
        "papermill": {
          "duration": 0.067703,
          "end_time": "2023-03-02T15:16:32.269422",
          "exception": false,
          "start_time": "2023-03-02T15:16:32.201719",
          "status": "completed"
        },
        "tags": []
      },
      "execution_count": 10,
      "outputs": [
        {
          "execution_count": 10,
          "output_type": "execute_result",
          "data": {
            "text/html": [
              "<div>\n",
              "<style scoped>\n",
              "    .dataframe tbody tr th:only-of-type {\n",
              "        vertical-align: middle;\n",
              "    }\n",
              "\n",
              "    .dataframe tbody tr th {\n",
              "        vertical-align: top;\n",
              "    }\n",
              "\n",
              "    .dataframe thead th {\n",
              "        text-align: right;\n",
              "    }\n",
              "</style>\n",
              "<table border=\"1\" class=\"dataframe\">\n",
              "  <thead>\n",
              "    <tr style=\"text-align: right;\">\n",
              "      <th></th>\n",
              "      <th>Mean absolute deviation</th>\n",
              "      <th>Variance</th>\n",
              "      <th>Standard deviation</th>\n",
              "    </tr>\n",
              "  </thead>\n",
              "  <tbody>\n",
              "    <tr>\n",
              "      <th>Values</th>\n",
              "      <td>7707.765312</td>\n",
              "      <td>9.124882e+07</td>\n",
              "      <td>9552.425037</td>\n",
              "    </tr>\n",
              "  </tbody>\n",
              "</table>\n",
              "</div>"
            ],
            "text/plain": [
              "        Mean absolute deviation      Variance  Standard deviation\n",
              "Values              7707.765312  9.124882e+07         9552.425037"
            ]
          },
          "metadata": {}
        }
      ],
      "id": "2f145feb"
    },
    {
      "cell_type": "markdown",
      "source": "### Quartiles",
      "metadata": {
        "id": "KmzVO40Bx9pr",
        "papermill": {
          "duration": 0.049231,
          "end_time": "2023-03-02T15:16:32.368011",
          "exception": false,
          "start_time": "2023-03-02T15:16:32.318780",
          "status": "completed"
        },
        "tags": []
      },
      "id": "f8474f63"
    },
    {
      "cell_type": "code",
      "source": "pd.DataFrame(df['temperature'].describe()[['25%', '50%', '75%']])",
      "metadata": {
        "execution": {
          "iopub.execute_input": "2023-03-02T15:16:32.469925Z",
          "iopub.status.busy": "2023-03-02T15:16:32.469167Z",
          "iopub.status.idle": "2023-03-02T15:16:32.484573Z",
          "shell.execute_reply": "2023-03-02T15:16:32.483411Z"
        },
        "id": "5859iIjexG8a",
        "outputId": "6d25b7f1-a0e3-4be6-ad5e-04932936f520",
        "papermill": {
          "duration": 0.069338,
          "end_time": "2023-03-02T15:16:32.487198",
          "exception": false,
          "start_time": "2023-03-02T15:16:32.417860",
          "status": "completed"
        },
        "tags": []
      },
      "execution_count": 11,
      "outputs": [
        {
          "execution_count": 11,
          "output_type": "execute_result",
          "data": {
            "text/html": [
              "<div>\n",
              "<style scoped>\n",
              "    .dataframe tbody tr th:only-of-type {\n",
              "        vertical-align: middle;\n",
              "    }\n",
              "\n",
              "    .dataframe tbody tr th {\n",
              "        vertical-align: top;\n",
              "    }\n",
              "\n",
              "    .dataframe thead th {\n",
              "        text-align: right;\n",
              "    }\n",
              "</style>\n",
              "<table border=\"1\" class=\"dataframe\">\n",
              "  <thead>\n",
              "    <tr style=\"text-align: right;\">\n",
              "      <th></th>\n",
              "      <th>temperature</th>\n",
              "    </tr>\n",
              "  </thead>\n",
              "  <tbody>\n",
              "    <tr>\n",
              "      <th>25%</th>\n",
              "      <td>3344.25</td>\n",
              "    </tr>\n",
              "    <tr>\n",
              "      <th>50%</th>\n",
              "      <td>5776.00</td>\n",
              "    </tr>\n",
              "    <tr>\n",
              "      <th>75%</th>\n",
              "      <td>15055.50</td>\n",
              "    </tr>\n",
              "  </tbody>\n",
              "</table>\n",
              "</div>"
            ],
            "text/plain": [
              "     temperature\n",
              "25%      3344.25\n",
              "50%      5776.00\n",
              "75%     15055.50"
            ]
          },
          "metadata": {}
        }
      ],
      "id": "d3737052"
    },
    {
      "cell_type": "markdown",
      "source": "### Histogram",
      "metadata": {
        "id": "tXTQpWhxw31o",
        "papermill": {
          "duration": 0.049804,
          "end_time": "2023-03-02T15:16:32.587120",
          "exception": false,
          "start_time": "2023-03-02T15:16:32.537316",
          "status": "completed"
        },
        "tags": []
      },
      "id": "f0f69fe6"
    },
    {
      "cell_type": "code",
      "source": "plt.figure(figsize= (10, 8))\nax = sns.histplot(data= df, x= 'temperature', kde= True)\nax.set_title(\"Stars' temperatures histogram\", fontsize= 16)\nplt.xlabel('Temperature (K)')\nplt.show()",
      "metadata": {
        "execution": {
          "iopub.execute_input": "2023-03-02T15:16:32.688724Z",
          "iopub.status.busy": "2023-03-02T15:16:32.688345Z",
          "iopub.status.idle": "2023-03-02T15:16:33.087084Z",
          "shell.execute_reply": "2023-03-02T15:16:33.085845Z"
        },
        "id": "W5uwvudAsY8k",
        "outputId": "dcf2d598-fd97-406f-c34f-75e713292f3b",
        "papermill": {
          "duration": 0.452639,
          "end_time": "2023-03-02T15:16:33.089561",
          "exception": false,
          "start_time": "2023-03-02T15:16:32.636922",
          "status": "completed"
        },
        "tags": []
      },
      "execution_count": 12,
      "outputs": [
        {
          "output_type": "display_data",
          "data": {
            "image/png": "[encoded data removed]",
            "text/plain": [
              "<Figure size 1000x800 with 1 Axes>"
            ]
          },
          "metadata": {}
        }
      ],
      "id": "c5248c04"
    },
    {
      "cell_type": "markdown",
      "source": "## Columna luminosidad",
      "metadata": {
        "id": "XwOltEOOyTV3",
        "papermill": {
          "duration": 0.051175,
          "end_time": "2023-03-02T15:16:34.255605",
          "exception": false,
          "start_time": "2023-03-02T15:16:34.204430",
          "status": "completed"
        },
        "tags": []
      },
      "id": "1f498b94"
    },
    {
      "cell_type": "markdown",
      "source": "### Average, median and mode",
      "metadata": {
        "id": "I51RPtxRydmk",
        "papermill": {
          "duration": 0.051157,
          "end_time": "2023-03-02T15:16:34.358510",
          "exception": false,
          "start_time": "2023-03-02T15:16:34.307353",
          "status": "completed"
        },
        "tags": []
      },
      "id": "66662c54"
    },
    {
      "cell_type": "code",
      "source": "pd.DataFrame({'Average': df['luminosity'].mean(),\n              'Median': df['luminosity'].median(),\n              'Mode': df['luminosity'].mode()[0]}, \n             index= ['Values'])",
      "metadata": {
        "execution": {
          "iopub.execute_input": "2023-03-02T15:16:34.465796Z",
          "iopub.status.busy": "2023-03-02T15:16:34.465418Z",
          "iopub.status.idle": "2023-03-02T15:16:34.479336Z",
          "shell.execute_reply": "2023-03-02T15:16:34.478093Z"
        },
        "id": "B1UJXwQmycQp",
        "outputId": "cdfb2ab0-9289-4195-ad96-486e8ab93bdb",
        "papermill": {
          "duration": 0.070142,
          "end_time": "2023-03-02T15:16:34.481924",
          "exception": false,
          "start_time": "2023-03-02T15:16:34.411782",
          "status": "completed"
        },
        "tags": []
      },
      "execution_count": 16,
      "outputs": [
        {
          "execution_count": 16,
          "output_type": "execute_result",
          "data": {
            "text/html": [
              "<div>\n",
              "<style scoped>\n",
              "    .dataframe tbody tr th:only-of-type {\n",
              "        vertical-align: middle;\n",
              "    }\n",
              "\n",
              "    .dataframe tbody tr th {\n",
              "        vertical-align: top;\n",
              "    }\n",
              "\n",
              "    .dataframe thead th {\n",
              "        text-align: right;\n",
              "    }\n",
              "</style>\n",
              "<table border=\"1\" class=\"dataframe\">\n",
              "  <thead>\n",
              "    <tr style=\"text-align: right;\">\n",
              "      <th></th>\n",
              "      <th>Average</th>\n",
              "      <th>Median</th>\n",
              "      <th>Mode</th>\n",
              "    </tr>\n",
              "  </thead>\n",
              "  <tbody>\n",
              "    <tr>\n",
              "      <th>Values</th>\n",
              "      <td>107188.361635</td>\n",
              "      <td>0.0705</td>\n",
              "      <td>200000.0</td>\n",
              "    </tr>\n",
              "  </tbody>\n",
              "</table>\n",
              "</div>"
            ],
            "text/plain": [
              "              Average  Median      Mode\n",
              "Values  107188.361635  0.0705  200000.0"
            ]
          },
          "metadata": {}
        }
      ],
      "id": "9fbf6919"
    },
    {
      "cell_type": "markdown",
      "source": "### Mean absolute deviation, variance and standard deviation",
      "metadata": {
        "id": "P4gQI0XE0FVZ",
        "papermill": {
          "duration": 0.05238,
          "end_time": "2023-03-02T15:16:34.587308",
          "exception": false,
          "start_time": "2023-03-02T15:16:34.534928",
          "status": "completed"
        },
        "tags": []
      },
      "id": "74b0132c"
    },
    {
      "cell_type": "code",
      "source": "pd.DataFrame({'Mean deviation': df['luminosity'].mad(),\n              'Variance': df['luminosity'].var(),\n              'Standard deviation': df['luminosity'].std()},\n             index= ['Values'])",
      "metadata": {
        "execution": {
          "iopub.execute_input": "2023-03-02T15:16:34.693407Z",
          "iopub.status.busy": "2023-03-02T15:16:34.692735Z",
          "iopub.status.idle": "2023-03-02T15:16:34.707995Z",
          "shell.execute_reply": "2023-03-02T15:16:34.706343Z"
        },
        "id": "uYiWLEgZ0JcN",
        "outputId": "4a3918b1-94a7-4bb9-db8e-832e4c643a92",
        "papermill": {
          "duration": 0.071049,
          "end_time": "2023-03-02T15:16:34.710494",
          "exception": false,
          "start_time": "2023-03-02T15:16:34.639445",
          "status": "completed"
        },
        "tags": []
      },
      "execution_count": 17,
      "outputs": [
        {
          "execution_count": 17,
          "output_type": "execute_result",
          "data": {
            "text/html": [
              "<div>\n",
              "<style scoped>\n",
              "    .dataframe tbody tr th:only-of-type {\n",
              "        vertical-align: middle;\n",
              "    }\n",
              "\n",
              "    .dataframe tbody tr th {\n",
              "        vertical-align: top;\n",
              "    }\n",
              "\n",
              "    .dataframe thead th {\n",
              "        text-align: right;\n",
              "    }\n",
              "</style>\n",
              "<table border=\"1\" class=\"dataframe\">\n",
              "  <thead>\n",
              "    <tr style=\"text-align: right;\">\n",
              "      <th></th>\n",
              "      <th>Mean deviation</th>\n",
              "      <th>Variance</th>\n",
              "      <th>Standard deviation</th>\n",
              "    </tr>\n",
              "  </thead>\n",
              "  <tbody>\n",
              "    <tr>\n",
              "      <th>Values</th>\n",
              "      <td>136913.238522</td>\n",
              "      <td>3.219593e+10</td>\n",
              "      <td>179432.24494</td>\n",
              "    </tr>\n",
              "  </tbody>\n",
              "</table>\n",
              "</div>"
            ],
            "text/plain": [
              "        Mean deviation      Variance  Standard deviation\n",
              "Values   136913.238522  3.219593e+10        179432.24494"
            ]
          },
          "metadata": {}
        }
      ],
      "id": "9a362265"
    },
    {
      "cell_type": "markdown",
      "source": "### Quartiles",
      "metadata": {
        "id": "F5LdOZVD02pR",
        "papermill": {
          "duration": 0.052929,
          "end_time": "2023-03-02T15:16:34.816854",
          "exception": false,
          "start_time": "2023-03-02T15:16:34.763925",
          "status": "completed"
        },
        "tags": []
      },
      "id": "ea016d89"
    },
    {
      "cell_type": "code",
      "source": "pd.DataFrame(df['luminosity'].describe()[['25%', '50%', '75%']])",
      "metadata": {
        "execution": {
          "iopub.execute_input": "2023-03-02T15:16:34.926326Z",
          "iopub.status.busy": "2023-03-02T15:16:34.925877Z",
          "iopub.status.idle": "2023-03-02T15:16:34.940518Z",
          "shell.execute_reply": "2023-03-02T15:16:34.939014Z"
        },
        "id": "TmWoEh5n0YE-",
        "outputId": "ec7a725d-935f-4512-cd88-f09096650121",
        "papermill": {
          "duration": 0.072909,
          "end_time": "2023-03-02T15:16:34.943107",
          "exception": false,
          "start_time": "2023-03-02T15:16:34.870198",
          "status": "completed"
        },
        "tags": []
      },
      "execution_count": 18,
      "outputs": [
        {
          "execution_count": 18,
          "output_type": "execute_result",
          "data": {
            "text/html": [
              "<div>\n",
              "<style scoped>\n",
              "    .dataframe tbody tr th:only-of-type {\n",
              "        vertical-align: middle;\n",
              "    }\n",
              "\n",
              "    .dataframe tbody tr th {\n",
              "        vertical-align: top;\n",
              "    }\n",
              "\n",
              "    .dataframe thead th {\n",
              "        text-align: right;\n",
              "    }\n",
              "</style>\n",
              "<table border=\"1\" class=\"dataframe\">\n",
              "  <thead>\n",
              "    <tr style=\"text-align: right;\">\n",
              "      <th></th>\n",
              "      <th>luminosity</th>\n",
              "    </tr>\n",
              "  </thead>\n",
              "  <tbody>\n",
              "    <tr>\n",
              "      <th>25%</th>\n",
              "      <td>0.000865</td>\n",
              "    </tr>\n",
              "    <tr>\n",
              "      <th>50%</th>\n",
              "      <td>0.070500</td>\n",
              "    </tr>\n",
              "    <tr>\n",
              "      <th>75%</th>\n",
              "      <td>198050.000000</td>\n",
              "    </tr>\n",
              "  </tbody>\n",
              "</table>\n",
              "</div>"
            ],
            "text/plain": [
              "        luminosity\n",
              "25%       0.000865\n",
              "50%       0.070500\n",
              "75%  198050.000000"
            ]
          },
          "metadata": {}
        }
      ],
      "id": "d22edb0c"
    },
    {
      "cell_type": "markdown",
      "source": "### Histogram",
      "metadata": {
        "id": "Mo3_Jv-11C2K",
        "papermill": {
          "duration": 0.054028,
          "end_time": "2023-03-02T15:16:35.050723",
          "exception": false,
          "start_time": "2023-03-02T15:16:34.996695",
          "status": "completed"
        },
        "tags": []
      },
      "id": "57f0083e"
    },
    {
      "cell_type": "code",
      "source": "plt.figure(figsize= (10, 8))\nax = sns.histplot(data= df, x= 'luminosity', kde= True)\nax.set_title(\"Stars' luminosity histogram\", fontsize= 16)\nplt.xlabel('Luminosity (L/Lo)')\nplt.show()",
      "metadata": {
        "execution": {
          "iopub.execute_input": "2023-03-02T15:16:35.162808Z",
          "iopub.status.busy": "2023-03-02T15:16:35.161315Z",
          "iopub.status.idle": "2023-03-02T15:16:35.511064Z",
          "shell.execute_reply": "2023-03-02T15:16:35.509667Z"
        },
        "id": "UeO5-KJb1Aft",
        "outputId": "89ed3ca9-8ed2-4b57-adad-81862ba38e59",
        "papermill": {
          "duration": 0.409679,
          "end_time": "2023-03-02T15:16:35.514073",
          "exception": false,
          "start_time": "2023-03-02T15:16:35.104394",
          "status": "completed"
        },
        "tags": []
      },
      "execution_count": 19,
      "outputs": [
        {
          "output_type": "display_data",
          "data": {
            "image/png": "[encoded data removed]",
            "text/plain": [
              "<Figure size 1000x800 with 1 Axes>"
            ]
          },
          "metadata": {}
        }
      ],
      "id": "94b0f78b"
    },
    {
      "cell_type": "markdown",
      "source": "## Columna radio",
      "metadata": {
        "id": "P-Ssvem26k-M",
        "papermill": {
          "duration": 0.053643,
          "end_time": "2023-03-02T15:16:36.641208",
          "exception": false,
          "start_time": "2023-03-02T15:16:36.587565",
          "status": "completed"
        },
        "tags": []
      },
      "id": "0e14b5bd"
    },
    {
      "cell_type": "markdown",
      "source": "The data present in the radius variable are determined in relation to the solar radius.",
      "metadata": {
        "id": "SCM8TiP--yG4",
        "papermill": {
          "duration": 0.053714,
          "end_time": "2023-03-02T15:16:36.749034",
          "exception": false,
          "start_time": "2023-03-02T15:16:36.695320",
          "status": "completed"
        },
        "tags": []
      },
      "id": "708e21de"
    },
    {
      "cell_type": "markdown",
      "source": "### Average, median and mode",
      "metadata": {
        "id": "u9Tun7fc7l7y",
        "papermill": {
          "duration": 0.05357,
          "end_time": "2023-03-02T15:16:36.856352",
          "exception": false,
          "start_time": "2023-03-02T15:16:36.802782",
          "status": "completed"
        },
        "tags": []
      },
      "id": "c387adaa"
    },
    {
      "cell_type": "code",
      "source": "pd.DataFrame({'Average': df['radius'].mean(),\n              'Median': df['radius'].median(),\n              'Mode': [df['radius'].mode().values]},\n             index= ['Values'])",
      "metadata": {
        "execution": {
          "iopub.execute_input": "2023-03-02T15:16:36.966249Z",
          "iopub.status.busy": "2023-03-02T15:16:36.965746Z",
          "iopub.status.idle": "2023-03-02T15:16:36.979463Z",
          "shell.execute_reply": "2023-03-02T15:16:36.978280Z"
        },
        "id": "XDxY_VHr6gZQ",
        "outputId": "5c425df8-8c7a-4809-b5fb-7be5ae66a21c",
        "papermill": {
          "duration": 0.071586,
          "end_time": "2023-03-02T15:16:36.981868",
          "exception": false,
          "start_time": "2023-03-02T15:16:36.910282",
          "status": "completed"
        },
        "tags": []
      },
      "execution_count": 23,
      "outputs": [
        {
          "execution_count": 23,
          "output_type": "execute_result",
          "data": {
            "text/html": [
              "<div>\n",
              "<style scoped>\n",
              "    .dataframe tbody tr th:only-of-type {\n",
              "        vertical-align: middle;\n",
              "    }\n",
              "\n",
              "    .dataframe tbody tr th {\n",
              "        vertical-align: top;\n",
              "    }\n",
              "\n",
              "    .dataframe thead th {\n",
              "        text-align: right;\n",
              "    }\n",
              "</style>\n",
              "<table border=\"1\" class=\"dataframe\">\n",
              "  <thead>\n",
              "    <tr style=\"text-align: right;\">\n",
              "      <th></th>\n",
              "      <th>Average</th>\n",
              "      <th>Median</th>\n",
              "      <th>Mode</th>\n",
              "    </tr>\n",
              "  </thead>\n",
              "  <tbody>\n",
              "    <tr>\n",
              "      <th>Values</th>\n",
              "      <td>237.157781</td>\n",
              "      <td>0.7625</td>\n",
              "      <td>[0.11, 0.24, 36.0, 1324.0]</td>\n",
              "    </tr>\n",
              "  </tbody>\n",
              "</table>\n",
              "</div>"
            ],
            "text/plain": [
              "           Average  Median                        Mode\n",
              "Values  237.157781  0.7625  [0.11, 0.24, 36.0, 1324.0]"
            ]
          },
          "metadata": {}
        }
      ],
      "id": "b73cacae"
    },
    {
      "cell_type": "markdown",
      "source": "### Mean absolute deviation, variance and standard deviation",
      "metadata": {
        "id": "BwQRZpl09ufl",
        "papermill": {
          "duration": 0.053798,
          "end_time": "2023-03-02T15:16:37.089551",
          "exception": false,
          "start_time": "2023-03-02T15:16:37.035753",
          "status": "completed"
        },
        "tags": []
      },
      "id": "fdc1c937"
    },
    {
      "cell_type": "code",
      "source": "pd.DataFrame({'Mean deviation': df['radius'].mad(),\n              'Variance': df['radius'].var(),\n              'Standard deviation': df['radius'].std()},\n             index= ['Values'])",
      "metadata": {
        "execution": {
          "iopub.execute_input": "2023-03-02T15:16:37.199991Z",
          "iopub.status.busy": "2023-03-02T15:16:37.199555Z",
          "iopub.status.idle": "2023-03-02T15:16:37.214130Z",
          "shell.execute_reply": "2023-03-02T15:16:37.213259Z"
        },
        "id": "hezSZN4y6g2f",
        "outputId": "88d05fcb-ac9b-44c2-9a6e-0254557e3d98",
        "papermill": {
          "duration": 0.073229,
          "end_time": "2023-03-02T15:16:37.217081",
          "exception": false,
          "start_time": "2023-03-02T15:16:37.143852",
          "status": "completed"
        },
        "tags": []
      },
      "execution_count": 24,
      "outputs": [
        {
          "execution_count": 24,
          "output_type": "execute_result",
          "data": {
            "text/html": [
              "<div>\n",
              "<style scoped>\n",
              "    .dataframe tbody tr th:only-of-type {\n",
              "        vertical-align: middle;\n",
              "    }\n",
              "\n",
              "    .dataframe tbody tr th {\n",
              "        vertical-align: top;\n",
              "    }\n",
              "\n",
              "    .dataframe thead th {\n",
              "        text-align: right;\n",
              "    }\n",
              "</style>\n",
              "<table border=\"1\" class=\"dataframe\">\n",
              "  <thead>\n",
              "    <tr style=\"text-align: right;\">\n",
              "      <th></th>\n",
              "      <th>Mean deviation</th>\n",
              "      <th>Variance</th>\n",
              "      <th>Standard deviation</th>\n",
              "    </tr>\n",
              "  </thead>\n",
              "  <tbody>\n",
              "    <tr>\n",
              "      <th>Values</th>\n",
              "      <td>376.579906</td>\n",
              "      <td>267450.083621</td>\n",
              "      <td>517.155763</td>\n",
              "    </tr>\n",
              "  </tbody>\n",
              "</table>\n",
              "</div>"
            ],
            "text/plain": [
              "        Mean deviation       Variance  Standard deviation\n",
              "Values      376.579906  267450.083621          517.155763"
            ]
          },
          "metadata": {}
        }
      ],
      "id": "275ea83a"
    },
    {
      "cell_type": "markdown",
      "source": "### Quartiles",
      "metadata": {
        "id": "B5rdFqHp-bHH",
        "papermill": {
          "duration": 0.054042,
          "end_time": "2023-03-02T15:16:37.332735",
          "exception": false,
          "start_time": "2023-03-02T15:16:37.278693",
          "status": "completed"
        },
        "tags": []
      },
      "id": "a720fb62"
    },
    {
      "cell_type": "code",
      "source": "pd.DataFrame(df['radius'].describe()[['25%', '50%', '75%']])",
      "metadata": {
        "execution": {
          "iopub.execute_input": "2023-03-02T15:16:37.444646Z",
          "iopub.status.busy": "2023-03-02T15:16:37.444232Z",
          "iopub.status.idle": "2023-03-02T15:16:37.456935Z",
          "shell.execute_reply": "2023-03-02T15:16:37.455862Z"
        },
        "id": "E738fv_d-WFA",
        "outputId": "1ce998d3-bc38-44eb-f7ac-00802bdf3c1b",
        "papermill": {
          "duration": 0.071468,
          "end_time": "2023-03-02T15:16:37.459313",
          "exception": false,
          "start_time": "2023-03-02T15:16:37.387845",
          "status": "completed"
        },
        "tags": []
      },
      "execution_count": 25,
      "outputs": [
        {
          "execution_count": 25,
          "output_type": "execute_result",
          "data": {
            "text/html": [
              "<div>\n",
              "<style scoped>\n",
              "    .dataframe tbody tr th:only-of-type {\n",
              "        vertical-align: middle;\n",
              "    }\n",
              "\n",
              "    .dataframe tbody tr th {\n",
              "        vertical-align: top;\n",
              "    }\n",
              "\n",
              "    .dataframe thead th {\n",
              "        text-align: right;\n",
              "    }\n",
              "</style>\n",
              "<table border=\"1\" class=\"dataframe\">\n",
              "  <thead>\n",
              "    <tr style=\"text-align: right;\">\n",
              "      <th></th>\n",
              "      <th>radius</th>\n",
              "    </tr>\n",
              "  </thead>\n",
              "  <tbody>\n",
              "    <tr>\n",
              "      <th>25%</th>\n",
              "      <td>0.10275</td>\n",
              "    </tr>\n",
              "    <tr>\n",
              "      <th>50%</th>\n",
              "      <td>0.76250</td>\n",
              "    </tr>\n",
              "    <tr>\n",
              "      <th>75%</th>\n",
              "      <td>42.75000</td>\n",
              "    </tr>\n",
              "  </tbody>\n",
              "</table>\n",
              "</div>"
            ],
            "text/plain": [
              "       radius\n",
              "25%   0.10275\n",
              "50%   0.76250\n",
              "75%  42.75000"
            ]
          },
          "metadata": {}
        }
      ],
      "id": "2379ab54"
    },
    {
      "cell_type": "markdown",
      "source": "### Histogram",
      "metadata": {
        "id": "BXriB8IN-thZ",
        "papermill": {
          "duration": 0.055464,
          "end_time": "2023-03-02T15:16:37.570156",
          "exception": false,
          "start_time": "2023-03-02T15:16:37.514692",
          "status": "completed"
        },
        "tags": []
      },
      "id": "8d6b64af"
    },
    {
      "cell_type": "code",
      "source": "plt.figure(figsize= (10, 8))\nax = sns.histplot(data= df, x= 'radius', kde= True)\nax.set_title(\"Stars' radius histogram\", fontsize= 16)\nplt.xlabel('Radius (R/Ro)')\nplt.show()",
      "metadata": {
        "execution": {
          "iopub.execute_input": "2023-03-02T15:16:37.681392Z",
          "iopub.status.busy": "2023-03-02T15:16:37.680622Z",
          "iopub.status.idle": "2023-03-02T15:16:38.235761Z",
          "shell.execute_reply": "2023-03-02T15:16:38.234624Z"
        },
        "id": "Mgkz-KFf-oGr",
        "outputId": "9d008208-4902-4a49-8796-a33d865ee989",
        "papermill": {
          "duration": 0.612881,
          "end_time": "2023-03-02T15:16:38.238147",
          "exception": false,
          "start_time": "2023-03-02T15:16:37.625266",
          "status": "completed"
        },
        "tags": []
      },
      "execution_count": 26,
      "outputs": [
        {
          "output_type": "display_data",
          "data": {
            "image/png": "[encoded data removed]",
            "text/plain": [
              "<Figure size 1000x800 with 1 Axes>"
            ]
          },
          "metadata": {}
        }
      ],
      "id": "b637785a"
    },
    {
      "cell_type": "markdown",
      "source": "## Columna magnitud absoluta",
      "metadata": {
        "id": "GVkMxxV3Wg1P",
        "papermill": {
          "duration": 0.05648,
          "end_time": "2023-03-02T15:16:39.409130",
          "exception": false,
          "start_time": "2023-03-02T15:16:39.352650",
          "status": "completed"
        },
        "tags": []
      },
      "id": "34cc6999"
    },
    {
      "cell_type": "markdown",
      "source": "It consists of the absolute visual magnitude (Mv) of the stars.",
      "metadata": {
        "id": "zCogwFJxWrAs",
        "papermill": {
          "duration": 0.056737,
          "end_time": "2023-03-02T15:16:39.523072",
          "exception": false,
          "start_time": "2023-03-02T15:16:39.466335",
          "status": "completed"
        },
        "tags": []
      },
      "id": "ce478f69"
    },
    {
      "cell_type": "markdown",
      "source": "### Average, median and mode",
      "metadata": {
        "id": "daJgOc91W_U7",
        "papermill": {
          "duration": 0.070701,
          "end_time": "2023-03-02T15:16:39.660295",
          "exception": false,
          "start_time": "2023-03-02T15:16:39.589594",
          "status": "completed"
        },
        "tags": []
      },
      "id": "ae4e3ba3"
    },
    {
      "cell_type": "code",
      "source": "pd.DataFrame({'Average': df['absolute_magnitude'].mean(),\n              'Median': df['absolute_magnitude'].median(),\n              'Mode': df['absolute_magnitude'].mode()[0]},\n             index= ['Values'])",
      "metadata": {
        "execution": {
          "iopub.execute_input": "2023-03-02T15:16:39.775232Z",
          "iopub.status.busy": "2023-03-02T15:16:39.774479Z",
          "iopub.status.idle": "2023-03-02T15:16:39.786990Z",
          "shell.execute_reply": "2023-03-02T15:16:39.785923Z"
        },
        "id": "CNqQNo7ZWgNp",
        "outputId": "c2eaafca-f01c-4897-b304-4e44d110156b",
        "papermill": {
          "duration": 0.072856,
          "end_time": "2023-03-02T15:16:39.789155",
          "exception": false,
          "start_time": "2023-03-02T15:16:39.716299",
          "status": "completed"
        },
        "tags": []
      },
      "execution_count": 30,
      "outputs": [
        {
          "execution_count": 30,
          "output_type": "execute_result",
          "data": {
            "text/html": [
              "<div>\n",
              "<style scoped>\n",
              "    .dataframe tbody tr th:only-of-type {\n",
              "        vertical-align: middle;\n",
              "    }\n",
              "\n",
              "    .dataframe tbody tr th {\n",
              "        vertical-align: top;\n",
              "    }\n",
              "\n",
              "    .dataframe thead th {\n",
              "        text-align: right;\n",
              "    }\n",
              "</style>\n",
              "<table border=\"1\" class=\"dataframe\">\n",
              "  <thead>\n",
              "    <tr style=\"text-align: right;\">\n",
              "      <th></th>\n",
              "      <th>Average</th>\n",
              "      <th>Median</th>\n",
              "      <th>Mode</th>\n",
              "    </tr>\n",
              "  </thead>\n",
              "  <tbody>\n",
              "    <tr>\n",
              "      <th>Values</th>\n",
              "      <td>4.382396</td>\n",
              "      <td>8.313</td>\n",
              "      <td>12.23</td>\n",
              "    </tr>\n",
              "  </tbody>\n",
              "</table>\n",
              "</div>"
            ],
            "text/plain": [
              "         Average  Median   Mode\n",
              "Values  4.382396   8.313  12.23"
            ]
          },
          "metadata": {}
        }
      ],
      "id": "fb334eda"
    },
    {
      "cell_type": "markdown",
      "source": "### Mean absolute deviation, variance and standard deviation",
      "metadata": {
        "id": "f3hrjkqrX1q5",
        "papermill": {
          "duration": 0.056044,
          "end_time": "2023-03-02T15:16:39.901965",
          "exception": false,
          "start_time": "2023-03-02T15:16:39.845921",
          "status": "completed"
        },
        "tags": []
      },
      "id": "a5c37728"
    },
    {
      "cell_type": "code",
      "source": "pd.DataFrame({'Mean absolute deviation': df['absolute_magnitude'].mad(),\n              'Variance': df['absolute_magnitude'].var(),\n              'Standard deviation': df['absolute_magnitude'].std()},\n             index= ['Values'])",
      "metadata": {
        "execution": {
          "iopub.execute_input": "2023-03-02T15:16:40.016744Z",
          "iopub.status.busy": "2023-03-02T15:16:40.016004Z",
          "iopub.status.idle": "2023-03-02T15:16:40.028903Z",
          "shell.execute_reply": "2023-03-02T15:16:40.027803Z"
        },
        "id": "EIWL7wMoYBaa",
        "outputId": "27e536af-57ec-4e6b-ad35-139fb426f142",
        "papermill": {
          "duration": 0.073275,
          "end_time": "2023-03-02T15:16:40.031388",
          "exception": false,
          "start_time": "2023-03-02T15:16:39.958113",
          "status": "completed"
        },
        "tags": []
      },
      "execution_count": 31,
      "outputs": [
        {
          "execution_count": 31,
          "output_type": "execute_result",
          "data": {
            "text/html": [
              "<div>\n",
              "<style scoped>\n",
              "    .dataframe tbody tr th:only-of-type {\n",
              "        vertical-align: middle;\n",
              "    }\n",
              "\n",
              "    .dataframe tbody tr th {\n",
              "        vertical-align: top;\n",
              "    }\n",
              "\n",
              "    .dataframe thead th {\n",
              "        text-align: right;\n",
              "    }\n",
              "</style>\n",
              "<table border=\"1\" class=\"dataframe\">\n",
              "  <thead>\n",
              "    <tr style=\"text-align: right;\">\n",
              "      <th></th>\n",
              "      <th>Mean absolute deviation</th>\n",
              "      <th>Variance</th>\n",
              "      <th>Standard deviation</th>\n",
              "    </tr>\n",
              "  </thead>\n",
              "  <tbody>\n",
              "    <tr>\n",
              "      <th>Values</th>\n",
              "      <td>9.905969</td>\n",
              "      <td>110.933816</td>\n",
              "      <td>10.532512</td>\n",
              "    </tr>\n",
              "  </tbody>\n",
              "</table>\n",
              "</div>"
            ],
            "text/plain": [
              "        Mean absolute deviation    Variance  Standard deviation\n",
              "Values                 9.905969  110.933816           10.532512"
            ]
          },
          "metadata": {}
        }
      ],
      "id": "1e787903"
    },
    {
      "cell_type": "markdown",
      "source": "### Histogram",
      "metadata": {
        "id": "1ul8OJBFYZo9",
        "papermill": {
          "duration": 0.056497,
          "end_time": "2023-03-02T15:16:40.144389",
          "exception": false,
          "start_time": "2023-03-02T15:16:40.087892",
          "status": "completed"
        },
        "tags": []
      },
      "id": "bc4229c7"
    },
    {
      "cell_type": "code",
      "source": "plt.figure(figsize= (10, 8))\nax = sns.histplot(data= df, x= 'absolute_magnitude', kde= True)\nax.set_title(\"Stars' absolute magnitude histogram\")\nplt.xlabel('Absolute magnitude (Mv)')\nplt.show()",
      "metadata": {
        "execution": {
          "iopub.execute_input": "2023-03-02T15:16:40.261482Z",
          "iopub.status.busy": "2023-03-02T15:16:40.260683Z",
          "iopub.status.idle": "2023-03-02T15:16:40.601904Z",
          "shell.execute_reply": "2023-03-02T15:16:40.600703Z"
        },
        "id": "W7DkaTOLZh3X",
        "outputId": "faad57fc-3e5e-4b20-8fd2-5ce18fa5cd08",
        "papermill": {
          "duration": 0.402374,
          "end_time": "2023-03-02T15:16:40.604379",
          "exception": false,
          "start_time": "2023-03-02T15:16:40.202005",
          "status": "completed"
        },
        "tags": []
      },
      "execution_count": 32,
      "outputs": [
        {
          "output_type": "display_data",
          "data": {
            "image/png": "[encoded data removed]",
            "text/plain": [
              "<Figure size 1000x800 with 1 Axes>"
            ]
          },
          "metadata": {}
        }
      ],
      "id": "d854da47"
    },
    {
      "cell_type": "markdown",
      "source": "## Columna color estrella",
      "metadata": {
        "id": "zgYIkDwQaHTi",
        "papermill": {
          "duration": 0.057444,
          "end_time": "2023-03-02T15:16:41.190999",
          "exception": false,
          "start_time": "2023-03-02T15:16:41.133555",
          "status": "completed"
        },
        "tags": []
      },
      "id": "30438509"
    },
    {
      "cell_type": "markdown",
      "source": "It contains the star's colors after spectral analysis.",
      "metadata": {
        "id": "IC_50Vm0alaQ",
        "papermill": {
          "duration": 0.057657,
          "end_time": "2023-03-02T15:16:41.306871",
          "exception": false,
          "start_time": "2023-03-02T15:16:41.249214",
          "status": "completed"
        },
        "tags": []
      },
      "id": "c124b51c"
    },
    {
      "cell_type": "code",
      "source": "f'There are {df[\"star_color\"].nunique()} different types of stars in the database regarding their color.'",
      "metadata": {
        "execution": {
          "iopub.execute_input": "2023-03-02T15:16:41.425345Z",
          "iopub.status.busy": "2023-03-02T15:16:41.424500Z",
          "iopub.status.idle": "2023-03-02T15:16:41.431770Z",
          "shell.execute_reply": "2023-03-02T15:16:41.430969Z"
        },
        "id": "oZFWRJ0yagMY",
        "outputId": "26befdaa-750b-4fd4-8437-d9cbd2fbb490",
        "papermill": {
          "duration": 0.068626,
          "end_time": "2023-03-02T15:16:41.433826",
          "exception": false,
          "start_time": "2023-03-02T15:16:41.365200",
          "status": "completed"
        },
        "tags": []
      },
      "execution_count": 34,
      "outputs": [
        {
          "execution_count": 34,
          "output_type": "execute_result",
          "data": {
            "text/plain": [
              "'There are 19 different types of stars in the database regarding their color.'"
            ]
          },
          "metadata": {}
        }
      ],
      "id": "d997dc94"
    },
    {
      "cell_type": "markdown",
      "source": "The types are:",
      "metadata": {
        "id": "H78fihKWcGK4",
        "papermill": {
          "duration": 0.058429,
          "end_time": "2023-03-02T15:16:41.552068",
          "exception": false,
          "start_time": "2023-03-02T15:16:41.493639",
          "status": "completed"
        },
        "tags": []
      },
      "id": "cd2bccd3"
    },
    {
      "cell_type": "code",
      "source": "df['star_color'].unique()",
      "metadata": {
        "execution": {
          "iopub.execute_input": "2023-03-02T15:16:41.671723Z",
          "iopub.status.busy": "2023-03-02T15:16:41.671315Z",
          "iopub.status.idle": "2023-03-02T15:16:41.678615Z",
          "shell.execute_reply": "2023-03-02T15:16:41.677487Z"
        },
        "id": "xZJSPHmNcLNB",
        "outputId": "c7fbb311-a3ae-4bd8-a151-9baa2a7be4c3",
        "papermill": {
          "duration": 0.069708,
          "end_time": "2023-03-02T15:16:41.680968",
          "exception": false,
          "start_time": "2023-03-02T15:16:41.611260",
          "status": "completed"
        },
        "tags": []
      },
      "execution_count": 35,
      "outputs": [
        {
          "execution_count": 35,
          "output_type": "execute_result",
          "data": {
            "text/plain": [
              "array(['Red', 'Blue White', 'White', 'Yellowish White', 'Blue white',\n",
              "       'Pale yellow orange', 'Blue', 'Blue-white', 'Whitish',\n",
              "       'yellow-white', 'Orange', 'White-Yellow', 'white', 'Blue ',\n",
              "       'yellowish', 'Yellowish', 'Orange-Red', 'Blue white ',\n",
              "       'Blue-White'], dtype=object)"
            ]
          },
          "metadata": {}
        }
      ],
      "id": "9f2efc78"
    },
    {
      "cell_type": "markdown",
      "source": "But some of the data appears to have been entered incorrectly. Therefore, it is necessary that they are reset:",
      "metadata": {
        "id": "Aa5UEkcecfjx",
        "papermill": {
          "duration": 0.059051,
          "end_time": "2023-03-02T15:16:41.798313",
          "exception": false,
          "start_time": "2023-03-02T15:16:41.739262",
          "status": "completed"
        },
        "tags": []
      },
      "id": "0ed70c02"
    },
    {
      "cell_type": "code",
      "source": "df.replace('Blue ', 'Blue', inplace= True)",
      "metadata": {
        "execution": {
          "iopub.execute_input": "2023-03-02T15:16:41.916716Z",
          "iopub.status.busy": "2023-03-02T15:16:41.916316Z",
          "iopub.status.idle": "2023-03-02T15:16:41.922413Z",
          "shell.execute_reply": "2023-03-02T15:16:41.921202Z"
        },
        "id": "hIkJYx7pcenx",
        "papermill": {
          "duration": 0.068043,
          "end_time": "2023-03-02T15:16:41.924746",
          "exception": false,
          "start_time": "2023-03-02T15:16:41.856703",
          "status": "completed"
        },
        "tags": []
      },
      "execution_count": 36,
      "outputs": [],
      "id": "41d07e21"
    },
    {
      "cell_type": "code",
      "source": "df.replace('white', 'White', inplace= True)",
      "metadata": {
        "execution": {
          "iopub.execute_input": "2023-03-02T15:16:42.043407Z",
          "iopub.status.busy": "2023-03-02T15:16:42.042980Z",
          "iopub.status.idle": "2023-03-02T15:16:42.049251Z",
          "shell.execute_reply": "2023-03-02T15:16:42.048113Z"
        },
        "id": "RDbmJ1_5czNG",
        "papermill": {
          "duration": 0.068571,
          "end_time": "2023-03-02T15:16:42.051641",
          "exception": false,
          "start_time": "2023-03-02T15:16:41.983070",
          "status": "completed"
        },
        "tags": []
      },
      "execution_count": 37,
      "outputs": [],
      "id": "68abd7a6"
    },
    {
      "cell_type": "code",
      "source": "df.replace(['Blue White', 'Blue white', 'Blue white ', 'Blue-white'], 'Blue-White', inplace= True)",
      "metadata": {
        "execution": {
          "iopub.execute_input": "2023-03-02T15:16:42.170269Z",
          "iopub.status.busy": "2023-03-02T15:16:42.169877Z",
          "iopub.status.idle": "2023-03-02T15:16:42.176876Z",
          "shell.execute_reply": "2023-03-02T15:16:42.175879Z"
        },
        "id": "JMqoQSX3c8cc",
        "papermill": {
          "duration": 0.069202,
          "end_time": "2023-03-02T15:16:42.179287",
          "exception": false,
          "start_time": "2023-03-02T15:16:42.110085",
          "status": "completed"
        },
        "tags": []
      },
      "execution_count": 38,
      "outputs": [],
      "id": "04f6383e"
    },
    {
      "cell_type": "code",
      "source": "df.replace('yellowish', 'Yellowish', inplace= True)",
      "metadata": {
        "execution": {
          "iopub.execute_input": "2023-03-02T15:16:42.304836Z",
          "iopub.status.busy": "2023-03-02T15:16:42.304437Z",
          "iopub.status.idle": "2023-03-02T15:16:42.309600Z",
          "shell.execute_reply": "2023-03-02T15:16:42.308649Z"
        },
        "id": "BEu0TLFydTmO",
        "papermill": {
          "duration": 0.073521,
          "end_time": "2023-03-02T15:16:42.311602",
          "exception": false,
          "start_time": "2023-03-02T15:16:42.238081",
          "status": "completed"
        },
        "tags": []
      },
      "execution_count": 39,
      "outputs": [],
      "id": "dd09c62c"
    },
    {
      "cell_type": "markdown",
      "source": "And for aesthetic reasons to make all types start with capital letters:",
      "metadata": {
        "id": "sGZj2XZKdlob",
        "papermill": {
          "duration": 0.058942,
          "end_time": "2023-03-02T15:16:42.429873",
          "exception": false,
          "start_time": "2023-03-02T15:16:42.370931",
          "status": "completed"
        },
        "tags": []
      },
      "id": "1f065a26"
    },
    {
      "cell_type": "code",
      "source": "df.replace('yellow-white', 'Yellow-White', inplace= True)",
      "metadata": {
        "execution": {
          "iopub.execute_input": "2023-03-02T15:16:42.552384Z",
          "iopub.status.busy": "2023-03-02T15:16:42.551605Z",
          "iopub.status.idle": "2023-03-02T15:16:42.556885Z",
          "shell.execute_reply": "2023-03-02T15:16:42.556100Z"
        },
        "id": "_Pu9LGVLdvSa",
        "papermill": {
          "duration": 0.069363,
          "end_time": "2023-03-02T15:16:42.559215",
          "exception": false,
          "start_time": "2023-03-02T15:16:42.489852",
          "status": "completed"
        },
        "tags": []
      },
      "execution_count": 40,
      "outputs": [],
      "id": "6247cbce"
    },
    {
      "cell_type": "markdown",
      "source": "After processing the column data, it is observed that:",
      "metadata": {
        "id": "K58EdgkWeKSp",
        "papermill": {
          "duration": 0.05916,
          "end_time": "2023-03-02T15:16:42.677326",
          "exception": false,
          "start_time": "2023-03-02T15:16:42.618166",
          "status": "completed"
        },
        "tags": []
      },
      "id": "d566b678"
    },
    {
      "cell_type": "code",
      "source": "f'The database contains {df[\"star_color\"].nunique()} different types of stars according to their colors.'",
      "metadata": {
        "execution": {
          "iopub.execute_input": "2023-03-02T15:16:42.797654Z",
          "iopub.status.busy": "2023-03-02T15:16:42.796855Z",
          "iopub.status.idle": "2023-03-02T15:16:42.803647Z",
          "shell.execute_reply": "2023-03-02T15:16:42.802859Z"
        },
        "id": "ote4T00ncpXB",
        "outputId": "4a1318a2-79ea-4256-864c-caa22e35a846",
        "papermill": {
          "duration": 0.069701,
          "end_time": "2023-03-02T15:16:42.805945",
          "exception": false,
          "start_time": "2023-03-02T15:16:42.736244",
          "status": "completed"
        },
        "tags": []
      },
      "execution_count": 41,
      "outputs": [
        {
          "execution_count": 41,
          "output_type": "execute_result",
          "data": {
            "text/plain": [
              "'The database contains 12 different types of stars according to their colors.'"
            ]
          },
          "metadata": {}
        }
      ],
      "id": "8176d19c"
    },
    {
      "cell_type": "code",
      "source": "df['star_color'].unique()",
      "metadata": {
        "execution": {
          "iopub.execute_input": "2023-03-02T15:16:42.926116Z",
          "iopub.status.busy": "2023-03-02T15:16:42.925062Z",
          "iopub.status.idle": "2023-03-02T15:16:42.932785Z",
          "shell.execute_reply": "2023-03-02T15:16:42.931830Z"
        },
        "id": "uj7RXYlAeoic",
        "outputId": "91bfb467-1bba-41b8-dbba-ffbecbb02a0d",
        "papermill": {
          "duration": 0.070117,
          "end_time": "2023-03-02T15:16:42.934923",
          "exception": false,
          "start_time": "2023-03-02T15:16:42.864806",
          "status": "completed"
        },
        "tags": []
      },
      "execution_count": 42,
      "outputs": [
        {
          "execution_count": 42,
          "output_type": "execute_result",
          "data": {
            "text/plain": [
              "array(['Red', 'Blue-White', 'White', 'Yellowish White',\n",
              "       'Pale yellow orange', 'Blue', 'Whitish', 'Yellow-White', 'Orange',\n",
              "       'White-Yellow', 'Yellowish', 'Orange-Red'], dtype=object)"
            ]
          },
          "metadata": {}
        }
      ],
      "id": "4627073e"
    },
    {
      "cell_type": "markdown",
      "source": "### Stars' color count",
      "metadata": {
        "id": "iny40crAgQS7",
        "papermill": {
          "duration": 0.059136,
          "end_time": "2023-03-02T15:16:43.053307",
          "exception": false,
          "start_time": "2023-03-02T15:16:42.994171",
          "status": "completed"
        },
        "tags": []
      },
      "id": "118537d3"
    },
    {
      "cell_type": "code",
      "source": "count_star_color = pd.DataFrame({'Count': df['star_color'].value_counts(ascending= True)})",
      "metadata": {
        "execution": {
          "iopub.execute_input": "2023-03-02T15:16:43.173803Z",
          "iopub.status.busy": "2023-03-02T15:16:43.172720Z",
          "iopub.status.idle": "2023-03-02T15:16:43.179593Z",
          "shell.execute_reply": "2023-03-02T15:16:43.178720Z"
        },
        "id": "WXUiK6e-fzH5",
        "papermill": {
          "duration": 0.069734,
          "end_time": "2023-03-02T15:16:43.181894",
          "exception": false,
          "start_time": "2023-03-02T15:16:43.112160",
          "status": "completed"
        },
        "tags": []
      },
      "execution_count": 43,
      "outputs": [],
      "id": "b1243d55"
    },
    {
      "cell_type": "code",
      "source": "plt.figure(figsize= (10, 8))\nbars = plt.barh(count_star_color.index, count_star_color['Count'])\n\nfor index, bar in enumerate(bars):\n  plt.text(bar.get_width() + 1, index - 0.1, bar.get_width())\n\nplt.title('Count of stars per star color type', fontsize= 16)\nplt.xlabel('Count')\nplt.ylabel('Star color')\nplt.xlim([0, 140])\nplt.show()",
      "metadata": {
        "execution": {
          "iopub.execute_input": "2023-03-02T15:16:43.302624Z",
          "iopub.status.busy": "2023-03-02T15:16:43.301581Z",
          "iopub.status.idle": "2023-03-02T15:16:43.667279Z",
          "shell.execute_reply": "2023-03-02T15:16:43.666137Z"
        },
        "id": "_pkMyaZPaKyD",
        "outputId": "e6ef58b2-d9ba-4e5f-cd33-ef706dfee710",
        "papermill": {
          "duration": 0.429585,
          "end_time": "2023-03-02T15:16:43.670442",
          "exception": false,
          "start_time": "2023-03-02T15:16:43.240857",
          "status": "completed"
        },
        "tags": []
      },
      "execution_count": 44,
      "outputs": [
        {
          "output_type": "display_data",
          "data": {
            "image/png": "[encoded data removed]",
            "text/plain": [
              "<Figure size 1000x800 with 1 Axes>"
            ]
          },
          "metadata": {}
        }
      ],
      "id": "d9755f32"
    },
    {
      "cell_type": "markdown",
      "source": "#### Radio",
      "metadata": {
        "id": "DclWFE9HIHIV",
        "papermill": {
          "duration": 0.065364,
          "end_time": "2023-03-02T15:16:49.467824",
          "exception": false,
          "start_time": "2023-03-02T15:16:49.402460",
          "status": "completed"
        },
        "tags": []
      },
      "id": "588ae1c1"
    },
    {
      "cell_type": "markdown",
      "source": "##### Mean, median and standard deviation:",
      "metadata": {
        "id": "kx2kzVwmLqGP",
        "papermill": {
          "duration": 0.065243,
          "end_time": "2023-03-02T15:16:49.601174",
          "exception": false,
          "start_time": "2023-03-02T15:16:49.535931",
          "status": "completed"
        },
        "tags": []
      },
      "id": "39e0f48c"
    },
    {
      "cell_type": "code",
      "source": "df.groupby('star_color').agg(['mean', 'median', 'std'])['radius']",
      "metadata": {
        "execution": {
          "iopub.execute_input": "2023-03-02T15:16:49.732857Z",
          "iopub.status.busy": "2023-03-02T15:16:49.732418Z",
          "iopub.status.idle": "2023-03-02T15:16:49.755314Z",
          "shell.execute_reply": "2023-03-02T15:16:49.754120Z"
        },
        "id": "BCidOKeGIPrD",
        "outputId": "87491503-c015-4d2e-d38a-ddb90c4134ea",
        "papermill": {
          "duration": 0.091752,
          "end_time": "2023-03-02T15:16:49.757751",
          "exception": false,
          "start_time": "2023-03-02T15:16:49.665999",
          "status": "completed"
        },
        "tags": []
      },
      "execution_count": 52,
      "outputs": [
        {
          "execution_count": 52,
          "output_type": "execute_result",
          "data": {
            "text/html": [
              "<div>\n",
              "<style scoped>\n",
              "    .dataframe tbody tr th:only-of-type {\n",
              "        vertical-align: middle;\n",
              "    }\n",
              "\n",
              "    .dataframe tbody tr th {\n",
              "        vertical-align: top;\n",
              "    }\n",
              "\n",
              "    .dataframe thead th {\n",
              "        text-align: right;\n",
              "    }\n",
              "</style>\n",
              "<table border=\"1\" class=\"dataframe\">\n",
              "  <thead>\n",
              "    <tr style=\"text-align: right;\">\n",
              "      <th></th>\n",
              "      <th>mean</th>\n",
              "      <th>median</th>\n",
              "      <th>std</th>\n",
              "    </tr>\n",
              "    <tr>\n",
              "      <th>star_color</th>\n",
              "      <th></th>\n",
              "      <th></th>\n",
              "      <th></th>\n",
              "    </tr>\n",
              "  </thead>\n",
              "  <tbody>\n",
              "    <tr>\n",
              "      <th>Blue</th>\n",
              "      <td>214.802452</td>\n",
              "      <td>35.50000</td>\n",
              "      <td>495.681463</td>\n",
              "    </tr>\n",
              "    <tr>\n",
              "      <th>Blue-White</th>\n",
              "      <td>185.800842</td>\n",
              "      <td>5.74500</td>\n",
              "      <td>464.118298</td>\n",
              "    </tr>\n",
              "    <tr>\n",
              "      <th>Orange</th>\n",
              "      <td>1481.500000</td>\n",
              "      <td>1481.50000</td>\n",
              "      <td>235.466558</td>\n",
              "    </tr>\n",
              "    <tr>\n",
              "      <th>Orange-Red</th>\n",
              "      <td>0.876000</td>\n",
              "      <td>0.87600</td>\n",
              "      <td>NaN</td>\n",
              "    </tr>\n",
              "    <tr>\n",
              "      <th>Pale yellow orange</th>\n",
              "      <td>0.013000</td>\n",
              "      <td>0.01300</td>\n",
              "      <td>NaN</td>\n",
              "    </tr>\n",
              "    <tr>\n",
              "      <th>Red</th>\n",
              "      <td>283.529700</td>\n",
              "      <td>0.29900</td>\n",
              "      <td>558.149251</td>\n",
              "    </tr>\n",
              "    <tr>\n",
              "      <th>White</th>\n",
              "      <td>253.507866</td>\n",
              "      <td>0.00975</td>\n",
              "      <td>539.424654</td>\n",
              "    </tr>\n",
              "    <tr>\n",
              "      <th>White-Yellow</th>\n",
              "      <td>0.012000</td>\n",
              "      <td>0.01200</td>\n",
              "      <td>NaN</td>\n",
              "    </tr>\n",
              "    <tr>\n",
              "      <th>Whitish</th>\n",
              "      <td>2.345000</td>\n",
              "      <td>2.34500</td>\n",
              "      <td>0.770746</td>\n",
              "    </tr>\n",
              "    <tr>\n",
              "      <th>Yellow-White</th>\n",
              "      <td>1.159500</td>\n",
              "      <td>1.04800</td>\n",
              "      <td>0.342515</td>\n",
              "    </tr>\n",
              "    <tr>\n",
              "      <th>Yellowish</th>\n",
              "      <td>0.930000</td>\n",
              "      <td>0.86500</td>\n",
              "      <td>0.176706</td>\n",
              "    </tr>\n",
              "    <tr>\n",
              "      <th>Yellowish White</th>\n",
              "      <td>0.011213</td>\n",
              "      <td>0.01100</td>\n",
              "      <td>0.001491</td>\n",
              "    </tr>\n",
              "  </tbody>\n",
              "</table>\n",
              "</div>"
            ],
            "text/plain": [
              "                           mean      median         std\n",
              "star_color                                             \n",
              "Blue                 214.802452    35.50000  495.681463\n",
              "Blue-White           185.800842     5.74500  464.118298\n",
              "Orange              1481.500000  1481.50000  235.466558\n",
              "Orange-Red             0.876000     0.87600         NaN\n",
              "Pale yellow orange     0.013000     0.01300         NaN\n",
              "Red                  283.529700     0.29900  558.149251\n",
              "White                253.507866     0.00975  539.424654\n",
              "White-Yellow           0.012000     0.01200         NaN\n",
              "Whitish                2.345000     2.34500    0.770746\n",
              "Yellow-White           1.159500     1.04800    0.342515\n",
              "Yellowish              0.930000     0.86500    0.176706\n",
              "Yellowish White        0.011213     0.01100    0.001491"
            ]
          },
          "metadata": {}
        }
      ],
      "id": "42277164"
    },
    {
      "cell_type": "markdown",
      "source": "##### Histograms:",
      "metadata": {
        "id": "oNkOTo8SKK5m",
        "papermill": {
          "duration": 0.065479,
          "end_time": "2023-03-02T15:16:49.889267",
          "exception": false,
          "start_time": "2023-03-02T15:16:49.823788",
          "status": "completed"
        },
        "tags": []
      },
      "id": "91fbf696"
    },
    {
      "cell_type": "code",
      "source": "fig, ax = plt.subplots(2, 2, figsize= (8, 5))\nfig.suptitle('Star color radius magnitude histograms', fontsize= 16)\nax1 = sns.histplot(data= df.query('star_color == \"Red\"'), x= 'radius', ax= ax[0, 0])\nax1.set_title('Red')\nax2 = sns.histplot(data= df.query('star_color == \"Blue\"'), x= 'radius', color= 'r', ax= ax[0, 1])\nax2.set_title('Blue')\nax3 = sns.histplot(data= df.query('star_color == \"Blue-White\"'), x= 'radius', color= 'g', ax= ax[1, 0])\nax3.set_title('Blue-White')\nax4 = sns.histplot(data= df.query('spectral_class == \"Yellow-White\"'), x= 'radius', color= 'teal', ax= ax[1, 1])\nax4.set_title('Yellow-White')\n# fig.delaxes(ax[1, 2])\nplt.tight_layout()\nplt.show()",
      "metadata": {
        "execution": {
          "iopub.execute_input": "2023-03-02T15:16:50.023942Z",
          "iopub.status.busy": "2023-03-02T15:16:50.023305Z",
          "iopub.status.idle": "2023-03-02T15:16:52.203613Z",
          "shell.execute_reply": "2023-03-02T15:16:52.202254Z"
        },
        "id": "h-lnk4PjKMqv",
        "outputId": "3283befc-f35f-4352-c926-745377543a19",
        "papermill": {
          "duration": 2.250022,
          "end_time": "2023-03-02T15:16:52.206304",
          "exception": false,
          "start_time": "2023-03-02T15:16:49.956282",
          "status": "completed"
        },
        "tags": []
      },
      "execution_count": 53,
      "outputs": [
        {
          "output_type": "display_data",
          "data": {
            "image/png": "[encoded data removed]",
            "text/plain": [
              "<Figure size 800x500 with 4 Axes>"
            ]
          },
          "metadata": {}
        }
      ],
      "id": "7e036844"
    },
    {
      "cell_type": "markdown",
      "source": "##### Boxplots:",
      "metadata": {
        "id": "I0BJTLTDKu_U",
        "papermill": {
          "duration": 0.066194,
          "end_time": "2023-03-02T15:16:52.340488",
          "exception": false,
          "start_time": "2023-03-02T15:16:52.274294",
          "status": "completed"
        },
        "tags": []
      },
      "id": "214a0c5d"
    },
    {
      "cell_type": "markdown",
      "source": "#### Temeratura",
      "metadata": {
        "id": "38chXXOdODeN",
        "papermill": {
          "duration": 0.071347,
          "end_time": "2023-03-02T15:16:57.413458",
          "exception": false,
          "start_time": "2023-03-02T15:16:57.342111",
          "status": "completed"
        },
        "tags": []
      },
      "id": "cadbed7e"
    },
    {
      "cell_type": "markdown",
      "source": "##### Mean, median and standard deviation:",
      "metadata": {
        "id": "8yWKAhvAORXB",
        "papermill": {
          "duration": 0.072413,
          "end_time": "2023-03-02T15:16:57.559589",
          "exception": false,
          "start_time": "2023-03-02T15:16:57.487176",
          "status": "completed"
        },
        "tags": []
      },
      "id": "3429e3cc"
    },
    {
      "cell_type": "code",
      "source": "df.groupby('spectral_class').agg(['mean', 'median', 'std'])['temperature']",
      "metadata": {
        "execution": {
          "iopub.execute_input": "2023-03-02T15:16:57.705011Z",
          "iopub.status.busy": "2023-03-02T15:16:57.704627Z",
          "iopub.status.idle": "2023-03-02T15:16:57.726270Z",
          "shell.execute_reply": "2023-03-02T15:16:57.725033Z"
        },
        "id": "bm17_rziOakG",
        "outputId": "08040d11-aae9-4400-fd9a-a9659ed4017e",
        "papermill": {
          "duration": 0.096862,
          "end_time": "2023-03-02T15:16:57.728838",
          "exception": false,
          "start_time": "2023-03-02T15:16:57.631976",
          "status": "completed"
        },
        "tags": []
      },
      "execution_count": 63,
      "outputs": [
        {
          "execution_count": 63,
          "output_type": "execute_result",
          "data": {
            "text/html": [
              "<div>\n",
              "<style scoped>\n",
              "    .dataframe tbody tr th:only-of-type {\n",
              "        vertical-align: middle;\n",
              "    }\n",
              "\n",
              "    .dataframe tbody tr th {\n",
              "        vertical-align: top;\n",
              "    }\n",
              "\n",
              "    .dataframe thead th {\n",
              "        text-align: right;\n",
              "    }\n",
              "</style>\n",
              "<table border=\"1\" class=\"dataframe\">\n",
              "  <thead>\n",
              "    <tr style=\"text-align: right;\">\n",
              "      <th></th>\n",
              "      <th>mean</th>\n",
              "      <th>median</th>\n",
              "      <th>std</th>\n",
              "    </tr>\n",
              "    <tr>\n",
              "      <th>spectral_class</th>\n",
              "      <th></th>\n",
              "      <th></th>\n",
              "      <th></th>\n",
              "    </tr>\n",
              "  </thead>\n",
              "  <tbody>\n",
              "    <tr>\n",
              "      <th>A</th>\n",
              "      <td>9842.368421</td>\n",
              "      <td>9030.0</td>\n",
              "      <td>1913.681972</td>\n",
              "    </tr>\n",
              "    <tr>\n",
              "      <th>B</th>\n",
              "      <td>19574.478261</td>\n",
              "      <td>18850.0</td>\n",
              "      <td>6195.248192</td>\n",
              "    </tr>\n",
              "    <tr>\n",
              "      <th>F</th>\n",
              "      <td>8516.823529</td>\n",
              "      <td>7230.0</td>\n",
              "      <td>3041.498423</td>\n",
              "    </tr>\n",
              "    <tr>\n",
              "      <th>G</th>\n",
              "      <td>6850.000000</td>\n",
              "      <td>6850.0</td>\n",
              "      <td>NaN</td>\n",
              "    </tr>\n",
              "    <tr>\n",
              "      <th>K</th>\n",
              "      <td>4499.500000</td>\n",
              "      <td>4406.5</td>\n",
              "      <td>461.549889</td>\n",
              "    </tr>\n",
              "    <tr>\n",
              "      <th>M</th>\n",
              "      <td>3257.333333</td>\n",
              "      <td>3324.0</td>\n",
              "      <td>352.000293</td>\n",
              "    </tr>\n",
              "    <tr>\n",
              "      <th>O</th>\n",
              "      <td>22294.075000</td>\n",
              "      <td>22369.0</td>\n",
              "      <td>10589.893001</td>\n",
              "    </tr>\n",
              "  </tbody>\n",
              "</table>\n",
              "</div>"
            ],
            "text/plain": [
              "                        mean   median           std\n",
              "spectral_class                                     \n",
              "A                9842.368421   9030.0   1913.681972\n",
              "B               19574.478261  18850.0   6195.248192\n",
              "F                8516.823529   7230.0   3041.498423\n",
              "G                6850.000000   6850.0           NaN\n",
              "K                4499.500000   4406.5    461.549889\n",
              "M                3257.333333   3324.0    352.000293\n",
              "O               22294.075000  22369.0  10589.893001"
            ]
          },
          "metadata": {}
        }
      ],
      "id": "f48ac78b"
    },
    {
      "cell_type": "markdown",
      "source": "##### Histograms:",
      "metadata": {
        "id": "Wlnv4v8BO4lI",
        "papermill": {
          "duration": 0.071917,
          "end_time": "2023-03-02T15:16:57.873287",
          "exception": false,
          "start_time": "2023-03-02T15:16:57.801370",
          "status": "completed"
        },
        "tags": []
      },
      "id": "e1f04023"
    },
    {
      "cell_type": "code",
      "source": "fig, ax = plt.subplots(2, 3, figsize= (8, 5))\nfig.suptitle('Spectral classes temperature histograms', fontsize= 16)\nax1 = sns.histplot(data= df.query('spectral_class == \"M\"'), x= 'temperature', ax= ax[0, 0])\nax1.set_title('Class M')\nax2 = sns.histplot(data= df.query('spectral_class == \"B\"'), x= 'temperature', color= 'r', ax= ax[0, 1])\nax2.set_title('Class B')\nax3 = sns.histplot(data= df.query('spectral_class == \"O\"'), x= 'temperature', color= 'g', ax= ax[0, 2])\nax3.set_title('Class O')\nax4 = sns.histplot(data= df.query('spectral_class == \"A\"'), x= 'temperature', color= 'chocolate', ax= ax[1, 0])\nax4.set_title('Class A')\nax5 = sns.histplot(data= df.query('spectral_class == \"F\"'), x= 'temperature', color= 'teal', ax= ax[1, 1])\nax5.set_title('Class F')\nfig.delaxes(ax[1, 2])\nplt.tight_layout()\nplt.show()",
      "metadata": {
        "execution": {
          "iopub.execute_input": "2023-03-02T15:16:58.019989Z",
          "iopub.status.busy": "2023-03-02T15:16:58.018917Z",
          "iopub.status.idle": "2023-03-02T15:16:59.060994Z",
          "shell.execute_reply": "2023-03-02T15:16:59.059723Z"
        },
        "id": "DVRQjf7lO9nI",
        "outputId": "6cde624c-fd3b-458c-9992-b557c9785107",
        "papermill": {
          "duration": 1.118289,
          "end_time": "2023-03-02T15:16:59.063883",
          "exception": false,
          "start_time": "2023-03-02T15:16:57.945594",
          "status": "completed"
        },
        "tags": []
      },
      "execution_count": 64,
      "outputs": [
        {
          "output_type": "display_data",
          "data": {
            "image/png": "[encoded data removed]",
            "text/plain": [
              "<Figure size 800x500 with 5 Axes>"
            ]
          },
          "metadata": {}
        }
      ],
      "id": "a9869718"
    },
    {
      "cell_type": "markdown",
      "source": "##### Boxplots:",
      "metadata": {
        "id": "Ql-Xm4m9P4ej",
        "papermill": {
          "duration": 0.073603,
          "end_time": "2023-03-02T15:16:59.215299",
          "exception": false,
          "start_time": "2023-03-02T15:16:59.141696",
          "status": "completed"
        },
        "tags": []
      },
      "id": "248909ef"
    },
    {
      "cell_type": "markdown",
      "source": "#### Radio",
      "metadata": {
        "id": "KUCHzyXpVkzv",
        "papermill": {
          "duration": 0.075239,
          "end_time": "2023-03-02T15:17:04.349503",
          "exception": false,
          "start_time": "2023-03-02T15:17:04.274264",
          "status": "completed"
        },
        "tags": []
      },
      "id": "177f7132"
    },
    {
      "cell_type": "markdown",
      "source": "##### Mean, median and standard deviation:",
      "metadata": {
        "id": "7gasBjg9bmuT",
        "papermill": {
          "duration": 0.076589,
          "end_time": "2023-03-02T15:17:04.502798",
          "exception": false,
          "start_time": "2023-03-02T15:17:04.426209",
          "status": "completed"
        },
        "tags": []
      },
      "id": "574e2909"
    },
    {
      "cell_type": "code",
      "source": "df.groupby('spectral_class').agg(['mean', 'median', 'std'])['radius']",
      "metadata": {
        "execution": {
          "iopub.execute_input": "2023-03-02T15:17:04.657493Z",
          "iopub.status.busy": "2023-03-02T15:17:04.657063Z",
          "iopub.status.idle": "2023-03-02T15:17:04.680223Z",
          "shell.execute_reply": "2023-03-02T15:17:04.679052Z"
        },
        "id": "zEWIuppAVu3E",
        "outputId": "052dc0d1-c462-49ae-a022-baf607cdf87b",
        "papermill": {
          "duration": 0.102148,
          "end_time": "2023-03-02T15:17:04.682468",
          "exception": false,
          "start_time": "2023-03-02T15:17:04.580320",
          "status": "completed"
        },
        "tags": []
      },
      "execution_count": 69,
      "outputs": [
        {
          "execution_count": 69,
          "output_type": "execute_result",
          "data": {
            "text/html": [
              "<div>\n",
              "<style scoped>\n",
              "    .dataframe tbody tr th:only-of-type {\n",
              "        vertical-align: middle;\n",
              "    }\n",
              "\n",
              "    .dataframe tbody tr th {\n",
              "        vertical-align: top;\n",
              "    }\n",
              "\n",
              "    .dataframe thead th {\n",
              "        text-align: right;\n",
              "    }\n",
              "</style>\n",
              "<table border=\"1\" class=\"dataframe\">\n",
              "  <thead>\n",
              "    <tr style=\"text-align: right;\">\n",
              "      <th></th>\n",
              "      <th>mean</th>\n",
              "      <th>median</th>\n",
              "      <th>std</th>\n",
              "    </tr>\n",
              "    <tr>\n",
              "      <th>spectral_class</th>\n",
              "      <th></th>\n",
              "      <th></th>\n",
              "      <th></th>\n",
              "    </tr>\n",
              "  </thead>\n",
              "  <tbody>\n",
              "    <tr>\n",
              "      <th>A</th>\n",
              "      <td>135.878422</td>\n",
              "      <td>2.4870</td>\n",
              "      <td>402.142640</td>\n",
              "    </tr>\n",
              "    <tr>\n",
              "      <th>B</th>\n",
              "      <td>202.022292</td>\n",
              "      <td>0.0146</td>\n",
              "      <td>493.825127</td>\n",
              "    </tr>\n",
              "    <tr>\n",
              "      <th>F</th>\n",
              "      <td>0.551334</td>\n",
              "      <td>0.0130</td>\n",
              "      <td>0.632965</td>\n",
              "    </tr>\n",
              "    <tr>\n",
              "      <th>G</th>\n",
              "      <td>1467.000000</td>\n",
              "      <td>1467.0000</td>\n",
              "      <td>NaN</td>\n",
              "    </tr>\n",
              "    <tr>\n",
              "      <th>K</th>\n",
              "      <td>475.444333</td>\n",
              "      <td>1.0030</td>\n",
              "      <td>738.390214</td>\n",
              "    </tr>\n",
              "    <tr>\n",
              "      <th>M</th>\n",
              "      <td>273.894832</td>\n",
              "      <td>0.2910</td>\n",
              "      <td>551.585254</td>\n",
              "    </tr>\n",
              "    <tr>\n",
              "      <th>O</th>\n",
              "      <td>257.794675</td>\n",
              "      <td>57.0000</td>\n",
              "      <td>521.810621</td>\n",
              "    </tr>\n",
              "  </tbody>\n",
              "</table>\n",
              "</div>"
            ],
            "text/plain": [
              "                       mean     median         std\n",
              "spectral_class                                    \n",
              "A                135.878422     2.4870  402.142640\n",
              "B                202.022292     0.0146  493.825127\n",
              "F                  0.551334     0.0130    0.632965\n",
              "G               1467.000000  1467.0000         NaN\n",
              "K                475.444333     1.0030  738.390214\n",
              "M                273.894832     0.2910  551.585254\n",
              "O                257.794675    57.0000  521.810621"
            ]
          },
          "metadata": {}
        }
      ],
      "id": "23608034"
    },
    {
      "cell_type": "markdown",
      "source": "##### Histogram:",
      "metadata": {
        "id": "9nqFQKYnbrPW",
        "papermill": {
          "duration": 0.076262,
          "end_time": "2023-03-02T15:17:04.834635",
          "exception": false,
          "start_time": "2023-03-02T15:17:04.758373",
          "status": "completed"
        },
        "tags": []
      },
      "id": "53d20173"
    },
    {
      "cell_type": "code",
      "source": "fig, ax = plt.subplots(2, 3, figsize= (8, 5))\nfig.suptitle('Spectral classes radius histograms', fontsize= 16)\nax1 = sns.histplot(data= df.query('spectral_class == \"M\"'), x= 'radius', ax= ax[0, 0])\nax1.set_title('Class M')\nax2 = sns.histplot(data= df.query('spectral_class == \"B\"'), x= 'radius', color= 'r', ax= ax[0, 1])\nax2.set_title('Class B')\nax3 = sns.histplot(data= df.query('spectral_class == \"O\"'), x= 'radius', color= 'g', ax= ax[0, 2])\nax3.set_title('Class O')\nax4 = sns.histplot(data= df.query('spectral_class == \"A\"'), x= 'radius', color= 'chocolate', ax= ax[1, 0])\nax4.set_title('Class A')\nax5 = sns.histplot(data= df.query('spectral_class == \"F\"'), x= 'radius', color= 'teal', ax= ax[1, 1])\nax5.set_title('Class F')\nfig.delaxes(ax[1, 2])\nplt.tight_layout()\nplt.show()",
      "metadata": {
        "execution": {
          "iopub.execute_input": "2023-03-02T15:17:04.989525Z",
          "iopub.status.busy": "2023-03-02T15:17:04.989111Z",
          "iopub.status.idle": "2023-03-02T15:17:07.906138Z",
          "shell.execute_reply": "2023-03-02T15:17:07.904923Z"
        },
        "id": "PVabHgHUbvif",
        "outputId": "a95d77bc-4e08-4919-d322-16144e003d59",
        "papermill": {
          "duration": 2.997047,
          "end_time": "2023-03-02T15:17:07.908616",
          "exception": false,
          "start_time": "2023-03-02T15:17:04.911569",
          "status": "completed"
        },
        "tags": []
      },
      "execution_count": 70,
      "outputs": [
        {
          "output_type": "display_data",
          "data": {
            "image/png": "[encoded data removed]",
            "text/plain": [
              "<Figure size 800x500 with 5 Axes>"
            ]
          },
          "metadata": {}
        }
      ],
      "id": "48025ec3"
    },
    {
      "cell_type": "markdown",
      "source": "#### Radio",
      "metadata": {
        "id": "gPRT0-hE-CCq",
        "papermill": {
          "duration": 0.087917,
          "end_time": "2023-03-02T15:17:26.452114",
          "exception": false,
          "start_time": "2023-03-02T15:17:26.364197",
          "status": "completed"
        },
        "tags": []
      },
      "id": "53ebe95f"
    },
    {
      "cell_type": "markdown",
      "source": "* Mean, median and standard deviation:",
      "metadata": {
        "id": "eaegVrM4-Ggh",
        "papermill": {
          "duration": 0.090846,
          "end_time": "2023-03-02T15:17:26.630325",
          "exception": false,
          "start_time": "2023-03-02T15:17:26.539479",
          "status": "completed"
        },
        "tags": []
      },
      "id": "98c210fa"
    },
    {
      "cell_type": "code",
      "source": "df.groupby('star_type').agg(['mean', 'median', 'std'])['radius']",
      "metadata": {
        "execution": {
          "iopub.execute_input": "2023-03-02T15:17:26.808657Z",
          "iopub.status.busy": "2023-03-02T15:17:26.807638Z",
          "iopub.status.idle": "2023-03-02T15:17:26.829374Z",
          "shell.execute_reply": "2023-03-02T15:17:26.828094Z"
        },
        "id": "AoFf-D9i9168",
        "outputId": "2c9fef51-2d96-40ec-97df-b7ec9df0440b",
        "papermill": {
          "duration": 0.113641,
          "end_time": "2023-03-02T15:17:26.831973",
          "exception": false,
          "start_time": "2023-03-02T15:17:26.718332",
          "status": "completed"
        },
        "tags": []
      },
      "execution_count": null,
      "outputs": [
        {
          "execution_count": 101,
          "output_type": "execute_result",
          "data": {
            "text/html": [
              "<div>\n",
              "<style scoped>\n",
              "    .dataframe tbody tr th:only-of-type {\n",
              "        vertical-align: middle;\n",
              "    }\n",
              "\n",
              "    .dataframe tbody tr th {\n",
              "        vertical-align: top;\n",
              "    }\n",
              "\n",
              "    .dataframe thead th {\n",
              "        text-align: right;\n",
              "    }\n",
              "</style>\n",
              "<table border=\"1\" class=\"dataframe\">\n",
              "  <thead>\n",
              "    <tr style=\"text-align: right;\">\n",
              "      <th></th>\n",
              "      <th>mean</th>\n",
              "      <th>median</th>\n",
              "      <th>std</th>\n",
              "    </tr>\n",
              "    <tr>\n",
              "      <th>star_type</th>\n",
              "      <th></th>\n",
              "      <th></th>\n",
              "      <th></th>\n",
              "    </tr>\n",
              "  </thead>\n",
              "  <tbody>\n",
              "    <tr>\n",
              "      <th>0</th>\n",
              "      <td>0.110015</td>\n",
              "      <td>0.1060</td>\n",
              "      <td>0.025783</td>\n",
              "    </tr>\n",
              "    <tr>\n",
              "      <th>1</th>\n",
              "      <td>0.348145</td>\n",
              "      <td>0.3380</td>\n",
              "      <td>0.154453</td>\n",
              "    </tr>\n",
              "    <tr>\n",
              "      <th>2</th>\n",
              "      <td>0.010728</td>\n",
              "      <td>0.0102</td>\n",
              "      <td>0.001725</td>\n",
              "    </tr>\n",
              "    <tr>\n",
              "      <th>3</th>\n",
              "      <td>4.430300</td>\n",
              "      <td>5.7125</td>\n",
              "      <td>2.801390</td>\n",
              "    </tr>\n",
              "    <tr>\n",
              "      <th>4</th>\n",
              "      <td>51.150000</td>\n",
              "      <td>43.5000</td>\n",
              "      <td>27.656826</td>\n",
              "    </tr>\n",
              "    <tr>\n",
              "      <th>5</th>\n",
              "      <td>1366.897500</td>\n",
              "      <td>1352.5000</td>\n",
              "      <td>255.561357</td>\n",
              "    </tr>\n",
              "  </tbody>\n",
              "</table>\n",
              "</div>"
            ],
            "text/plain": [
              "                  mean     median         std\n",
              "star_type                                    \n",
              "0             0.110015     0.1060    0.025783\n",
              "1             0.348145     0.3380    0.154453\n",
              "2             0.010728     0.0102    0.001725\n",
              "3             4.430300     5.7125    2.801390\n",
              "4            51.150000    43.5000   27.656826\n",
              "5          1366.897500  1352.5000  255.561357"
            ]
          },
          "metadata": {}
        }
      ],
      "id": "7c9ef001"
    },
    {
      "cell_type": "markdown",
      "source": "* Histograms:",
      "metadata": {
        "id": "n05IIQMg-iTa",
        "papermill": {
          "duration": 0.087396,
          "end_time": "2023-03-02T15:17:27.006813",
          "exception": false,
          "start_time": "2023-03-02T15:17:26.919417",
          "status": "completed"
        },
        "tags": []
      },
      "id": "a5d4438c"
    },
    {
      "cell_type": "code",
      "source": "fig, ax = plt.subplots(2, 3, figsize= (8, 5))\nfig.suptitle('Star type radius histograms', fontsize= 16)\nax1 = sns.histplot(data= df.query('star_type == 0'), x= 'radius', ax= ax[0, 0])\nax1.set_title('Type 0')\nax2 = sns.histplot(data= df.query('star_type == 1'), x= 'radius', color= 'r', ax= ax[0, 1])\nax2.set_title('Type 1')\nax3 = sns.histplot(data= df.query('star_type == 2'), x= 'radius', color= 'g', ax= ax[0, 2])\nax3.set_title('Type 2')\nax4 = sns.histplot(data= df.query('star_type == 3'), x= 'radius', color= 'chocolate', ax= ax[1, 0])\nax4.set_title('Type 3')\nax5 = sns.histplot(data= df.query('star_type == 4'), x= 'radius', color= 'teal', ax= ax[1, 1])\nax5.set_title('Type 4')\nax6 = sns.histplot(data= df.query('star_type == 5'), x= 'radius', color= 'y', ax= ax[1, 2])\nax6.set_title('Type 5')\nplt.tight_layout()\nplt.show()",
      "metadata": {
        "execution": {
          "iopub.execute_input": "2023-03-02T15:17:27.184642Z",
          "iopub.status.busy": "2023-03-02T15:17:27.184229Z",
          "iopub.status.idle": "2023-03-02T15:17:28.642469Z",
          "shell.execute_reply": "2023-03-02T15:17:28.641247Z"
        },
        "id": "XYmqyJOT-lpb",
        "outputId": "68cd9f6f-2977-4d74-9110-0eaba91a9fa1",
        "papermill": {
          "duration": 1.550972,
          "end_time": "2023-03-02T15:17:28.645054",
          "exception": false,
          "start_time": "2023-03-02T15:17:27.094082",
          "status": "completed"
        },
        "tags": []
      },
      "execution_count": 102,
      "outputs": [
        {
          "output_type": "display_data",
          "data": {
            "image/png": "[encoded data removed]",
            "text/plain": [
              "<Figure size 800x500 with 6 Axes>"
            ]
          },
          "metadata": {}
        }
      ],
      "id": "72577bac"
    },
    {
      "cell_type": "markdown",
      "source": "# Machine learning model",
      "metadata": {
        "id": "MXANwA-eY8V2",
        "papermill": {
          "duration": 0.100245,
          "end_time": "2023-03-02T15:17:47.770401",
          "exception": false,
          "start_time": "2023-03-02T15:17:47.670156",
          "status": "completed"
        },
        "tags": []
      },
      "id": "b68c3d28"
    }
  ]
}